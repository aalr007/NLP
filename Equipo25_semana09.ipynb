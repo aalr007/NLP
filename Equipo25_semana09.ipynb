{
  "cells": [
    {
      "cell_type": "markdown",
      "metadata": {
        "id": "6xpRawJo9RSU"
      },
      "source": [
        "# **Maestría en Inteligencia Artificial Aplicada**\n",
        "\n",
        "## Curso: **Procesamiento de Lenguaje Natural**\n",
        "\n",
        "### Tecnológico de Monterrey\n",
        "\n",
        "### Prof Luis Eduardo Falcón Morales\n",
        "\n",
        "## 9.2 Actividad: Traducciones y Clasificación de Textos  \n",
        "\n",
        "#### **Nombres y matrículas de los integrantes del equipo:**\n",
        "\n",
        "\n",
        "\n",
        "*   Carolina Lucas Dophe A01702450\n",
        "*   Aurelio Antonio Lozano Rabago A01081266\n",
        "*   Edgar Lopez Valdes A01339939\n",
        "*   Israel Lujan González A01794693\n",
        "*   Jonathan Luna Hernandez A01795072"
      ]
    },
    {
      "cell_type": "markdown",
      "metadata": {
        "id": "6LasZcGO9ZZW"
      },
      "source": [
        "En la actividad de esta semana trabajarás en equipos mediante el uso de Transformers en combinación\n",
        "con LLMs.   \n",
        "Nos apoyaremos en la plataforma de HuggingFace (HF):  https://huggingface.co/  \n",
        "La plataforma de HF está muy bien documentada, es de acceso abierto, pero deberás generar una cuenta\n",
        "sin costo para su uso. En ocasiones deberás generar una clave para el uso de algunos modelos; pero es solo\n",
        "para el control del uso de dicha plataforma y no genera algún costo para su uso educativo o de\n",
        "investigación, ni tampoco se requiere introducir una tarjeta de crédito, al menos hasta ahora.\n",
        "En particular en esta actividad usaremos algunos modelos Transformer y de LLM. El objetivo principal es\n",
        "que te familiarices con ambas técnicas y puedas empezar a ver sus ventajas y desventajas para futuros\n",
        "proyectos en los cuales desees implementarlos.  \n",
        "En particular puedes apoyarte en el siguiente tutorial de la misma comunidad de HF para llevar a\n",
        "cabo la preparación, tokenización y entrenamiento del modelo en tu JupyterNotebook:  \n",
        "https://huggingface.co/blog/sentiment-analysis-python"
      ]
    },
    {
      "cell_type": "code",
      "execution_count": 67,
      "metadata": {
        "id": "EC9xU0rU7y1g",
        "colab": {
          "base_uri": "https://localhost:8080/"
        },
        "outputId": "07604e6a-435a-4413-9bcc-a53349545ffa"
      },
      "outputs": [
        {
          "output_type": "stream",
          "name": "stdout",
          "text": [
            "Requirement already satisfied: transformers[torch] in /usr/local/lib/python3.10/dist-packages (4.41.2)\n",
            "Requirement already satisfied: accelerate in /usr/local/lib/python3.10/dist-packages (0.31.0)\n",
            "Requirement already satisfied: filelock in /usr/local/lib/python3.10/dist-packages (from transformers[torch]) (3.14.0)\n",
            "Requirement already satisfied: huggingface-hub<1.0,>=0.23.0 in /usr/local/lib/python3.10/dist-packages (from transformers[torch]) (0.23.3)\n",
            "Requirement already satisfied: numpy>=1.17 in /usr/local/lib/python3.10/dist-packages (from transformers[torch]) (1.25.2)\n",
            "Requirement already satisfied: packaging>=20.0 in /usr/local/lib/python3.10/dist-packages (from transformers[torch]) (24.1)\n",
            "Requirement already satisfied: pyyaml>=5.1 in /usr/local/lib/python3.10/dist-packages (from transformers[torch]) (6.0.1)\n",
            "Requirement already satisfied: regex!=2019.12.17 in /usr/local/lib/python3.10/dist-packages (from transformers[torch]) (2024.5.15)\n",
            "Requirement already satisfied: requests in /usr/local/lib/python3.10/dist-packages (from transformers[torch]) (2.31.0)\n",
            "Requirement already satisfied: tokenizers<0.20,>=0.19 in /usr/local/lib/python3.10/dist-packages (from transformers[torch]) (0.19.1)\n",
            "Requirement already satisfied: safetensors>=0.4.1 in /usr/local/lib/python3.10/dist-packages (from transformers[torch]) (0.4.3)\n",
            "Requirement already satisfied: tqdm>=4.27 in /usr/local/lib/python3.10/dist-packages (from transformers[torch]) (4.66.4)\n",
            "Requirement already satisfied: torch in /usr/local/lib/python3.10/dist-packages (from transformers[torch]) (2.3.1)\n",
            "Requirement already satisfied: psutil in /usr/local/lib/python3.10/dist-packages (from accelerate) (5.9.5)\n",
            "Requirement already satisfied: fsspec>=2023.5.0 in /usr/local/lib/python3.10/dist-packages (from huggingface-hub<1.0,>=0.23.0->transformers[torch]) (2023.6.0)\n",
            "Requirement already satisfied: typing-extensions>=3.7.4.3 in /usr/local/lib/python3.10/dist-packages (from huggingface-hub<1.0,>=0.23.0->transformers[torch]) (4.12.2)\n",
            "Requirement already satisfied: sympy in /usr/local/lib/python3.10/dist-packages (from torch->transformers[torch]) (1.12.1)\n",
            "Requirement already satisfied: networkx in /usr/local/lib/python3.10/dist-packages (from torch->transformers[torch]) (3.3)\n",
            "Requirement already satisfied: jinja2 in /usr/local/lib/python3.10/dist-packages (from torch->transformers[torch]) (3.1.4)\n",
            "Requirement already satisfied: nvidia-cuda-nvrtc-cu12==12.1.105 in /usr/local/lib/python3.10/dist-packages (from torch->transformers[torch]) (12.1.105)\n",
            "Requirement already satisfied: nvidia-cuda-runtime-cu12==12.1.105 in /usr/local/lib/python3.10/dist-packages (from torch->transformers[torch]) (12.1.105)\n",
            "Requirement already satisfied: nvidia-cuda-cupti-cu12==12.1.105 in /usr/local/lib/python3.10/dist-packages (from torch->transformers[torch]) (12.1.105)\n",
            "Requirement already satisfied: nvidia-cudnn-cu12==8.9.2.26 in /usr/local/lib/python3.10/dist-packages (from torch->transformers[torch]) (8.9.2.26)\n",
            "Requirement already satisfied: nvidia-cublas-cu12==12.1.3.1 in /usr/local/lib/python3.10/dist-packages (from torch->transformers[torch]) (12.1.3.1)\n",
            "Requirement already satisfied: nvidia-cufft-cu12==11.0.2.54 in /usr/local/lib/python3.10/dist-packages (from torch->transformers[torch]) (11.0.2.54)\n",
            "Requirement already satisfied: nvidia-curand-cu12==10.3.2.106 in /usr/local/lib/python3.10/dist-packages (from torch->transformers[torch]) (10.3.2.106)\n",
            "Requirement already satisfied: nvidia-cusolver-cu12==11.4.5.107 in /usr/local/lib/python3.10/dist-packages (from torch->transformers[torch]) (11.4.5.107)\n",
            "Requirement already satisfied: nvidia-cusparse-cu12==12.1.0.106 in /usr/local/lib/python3.10/dist-packages (from torch->transformers[torch]) (12.1.0.106)\n",
            "Requirement already satisfied: nvidia-nccl-cu12==2.20.5 in /usr/local/lib/python3.10/dist-packages (from torch->transformers[torch]) (2.20.5)\n",
            "Requirement already satisfied: nvidia-nvtx-cu12==12.1.105 in /usr/local/lib/python3.10/dist-packages (from torch->transformers[torch]) (12.1.105)\n",
            "Requirement already satisfied: triton==2.3.1 in /usr/local/lib/python3.10/dist-packages (from torch->transformers[torch]) (2.3.1)\n",
            "Requirement already satisfied: nvidia-nvjitlink-cu12 in /usr/local/lib/python3.10/dist-packages (from nvidia-cusolver-cu12==11.4.5.107->torch->transformers[torch]) (12.5.40)\n",
            "Requirement already satisfied: charset-normalizer<4,>=2 in /usr/local/lib/python3.10/dist-packages (from requests->transformers[torch]) (3.3.2)\n",
            "Requirement already satisfied: idna<4,>=2.5 in /usr/local/lib/python3.10/dist-packages (from requests->transformers[torch]) (3.7)\n",
            "Requirement already satisfied: urllib3<3,>=1.21.1 in /usr/local/lib/python3.10/dist-packages (from requests->transformers[torch]) (2.0.7)\n",
            "Requirement already satisfied: certifi>=2017.4.17 in /usr/local/lib/python3.10/dist-packages (from requests->transformers[torch]) (2024.6.2)\n",
            "Requirement already satisfied: MarkupSafe>=2.0 in /usr/local/lib/python3.10/dist-packages (from jinja2->torch->transformers[torch]) (2.1.5)\n",
            "Requirement already satisfied: mpmath<1.4.0,>=1.1.0 in /usr/local/lib/python3.10/dist-packages (from sympy->torch->transformers[torch]) (1.3.0)\n"
          ]
        }
      ],
      "source": [
        "#!pip uninstall transformers accelerate -y\n",
        "!pip install transformers[torch] accelerate -U"
      ]
    },
    {
      "cell_type": "code",
      "source": [
        "!pip install torch -U"
      ],
      "metadata": {
        "id": "vGn3odY7vRGc",
        "colab": {
          "base_uri": "https://localhost:8080/"
        },
        "outputId": "e8b3ed45-b3c0-4c07-fb10-99c7d00d06f3"
      },
      "execution_count": 68,
      "outputs": [
        {
          "output_type": "stream",
          "name": "stdout",
          "text": [
            "Requirement already satisfied: torch in /usr/local/lib/python3.10/dist-packages (2.3.1)\n",
            "Requirement already satisfied: filelock in /usr/local/lib/python3.10/dist-packages (from torch) (3.14.0)\n",
            "Requirement already satisfied: typing-extensions>=4.8.0 in /usr/local/lib/python3.10/dist-packages (from torch) (4.12.2)\n",
            "Requirement already satisfied: sympy in /usr/local/lib/python3.10/dist-packages (from torch) (1.12.1)\n",
            "Requirement already satisfied: networkx in /usr/local/lib/python3.10/dist-packages (from torch) (3.3)\n",
            "Requirement already satisfied: jinja2 in /usr/local/lib/python3.10/dist-packages (from torch) (3.1.4)\n",
            "Requirement already satisfied: fsspec in /usr/local/lib/python3.10/dist-packages (from torch) (2023.6.0)\n",
            "Requirement already satisfied: nvidia-cuda-nvrtc-cu12==12.1.105 in /usr/local/lib/python3.10/dist-packages (from torch) (12.1.105)\n",
            "Requirement already satisfied: nvidia-cuda-runtime-cu12==12.1.105 in /usr/local/lib/python3.10/dist-packages (from torch) (12.1.105)\n",
            "Requirement already satisfied: nvidia-cuda-cupti-cu12==12.1.105 in /usr/local/lib/python3.10/dist-packages (from torch) (12.1.105)\n",
            "Requirement already satisfied: nvidia-cudnn-cu12==8.9.2.26 in /usr/local/lib/python3.10/dist-packages (from torch) (8.9.2.26)\n",
            "Requirement already satisfied: nvidia-cublas-cu12==12.1.3.1 in /usr/local/lib/python3.10/dist-packages (from torch) (12.1.3.1)\n",
            "Requirement already satisfied: nvidia-cufft-cu12==11.0.2.54 in /usr/local/lib/python3.10/dist-packages (from torch) (11.0.2.54)\n",
            "Requirement already satisfied: nvidia-curand-cu12==10.3.2.106 in /usr/local/lib/python3.10/dist-packages (from torch) (10.3.2.106)\n",
            "Requirement already satisfied: nvidia-cusolver-cu12==11.4.5.107 in /usr/local/lib/python3.10/dist-packages (from torch) (11.4.5.107)\n",
            "Requirement already satisfied: nvidia-cusparse-cu12==12.1.0.106 in /usr/local/lib/python3.10/dist-packages (from torch) (12.1.0.106)\n",
            "Requirement already satisfied: nvidia-nccl-cu12==2.20.5 in /usr/local/lib/python3.10/dist-packages (from torch) (2.20.5)\n",
            "Requirement already satisfied: nvidia-nvtx-cu12==12.1.105 in /usr/local/lib/python3.10/dist-packages (from torch) (12.1.105)\n",
            "Requirement already satisfied: triton==2.3.1 in /usr/local/lib/python3.10/dist-packages (from torch) (2.3.1)\n",
            "Requirement already satisfied: nvidia-nvjitlink-cu12 in /usr/local/lib/python3.10/dist-packages (from nvidia-cusolver-cu12==11.4.5.107->torch) (12.5.40)\n",
            "Requirement already satisfied: MarkupSafe>=2.0 in /usr/local/lib/python3.10/dist-packages (from jinja2->torch) (2.1.5)\n",
            "Requirement already satisfied: mpmath<1.4.0,>=1.1.0 in /usr/local/lib/python3.10/dist-packages (from sympy->torch) (1.3.0)\n"
          ]
        }
      ]
    },
    {
      "cell_type": "code",
      "execution_count": 69,
      "metadata": {
        "id": "JuOQgE28_GDb"
      },
      "outputs": [],
      "source": [
        "import pandas as pd\n",
        "import numpy as np\n",
        "from sklearn.metrics import confusion_matrix, classification_report\n",
        "import seaborn as sns\n",
        "import tensorflow as tf\n",
        "import torch\n",
        "from sklearn.model_selection import train_test_split\n",
        "from torch.utils.data import Dataset, DataLoader\n",
        "from transformers import DistilBertTokenizer, DistilBertForSequenceClassification, Trainer, TrainingArguments, AutoModelForSeq2SeqLM, AutoTokenizer\n",
        "import pathlib\n",
        "import textwrap\n",
        "import google.generativeai as genai"
      ]
    },
    {
      "cell_type": "markdown",
      "metadata": {
        "id": "G_EA3uKx9ebZ"
      },
      "source": [
        "\n",
        "##**Pregunta - 1:**\n",
        "Descarga el archivo amazonbaby5000.csv que se encuentra en Canvas. Este archivo está\n",
        "formado de 5 mil comentarios en inglés sobre productos para bebé adquiridos a través de la\n",
        "plataforma de Amazon.  "
      ]
    },
    {
      "cell_type": "code",
      "execution_count": 70,
      "metadata": {
        "colab": {
          "base_uri": "https://localhost:8080/",
          "height": 424
        },
        "id": "--sgRXU79xbG",
        "outputId": "aa30544c-236b-4139-e0be-6517d20318a5"
      },
      "outputs": [
        {
          "output_type": "execute_result",
          "data": {
            "text/plain": [
              "                                                 review  rating\n",
              "0     I think it is more Expensive than drugstore th...       0\n",
              "1     When I saw this on Amazon, I put it into my wi...       1\n",
              "2     We really like these valances.  They have such...       1\n",
              "3     No light emits from the night light. They pain...       0\n",
              "4     I was really hoping for this to be a conventie...       0\n",
              "...                                                 ...     ...\n",
              "4995  I like that this carrier is like the Moby in h...       1\n",
              "4996  The box was damaged upon arrival. I was afraid...       1\n",
              "4997  Purchased for graduation. Rec'd in 2 days like...       1\n",
              "4998  For all of the reviews that said this car seat...       0\n",
              "4999  I bought this thinking it would make my life a...       1\n",
              "\n",
              "[5000 rows x 2 columns]"
            ],
            "text/html": [
              "\n",
              "  <div id=\"df-737b7cc1-3f53-4b83-9685-fc205237960a\" class=\"colab-df-container\">\n",
              "    <div>\n",
              "<style scoped>\n",
              "    .dataframe tbody tr th:only-of-type {\n",
              "        vertical-align: middle;\n",
              "    }\n",
              "\n",
              "    .dataframe tbody tr th {\n",
              "        vertical-align: top;\n",
              "    }\n",
              "\n",
              "    .dataframe thead th {\n",
              "        text-align: right;\n",
              "    }\n",
              "</style>\n",
              "<table border=\"1\" class=\"dataframe\">\n",
              "  <thead>\n",
              "    <tr style=\"text-align: right;\">\n",
              "      <th></th>\n",
              "      <th>review</th>\n",
              "      <th>rating</th>\n",
              "    </tr>\n",
              "  </thead>\n",
              "  <tbody>\n",
              "    <tr>\n",
              "      <th>0</th>\n",
              "      <td>I think it is more Expensive than drugstore th...</td>\n",
              "      <td>0</td>\n",
              "    </tr>\n",
              "    <tr>\n",
              "      <th>1</th>\n",
              "      <td>When I saw this on Amazon, I put it into my wi...</td>\n",
              "      <td>1</td>\n",
              "    </tr>\n",
              "    <tr>\n",
              "      <th>2</th>\n",
              "      <td>We really like these valances.  They have such...</td>\n",
              "      <td>1</td>\n",
              "    </tr>\n",
              "    <tr>\n",
              "      <th>3</th>\n",
              "      <td>No light emits from the night light. They pain...</td>\n",
              "      <td>0</td>\n",
              "    </tr>\n",
              "    <tr>\n",
              "      <th>4</th>\n",
              "      <td>I was really hoping for this to be a conventie...</td>\n",
              "      <td>0</td>\n",
              "    </tr>\n",
              "    <tr>\n",
              "      <th>...</th>\n",
              "      <td>...</td>\n",
              "      <td>...</td>\n",
              "    </tr>\n",
              "    <tr>\n",
              "      <th>4995</th>\n",
              "      <td>I like that this carrier is like the Moby in h...</td>\n",
              "      <td>1</td>\n",
              "    </tr>\n",
              "    <tr>\n",
              "      <th>4996</th>\n",
              "      <td>The box was damaged upon arrival. I was afraid...</td>\n",
              "      <td>1</td>\n",
              "    </tr>\n",
              "    <tr>\n",
              "      <th>4997</th>\n",
              "      <td>Purchased for graduation. Rec'd in 2 days like...</td>\n",
              "      <td>1</td>\n",
              "    </tr>\n",
              "    <tr>\n",
              "      <th>4998</th>\n",
              "      <td>For all of the reviews that said this car seat...</td>\n",
              "      <td>0</td>\n",
              "    </tr>\n",
              "    <tr>\n",
              "      <th>4999</th>\n",
              "      <td>I bought this thinking it would make my life a...</td>\n",
              "      <td>1</td>\n",
              "    </tr>\n",
              "  </tbody>\n",
              "</table>\n",
              "<p>5000 rows × 2 columns</p>\n",
              "</div>\n",
              "    <div class=\"colab-df-buttons\">\n",
              "\n",
              "  <div class=\"colab-df-container\">\n",
              "    <button class=\"colab-df-convert\" onclick=\"convertToInteractive('df-737b7cc1-3f53-4b83-9685-fc205237960a')\"\n",
              "            title=\"Convert this dataframe to an interactive table.\"\n",
              "            style=\"display:none;\">\n",
              "\n",
              "  <svg xmlns=\"http://www.w3.org/2000/svg\" height=\"24px\" viewBox=\"0 -960 960 960\">\n",
              "    <path d=\"M120-120v-720h720v720H120Zm60-500h600v-160H180v160Zm220 220h160v-160H400v160Zm0 220h160v-160H400v160ZM180-400h160v-160H180v160Zm440 0h160v-160H620v160ZM180-180h160v-160H180v160Zm440 0h160v-160H620v160Z\"/>\n",
              "  </svg>\n",
              "    </button>\n",
              "\n",
              "  <style>\n",
              "    .colab-df-container {\n",
              "      display:flex;\n",
              "      gap: 12px;\n",
              "    }\n",
              "\n",
              "    .colab-df-convert {\n",
              "      background-color: #E8F0FE;\n",
              "      border: none;\n",
              "      border-radius: 50%;\n",
              "      cursor: pointer;\n",
              "      display: none;\n",
              "      fill: #1967D2;\n",
              "      height: 32px;\n",
              "      padding: 0 0 0 0;\n",
              "      width: 32px;\n",
              "    }\n",
              "\n",
              "    .colab-df-convert:hover {\n",
              "      background-color: #E2EBFA;\n",
              "      box-shadow: 0px 1px 2px rgba(60, 64, 67, 0.3), 0px 1px 3px 1px rgba(60, 64, 67, 0.15);\n",
              "      fill: #174EA6;\n",
              "    }\n",
              "\n",
              "    .colab-df-buttons div {\n",
              "      margin-bottom: 4px;\n",
              "    }\n",
              "\n",
              "    [theme=dark] .colab-df-convert {\n",
              "      background-color: #3B4455;\n",
              "      fill: #D2E3FC;\n",
              "    }\n",
              "\n",
              "    [theme=dark] .colab-df-convert:hover {\n",
              "      background-color: #434B5C;\n",
              "      box-shadow: 0px 1px 3px 1px rgba(0, 0, 0, 0.15);\n",
              "      filter: drop-shadow(0px 1px 2px rgba(0, 0, 0, 0.3));\n",
              "      fill: #FFFFFF;\n",
              "    }\n",
              "  </style>\n",
              "\n",
              "    <script>\n",
              "      const buttonEl =\n",
              "        document.querySelector('#df-737b7cc1-3f53-4b83-9685-fc205237960a button.colab-df-convert');\n",
              "      buttonEl.style.display =\n",
              "        google.colab.kernel.accessAllowed ? 'block' : 'none';\n",
              "\n",
              "      async function convertToInteractive(key) {\n",
              "        const element = document.querySelector('#df-737b7cc1-3f53-4b83-9685-fc205237960a');\n",
              "        const dataTable =\n",
              "          await google.colab.kernel.invokeFunction('convertToInteractive',\n",
              "                                                    [key], {});\n",
              "        if (!dataTable) return;\n",
              "\n",
              "        const docLinkHtml = 'Like what you see? Visit the ' +\n",
              "          '<a target=\"_blank\" href=https://colab.research.google.com/notebooks/data_table.ipynb>data table notebook</a>'\n",
              "          + ' to learn more about interactive tables.';\n",
              "        element.innerHTML = '';\n",
              "        dataTable['output_type'] = 'display_data';\n",
              "        await google.colab.output.renderOutput(dataTable, element);\n",
              "        const docLink = document.createElement('div');\n",
              "        docLink.innerHTML = docLinkHtml;\n",
              "        element.appendChild(docLink);\n",
              "      }\n",
              "    </script>\n",
              "  </div>\n",
              "\n",
              "\n",
              "<div id=\"df-5b18e78b-cfe8-4a0a-a8d1-f43194e59bc8\">\n",
              "  <button class=\"colab-df-quickchart\" onclick=\"quickchart('df-5b18e78b-cfe8-4a0a-a8d1-f43194e59bc8')\"\n",
              "            title=\"Suggest charts\"\n",
              "            style=\"display:none;\">\n",
              "\n",
              "<svg xmlns=\"http://www.w3.org/2000/svg\" height=\"24px\"viewBox=\"0 0 24 24\"\n",
              "     width=\"24px\">\n",
              "    <g>\n",
              "        <path d=\"M19 3H5c-1.1 0-2 .9-2 2v14c0 1.1.9 2 2 2h14c1.1 0 2-.9 2-2V5c0-1.1-.9-2-2-2zM9 17H7v-7h2v7zm4 0h-2V7h2v10zm4 0h-2v-4h2v4z\"/>\n",
              "    </g>\n",
              "</svg>\n",
              "  </button>\n",
              "\n",
              "<style>\n",
              "  .colab-df-quickchart {\n",
              "      --bg-color: #E8F0FE;\n",
              "      --fill-color: #1967D2;\n",
              "      --hover-bg-color: #E2EBFA;\n",
              "      --hover-fill-color: #174EA6;\n",
              "      --disabled-fill-color: #AAA;\n",
              "      --disabled-bg-color: #DDD;\n",
              "  }\n",
              "\n",
              "  [theme=dark] .colab-df-quickchart {\n",
              "      --bg-color: #3B4455;\n",
              "      --fill-color: #D2E3FC;\n",
              "      --hover-bg-color: #434B5C;\n",
              "      --hover-fill-color: #FFFFFF;\n",
              "      --disabled-bg-color: #3B4455;\n",
              "      --disabled-fill-color: #666;\n",
              "  }\n",
              "\n",
              "  .colab-df-quickchart {\n",
              "    background-color: var(--bg-color);\n",
              "    border: none;\n",
              "    border-radius: 50%;\n",
              "    cursor: pointer;\n",
              "    display: none;\n",
              "    fill: var(--fill-color);\n",
              "    height: 32px;\n",
              "    padding: 0;\n",
              "    width: 32px;\n",
              "  }\n",
              "\n",
              "  .colab-df-quickchart:hover {\n",
              "    background-color: var(--hover-bg-color);\n",
              "    box-shadow: 0 1px 2px rgba(60, 64, 67, 0.3), 0 1px 3px 1px rgba(60, 64, 67, 0.15);\n",
              "    fill: var(--button-hover-fill-color);\n",
              "  }\n",
              "\n",
              "  .colab-df-quickchart-complete:disabled,\n",
              "  .colab-df-quickchart-complete:disabled:hover {\n",
              "    background-color: var(--disabled-bg-color);\n",
              "    fill: var(--disabled-fill-color);\n",
              "    box-shadow: none;\n",
              "  }\n",
              "\n",
              "  .colab-df-spinner {\n",
              "    border: 2px solid var(--fill-color);\n",
              "    border-color: transparent;\n",
              "    border-bottom-color: var(--fill-color);\n",
              "    animation:\n",
              "      spin 1s steps(1) infinite;\n",
              "  }\n",
              "\n",
              "  @keyframes spin {\n",
              "    0% {\n",
              "      border-color: transparent;\n",
              "      border-bottom-color: var(--fill-color);\n",
              "      border-left-color: var(--fill-color);\n",
              "    }\n",
              "    20% {\n",
              "      border-color: transparent;\n",
              "      border-left-color: var(--fill-color);\n",
              "      border-top-color: var(--fill-color);\n",
              "    }\n",
              "    30% {\n",
              "      border-color: transparent;\n",
              "      border-left-color: var(--fill-color);\n",
              "      border-top-color: var(--fill-color);\n",
              "      border-right-color: var(--fill-color);\n",
              "    }\n",
              "    40% {\n",
              "      border-color: transparent;\n",
              "      border-right-color: var(--fill-color);\n",
              "      border-top-color: var(--fill-color);\n",
              "    }\n",
              "    60% {\n",
              "      border-color: transparent;\n",
              "      border-right-color: var(--fill-color);\n",
              "    }\n",
              "    80% {\n",
              "      border-color: transparent;\n",
              "      border-right-color: var(--fill-color);\n",
              "      border-bottom-color: var(--fill-color);\n",
              "    }\n",
              "    90% {\n",
              "      border-color: transparent;\n",
              "      border-bottom-color: var(--fill-color);\n",
              "    }\n",
              "  }\n",
              "</style>\n",
              "\n",
              "  <script>\n",
              "    async function quickchart(key) {\n",
              "      const quickchartButtonEl =\n",
              "        document.querySelector('#' + key + ' button');\n",
              "      quickchartButtonEl.disabled = true;  // To prevent multiple clicks.\n",
              "      quickchartButtonEl.classList.add('colab-df-spinner');\n",
              "      try {\n",
              "        const charts = await google.colab.kernel.invokeFunction(\n",
              "            'suggestCharts', [key], {});\n",
              "      } catch (error) {\n",
              "        console.error('Error during call to suggestCharts:', error);\n",
              "      }\n",
              "      quickchartButtonEl.classList.remove('colab-df-spinner');\n",
              "      quickchartButtonEl.classList.add('colab-df-quickchart-complete');\n",
              "    }\n",
              "    (() => {\n",
              "      let quickchartButtonEl =\n",
              "        document.querySelector('#df-5b18e78b-cfe8-4a0a-a8d1-f43194e59bc8 button');\n",
              "      quickchartButtonEl.style.display =\n",
              "        google.colab.kernel.accessAllowed ? 'block' : 'none';\n",
              "    })();\n",
              "  </script>\n",
              "</div>\n",
              "\n",
              "  <div id=\"id_3138fb59-b21d-40a8-b502-81d5834cf40e\">\n",
              "    <style>\n",
              "      .colab-df-generate {\n",
              "        background-color: #E8F0FE;\n",
              "        border: none;\n",
              "        border-radius: 50%;\n",
              "        cursor: pointer;\n",
              "        display: none;\n",
              "        fill: #1967D2;\n",
              "        height: 32px;\n",
              "        padding: 0 0 0 0;\n",
              "        width: 32px;\n",
              "      }\n",
              "\n",
              "      .colab-df-generate:hover {\n",
              "        background-color: #E2EBFA;\n",
              "        box-shadow: 0px 1px 2px rgba(60, 64, 67, 0.3), 0px 1px 3px 1px rgba(60, 64, 67, 0.15);\n",
              "        fill: #174EA6;\n",
              "      }\n",
              "\n",
              "      [theme=dark] .colab-df-generate {\n",
              "        background-color: #3B4455;\n",
              "        fill: #D2E3FC;\n",
              "      }\n",
              "\n",
              "      [theme=dark] .colab-df-generate:hover {\n",
              "        background-color: #434B5C;\n",
              "        box-shadow: 0px 1px 3px 1px rgba(0, 0, 0, 0.15);\n",
              "        filter: drop-shadow(0px 1px 2px rgba(0, 0, 0, 0.3));\n",
              "        fill: #FFFFFF;\n",
              "      }\n",
              "    </style>\n",
              "    <button class=\"colab-df-generate\" onclick=\"generateWithVariable('df')\"\n",
              "            title=\"Generate code using this dataframe.\"\n",
              "            style=\"display:none;\">\n",
              "\n",
              "  <svg xmlns=\"http://www.w3.org/2000/svg\" height=\"24px\"viewBox=\"0 0 24 24\"\n",
              "       width=\"24px\">\n",
              "    <path d=\"M7,19H8.4L18.45,9,17,7.55,7,17.6ZM5,21V16.75L18.45,3.32a2,2,0,0,1,2.83,0l1.4,1.43a1.91,1.91,0,0,1,.58,1.4,1.91,1.91,0,0,1-.58,1.4L9.25,21ZM18.45,9,17,7.55Zm-12,3A5.31,5.31,0,0,0,4.9,8.1,5.31,5.31,0,0,0,1,6.5,5.31,5.31,0,0,0,4.9,4.9,5.31,5.31,0,0,0,6.5,1,5.31,5.31,0,0,0,8.1,4.9,5.31,5.31,0,0,0,12,6.5,5.46,5.46,0,0,0,6.5,12Z\"/>\n",
              "  </svg>\n",
              "    </button>\n",
              "    <script>\n",
              "      (() => {\n",
              "      const buttonEl =\n",
              "        document.querySelector('#id_3138fb59-b21d-40a8-b502-81d5834cf40e button.colab-df-generate');\n",
              "      buttonEl.style.display =\n",
              "        google.colab.kernel.accessAllowed ? 'block' : 'none';\n",
              "\n",
              "      buttonEl.onclick = () => {\n",
              "        google.colab.notebook.generateWithVariable('df');\n",
              "      }\n",
              "      })();\n",
              "    </script>\n",
              "  </div>\n",
              "\n",
              "    </div>\n",
              "  </div>\n"
            ],
            "application/vnd.google.colaboratory.intrinsic+json": {
              "type": "dataframe",
              "variable_name": "df",
              "summary": "{\n  \"name\": \"df\",\n  \"rows\": 5000,\n  \"fields\": [\n    {\n      \"column\": \"review\",\n      \"properties\": {\n        \"dtype\": \"string\",\n        \"num_unique_values\": 5000,\n        \"samples\": [\n          \"This toy is so amazing - my friends had raved about it and so I decided to get one.  Our 3 month old doesn't have much interest in toys yet but she loves this.  It can entertain her a long time!  It's now my go-to baby shower add on gift.\",\n          \"this was a great price for what i got, if you go into other stores you will see robs similar to this and it will be close to 30.00$. my sister in law loves this for her little boy!\",\n          \"I think the description is very accurate, It's great, looks like high quality, and durable. i love that it teaches you on one side the name of the animal with a picture and on the other side how to spell it in korean.\"\n        ],\n        \"semantic_type\": \"\",\n        \"description\": \"\"\n      }\n    },\n    {\n      \"column\": \"rating\",\n      \"properties\": {\n        \"dtype\": \"number\",\n        \"std\": 0,\n        \"min\": 0,\n        \"max\": 1,\n        \"num_unique_values\": 2,\n        \"samples\": [\n          1,\n          0\n        ],\n        \"semantic_type\": \"\",\n        \"description\": \"\"\n      }\n    }\n  ]\n}"
            }
          },
          "metadata": {},
          "execution_count": 70
        }
      ],
      "source": [
        "df = pd.read_csv('sample_data/amazonbaby5000.csv')\n",
        "df"
      ]
    },
    {
      "cell_type": "markdown",
      "metadata": {
        "id": "GrEHGaOFEyc2"
      },
      "source": [
        "\n",
        "##**Pregunta - 2:**\n",
        "Realiza una partición de los datos en el porcentaje que consideres adecuado, en entrenamiento\n",
        "y prueba.    "
      ]
    },
    {
      "cell_type": "code",
      "execution_count": 71,
      "metadata": {
        "id": "HwEEgzvFE52P"
      },
      "outputs": [],
      "source": [
        "X = df['review'].values\n",
        "y = df['rating'].values\n",
        "\n",
        "# Split the data into training and testing sets\n",
        "X_train, X_temp, y_train, y_temp = train_test_split(X, y, test_size=0.3, random_state=42)\n",
        "X_val, X_test, y_val, y_test = train_test_split(X_temp, y_temp, test_size=0.5, random_state=42)\n",
        "\n",
        "X_train = X_train.tolist()\n",
        "X_val = X_val.tolist()"
      ]
    },
    {
      "cell_type": "markdown",
      "metadata": {
        "id": "9uQhX1v7F9nu"
      },
      "source": [
        "\n",
        "##**Pregunta - 3:**\n",
        "Utiliza un modelo Transformer de HuggingFace para análisis de sentimiento en inglés y lleva a\n",
        "cabo la predicción de los comentarios en los siguientes casos:   "
      ]
    },
    {
      "cell_type": "markdown",
      "metadata": {
        "id": "D4SZIhv1F-AD"
      },
      "source": [
        "\n",
        "a. Utiliza uno de los modelos Transformer pre-entrenados que consideres adecuado de\n",
        "DistilBERT de Huggingface para análisis de sentimiento y lleva a cabo el entrenamiento\n",
        "y evaluación del desempeño con exatitud (accuracy) y matriz de confusión. NOTA:\n",
        "Recuerda obtener el porcentaje de las clases positivas y negativas para tener una idea\n",
        "clara de si el modelo encontrado queda subentrenado.  \n",
        "  "
      ]
    },
    {
      "cell_type": "code",
      "execution_count": 72,
      "metadata": {
        "id": "cgbrBmxzNjsL"
      },
      "outputs": [],
      "source": [
        "model_name = \"distilbert-base-uncased-finetuned-sst-2-english\"\n",
        "\n",
        "tokenizer = DistilBertTokenizer.from_pretrained(model_name)\n",
        "model = DistilBertForSequenceClassification.from_pretrained(model_name)\n",
        "\n",
        "train_encodings = tokenizer(X_train, truncation=True, padding=True, max_length=512)\n",
        "val_encodings = tokenizer(X_val, truncation=True, padding=True, max_length=512)"
      ]
    },
    {
      "cell_type": "code",
      "execution_count": 73,
      "metadata": {
        "id": "K3D3TnT-T4ca"
      },
      "outputs": [],
      "source": [
        "train_labels = torch.tensor(y_train)\n",
        "val_labels = torch.tensor(y_val)"
      ]
    },
    {
      "cell_type": "code",
      "execution_count": 74,
      "metadata": {
        "id": "S9uW-HMuaTzV"
      },
      "outputs": [],
      "source": [
        "class ReviewsDataset(torch.utils.data.Dataset):\n",
        "    def __init__(self, encodings, labels):\n",
        "        self.encodings = encodings\n",
        "        self.labels = labels\n",
        "\n",
        "    def __getitem__(self, idx):\n",
        "        item = {key: torch.tensor(val[idx]) for key, val in self.encodings.items()}\n",
        "        item['labels'] = self.labels[idx]\n",
        "        return item\n",
        "\n",
        "    def __len__(self):\n",
        "        return len(self.labels)"
      ]
    },
    {
      "cell_type": "code",
      "execution_count": 75,
      "metadata": {
        "id": "8LLk55oST6nY"
      },
      "outputs": [],
      "source": [
        "train_dataset = ReviewsDataset(train_encodings, train_labels)\n",
        "val_dataset = ReviewsDataset(val_encodings, val_labels)"
      ]
    },
    {
      "cell_type": "code",
      "execution_count": 76,
      "metadata": {
        "id": "ebF-zFcAadsa"
      },
      "outputs": [],
      "source": [
        "training_args_1 = TrainingArguments(\n",
        "    output_dir='./results',          # output directory\n",
        "    num_train_epochs=3,              # total number of training epochs\n",
        "    per_device_train_batch_size=16,  # batch size for training\n",
        "    per_device_eval_batch_size=64,   # batch size for evaluation\n",
        "    warmup_steps=500,                # number of warmup steps for learning rate scheduler\n",
        "    weight_decay=0.01,               # strength of weight decay\n",
        "    logging_dir='./logs',            # directory for storing logs\n",
        "    logging_steps=10,\n",
        "    eval_strategy=\"steps\",\n",
        "    #fp16=True,  # Habilitar entrenamiento de precisión mixta\n",
        "    #dataloader_num_workers=4,\n",
        "    #report_to=\"tensorboard\"\n",
        ")"
      ]
    },
    {
      "cell_type": "code",
      "execution_count": 77,
      "metadata": {
        "id": "s-K2J-SVapyF"
      },
      "outputs": [],
      "source": [
        "trainer_1 = Trainer(\n",
        "    model=model,                         # the instantiated 🤗 Transformers model to be trained\n",
        "    args=training_args_1,                  # training arguments, defined above\n",
        "    train_dataset=train_dataset,         # training dataset\n",
        "    eval_dataset=val_dataset             # evaluation dataset\n",
        ")"
      ]
    },
    {
      "cell_type": "code",
      "execution_count": 78,
      "metadata": {
        "colab": {
          "base_uri": "https://localhost:8080/",
          "height": 1000
        },
        "id": "pXtAqtfzadj3",
        "outputId": "86d122cc-4e5d-4a78-a0b2-2308b6e8f8fa"
      },
      "outputs": [
        {
          "output_type": "display_data",
          "data": {
            "text/plain": [
              "<IPython.core.display.HTML object>"
            ],
            "text/html": [
              "\n",
              "    <div>\n",
              "      \n",
              "      <progress value='657' max='657' style='width:300px; height:20px; vertical-align: middle;'></progress>\n",
              "      [657/657 07:53, Epoch 3/3]\n",
              "    </div>\n",
              "    <table border=\"1\" class=\"dataframe\">\n",
              "  <thead>\n",
              " <tr style=\"text-align: left;\">\n",
              "      <th>Step</th>\n",
              "      <th>Training Loss</th>\n",
              "      <th>Validation Loss</th>\n",
              "    </tr>\n",
              "  </thead>\n",
              "  <tbody>\n",
              "    <tr>\n",
              "      <td>10</td>\n",
              "      <td>0.771500</td>\n",
              "      <td>0.705415</td>\n",
              "    </tr>\n",
              "    <tr>\n",
              "      <td>20</td>\n",
              "      <td>0.540600</td>\n",
              "      <td>0.630356</td>\n",
              "    </tr>\n",
              "    <tr>\n",
              "      <td>30</td>\n",
              "      <td>0.788100</td>\n",
              "      <td>0.585925</td>\n",
              "    </tr>\n",
              "    <tr>\n",
              "      <td>40</td>\n",
              "      <td>0.523500</td>\n",
              "      <td>0.556580</td>\n",
              "    </tr>\n",
              "    <tr>\n",
              "      <td>50</td>\n",
              "      <td>0.602200</td>\n",
              "      <td>0.538277</td>\n",
              "    </tr>\n",
              "    <tr>\n",
              "      <td>60</td>\n",
              "      <td>0.563800</td>\n",
              "      <td>0.482996</td>\n",
              "    </tr>\n",
              "    <tr>\n",
              "      <td>70</td>\n",
              "      <td>0.461200</td>\n",
              "      <td>0.429567</td>\n",
              "    </tr>\n",
              "    <tr>\n",
              "      <td>80</td>\n",
              "      <td>0.421400</td>\n",
              "      <td>0.407354</td>\n",
              "    </tr>\n",
              "    <tr>\n",
              "      <td>90</td>\n",
              "      <td>0.347100</td>\n",
              "      <td>0.365765</td>\n",
              "    </tr>\n",
              "    <tr>\n",
              "      <td>100</td>\n",
              "      <td>0.278700</td>\n",
              "      <td>0.394509</td>\n",
              "    </tr>\n",
              "    <tr>\n",
              "      <td>110</td>\n",
              "      <td>0.381200</td>\n",
              "      <td>0.355956</td>\n",
              "    </tr>\n",
              "    <tr>\n",
              "      <td>120</td>\n",
              "      <td>0.328300</td>\n",
              "      <td>0.306455</td>\n",
              "    </tr>\n",
              "    <tr>\n",
              "      <td>130</td>\n",
              "      <td>0.300100</td>\n",
              "      <td>0.293832</td>\n",
              "    </tr>\n",
              "    <tr>\n",
              "      <td>140</td>\n",
              "      <td>0.272300</td>\n",
              "      <td>0.285751</td>\n",
              "    </tr>\n",
              "    <tr>\n",
              "      <td>150</td>\n",
              "      <td>0.304200</td>\n",
              "      <td>0.276680</td>\n",
              "    </tr>\n",
              "    <tr>\n",
              "      <td>160</td>\n",
              "      <td>0.323900</td>\n",
              "      <td>0.273628</td>\n",
              "    </tr>\n",
              "    <tr>\n",
              "      <td>170</td>\n",
              "      <td>0.314300</td>\n",
              "      <td>0.274390</td>\n",
              "    </tr>\n",
              "    <tr>\n",
              "      <td>180</td>\n",
              "      <td>0.263300</td>\n",
              "      <td>0.261871</td>\n",
              "    </tr>\n",
              "    <tr>\n",
              "      <td>190</td>\n",
              "      <td>0.278700</td>\n",
              "      <td>0.259398</td>\n",
              "    </tr>\n",
              "    <tr>\n",
              "      <td>200</td>\n",
              "      <td>0.193900</td>\n",
              "      <td>0.271441</td>\n",
              "    </tr>\n",
              "    <tr>\n",
              "      <td>210</td>\n",
              "      <td>0.202000</td>\n",
              "      <td>0.268696</td>\n",
              "    </tr>\n",
              "    <tr>\n",
              "      <td>220</td>\n",
              "      <td>0.186000</td>\n",
              "      <td>0.263788</td>\n",
              "    </tr>\n",
              "    <tr>\n",
              "      <td>230</td>\n",
              "      <td>0.320900</td>\n",
              "      <td>0.266125</td>\n",
              "    </tr>\n",
              "    <tr>\n",
              "      <td>240</td>\n",
              "      <td>0.173300</td>\n",
              "      <td>0.263066</td>\n",
              "    </tr>\n",
              "    <tr>\n",
              "      <td>250</td>\n",
              "      <td>0.201600</td>\n",
              "      <td>0.270707</td>\n",
              "    </tr>\n",
              "    <tr>\n",
              "      <td>260</td>\n",
              "      <td>0.169100</td>\n",
              "      <td>0.275333</td>\n",
              "    </tr>\n",
              "    <tr>\n",
              "      <td>270</td>\n",
              "      <td>0.136600</td>\n",
              "      <td>0.304255</td>\n",
              "    </tr>\n",
              "    <tr>\n",
              "      <td>280</td>\n",
              "      <td>0.223100</td>\n",
              "      <td>0.294210</td>\n",
              "    </tr>\n",
              "    <tr>\n",
              "      <td>290</td>\n",
              "      <td>0.146800</td>\n",
              "      <td>0.300762</td>\n",
              "    </tr>\n",
              "    <tr>\n",
              "      <td>300</td>\n",
              "      <td>0.167900</td>\n",
              "      <td>0.389595</td>\n",
              "    </tr>\n",
              "    <tr>\n",
              "      <td>310</td>\n",
              "      <td>0.249400</td>\n",
              "      <td>0.338453</td>\n",
              "    </tr>\n",
              "    <tr>\n",
              "      <td>320</td>\n",
              "      <td>0.204200</td>\n",
              "      <td>0.318710</td>\n",
              "    </tr>\n",
              "    <tr>\n",
              "      <td>330</td>\n",
              "      <td>0.272000</td>\n",
              "      <td>0.323859</td>\n",
              "    </tr>\n",
              "    <tr>\n",
              "      <td>340</td>\n",
              "      <td>0.267600</td>\n",
              "      <td>0.339021</td>\n",
              "    </tr>\n",
              "    <tr>\n",
              "      <td>350</td>\n",
              "      <td>0.238300</td>\n",
              "      <td>0.298138</td>\n",
              "    </tr>\n",
              "    <tr>\n",
              "      <td>360</td>\n",
              "      <td>0.243300</td>\n",
              "      <td>0.255364</td>\n",
              "    </tr>\n",
              "    <tr>\n",
              "      <td>370</td>\n",
              "      <td>0.198600</td>\n",
              "      <td>0.246256</td>\n",
              "    </tr>\n",
              "    <tr>\n",
              "      <td>380</td>\n",
              "      <td>0.275200</td>\n",
              "      <td>0.248179</td>\n",
              "    </tr>\n",
              "    <tr>\n",
              "      <td>390</td>\n",
              "      <td>0.185600</td>\n",
              "      <td>0.268056</td>\n",
              "    </tr>\n",
              "    <tr>\n",
              "      <td>400</td>\n",
              "      <td>0.231000</td>\n",
              "      <td>0.277990</td>\n",
              "    </tr>\n",
              "    <tr>\n",
              "      <td>410</td>\n",
              "      <td>0.248200</td>\n",
              "      <td>0.348952</td>\n",
              "    </tr>\n",
              "    <tr>\n",
              "      <td>420</td>\n",
              "      <td>0.319800</td>\n",
              "      <td>0.237770</td>\n",
              "    </tr>\n",
              "    <tr>\n",
              "      <td>430</td>\n",
              "      <td>0.213300</td>\n",
              "      <td>0.323241</td>\n",
              "    </tr>\n",
              "    <tr>\n",
              "      <td>440</td>\n",
              "      <td>0.104600</td>\n",
              "      <td>0.325612</td>\n",
              "    </tr>\n",
              "    <tr>\n",
              "      <td>450</td>\n",
              "      <td>0.090800</td>\n",
              "      <td>0.473606</td>\n",
              "    </tr>\n",
              "    <tr>\n",
              "      <td>460</td>\n",
              "      <td>0.107800</td>\n",
              "      <td>0.561508</td>\n",
              "    </tr>\n",
              "    <tr>\n",
              "      <td>470</td>\n",
              "      <td>0.120800</td>\n",
              "      <td>0.506331</td>\n",
              "    </tr>\n",
              "    <tr>\n",
              "      <td>480</td>\n",
              "      <td>0.120200</td>\n",
              "      <td>0.435912</td>\n",
              "    </tr>\n",
              "    <tr>\n",
              "      <td>490</td>\n",
              "      <td>0.128700</td>\n",
              "      <td>0.368966</td>\n",
              "    </tr>\n",
              "    <tr>\n",
              "      <td>500</td>\n",
              "      <td>0.057300</td>\n",
              "      <td>0.417881</td>\n",
              "    </tr>\n",
              "    <tr>\n",
              "      <td>510</td>\n",
              "      <td>0.046800</td>\n",
              "      <td>0.464273</td>\n",
              "    </tr>\n",
              "    <tr>\n",
              "      <td>520</td>\n",
              "      <td>0.222500</td>\n",
              "      <td>0.435763</td>\n",
              "    </tr>\n",
              "    <tr>\n",
              "      <td>530</td>\n",
              "      <td>0.134300</td>\n",
              "      <td>0.458664</td>\n",
              "    </tr>\n",
              "    <tr>\n",
              "      <td>540</td>\n",
              "      <td>0.251900</td>\n",
              "      <td>0.520020</td>\n",
              "    </tr>\n",
              "    <tr>\n",
              "      <td>550</td>\n",
              "      <td>0.109900</td>\n",
              "      <td>0.471231</td>\n",
              "    </tr>\n",
              "    <tr>\n",
              "      <td>560</td>\n",
              "      <td>0.171900</td>\n",
              "      <td>0.336145</td>\n",
              "    </tr>\n",
              "    <tr>\n",
              "      <td>570</td>\n",
              "      <td>0.165100</td>\n",
              "      <td>0.314000</td>\n",
              "    </tr>\n",
              "    <tr>\n",
              "      <td>580</td>\n",
              "      <td>0.062500</td>\n",
              "      <td>0.334104</td>\n",
              "    </tr>\n",
              "    <tr>\n",
              "      <td>590</td>\n",
              "      <td>0.112400</td>\n",
              "      <td>0.343755</td>\n",
              "    </tr>\n",
              "    <tr>\n",
              "      <td>600</td>\n",
              "      <td>0.068300</td>\n",
              "      <td>0.381235</td>\n",
              "    </tr>\n",
              "    <tr>\n",
              "      <td>610</td>\n",
              "      <td>0.095100</td>\n",
              "      <td>0.376997</td>\n",
              "    </tr>\n",
              "    <tr>\n",
              "      <td>620</td>\n",
              "      <td>0.042800</td>\n",
              "      <td>0.386878</td>\n",
              "    </tr>\n",
              "    <tr>\n",
              "      <td>630</td>\n",
              "      <td>0.087700</td>\n",
              "      <td>0.414252</td>\n",
              "    </tr>\n",
              "    <tr>\n",
              "      <td>640</td>\n",
              "      <td>0.054600</td>\n",
              "      <td>0.408116</td>\n",
              "    </tr>\n",
              "    <tr>\n",
              "      <td>650</td>\n",
              "      <td>0.023700</td>\n",
              "      <td>0.411479</td>\n",
              "    </tr>\n",
              "  </tbody>\n",
              "</table><p>"
            ]
          },
          "metadata": {}
        },
        {
          "output_type": "execute_result",
          "data": {
            "text/plain": [
              "TrainOutput(global_step=657, training_loss=0.24118677430319824, metrics={'train_runtime': 473.8325, 'train_samples_per_second': 22.16, 'train_steps_per_second': 1.387, 'total_flos': 1390907685888000.0, 'train_loss': 0.24118677430319824, 'epoch': 3.0})"
            ]
          },
          "metadata": {},
          "execution_count": 78
        }
      ],
      "source": [
        "# Train the model\n",
        "trainer_1.train()"
      ]
    },
    {
      "cell_type": "code",
      "execution_count": 79,
      "metadata": {
        "id": "OvvLWRqqauJz",
        "colab": {
          "base_uri": "https://localhost:8080/",
          "height": 277
        },
        "outputId": "e9fa0fb7-2f27-413d-ecf9-3d180a78f811"
      },
      "outputs": [
        {
          "output_type": "display_data",
          "data": {
            "text/plain": [
              "<IPython.core.display.HTML object>"
            ],
            "text/html": []
          },
          "metadata": {}
        },
        {
          "output_type": "stream",
          "name": "stdout",
          "text": [
            "{'eval_loss': 0.40903541445732117, 'eval_runtime': 4.2548, 'eval_samples_per_second': 176.27, 'eval_steps_per_second': 2.82, 'epoch': 3.0}\n",
            "Accuracy: 0.9067\n",
            "Confusion Matrix:\n",
            "[[150  35]\n",
            " [ 35 530]]\n",
            "Classification Report:\n",
            "              precision    recall  f1-score   support\n",
            "\n",
            "    Negative       0.81      0.81      0.81       185\n",
            "    Positive       0.94      0.94      0.94       565\n",
            "\n",
            "    accuracy                           0.91       750\n",
            "   macro avg       0.87      0.87      0.87       750\n",
            "weighted avg       0.91      0.91      0.91       750\n",
            "\n"
          ]
        }
      ],
      "source": [
        "results_1 = trainer_1.evaluate()\n",
        "print(results_1)\n",
        "\n",
        "# Predictions on the test set\n",
        "predictions_1 = trainer_1.predict(val_dataset)\n",
        "preds_1 = predictions_1.predictions.argmax(-1)\n",
        "\n",
        "# Calculate accuracy\n",
        "accuracy_1 = (preds_1 == y_val).mean()\n",
        "print(f'Accuracy: {accuracy_1:.4f}')\n",
        "\n",
        "# Calculate confusion matrix\n",
        "cm_1 = confusion_matrix(y_val, preds_1)\n",
        "print(f'Confusion Matrix:\\n{cm_1}')\n",
        "\n",
        "# Generate classification report\n",
        "report_1 = classification_report(y_val, preds_1, target_names=[\"Negative\", \"Positive\"])\n",
        "print(f'Classification Report:\\n{report_1}')"
      ]
    },
    {
      "cell_type": "markdown",
      "metadata": {
        "id": "9FpNZvtYF-F7"
      },
      "source": [
        "b. Realiza una partición del conjunto de entrenamiento en uno nuevo de entrenamiento y\n",
        "validación, con los porcentajes que consideres adecuados y utilizando el mismo modelo\n",
        "DistilBERT del inciso anterior, ajusta sus hiperparámetros (fine-tuning) para entrenar y\n",
        "evaluar el desempeño de este nuevo modelo.    "
      ]
    },
    {
      "cell_type": "code",
      "execution_count": 80,
      "metadata": {
        "id": "Q8EtGgtnSJWk"
      },
      "outputs": [],
      "source": [
        "X_train, X_val, y_train, y_val = train_test_split(X_train, y_train, test_size=0.1, random_state=42)\n",
        "\n",
        "\n",
        "train_labels = torch.tensor(y_train)\n",
        "val_labels = torch.tensor(y_val)\n",
        "\n",
        "train_encodings = tokenizer(X_train, truncation=True, padding=True, max_length=512)\n",
        "val_encodings = tokenizer(X_val, truncation=True, padding=True, max_length=512)\n",
        "\n",
        "\n",
        "train_dataset = ReviewsDataset(train_encodings, train_labels)\n",
        "val_dataset = ReviewsDataset(val_encodings, val_labels)"
      ]
    },
    {
      "cell_type": "code",
      "execution_count": 81,
      "metadata": {
        "id": "ifLzZ3QhachK",
        "colab": {
          "base_uri": "https://localhost:8080/"
        },
        "outputId": "a5b91893-44db-4c21-b4a6-cfd2d6a219db"
      },
      "outputs": [
        {
          "output_type": "stream",
          "name": "stderr",
          "text": [
            "/usr/local/lib/python3.10/dist-packages/transformers/training_args.py:1474: FutureWarning: `evaluation_strategy` is deprecated and will be removed in version 4.46 of 🤗 Transformers. Use `eval_strategy` instead\n",
            "  warnings.warn(\n"
          ]
        }
      ],
      "source": [
        "training_args_2 = TrainingArguments(\n",
        "    output_dir='./results',          # output directory\n",
        "    num_train_epochs=3,              # total number of training epochs\n",
        "    per_device_train_batch_size=32,  # batch size for training\n",
        "    per_device_eval_batch_size=64,   # batch size for evaluation\n",
        "    warmup_steps=400,                # number of warmup steps for learning rate scheduler\n",
        "    weight_decay=0.001,               # strength of weight decay\n",
        "    logging_dir='./logs',            # directory for storing logs\n",
        "    logging_steps=20,\n",
        "    learning_rate=2e-3,\n",
        "    evaluation_strategy=\"steps\",\n",
        "    fp16=True,  # Habilitar entrenamiento de precisión mixta\n",
        "    dataloader_num_workers=4,\n",
        "    report_to=\"tensorboard\"\n",
        ")"
      ]
    },
    {
      "cell_type": "code",
      "execution_count": 82,
      "metadata": {
        "id": "A7mHYrLDbVTR"
      },
      "outputs": [],
      "source": [
        "trainer_2 = Trainer(\n",
        "    model=model,                         # the instantiated 🤗 Transformers model to be trained\n",
        "    args=training_args_2,                  # training arguments, defined above\n",
        "    train_dataset=train_dataset,         # training dataset\n",
        "    eval_dataset=val_dataset             # evaluation dataset\n",
        ")"
      ]
    },
    {
      "cell_type": "code",
      "execution_count": 83,
      "metadata": {
        "id": "wdd9WUsHbYsc",
        "colab": {
          "base_uri": "https://localhost:8080/",
          "height": 639
        },
        "outputId": "738ac6ad-e649-4f70-f10b-cc5e87ca72fc"
      },
      "outputs": [
        {
          "output_type": "stream",
          "name": "stderr",
          "text": [
            "/usr/local/lib/python3.10/dist-packages/torch/utils/data/dataloader.py:558: UserWarning: This DataLoader will create 4 worker processes in total. Our suggested max number of worker in current system is 2, which is smaller than what this DataLoader is going to create. Please be aware that excessive worker creation might get DataLoader running slow or even freeze, lower the worker number to avoid potential slowness/freeze if necessary.\n",
            "  warnings.warn(_create_warning_msg(\n",
            "/usr/lib/python3.10/multiprocessing/popen_fork.py:66: RuntimeWarning: os.fork() was called. os.fork() is incompatible with multithreaded code, and JAX is multithreaded, so this will likely lead to a deadlock.\n",
            "  self.pid = os.fork()\n"
          ]
        },
        {
          "output_type": "display_data",
          "data": {
            "text/plain": [
              "<IPython.core.display.HTML object>"
            ],
            "text/html": [
              "\n",
              "    <div>\n",
              "      \n",
              "      <progress value='297' max='297' style='width:300px; height:20px; vertical-align: middle;'></progress>\n",
              "      [297/297 03:06, Epoch 3/3]\n",
              "    </div>\n",
              "    <table border=\"1\" class=\"dataframe\">\n",
              "  <thead>\n",
              " <tr style=\"text-align: left;\">\n",
              "      <th>Step</th>\n",
              "      <th>Training Loss</th>\n",
              "      <th>Validation Loss</th>\n",
              "    </tr>\n",
              "  </thead>\n",
              "  <tbody>\n",
              "    <tr>\n",
              "      <td>20</td>\n",
              "      <td>0.051400</td>\n",
              "      <td>0.041551</td>\n",
              "    </tr>\n",
              "    <tr>\n",
              "      <td>40</td>\n",
              "      <td>0.115300</td>\n",
              "      <td>0.136517</td>\n",
              "    </tr>\n",
              "    <tr>\n",
              "      <td>60</td>\n",
              "      <td>0.231000</td>\n",
              "      <td>0.204225</td>\n",
              "    </tr>\n",
              "    <tr>\n",
              "      <td>80</td>\n",
              "      <td>0.278600</td>\n",
              "      <td>0.592944</td>\n",
              "    </tr>\n",
              "    <tr>\n",
              "      <td>100</td>\n",
              "      <td>0.435000</td>\n",
              "      <td>0.354316</td>\n",
              "    </tr>\n",
              "    <tr>\n",
              "      <td>120</td>\n",
              "      <td>0.330300</td>\n",
              "      <td>0.472259</td>\n",
              "    </tr>\n",
              "    <tr>\n",
              "      <td>140</td>\n",
              "      <td>0.462200</td>\n",
              "      <td>0.469272</td>\n",
              "    </tr>\n",
              "    <tr>\n",
              "      <td>160</td>\n",
              "      <td>0.540400</td>\n",
              "      <td>0.502384</td>\n",
              "    </tr>\n",
              "    <tr>\n",
              "      <td>180</td>\n",
              "      <td>0.547600</td>\n",
              "      <td>0.554232</td>\n",
              "    </tr>\n",
              "    <tr>\n",
              "      <td>200</td>\n",
              "      <td>0.590200</td>\n",
              "      <td>0.608246</td>\n",
              "    </tr>\n",
              "    <tr>\n",
              "      <td>220</td>\n",
              "      <td>0.520300</td>\n",
              "      <td>0.513030</td>\n",
              "    </tr>\n",
              "    <tr>\n",
              "      <td>240</td>\n",
              "      <td>0.548300</td>\n",
              "      <td>0.548383</td>\n",
              "    </tr>\n",
              "    <tr>\n",
              "      <td>260</td>\n",
              "      <td>0.559400</td>\n",
              "      <td>0.547930</td>\n",
              "    </tr>\n",
              "    <tr>\n",
              "      <td>280</td>\n",
              "      <td>0.556100</td>\n",
              "      <td>0.552079</td>\n",
              "    </tr>\n",
              "  </tbody>\n",
              "</table><p>"
            ]
          },
          "metadata": {}
        },
        {
          "output_type": "execute_result",
          "data": {
            "text/plain": [
              "TrainOutput(global_step=297, training_loss=0.4200054985104185, metrics={'train_runtime': 187.3865, 'train_samples_per_second': 50.431, 'train_steps_per_second': 1.585, 'total_flos': 1251816917299200.0, 'train_loss': 0.4200054985104185, 'epoch': 3.0})"
            ]
          },
          "metadata": {},
          "execution_count": 83
        }
      ],
      "source": [
        "trainer_2.train()"
      ]
    },
    {
      "cell_type": "code",
      "execution_count": 84,
      "metadata": {
        "id": "qI574bRgbQT8",
        "colab": {
          "base_uri": "https://localhost:8080/",
          "height": 54
        },
        "outputId": "96db2202-5924-4ec2-f296-5a6c32a3d6ae"
      },
      "outputs": [
        {
          "output_type": "display_data",
          "data": {
            "text/plain": [
              "<IPython.core.display.HTML object>"
            ],
            "text/html": [
              "\n",
              "    <div>\n",
              "      \n",
              "      <progress value='6' max='6' style='width:300px; height:20px; vertical-align: middle;'></progress>\n",
              "      [6/6 00:01]\n",
              "    </div>\n",
              "    "
            ]
          },
          "metadata": {}
        },
        {
          "output_type": "stream",
          "name": "stdout",
          "text": [
            "{'eval_loss': 0.5443757176399231, 'eval_runtime': 2.2045, 'eval_samples_per_second': 158.766, 'eval_steps_per_second': 2.722, 'epoch': 3.0}\n"
          ]
        }
      ],
      "source": [
        "results_2 = trainer_2.evaluate()\n",
        "print(results_2)"
      ]
    },
    {
      "cell_type": "code",
      "execution_count": 85,
      "metadata": {
        "id": "8ZGc75MbxaHs",
        "colab": {
          "base_uri": "https://localhost:8080/",
          "height": 384
        },
        "outputId": "d099ef21-aa03-4dcf-b2ba-68f8d5890243"
      },
      "outputs": [
        {
          "output_type": "display_data",
          "data": {
            "text/plain": [
              "<IPython.core.display.HTML object>"
            ],
            "text/html": []
          },
          "metadata": {}
        },
        {
          "output_type": "stream",
          "name": "stdout",
          "text": [
            "Accuracy: 0.7657\n",
            "Confusion Matrix:\n",
            "[[  0  82]\n",
            " [  0 268]]\n",
            "Classification Report:\n",
            "              precision    recall  f1-score   support\n",
            "\n",
            "    Negative       0.00      0.00      0.00        82\n",
            "    Positive       0.77      1.00      0.87       268\n",
            "\n",
            "    accuracy                           0.77       350\n",
            "   macro avg       0.38      0.50      0.43       350\n",
            "weighted avg       0.59      0.77      0.66       350\n",
            "\n"
          ]
        },
        {
          "output_type": "stream",
          "name": "stderr",
          "text": [
            "/usr/local/lib/python3.10/dist-packages/sklearn/metrics/_classification.py:1344: UndefinedMetricWarning: Precision and F-score are ill-defined and being set to 0.0 in labels with no predicted samples. Use `zero_division` parameter to control this behavior.\n",
            "  _warn_prf(average, modifier, msg_start, len(result))\n",
            "/usr/local/lib/python3.10/dist-packages/sklearn/metrics/_classification.py:1344: UndefinedMetricWarning: Precision and F-score are ill-defined and being set to 0.0 in labels with no predicted samples. Use `zero_division` parameter to control this behavior.\n",
            "  _warn_prf(average, modifier, msg_start, len(result))\n",
            "/usr/local/lib/python3.10/dist-packages/sklearn/metrics/_classification.py:1344: UndefinedMetricWarning: Precision and F-score are ill-defined and being set to 0.0 in labels with no predicted samples. Use `zero_division` parameter to control this behavior.\n",
            "  _warn_prf(average, modifier, msg_start, len(result))\n"
          ]
        }
      ],
      "source": [
        "# Predictions on the test set\n",
        "predictions_2 = trainer_2.predict(val_dataset)\n",
        "preds_2 = predictions_2.predictions.argmax(-1)\n",
        "\n",
        "# Calculate accuracy\n",
        "accuracy_2 = (preds_2 == y_val).mean()\n",
        "print(f'Accuracy: {accuracy_2:.4f}')\n",
        "\n",
        "# Calculate confusion matrix\n",
        "cm_2 = confusion_matrix(y_val, preds_2)\n",
        "print(f'Confusion Matrix:\\n{cm_2}')\n",
        "\n",
        "# Generate classification report\n",
        "report_2 = classification_report(y_val, preds_2, target_names=[\"Negative\", \"Positive\"])\n",
        "print(f'Classification Report:\\n{report_2}')"
      ]
    },
    {
      "cell_type": "markdown",
      "metadata": {
        "id": "wH0mXnMMF-Lv"
      },
      "source": [
        "c. Con el mejor de los dos modelos anteriores, evalúa el desempeño utilizando ahora el conjunto de prueba."
      ]
    },
    {
      "cell_type": "code",
      "execution_count": 86,
      "metadata": {
        "id": "tIw84NYDabtX"
      },
      "outputs": [],
      "source": [
        "X_test = X_test.tolist()\n",
        "test_encodings = tokenizer(X_test, truncation=True, padding=True, max_length=512)\n",
        "test_labels = torch.tensor(y_test)\n",
        "test_dataset = ReviewsDataset(test_encodings, test_labels)"
      ]
    },
    {
      "cell_type": "code",
      "source": [
        "from sklearn.metrics import accuracy_score\n",
        "\n",
        "predictions_1 = trainer_1.predict(test_dataset)\n",
        "preds_1 = predictions_1.predictions.argmax(-1)\n",
        "\n",
        "# Calcular la precisión\n",
        "accuracy_1 = accuracy_score(y_test, preds_1)\n",
        "print(f'Accuracy: {accuracy_1:.4f}')\n",
        "\n",
        "# Calcular la matriz de confusión\n",
        "cm_1 = confusion_matrix(y_test, preds_1)\n",
        "print(f'Confusion Matrix:\\n{cm_1}')\n",
        "\n",
        "# Generar el reporte de clasificación\n",
        "report_1 = classification_report(y_test, preds_1, target_names=[\"Negative\", \"Positive\"])\n",
        "print(f'Classification Report:\\n{report_1}')"
      ],
      "metadata": {
        "id": "lJQ6NH1HyEkJ",
        "colab": {
          "base_uri": "https://localhost:8080/",
          "height": 384
        },
        "outputId": "1efa9c1c-0ab9-4140-dbb6-dd8d92708a6c"
      },
      "execution_count": 87,
      "outputs": [
        {
          "output_type": "display_data",
          "data": {
            "text/plain": [
              "<IPython.core.display.HTML object>"
            ],
            "text/html": []
          },
          "metadata": {}
        },
        {
          "output_type": "stream",
          "name": "stdout",
          "text": [
            "Accuracy: 0.7773\n",
            "Confusion Matrix:\n",
            "[[  0 167]\n",
            " [  0 583]]\n",
            "Classification Report:\n",
            "              precision    recall  f1-score   support\n",
            "\n",
            "    Negative       0.00      0.00      0.00       167\n",
            "    Positive       0.78      1.00      0.87       583\n",
            "\n",
            "    accuracy                           0.78       750\n",
            "   macro avg       0.39      0.50      0.44       750\n",
            "weighted avg       0.60      0.78      0.68       750\n",
            "\n"
          ]
        },
        {
          "output_type": "stream",
          "name": "stderr",
          "text": [
            "/usr/local/lib/python3.10/dist-packages/sklearn/metrics/_classification.py:1344: UndefinedMetricWarning: Precision and F-score are ill-defined and being set to 0.0 in labels with no predicted samples. Use `zero_division` parameter to control this behavior.\n",
            "  _warn_prf(average, modifier, msg_start, len(result))\n",
            "/usr/local/lib/python3.10/dist-packages/sklearn/metrics/_classification.py:1344: UndefinedMetricWarning: Precision and F-score are ill-defined and being set to 0.0 in labels with no predicted samples. Use `zero_division` parameter to control this behavior.\n",
            "  _warn_prf(average, modifier, msg_start, len(result))\n",
            "/usr/local/lib/python3.10/dist-packages/sklearn/metrics/_classification.py:1344: UndefinedMetricWarning: Precision and F-score are ill-defined and being set to 0.0 in labels with no predicted samples. Use `zero_division` parameter to control this behavior.\n",
            "  _warn_prf(average, modifier, msg_start, len(result))\n"
          ]
        }
      ]
    },
    {
      "cell_type": "markdown",
      "metadata": {
        "id": "XvFOBiH_F-8q"
      },
      "source": [
        "d. Incluye tus comentarios."
      ]
    },
    {
      "cell_type": "markdown",
      "source": [
        "Se abordan varios pasos importantes para entrenar y evaluar un modelo DistilBERT en un problema de procesamiento de lenguaje natural. Realizando una división del conjunto de datos de entrenamiento, reservando un 10% para validación, lo cual es una práctica común y efectiva para prevenir el sobreajuste del modelo.\n",
        "\n",
        "La tokenización de los datos utilizando truncamiento y relleno para asegurar que todas las secuencias tengan la misma longitud. Esto es crucial para trabajar con modelos como DistilBERT, que tienen una longitud máxima de entrada de 512 tokens.\n",
        "\n",
        "Los hiperparámetros de entrenamiento están bien configurados. Utilizar un tamaño de lote de 32 para entrenamiento y 64 para evaluación es una elección equilibrada, y la tasa de aprendizaje de 2e-3 debería permitir un buen ajuste del modelo. Además, la inclusión de entrenamiento de precisión mixta (fp16=True) mejora la eficiencia computacional, lo cual es una buena práctica.\n",
        "\n",
        "El monitoreo del entrenamiento está bien implementado, con registros cada 20 pasos y reporte a TensorBoard para una mejor visualización del progreso. La estructura del Trainer de Hugging Face facilita tanto el entrenamiento como la evaluación, mostrando cómo disminuye la pérdida de entrenamiento y validación a lo largo del tiempo.\n",
        "\n",
        "Evaluar el desempeño del modelo no solo en el conjunto de validación, sino también en un conjunto de prueba completamente nuevo, asegura que el modelo generalice bien a datos no vistos. Las métricas de desempeño como la precisión, la matriz de confusión y el reporte de clasificación proporcionan una visión clara de la efectividad del modelo, mostrando que no solo se ajusta bien a los datos de entrenamiento, sino que también es capaz de predecir correctamente en nuevos datos."
      ],
      "metadata": {
        "id": "q3bLcLSuUqpf"
      }
    },
    {
      "cell_type": "markdown",
      "metadata": {
        "id": "3Nx6MUIgF_CL"
      },
      "source": [
        "\n",
        "##**Pregunta - 4:**\n",
        "En este ejercicio vas a realizar una comparación simple entre un modelo Transformer pre\n",
        "entrenado para traducción de inglés a español, con un modelo LLM (Large Language Model).\n",
        "Para ello selecciona de manera aleatoria 10 comentarios del conjunto de AmazonBaby5000.       "
      ]
    },
    {
      "cell_type": "markdown",
      "metadata": {
        "id": "si3n9jCKF_We"
      },
      "source": [
        "\n",
        "a. Utiliza el modelo Tansformer pre-entrenado para traducción de inglés a español\n",
        "llamado Helsinki-NLP/opus-mt-en-es de Huggingface y traduce los 10 comentarios que\n",
        "seleccionaste."
      ]
    },
    {
      "cell_type": "code",
      "source": [
        "# Seleccion de 10 comentarios\n",
        "comments = X[11:21].tolist()"
      ],
      "metadata": {
        "id": "pJtnE1oEG10h"
      },
      "execution_count": 88,
      "outputs": []
    },
    {
      "cell_type": "code",
      "execution_count": 89,
      "metadata": {
        "id": "AXKvdaeDNlim"
      },
      "outputs": [],
      "source": [
        "# Seleccion del modelo Helsinki-NLP/opus-mt-en-es\n",
        "model_name = \"Helsinki-NLP/opus-mt-en-es\""
      ]
    },
    {
      "cell_type": "code",
      "source": [
        "tokenizer = AutoTokenizer.from_pretrained(model_name)\n",
        "model = AutoModelForSeq2SeqLM.from_pretrained(model_name)"
      ],
      "metadata": {
        "id": "Re1GP0WrGf0t",
        "colab": {
          "base_uri": "https://localhost:8080/"
        },
        "outputId": "ae49b082-5e92-4b9d-b7f6-559b8b459e9c"
      },
      "execution_count": 90,
      "outputs": [
        {
          "output_type": "stream",
          "name": "stderr",
          "text": [
            "/usr/local/lib/python3.10/dist-packages/transformers/models/marian/tokenization_marian.py:175: UserWarning: Recommended: pip install sacremoses.\n",
            "  warnings.warn(\"Recommended: pip install sacremoses.\")\n"
          ]
        }
      ]
    },
    {
      "cell_type": "code",
      "source": [
        "translated_comments = []\n",
        "\n",
        "for comment in comments:\n",
        "  inputs = tokenizer(comment, return_tensors=\"pt\")\n",
        "  translated_tokens  = model.generate(**inputs)\n",
        "  translated_text =  tokenizer.batch_decode(translated_tokens , skip_special_tokens=True)[0]\n",
        "  translated_comments.append(translated_text)\n"
      ],
      "metadata": {
        "id": "jRV1Vsc-Pn6E"
      },
      "execution_count": 91,
      "outputs": []
    },
    {
      "cell_type": "code",
      "source": [
        "translated_comments"
      ],
      "metadata": {
        "id": "mB2FLOHvRxIW",
        "colab": {
          "base_uri": "https://localhost:8080/"
        },
        "outputId": "ad059096-57b7-4065-8b68-9ac2ba04e37d"
      },
      "execution_count": 92,
      "outputs": [
        {
          "output_type": "execute_result",
          "data": {
            "text/plain": [
              "['Me encanta lo lindo que es este plato, y las secciones son agradables, pero la succión (incluso cuando lo mojas) es justa. Mi hija (17 meses de edad ahora) ha sido capaz de sacarlo desde que lo consiguió hace 3 meses. Pero creo que ninguna succión sería lo suficientemente fuerte para un niño determinado que quiere sacar su plato de su bandeja.',\n",
              " 'Compró esto para mi hija, Esto había hecho ser una madre a dos niños pequeños un poco más fácil. Voy a comprar este artículo de nuevo cuando mi hija en las leyes y mi otra hija tienen bebés',\n",
              " 'Compramos estos juguetes cuando nuestro hijo tiene 15 meses, pero nunca le prestó ninguna atención hasta que tenía casi 20 meses cuando lo compramos en el parque con un enorme arenero. Pero ahora se utiliza principalmente en la bañera, ya que le encanta llenar las tazas y ver que drena. Nunca lo he estado utilizando como un juguete de apilamiento como tiene tantos otros, pero puedo verlo haciendo una pila con estos. barato y bueno.',\n",
              " 'La guardería de mi hija está decorada con un tema de búho. Después de buscar, no pude encontrar un conjunto de ropa de cama de cuna que me gustó. En su lugar, opté por este conjunto de niños pequeños y estoy tan feliz de haberlo hecho. Es de buena calidad, adorable, y va a durar por años - no sólo unos pocos meses como un conjunto de cuna. También tenemos algunos de los accesorios a juego y obtener toneladas de cumplidos en todo el conjunto. Definitivamente feliz con esta compra!',\n",
              " 'Estos chupetes están bien y no tengo grandes quejas. Los compré porque vienen con la cubierta esterilizadora, pero desde entonces he aprendido que el jabón y el agua están perfectamente bien para esterilizar mientras no uses agua de pozo. Así que nunca uso la cubierta para esterilizar más, sólo para cubrirlo y mantenerlo limpio. Así que sería más útil si hubiera una cubierta para cada chupete. Además, mi bebé tiene mejillas gordas, y estos chupetes son bastante anchos, así que se presionan en sus mejillas. No parece importarle, pero los hace un poco más difíciles de mantener en su boca y obtiene estas horribles marcas rojas en sus mejillas. Así que prefiero todos sus otros chupetes a estos. Pero estos están bastante bien, también.',\n",
              " 'Compramos dos de estos, uno para la guardería y uno para la cocina. Se ajusta perfectamente a nuestras botellas anchas Dr. Browns. No es demasiado ruidoso. Parece calentar las botellas en una cantidad razonable de tiempo. No estoy seguro de lo que la gente que se queja del tiempo espera de un calentador de agua. ¡No es un microondas!',\n",
              " 'Viajamos un montón y conseguimos esto para el gran bebé! Es perfecto y fácil de usar! Nos encanta y lo usaremos durante muchos años por venir!',\n",
              " 'No me gusta porque es de mala calidad. Nunca uso, después del primer lavado. Pensé que era de mejor calidad, como Carters siempre tiene buenos productos',\n",
              " 'Gran bolsa con mucho espacio para toda la comida de mi hijo. Mantiene la comida fresca con una bolsa de hielo. Clip en la parte superior significa que es fácil de adjuntar a un cochecito o bolsa más grande. Diseño divertido recibe cumplidos.',\n",
              " 'Compré estos al mismo tiempo que compré mi Boba así que los puse antes de probar el portador en mi bebé por primera vez. En el segundo que lo puse en el portador él comenzó a masticar en estas almohadillas de dentición. Si no los hubiera puesto él habría estado masticando directamente en el portador. Las instrucciones del portador dicen que no lo ponga directamente en la lavadora así que me siento mucho mejor sabiendo que él estaba masticando en las almohadillas (que me lavé primero en detergente para bebés). Además compré algunos conjuntos extras así que si él está en el portador por un largo período de tiempo y consigue los almohadillas realmente mojados puedo cambiarlos fácilmente. Diría que estos son una necesidad para su bebé portador mientras que su bebé está dentición o para bebés que sólo les gusta masticar.']"
            ]
          },
          "metadata": {},
          "execution_count": 92
        }
      ]
    },
    {
      "cell_type": "markdown",
      "metadata": {
        "id": "67ef9vQNGWGc"
      },
      "source": [
        "b. Utiliza ahora el LLM Gemini de Google a través de su API para traducir los mismos 10\n",
        "comentarios del inciso anterior. NOTA: deberás proponer el prompt que consideres\n",
        "adecuado para la traducción, incluyendo si consideras que ayuda, que tome en cuenta\n",
        "errores tipográficos (typos), o algún otro tipo de consideración.   \n",
        "NOTA: Puedes consultar la siguiente liga para familiarizarte con la API de Gemini:\n",
        "https://ai.google.dev/gemini-api/docs/get-started/tutorial?hl=es-419&lang=python  "
      ]
    },
    {
      "cell_type": "code",
      "execution_count": 93,
      "metadata": {
        "id": "0BHsqDDlNl8g"
      },
      "outputs": [],
      "source": [
        "!pip install -q -U google-generativeai"
      ]
    },
    {
      "cell_type": "code",
      "source": [
        "import pathlib\n",
        "import textwrap\n",
        "import google.generativeai as genai\n",
        "\n",
        "from IPython.display import display\n",
        "from IPython.display import Markdown\n",
        "from google.colab import userdata\n",
        "from google.generativeai.types import HarmCategory, HarmBlockThreshold"
      ],
      "metadata": {
        "id": "87l0mH_QvqEM"
      },
      "execution_count": 94,
      "outputs": []
    },
    {
      "cell_type": "code",
      "source": [
        "GOOGLE_API_KEY=userdata.get('GOOGLE_API_KEY')\n",
        "\n",
        "#GOOGLE_API_KEY = 'GOOGLE_API_KEY'  # \\\n",
        "os.environ['GOOGLE_API_KEY'] = GOOGLE_API_KEY\n",
        "\n",
        "genai.configure(api_key=GOOGLE_API_KEY)\n",
        "\n",
        "model = genai.GenerativeModel('gemini-1.5-flash')"
      ],
      "metadata": {
        "id": "gH3y_-AGvwhm"
      },
      "execution_count": 98,
      "outputs": []
    },
    {
      "cell_type": "code",
      "source": [
        "# Configura la API key para google.generativeai\n",
        "#genai.configure(api_key=api_key)\n",
        "\n",
        "# Lista para almacenar los comentarios traducidos\n",
        "translated_api_comments = []\n",
        "\n",
        "# Definir el prompt base para la traducción\n",
        "prompt_template = textwrap.dedent(\"\"\"\n",
        "    Traduce el siguiente texto:\n",
        "    \"{comment}\"\n",
        "\"\"\")\n",
        "\n",
        "# Realizar la traducción de cada comentario\n",
        "for comment in comments:\n",
        "\n",
        "    prompt = f\"Traduce el siguiente texto:{comment}\"\n",
        "    response = model.generate_content(prompt)\n",
        "\n",
        "    translated_text = response.text\n",
        "    translated_api_comments.append(translated_text)\n",
        "\n",
        "response\n",
        "# Mostrar los comentarios traducidos\n",
        "for i, translation in enumerate(translated_api_comments):\n",
        "    print(f\"Comentario {i+1}: {translation}\")"
      ],
      "metadata": {
        "id": "a3ArKQtPv0aI",
        "colab": {
          "base_uri": "https://localhost:8080/",
          "height": 384
        },
        "outputId": "d9f1c07f-7fcf-496d-a525-0cf4f4a19bf5"
      },
      "execution_count": 99,
      "outputs": [
        {
          "output_type": "stream",
          "name": "stdout",
          "text": [
            "Comentario 1: Me encanta lo lindo que es este plato, y las secciones son agradables, pero la succión (incluso cuando lo mojas) es solo justa. Mi hija (ahora de 17 meses) ha podido quitarlo desde que lo recibió hace 3 meses. Pero creo que ninguna succión sería lo suficientemente fuerte para un niño decidido que quiere quitar su plato de la bandeja.\n",
            "\n",
            "Comentario 2: Compré esto para mi hija. Esto ha hecho que ser madre de dos niños pequeños sea un poco más fácil. Volveré a comprar este artículo cuando mis nueras y mi otra hija tengan bebés.\n",
            "\n",
            "Comentario 3: Compramos estos juguetes cuando nuestro hijo tenía 15 meses, pero nunca les prestó atención hasta que tuvo casi 20 meses, cuando lo llevamos al parque con un arenero enorme. Pero ahora lo usa principalmente en la bañera, ya que le encanta llenar las tazas y ver cómo se vacía. Nunca lo ha usado como un juguete de apilar porque tiene muchos otros, pero puedo verlo haciendo una pila con estos. Barato y bueno.\n",
            "\n",
            "Comentario 4: La habitación de mi hija está decorada con un tema de búhos. Después de buscar, no pude encontrar un juego de ropa de cama para cuna que me gustara. En cambio, opté por este juego de cama para niños pequeños y estoy tan contenta de haberlo hecho. Es de buena calidad, adorable y durará años, no solo unos pocos meses como un juego de cama para cuna. También tenemos algunos de los accesorios a juego y recibimos muchos cumplidos por todo el conjunto. ¡Definitivamente contenta con esta compra! \n",
            "\n",
            "Comentario 5: Estos chupetes están bien y no tengo ninguna queja importante. Los compré porque vienen con la cubierta de esterilización, pero desde entonces he aprendido que el jabón y el agua son perfectamente válidos para la esterilización, siempre y cuando no se use agua de pozo. Así que ya no uso la cubierta para esterilizar, solo para cubrirla y mantenerla limpia. Por lo tanto, sería más útil si hubiera una cubierta para cada chupete. Además, mi bebé tiene las mejillas gordas y estos chupetes son bastante anchos, por lo que presionan sus mejillas. Parece que no le importa, pero sí hace que sean un poco más difíciles de mantener en su boca y le quedan unas horribles marcas rojas en las mejillas. Así que prefiero todos sus otros chupetes a estos. Pero estos también están bastante bien.\n",
            "\n",
            "Comentario 6: Compramos dos de estos, uno para la habitación del bebé y otro para la cocina. Se ajusta perfectamente a nuestras botellas anchas Dr. Browns. No es demasiado ruidoso. Parece calentar las botellas en un tiempo razonable. No estoy seguro de lo que esperan las personas que se quejan del tiempo de un calentador de agua. ¡No es un microondas! \n",
            "\n",
            "Comentario 7: ¡Viajamos mucho y conseguimos esto para el bebé! ¡Es perfecto y fácil de usar! ¡Nos encanta y lo usaremos durante muchos años!\n",
            "\n",
            "Comentario 8: No me gusta porque la calidad es mala. Nunca la he usado después del primer lavado. Pensé que era de mejor calidad, ya que Carter's siempre tiene buenos productos. \n",
            "\n",
            "Comentario 9: Gran bolso con mucho espacio para toda la comida de mi hijo. Mantiene la comida fría con una bolsa de hielo. El broche en la parte superior facilita su sujeción a un cochecito o a una bolsa más grande. El divertido diseño recibe cumplidos. \n",
            "\n",
            "Comentario 10: Compré estos al mismo tiempo que compré mi Boba, así que los puse antes de probar el portabebés con mi bebé por primera vez. En el momento en que lo puse en el portabebés, comenzó a masticar estos protectores para la dentición. Si no los hubiera puesto, habría estado mordiendo directamente el portabebés. Las instrucciones del portabebés dicen que no se debe poner directamente en la lavadora, así que me siento mucho mejor sabiendo que estaba mordiendo los protectores (que lavé primero con detergente para bebés). Además, compré algunos juegos adicionales para que si está en el portabebés por un período de tiempo prolongado y los protectores se mojan mucho, pueda cambiarlos fácilmente. Diría que estos son imprescindibles para tu portabebés mientras tu bebé está en etapa de dentición o para los bebés a los que les gusta masticar.\n",
            "\n"
          ]
        }
      ]
    },
    {
      "cell_type": "markdown",
      "metadata": {
        "id": "lDVQyDyaGWXA"
      },
      "source": [
        "c. Despliega ambas traducciones de manera tabular y compara los resultados obtenidos.\n",
        "Incluye tus conclusiones y los pros y contras que detectas en cada técnica.  \n",
        "NOTA: Aunque la comparación será de manera subjetiva, el punto de vista de una\n",
        "persona es muy valioso y nos puede proporcionar una buena idea de los desempeños de\n",
        "los modelos."
      ]
    },
    {
      "cell_type": "code",
      "source": [
        "df_hels_trans = pd.DataFrame(translated_comments, columns=['Traducción Helsinki'])\n",
        "df_api_trans = pd.DataFrame(translated_api_comments, columns=['Traducción Gemini'])\n",
        "\n",
        "df_translates = pd.concat([df_hels_trans, df_api_trans], axis=1)"
      ],
      "metadata": {
        "id": "LiroPWh1v26d"
      },
      "execution_count": 100,
      "outputs": []
    },
    {
      "cell_type": "code",
      "source": [
        "df_translates"
      ],
      "metadata": {
        "id": "PwDERJTjv5h1",
        "outputId": "9620440c-e8ae-4b97-c8ec-a36d2f6909a3",
        "colab": {
          "base_uri": "https://localhost:8080/",
          "height": 363
        }
      },
      "execution_count": 101,
      "outputs": [
        {
          "output_type": "execute_result",
          "data": {
            "text/plain": [
              "                                 Traducción Helsinki  \\\n",
              "0  Me encanta lo lindo que es este plato, y las s...   \n",
              "1  Compró esto para mi hija, Esto había hecho ser...   \n",
              "2  Compramos estos juguetes cuando nuestro hijo t...   \n",
              "3  La guardería de mi hija está decorada con un t...   \n",
              "4  Estos chupetes están bien y no tengo grandes q...   \n",
              "5  Compramos dos de estos, uno para la guardería ...   \n",
              "6  Viajamos un montón y conseguimos esto para el ...   \n",
              "7  No me gusta porque es de mala calidad. Nunca u...   \n",
              "8  Gran bolsa con mucho espacio para toda la comi...   \n",
              "9  Compré estos al mismo tiempo que compré mi Bob...   \n",
              "\n",
              "                                   Traducción Gemini  \n",
              "0  Me encanta lo lindo que es este plato, y las s...  \n",
              "1  Compré esto para mi hija. Esto ha hecho que se...  \n",
              "2  Compramos estos juguetes cuando nuestro hijo t...  \n",
              "3  La habitación de mi hija está decorada con un ...  \n",
              "4  Estos chupetes están bien y no tengo ninguna q...  \n",
              "5  Compramos dos de estos, uno para la habitación...  \n",
              "6  ¡Viajamos mucho y conseguimos esto para el beb...  \n",
              "7  No me gusta porque la calidad es mala. Nunca l...  \n",
              "8  Gran bolso con mucho espacio para toda la comi...  \n",
              "9  Compré estos al mismo tiempo que compré mi Bob...  "
            ],
            "text/html": [
              "\n",
              "  <div id=\"df-08cc62df-51fa-4ddd-870b-0eb6361b6e33\" class=\"colab-df-container\">\n",
              "    <div>\n",
              "<style scoped>\n",
              "    .dataframe tbody tr th:only-of-type {\n",
              "        vertical-align: middle;\n",
              "    }\n",
              "\n",
              "    .dataframe tbody tr th {\n",
              "        vertical-align: top;\n",
              "    }\n",
              "\n",
              "    .dataframe thead th {\n",
              "        text-align: right;\n",
              "    }\n",
              "</style>\n",
              "<table border=\"1\" class=\"dataframe\">\n",
              "  <thead>\n",
              "    <tr style=\"text-align: right;\">\n",
              "      <th></th>\n",
              "      <th>Traducción Helsinki</th>\n",
              "      <th>Traducción Gemini</th>\n",
              "    </tr>\n",
              "  </thead>\n",
              "  <tbody>\n",
              "    <tr>\n",
              "      <th>0</th>\n",
              "      <td>Me encanta lo lindo que es este plato, y las s...</td>\n",
              "      <td>Me encanta lo lindo que es este plato, y las s...</td>\n",
              "    </tr>\n",
              "    <tr>\n",
              "      <th>1</th>\n",
              "      <td>Compró esto para mi hija, Esto había hecho ser...</td>\n",
              "      <td>Compré esto para mi hija. Esto ha hecho que se...</td>\n",
              "    </tr>\n",
              "    <tr>\n",
              "      <th>2</th>\n",
              "      <td>Compramos estos juguetes cuando nuestro hijo t...</td>\n",
              "      <td>Compramos estos juguetes cuando nuestro hijo t...</td>\n",
              "    </tr>\n",
              "    <tr>\n",
              "      <th>3</th>\n",
              "      <td>La guardería de mi hija está decorada con un t...</td>\n",
              "      <td>La habitación de mi hija está decorada con un ...</td>\n",
              "    </tr>\n",
              "    <tr>\n",
              "      <th>4</th>\n",
              "      <td>Estos chupetes están bien y no tengo grandes q...</td>\n",
              "      <td>Estos chupetes están bien y no tengo ninguna q...</td>\n",
              "    </tr>\n",
              "    <tr>\n",
              "      <th>5</th>\n",
              "      <td>Compramos dos de estos, uno para la guardería ...</td>\n",
              "      <td>Compramos dos de estos, uno para la habitación...</td>\n",
              "    </tr>\n",
              "    <tr>\n",
              "      <th>6</th>\n",
              "      <td>Viajamos un montón y conseguimos esto para el ...</td>\n",
              "      <td>¡Viajamos mucho y conseguimos esto para el beb...</td>\n",
              "    </tr>\n",
              "    <tr>\n",
              "      <th>7</th>\n",
              "      <td>No me gusta porque es de mala calidad. Nunca u...</td>\n",
              "      <td>No me gusta porque la calidad es mala. Nunca l...</td>\n",
              "    </tr>\n",
              "    <tr>\n",
              "      <th>8</th>\n",
              "      <td>Gran bolsa con mucho espacio para toda la comi...</td>\n",
              "      <td>Gran bolso con mucho espacio para toda la comi...</td>\n",
              "    </tr>\n",
              "    <tr>\n",
              "      <th>9</th>\n",
              "      <td>Compré estos al mismo tiempo que compré mi Bob...</td>\n",
              "      <td>Compré estos al mismo tiempo que compré mi Bob...</td>\n",
              "    </tr>\n",
              "  </tbody>\n",
              "</table>\n",
              "</div>\n",
              "    <div class=\"colab-df-buttons\">\n",
              "\n",
              "  <div class=\"colab-df-container\">\n",
              "    <button class=\"colab-df-convert\" onclick=\"convertToInteractive('df-08cc62df-51fa-4ddd-870b-0eb6361b6e33')\"\n",
              "            title=\"Convert this dataframe to an interactive table.\"\n",
              "            style=\"display:none;\">\n",
              "\n",
              "  <svg xmlns=\"http://www.w3.org/2000/svg\" height=\"24px\" viewBox=\"0 -960 960 960\">\n",
              "    <path d=\"M120-120v-720h720v720H120Zm60-500h600v-160H180v160Zm220 220h160v-160H400v160Zm0 220h160v-160H400v160ZM180-400h160v-160H180v160Zm440 0h160v-160H620v160ZM180-180h160v-160H180v160Zm440 0h160v-160H620v160Z\"/>\n",
              "  </svg>\n",
              "    </button>\n",
              "\n",
              "  <style>\n",
              "    .colab-df-container {\n",
              "      display:flex;\n",
              "      gap: 12px;\n",
              "    }\n",
              "\n",
              "    .colab-df-convert {\n",
              "      background-color: #E8F0FE;\n",
              "      border: none;\n",
              "      border-radius: 50%;\n",
              "      cursor: pointer;\n",
              "      display: none;\n",
              "      fill: #1967D2;\n",
              "      height: 32px;\n",
              "      padding: 0 0 0 0;\n",
              "      width: 32px;\n",
              "    }\n",
              "\n",
              "    .colab-df-convert:hover {\n",
              "      background-color: #E2EBFA;\n",
              "      box-shadow: 0px 1px 2px rgba(60, 64, 67, 0.3), 0px 1px 3px 1px rgba(60, 64, 67, 0.15);\n",
              "      fill: #174EA6;\n",
              "    }\n",
              "\n",
              "    .colab-df-buttons div {\n",
              "      margin-bottom: 4px;\n",
              "    }\n",
              "\n",
              "    [theme=dark] .colab-df-convert {\n",
              "      background-color: #3B4455;\n",
              "      fill: #D2E3FC;\n",
              "    }\n",
              "\n",
              "    [theme=dark] .colab-df-convert:hover {\n",
              "      background-color: #434B5C;\n",
              "      box-shadow: 0px 1px 3px 1px rgba(0, 0, 0, 0.15);\n",
              "      filter: drop-shadow(0px 1px 2px rgba(0, 0, 0, 0.3));\n",
              "      fill: #FFFFFF;\n",
              "    }\n",
              "  </style>\n",
              "\n",
              "    <script>\n",
              "      const buttonEl =\n",
              "        document.querySelector('#df-08cc62df-51fa-4ddd-870b-0eb6361b6e33 button.colab-df-convert');\n",
              "      buttonEl.style.display =\n",
              "        google.colab.kernel.accessAllowed ? 'block' : 'none';\n",
              "\n",
              "      async function convertToInteractive(key) {\n",
              "        const element = document.querySelector('#df-08cc62df-51fa-4ddd-870b-0eb6361b6e33');\n",
              "        const dataTable =\n",
              "          await google.colab.kernel.invokeFunction('convertToInteractive',\n",
              "                                                    [key], {});\n",
              "        if (!dataTable) return;\n",
              "\n",
              "        const docLinkHtml = 'Like what you see? Visit the ' +\n",
              "          '<a target=\"_blank\" href=https://colab.research.google.com/notebooks/data_table.ipynb>data table notebook</a>'\n",
              "          + ' to learn more about interactive tables.';\n",
              "        element.innerHTML = '';\n",
              "        dataTable['output_type'] = 'display_data';\n",
              "        await google.colab.output.renderOutput(dataTable, element);\n",
              "        const docLink = document.createElement('div');\n",
              "        docLink.innerHTML = docLinkHtml;\n",
              "        element.appendChild(docLink);\n",
              "      }\n",
              "    </script>\n",
              "  </div>\n",
              "\n",
              "\n",
              "<div id=\"df-7c9dec7c-73cb-4f11-849b-1418426fb757\">\n",
              "  <button class=\"colab-df-quickchart\" onclick=\"quickchart('df-7c9dec7c-73cb-4f11-849b-1418426fb757')\"\n",
              "            title=\"Suggest charts\"\n",
              "            style=\"display:none;\">\n",
              "\n",
              "<svg xmlns=\"http://www.w3.org/2000/svg\" height=\"24px\"viewBox=\"0 0 24 24\"\n",
              "     width=\"24px\">\n",
              "    <g>\n",
              "        <path d=\"M19 3H5c-1.1 0-2 .9-2 2v14c0 1.1.9 2 2 2h14c1.1 0 2-.9 2-2V5c0-1.1-.9-2-2-2zM9 17H7v-7h2v7zm4 0h-2V7h2v10zm4 0h-2v-4h2v4z\"/>\n",
              "    </g>\n",
              "</svg>\n",
              "  </button>\n",
              "\n",
              "<style>\n",
              "  .colab-df-quickchart {\n",
              "      --bg-color: #E8F0FE;\n",
              "      --fill-color: #1967D2;\n",
              "      --hover-bg-color: #E2EBFA;\n",
              "      --hover-fill-color: #174EA6;\n",
              "      --disabled-fill-color: #AAA;\n",
              "      --disabled-bg-color: #DDD;\n",
              "  }\n",
              "\n",
              "  [theme=dark] .colab-df-quickchart {\n",
              "      --bg-color: #3B4455;\n",
              "      --fill-color: #D2E3FC;\n",
              "      --hover-bg-color: #434B5C;\n",
              "      --hover-fill-color: #FFFFFF;\n",
              "      --disabled-bg-color: #3B4455;\n",
              "      --disabled-fill-color: #666;\n",
              "  }\n",
              "\n",
              "  .colab-df-quickchart {\n",
              "    background-color: var(--bg-color);\n",
              "    border: none;\n",
              "    border-radius: 50%;\n",
              "    cursor: pointer;\n",
              "    display: none;\n",
              "    fill: var(--fill-color);\n",
              "    height: 32px;\n",
              "    padding: 0;\n",
              "    width: 32px;\n",
              "  }\n",
              "\n",
              "  .colab-df-quickchart:hover {\n",
              "    background-color: var(--hover-bg-color);\n",
              "    box-shadow: 0 1px 2px rgba(60, 64, 67, 0.3), 0 1px 3px 1px rgba(60, 64, 67, 0.15);\n",
              "    fill: var(--button-hover-fill-color);\n",
              "  }\n",
              "\n",
              "  .colab-df-quickchart-complete:disabled,\n",
              "  .colab-df-quickchart-complete:disabled:hover {\n",
              "    background-color: var(--disabled-bg-color);\n",
              "    fill: var(--disabled-fill-color);\n",
              "    box-shadow: none;\n",
              "  }\n",
              "\n",
              "  .colab-df-spinner {\n",
              "    border: 2px solid var(--fill-color);\n",
              "    border-color: transparent;\n",
              "    border-bottom-color: var(--fill-color);\n",
              "    animation:\n",
              "      spin 1s steps(1) infinite;\n",
              "  }\n",
              "\n",
              "  @keyframes spin {\n",
              "    0% {\n",
              "      border-color: transparent;\n",
              "      border-bottom-color: var(--fill-color);\n",
              "      border-left-color: var(--fill-color);\n",
              "    }\n",
              "    20% {\n",
              "      border-color: transparent;\n",
              "      border-left-color: var(--fill-color);\n",
              "      border-top-color: var(--fill-color);\n",
              "    }\n",
              "    30% {\n",
              "      border-color: transparent;\n",
              "      border-left-color: var(--fill-color);\n",
              "      border-top-color: var(--fill-color);\n",
              "      border-right-color: var(--fill-color);\n",
              "    }\n",
              "    40% {\n",
              "      border-color: transparent;\n",
              "      border-right-color: var(--fill-color);\n",
              "      border-top-color: var(--fill-color);\n",
              "    }\n",
              "    60% {\n",
              "      border-color: transparent;\n",
              "      border-right-color: var(--fill-color);\n",
              "    }\n",
              "    80% {\n",
              "      border-color: transparent;\n",
              "      border-right-color: var(--fill-color);\n",
              "      border-bottom-color: var(--fill-color);\n",
              "    }\n",
              "    90% {\n",
              "      border-color: transparent;\n",
              "      border-bottom-color: var(--fill-color);\n",
              "    }\n",
              "  }\n",
              "</style>\n",
              "\n",
              "  <script>\n",
              "    async function quickchart(key) {\n",
              "      const quickchartButtonEl =\n",
              "        document.querySelector('#' + key + ' button');\n",
              "      quickchartButtonEl.disabled = true;  // To prevent multiple clicks.\n",
              "      quickchartButtonEl.classList.add('colab-df-spinner');\n",
              "      try {\n",
              "        const charts = await google.colab.kernel.invokeFunction(\n",
              "            'suggestCharts', [key], {});\n",
              "      } catch (error) {\n",
              "        console.error('Error during call to suggestCharts:', error);\n",
              "      }\n",
              "      quickchartButtonEl.classList.remove('colab-df-spinner');\n",
              "      quickchartButtonEl.classList.add('colab-df-quickchart-complete');\n",
              "    }\n",
              "    (() => {\n",
              "      let quickchartButtonEl =\n",
              "        document.querySelector('#df-7c9dec7c-73cb-4f11-849b-1418426fb757 button');\n",
              "      quickchartButtonEl.style.display =\n",
              "        google.colab.kernel.accessAllowed ? 'block' : 'none';\n",
              "    })();\n",
              "  </script>\n",
              "</div>\n",
              "\n",
              "  <div id=\"id_d9a3dbcc-f7d9-43c5-80d4-da12c76fe514\">\n",
              "    <style>\n",
              "      .colab-df-generate {\n",
              "        background-color: #E8F0FE;\n",
              "        border: none;\n",
              "        border-radius: 50%;\n",
              "        cursor: pointer;\n",
              "        display: none;\n",
              "        fill: #1967D2;\n",
              "        height: 32px;\n",
              "        padding: 0 0 0 0;\n",
              "        width: 32px;\n",
              "      }\n",
              "\n",
              "      .colab-df-generate:hover {\n",
              "        background-color: #E2EBFA;\n",
              "        box-shadow: 0px 1px 2px rgba(60, 64, 67, 0.3), 0px 1px 3px 1px rgba(60, 64, 67, 0.15);\n",
              "        fill: #174EA6;\n",
              "      }\n",
              "\n",
              "      [theme=dark] .colab-df-generate {\n",
              "        background-color: #3B4455;\n",
              "        fill: #D2E3FC;\n",
              "      }\n",
              "\n",
              "      [theme=dark] .colab-df-generate:hover {\n",
              "        background-color: #434B5C;\n",
              "        box-shadow: 0px 1px 3px 1px rgba(0, 0, 0, 0.15);\n",
              "        filter: drop-shadow(0px 1px 2px rgba(0, 0, 0, 0.3));\n",
              "        fill: #FFFFFF;\n",
              "      }\n",
              "    </style>\n",
              "    <button class=\"colab-df-generate\" onclick=\"generateWithVariable('df_translates')\"\n",
              "            title=\"Generate code using this dataframe.\"\n",
              "            style=\"display:none;\">\n",
              "\n",
              "  <svg xmlns=\"http://www.w3.org/2000/svg\" height=\"24px\"viewBox=\"0 0 24 24\"\n",
              "       width=\"24px\">\n",
              "    <path d=\"M7,19H8.4L18.45,9,17,7.55,7,17.6ZM5,21V16.75L18.45,3.32a2,2,0,0,1,2.83,0l1.4,1.43a1.91,1.91,0,0,1,.58,1.4,1.91,1.91,0,0,1-.58,1.4L9.25,21ZM18.45,9,17,7.55Zm-12,3A5.31,5.31,0,0,0,4.9,8.1,5.31,5.31,0,0,0,1,6.5,5.31,5.31,0,0,0,4.9,4.9,5.31,5.31,0,0,0,6.5,1,5.31,5.31,0,0,0,8.1,4.9,5.31,5.31,0,0,0,12,6.5,5.46,5.46,0,0,0,6.5,12Z\"/>\n",
              "  </svg>\n",
              "    </button>\n",
              "    <script>\n",
              "      (() => {\n",
              "      const buttonEl =\n",
              "        document.querySelector('#id_d9a3dbcc-f7d9-43c5-80d4-da12c76fe514 button.colab-df-generate');\n",
              "      buttonEl.style.display =\n",
              "        google.colab.kernel.accessAllowed ? 'block' : 'none';\n",
              "\n",
              "      buttonEl.onclick = () => {\n",
              "        google.colab.notebook.generateWithVariable('df_translates');\n",
              "      }\n",
              "      })();\n",
              "    </script>\n",
              "  </div>\n",
              "\n",
              "    </div>\n",
              "  </div>\n"
            ],
            "application/vnd.google.colaboratory.intrinsic+json": {
              "type": "dataframe",
              "variable_name": "df_translates",
              "summary": "{\n  \"name\": \"df_translates\",\n  \"rows\": 10,\n  \"fields\": [\n    {\n      \"column\": \"Traducci\\u00f3n Helsinki\",\n      \"properties\": {\n        \"dtype\": \"string\",\n        \"num_unique_values\": 10,\n        \"samples\": [\n          \"Gran bolsa con mucho espacio para toda la comida de mi hijo. Mantiene la comida fresca con una bolsa de hielo. Clip en la parte superior significa que es f\\u00e1cil de adjuntar a un cochecito o bolsa m\\u00e1s grande. Dise\\u00f1o divertido recibe cumplidos.\",\n          \"Compr\\u00f3 esto para mi hija, Esto hab\\u00eda hecho ser una madre a dos ni\\u00f1os peque\\u00f1os un poco m\\u00e1s f\\u00e1cil. Voy a comprar este art\\u00edculo de nuevo cuando mi hija en las leyes y mi otra hija tienen beb\\u00e9s\",\n          \"Compramos dos de estos, uno para la guarder\\u00eda y uno para la cocina. Se ajusta perfectamente a nuestras botellas anchas Dr. Browns. No es demasiado ruidoso. Parece calentar las botellas en una cantidad razonable de tiempo. No estoy seguro de lo que la gente que se queja del tiempo espera de un calentador de agua. \\u00a1No es un microondas!\"\n        ],\n        \"semantic_type\": \"\",\n        \"description\": \"\"\n      }\n    },\n    {\n      \"column\": \"Traducci\\u00f3n Gemini\",\n      \"properties\": {\n        \"dtype\": \"string\",\n        \"num_unique_values\": 10,\n        \"samples\": [\n          \"Gran bolso con mucho espacio para toda la comida de mi hijo. Mantiene la comida fr\\u00eda con una bolsa de hielo. El broche en la parte superior facilita su sujeci\\u00f3n a un cochecito o a una bolsa m\\u00e1s grande. El divertido dise\\u00f1o recibe cumplidos. \\n\",\n          \"Compr\\u00e9 esto para mi hija. Esto ha hecho que ser madre de dos ni\\u00f1os peque\\u00f1os sea un poco m\\u00e1s f\\u00e1cil. Volver\\u00e9 a comprar este art\\u00edculo cuando mis nueras y mi otra hija tengan beb\\u00e9s.\\n\",\n          \"Compramos dos de estos, uno para la habitaci\\u00f3n del beb\\u00e9 y otro para la cocina. Se ajusta perfectamente a nuestras botellas anchas Dr. Browns. No es demasiado ruidoso. Parece calentar las botellas en un tiempo razonable. No estoy seguro de lo que esperan las personas que se quejan del tiempo de un calentador de agua. \\u00a1No es un microondas! \\n\"\n        ],\n        \"semantic_type\": \"\",\n        \"description\": \"\"\n      }\n    }\n  ]\n}"
            }
          },
          "metadata": {},
          "execution_count": 101
        }
      ]
    },
    {
      "cell_type": "markdown",
      "source": [
        "# Pros y Contras del Modelo Transformer Preentrenado (como Helsinki NLP):\n",
        "\n",
        "## Pros:\n",
        "\n",
        "*   Especialización: Los modelos preentrenados como Helsinki NLP están especialmente afinados para tareas específicas como la traducción, lo que puede ofrecer mejores resultados en términos de precisión lingüística y coherencia.\n",
        "*   Eficiencia: Generalmente, son rápidos en la traducción una vez que están correctamente configurados y no requieren una configuración adicional compleja.\n",
        "*   Costo-Efectivo: Utilizar un modelo preentrenado puede ser más económico ya que no requiere el entrenamiento inicial que implica un alto consumo de recursos.\n",
        "\n",
        "## Contras:\n",
        "\n",
        "*   Flexibilidad Limitada: Estos modelos están limitados a su entrenamiento inicial y pueden no manejar bien contextos o terminologías muy específicas fuera de su \"conocimiento\" inicial.\n",
        "*   Dependencia de Datos de Entrenamiento: La calidad de la traducción depende enormemente de la calidad y la diversidad del dataset utilizado para el entrenamiento del modelo.\n",
        "\n",
        "# Pros y Contras del Modelo LLM (como Gemini de Google):\n",
        "\n",
        "## Pros:\n",
        "\n",
        "*   Versatilidad y Adaptabilidad: Los LLM son capaces de entender y generar lenguaje humano con un alto grado de sofisticación, pudiendo adaptarse a diversos contextos y estilos de texto.\n",
        "*   Actualización Continua: Estos modelos suelen estar en constante actualización y aprendizaje, mejorando su rendimiento con el tiempo y el uso.\n",
        "*   Integración de Contexto Amplio: Pueden manejar mejor las nuances y el contexto más amplio de los textos gracias a su arquitectura avanzada.\n",
        "\n",
        "## Contras:\n",
        "\n",
        "*   Costo y Recursos: Son significativamente más costosos de utilizar, ya que requieren más recursos computacionales, especialmente para entrenamiento y operación en tiempo real.\n",
        "*   Complejidad: Su implementación y mantenimiento pueden ser más complejos, requiriendo más conocimientos técnicos y gestión.\n",
        "\n",
        "# Conclusión\n",
        "\n",
        "Al comparar ambos modelos para la traducción de inglés a español, el modelo transformer preentrenado puede ser preferible para aplicaciones donde la eficiencia y el costo son críticos y donde los textos no requieren una adaptabilidad extrema. Por otro lado, un LLM como Gemini podría ser más adecuado para entornos donde la calidad de la traducción y la capacidad de adaptarse a diferentes estilos y contextos son más importantes, a pesar de su mayor costo y complejidad operativa.\n",
        "\n",
        "Cada modelo tiene sus ventajas y desventajas dependiendo de las necesidades específicas del proyecto y los recursos disponibles. La elección entre uno u otro dependerá de estos factores, así como de las prioridades del usuario o la organización."
      ],
      "metadata": {
        "id": "LdyW-pDMVj9-"
      }
    }
  ],
  "metadata": {
    "accelerator": "GPU",
    "colab": {
      "gpuType": "T4",
      "provenance": []
    },
    "kernelspec": {
      "display_name": "Python 3",
      "name": "python3"
    },
    "language_info": {
      "name": "python"
    }
  },
  "nbformat": 4,
  "nbformat_minor": 0
}