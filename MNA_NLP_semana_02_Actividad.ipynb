{
  "cells": [
    {
      "cell_type": "markdown",
      "metadata": {
        "id": "759SG4TyfbUn"
      },
      "source": [
        "#**Maestría en Inteligencia Artificial Aplicada**\n",
        "##**Curso: Procesamiento de Lenguaje Natural (NLP)**\n",
        "###Tecnológico de Monterrey\n",
        "###Prof Luis Eduardo Falcón Morales\n",
        "\n",
        "## **Adtividad de la Semana 02**\n",
        "###**Introducción al procesamiento de texto.**"
      ]
    },
    {
      "cell_type": "markdown",
      "metadata": {
        "id": "6ue1YAKx3XDo"
      },
      "source": [
        "En esta actividad deberás utilizar los datos del siguiente archivo que se encuentra en Canvas:\n",
        "\n",
        "MNA_NLP_semana_02_Actividad_datos.txt\n",
        "\n",
        "El archivo contiene comentarios en inglés sobre servicios de comida de la página de Yelp: https://www.yelp.com/ . \n",
        "\n",
        "Son mil comentarios y forman parte del conjunto de datos que se encuentra en el Machine Learning Repository de la UCI, llamado \"Sentiment Labelled Sentences\": https://archive.ics.uci.edu/ml/datasets/Sentiment+Labelled+Sentences#\n"
      ]
    },
    {
      "cell_type": "markdown",
      "metadata": {
        "id": "Zj-h4drXD-X9"
      },
      "source": [
        "#**Parte 1. Cargamos los datos.**   "
      ]
    },
    {
      "cell_type": "markdown",
      "metadata": {
        "id": "BY6yifxscfrx"
      },
      "source": [
        "Cargar los datos del archivo indicado y obtener una lista de longitud de 1000 strings/comentarios. \n",
        "\n",
        "Por el momento solamente requerimos las bibliotecas de Numpy y re, para el manejo de los arreglos y de las expresiones regulares en Python.\n",
        "\n",
        "En particular, no necesitarás en esta actividad la biblioteca de Pandas.\n",
        "\n",
        "###**NOTA: En esta actividad no debes importar nada más, con estas dos bibliotecas será *suficiente*.**"
      ]
    },
    {
      "cell_type": "code",
      "execution_count": 198,
      "metadata": {
        "id": "OJ26dAfhdFnf"
      },
      "outputs": [],
      "source": [
        "import numpy as np    # importamos Numpy para el manejo de los arreglos.\n",
        "import re             # importamos re para el manejo de las expresiones regulares."
      ]
    },
    {
      "cell_type": "code",
      "execution_count": 199,
      "metadata": {
        "id": "QHUmJyjDdGNP"
      },
      "outputs": [],
      "source": [
        "# Ejecuta las siguientes instrucciones para cargar la información del achivo dado:\n",
        "\n",
        "with open('MNA_NLP_semana_02_Actividad_datos.txt',        # puedes actualizar la ruta a tu archivo, en dado caso.\n",
        "          mode='r',     # abrimos el archivo en modo lectura.\n",
        "          encoding='utf-8',\n",
        "          ) as f:\n",
        "    docs = f.readlines()    # separamos cada comentario por líneas\n",
        "\n",
        "f.close()  # ya que tenemos la información en la variable docs, cerramos el archivo"
      ]
    },
    {
      "cell_type": "code",
      "execution_count": 200,
      "metadata": {
        "id": "L6WzrSrodG-Y"
      },
      "outputs": [
        {
          "data": {
            "text/plain": [
              "True"
            ]
          },
          "execution_count": 200,
          "metadata": {},
          "output_type": "execute_result"
        }
      ],
      "source": [
        "type(docs) == list   # Verifica que tu variable \"docs\" es una lista"
      ]
    },
    {
      "cell_type": "code",
      "execution_count": 201,
      "metadata": {
        "id": "QIK1u9WS2FtS"
      },
      "outputs": [
        {
          "data": {
            "text/plain": [
              "True"
            ]
          },
          "execution_count": 201,
          "metadata": {},
          "output_type": "execute_result"
        }
      ],
      "source": [
        "len(docs)==1000  # verifica que la longitud de \"docs\" es de mil comentarios."
      ]
    },
    {
      "cell_type": "code",
      "execution_count": 202,
      "metadata": {
        "id": "9AMLIfQvJqNZ"
      },
      "outputs": [
        {
          "data": {
            "text/plain": [
              "['Wow... Loved this place.\\n',\n",
              " 'Crust is not good.\\n',\n",
              " 'Not tasty and the texture was just nasty.\\n',\n",
              " 'Stopped by during the late May bank holiday off Rick Steve recommendation and loved it.\\n',\n",
              " 'The selection on the menu was great and so were the prices.\\n',\n",
              " 'Now I am getting angry and I want my damn pho.\\n',\n",
              " \"Honeslty it didn't taste THAT fresh.)\\n\",\n",
              " 'The potatoes were like rubber and you could tell they had been made up ahead of time being kept under a warmer.\\n',\n",
              " 'The fries were great too.\\n',\n",
              " 'A great touch.\\n']"
            ]
          },
          "execution_count": 202,
          "metadata": {},
          "output_type": "execute_result"
        }
      ],
      "source": [
        "docs[0:10]     # observa algunos de los primeros comentarios"
      ]
    },
    {
      "cell_type": "markdown",
      "metadata": {
        "id": "k_ewoagic5jc"
      },
      "source": [
        "#**Parte 2: sección de preguntas (regex).**   \n"
      ]
    },
    {
      "cell_type": "markdown",
      "metadata": {
        "id": "X-eMJa3DFCIV"
      },
      "source": [
        "##**Instrucciones:**\n",
        "\n",
        "###**A continuación deberás contestar cada una de las preguntas que te piden usando expresiones regulares (regex).**\n",
        "\n",
        "###**Por el momento no hay restricción en cuanto al número de líneas de código que agregues, pero trata de incluir las mínimas posibles.**"
      ]
    },
    {
      "cell_type": "markdown",
      "metadata": {
        "id": "78nJMemzn5a5"
      },
      "source": [
        "*   **Pregunta 1.** \n",
        "\n",
        "Busca y elimina todos los saltos de línea '\\n' que se encuentran al final de cada comentario. \n",
        "\n",
        "Una vez finalizado, imprime los primeros 10 comentarios del resultado obtenido.\n"
      ]
    },
    {
      "cell_type": "code",
      "execution_count": 203,
      "metadata": {
        "id": "PwbYYIuZn8pE"
      },
      "outputs": [
        {
          "data": {
            "text/plain": [
              "['Wow... Loved this place.',\n",
              " 'Crust is not good.',\n",
              " 'Not tasty and the texture was just nasty.',\n",
              " 'Stopped by during the late May bank holiday off Rick Steve recommendation and loved it.',\n",
              " 'The selection on the menu was great and so were the prices.',\n",
              " 'Now I am getting angry and I want my damn pho.',\n",
              " \"Honeslty it didn't taste THAT fresh.)\",\n",
              " 'The potatoes were like rubber and you could tell they had been made up ahead of time being kept under a warmer.',\n",
              " 'The fries were great too.',\n",
              " 'A great touch.']"
            ]
          },
          "execution_count": 203,
          "metadata": {},
          "output_type": "execute_result"
        }
      ],
      "source": [
        "no_saltos = docs\n",
        "no_saltos = [row.strip('\\n') for row in no_saltos]\n",
        "no_saltos[:10]"
      ]
    },
    {
      "cell_type": "markdown",
      "metadata": {},
      "source": [
        "strip elimina el caracter entre los parentesis"
      ]
    },
    {
      "cell_type": "markdown",
      "metadata": {
        "id": "VWeKQC93ctEo"
      },
      "source": [
        "*   **Pregunta 2.**  \n",
        "\n",
        "Busca e imprime todas las palabras que terminan con dos o más signos de admiración seguidos, por ejemplo \"!!!\". \n",
        "\n",
        "Debes imprimir tanto la palabra como la totalidad de signos de admiración que le siguen. \n",
        "\n",
        "Indica cuántos resultados obtuviste.\n",
        "\n"
      ]
    },
    {
      "cell_type": "code",
      "execution_count": 204,
      "metadata": {
        "id": "0p3kMXfddICc"
      },
      "outputs": [],
      "source": [
        "signos_adm = docs\n",
        "signos_adm= [re.findall(r'\\b\\w+!{2,}',row) for row in signos_adm]"
      ]
    },
    {
      "cell_type": "code",
      "execution_count": 205,
      "metadata": {},
      "outputs": [
        {
          "name": "stdout",
          "output_type": "stream",
          "text": [
            "La palabra ['Firehouse!!!!!'] tiene 5 de admiracion\n",
            "La palabra ['APPETIZERS!!!'] tiene 3 de admiracion\n",
            "La palabra ['amazing!!!'] tiene 3 de admiracion\n",
            "La palabra ['buffet!!!'] tiene 3 de admiracion\n",
            "La palabra ['good!!'] tiene 2 de admiracion\n",
            "La palabra ['it!!!!'] tiene 4 de admiracion\n",
            "La palabra ['DELICIOUS!!'] tiene 2 de admiracion\n",
            "La palabra ['amazing!!'] tiene 2 de admiracion\n",
            "La palabra ['shawarrrrrrma!!!!!!'] tiene 6 de admiracion\n",
            "La palabra ['yucky!!!'] tiene 3 de admiracion\n",
            "La palabra ['steak!!!!!'] tiene 5 de admiracion\n",
            "La palabra ['delicious!!!'] tiene 3 de admiracion\n",
            "La palabra ['far!!'] tiene 2 de admiracion\n",
            "La palabra ['biscuits!!!'] tiene 3 de admiracion\n",
            "La palabra ['dry!!'] tiene 2 de admiracion\n",
            "La palabra ['disappointing!!!'] tiene 3 de admiracion\n",
            "La palabra ['awesome!!'] tiene 2 de admiracion\n",
            "La palabra ['Up!!'] tiene 2 de admiracion\n",
            "La palabra ['FLY!!!!!!!!'] tiene 8 de admiracion\n",
            "La palabra ['here!!!'] tiene 3 de admiracion\n",
            "La palabra ['great!!!!!!!!!!!!!!'] tiene 14 de admiracion\n",
            "La palabra ['packed!!'] tiene 2 de admiracion\n",
            "La palabra ['otherwise!!'] tiene 2 de admiracion\n",
            "La palabra ['amazing!!!!!!!!!!!!!!!!!!!'] tiene 19 de admiracion\n",
            "La palabra ['style!!'] tiene 2 de admiracion\n",
            "La palabra ['disappointed!!'] tiene 2 de admiracion\n"
          ]
        }
      ],
      "source": [
        "cantidad_palabras=0\n",
        "for palabras in signos_adm:\n",
        "    if palabras:\n",
        "        for signos in palabras:\n",
        "            cantidad_signos = signos.count('!')\n",
        "            cantidad_palabras += 1\n",
        "            print('La palabra', palabras, 'tiene', cantidad_signos, 'de admiracion')"
      ]
    },
    {
      "cell_type": "markdown",
      "metadata": {},
      "source": [
        "buscar todas las palabras a partir de una nueva palabra (b) despues que busque caracteres y que contengan 2 o mas ! <br> \\b | Matches the boundary (or empty string) at the start and end of a word, that is,between \\w and \\W.<br> \\w | Matches alphanumeric characters, which means a-z, A-Z, and 0-9. It also matches the underscore, _."
      ]
    },
    {
      "cell_type": "code",
      "execution_count": 206,
      "metadata": {},
      "outputs": [
        {
          "name": "stdout",
          "output_type": "stream",
          "text": [
            "hay:  26  palabras con 2 o mas signos de admiracion \n"
          ]
        }
      ],
      "source": [
        "print(\"hay: \", cantidad_palabras, \" palabras con 2 o mas signos de admiracion \")"
      ]
    },
    {
      "cell_type": "markdown",
      "metadata": {
        "id": "SPVM1MCWdH6Z"
      },
      "source": [
        "*   **Pregunta 3.**  \n",
        "\n",
        "Busca e imprime todas las palabras que están escritas totalmente en mayúsculas. Cada coincidencia debe ser una sola palabra.\n",
        "\n",
        "Indica cuántas palabras encontraste.\n",
        "\n"
      ]
    },
    {
      "cell_type": "code",
      "execution_count": 207,
      "metadata": {
        "id": "yKHJkZKo_nW5"
      },
      "outputs": [],
      "source": [
        "busca_mayus = docs"
      ]
    },
    {
      "cell_type": "markdown",
      "metadata": {},
      "source": [
        "busque en cada nueva palabra (\\b) las mayusculas[A-Z] que no solo sean la primer letra {2,} del segundo caracter al final de la palabra \\b"
      ]
    },
    {
      "cell_type": "code",
      "execution_count": 208,
      "metadata": {
        "id": "L3q08aq69sNn"
      },
      "outputs": [
        {
          "name": "stdout",
          "output_type": "stream",
          "text": [
            "THAT\n",
            "APPETIZERS\n",
            "WILL\n",
            "NEVER\n",
            "EVER\n",
            "STEP\n",
            "FORWARD\n",
            "IN\n",
            "IT\n",
            "AGAIN\n",
            "LOVED\n",
            "AND\n",
            "REAL\n",
            "BITCHES\n",
            "NYC\n",
            "STALE\n",
            "DELICIOUS\n",
            "WORST\n",
            "EXPERIENCE\n",
            "EVER\n",
            "ALL\n",
            "BARGAIN\n",
            "TV\n",
            "NONE\n",
            "FREEZING\n",
            "AYCE\n",
            "FLAVOR\n",
            "NEVER\n",
            "BBQ\n",
            "UNREAL\n",
            "OMG\n",
            "BETTER\n",
            "BLAND\n",
            "RUDE\n",
            "INCONSIDERATE\n",
            "MANAGEMENT\n",
            "WILL\n",
            "NEVER\n",
            "EVER\n",
            "GO\n",
            "BACK\n",
            "AND\n",
            "HAVE\n",
            "TOLD\n",
            "MANY\n",
            "PEOPLE\n",
            "WHAT\n",
            "HAD\n",
            "HAPPENED\n",
            "TOTAL\n",
            "WASTE\n",
            "OF\n",
            "TIME\n",
            "FS\n",
            "AZ\n",
            "LOVED\n",
            "CONCLUSION\n",
            "BEST\n",
            "GO\n",
            "NOW\n",
            "GC\n",
            "AVOID\n",
            "THIS\n",
            "ESTABLISHMENT\n",
            "AN\n",
            "HOUR\n",
            "NASTY\n",
            "OMG\n",
            "NO\n",
            "BEST\n",
            "THE\n",
            "OWNERS\n",
            "REALLY\n",
            "REALLY\n",
            "PERFECT\n",
            "SCREAMS\n",
            "LEGIT\n",
            "MGM\n",
            "BEST\n",
            "FLY\n",
            "FLY\n",
            "FANTASTIC\n",
            "GREAT\n",
            "OK\n",
            "WAY\n",
            "MUST\n",
            "HAVE\n",
            "OK\n",
            "OVERPRICED\n",
            "BARE\n",
            "HANDS\n",
            "WEAK\n",
            "SHOULD\n",
            "RI\n",
            "VERY\n",
            "NOT\n",
            "total palabras en mayusculas:  96\n"
          ]
        }
      ],
      "source": [
        "contador_palabras_mayus =0\n",
        "mayusculas= [re.findall(r'\\b[A-Z]{2,}\\b',row) for row in busca_mayus]\n",
        "for row in mayusculas:\n",
        "    if row:\n",
        "        for palabras in row:\n",
        "            contador_palabras_mayus +=1\n",
        "            print(palabras)\n",
        "print(\"total palabras en mayusculas: \", contador_palabras_mayus)"
      ]
    },
    {
      "cell_type": "markdown",
      "metadata": {
        "id": "GX8eYyDoMZma"
      },
      "source": [
        "*   **Pregunta 4.**  \n",
        "\n",
        "Busca e imprime los comentarios en donde todos los caracteres alfabéticos (letras) están en mayúsculas. \n",
        "\n",
        "Cada coincidencia encontrada debe ser todo el comentario/enunciado.\n",
        "\n",
        "Indica cuántos resultados obtuviste.\n"
      ]
    },
    {
      "cell_type": "code",
      "execution_count": 209,
      "metadata": {
        "id": "K8VuZxvTMYj6"
      },
      "outputs": [],
      "source": [
        "busca_todas_mayus = docs\n",
        "#renglones_mayuscula = [re.findall(r'^[A-Z\\s&.!\\\"\\'\\[\\]{}()<>,;:]+$',row) for row in busca_todas_mayus]\n",
        "renglones_mayuscula = [re.findall(r'^[A-Z\\s&.!\\\"]+$', row) for row in busca_todas_mayus]"
      ]
    },
    {
      "cell_type": "markdown",
      "metadata": {},
      "source": [
        "busca los renglones en mayusculas\n",
        "^[A-Z mayusculas \\s espacios en blanco caracter & . ! y las comillas tienen \\ para que no sea operador\n",
        "\\s Cualquier generador de espacio(s) en blanco: espacio en blanco, salto de línea (\\n), tabulador (\\t), etc\n"
      ]
    },
    {
      "cell_type": "code",
      "execution_count": 210,
      "metadata": {},
      "outputs": [
        {
          "name": "stdout",
          "output_type": "stream",
          "text": [
            "['DELICIOUS!!\\n']\n",
            "['RUDE & INCONSIDERATE MANAGEMENT.\\n']\n",
            "['WILL NEVER EVER GO BACK AND HAVE TOLD MANY PEOPLE WHAT HAD HAPPENED.\\n']\n",
            "['TOTAL WASTE OF TIME.\\n']\n",
            "['AVOID THIS ESTABLISHMENT!\\n']\n",
            "Total de renglones en solo mayuscula:  5\n"
          ]
        }
      ],
      "source": [
        "contador_renglones=0\n",
        "for renglon in renglones_mayuscula:\n",
        "    if renglon:\n",
        "        contador_renglones +=1\n",
        "        print(renglon)\n",
        "print(\"Total de renglones en solo mayuscula: \",contador_renglones)\n"
      ]
    },
    {
      "cell_type": "markdown",
      "metadata": {
        "id": "a1i6qv7-McmU"
      },
      "source": [
        "*   **Pregunta 5.**  \n",
        "\n",
        "Busca e imprime todas las palabras que tengan una vocal acentuada, del tipo á, é, í, ó, ú. \n",
        "\n",
        "Indica cuántos resultados obtuviste."
      ]
    },
    {
      "cell_type": "code",
      "execution_count": 211,
      "metadata": {
        "id": "nZZ5zKUOMeGD"
      },
      "outputs": [
        {
          "data": {
            "text/plain": [
              "['I seriously cannot believe that the owner has so many unexperienced employees that all are running around like chickens with their heads cut off.\\n',\n",
              " '\"Very, very sad.\"\\n',\n",
              " '\"i felt insulted and disrespected, how could you talk and judge another human being like that?\"\\n',\n",
              " '\"How can you call yourself a steakhouse if you can\\'t properly cook a steak, I don\\'t understand!\"\\n',\n",
              " \"I'm not impressed with the concept or the food.\\n\",\n",
              " \"The only thing I wasn't too crazy about was their guacamole as I don't like it puréed.\\n\",\n",
              " '\"There is really nothing for me at postinos, hope your experience is better\"\\n',\n",
              " 'I got food poisoning here at the buffet.\\n',\n",
              " 'They brought a fresh batch of fries and I was thinking yay something warm but no!\\n',\n",
              " '\"What SHOULD have been a hilarious, yummy Christmas Eve dinner to remember was the biggest fail of the entire trip for us.\"\\n',\n",
              " '\"Needless to say, I won\\'t be going back anytime soon.\"\\n',\n",
              " 'This place is disgusting!\\n',\n",
              " '\"Every time I eat here, I see caring teamwork to a professional degree.\"\\n',\n",
              " 'The RI style calamari was a joke.\\n',\n",
              " '\"However, there was so much garlic in the fondue, it was barely edible.\"\\n']"
            ]
          },
          "execution_count": 211,
          "metadata": {},
          "output_type": "execute_result"
        }
      ],
      "source": [
        "lista_acentos = docs\n",
        "lista_acentos[910:925] \n"
      ]
    },
    {
      "cell_type": "code",
      "execution_count": 212,
      "metadata": {
        "id": "l1mFvUEZMe8s"
      },
      "outputs": [
        {
          "name": "stdout",
          "output_type": "stream",
          "text": [
            "é\n",
            "é\n",
            "é\n",
            "Total de palabras con caracteres acentuados encontradas: 3\n"
          ]
        }
      ],
      "source": [
        "contador_palabras = 0\n",
        "for texto in lista_acentos:\n",
        "    palabras_con_acentos = re.findall(r'[áéíóú]', texto)\n",
        "    for palabra in palabras_con_acentos:\n",
        "        contador_palabras += 1\n",
        "        print(palabra)\n",
        "\n",
        "print(\"Total de palabras con caracteres acentuados encontradas:\", contador_palabras)"
      ]
    },
    {
      "cell_type": "markdown",
      "metadata": {
        "id": "ZmPiAI82Mfb3"
      },
      "source": [
        "*   **Pregunta 6.**  \n",
        "\n",
        "Busca e imprime todas las cantidades numéricas monetarias, enteras o con decimales, que inician con el símbolo $\\$$. \n",
        "\n",
        "Indica cuántos resultados obtuviste."
      ]
    },
    {
      "cell_type": "code",
      "execution_count": 213,
      "metadata": {
        "id": "6vhe9-Y-MhL9"
      },
      "outputs": [],
      "source": [
        "lista_dinero = docs"
      ]
    },
    {
      "cell_type": "code",
      "execution_count": 214,
      "metadata": {
        "id": "_t0a5xWDMhQ5"
      },
      "outputs": [
        {
          "name": "stdout",
          "output_type": "stream",
          "text": [
            "$20,\n",
            "$4.00.\"\n",
            "\n",
            "$17\n",
            "$3\n",
            "$35\n",
            "$7.85\n",
            "$12,\n",
            "$11.99\n",
            "Total de cantidades numéricas monetarias encontradas: 8\n"
          ]
        }
      ],
      "source": [
        "contador_cantidades = 0\n",
        "for texto in lista_dinero:\n",
        "    cantidades_monetarias = re.findall(r'\\$[^ ]+', texto)\n",
        "    for cantidad in cantidades_monetarias:\n",
        "        contador_cantidades += 1\n",
        "        if cantidad:\n",
        "            print(cantidad)\n",
        "\n",
        "print(\"Total de cantidades numéricas monetarias encontradas:\", contador_cantidades)"
      ]
    },
    {
      "cell_type": "markdown",
      "metadata": {
        "id": "2j-HpvhwMhq2"
      },
      "source": [
        "*   **Pregunta 7.**  \n",
        "\n",
        "Busca e imprime todas las palabras que sean variantes de la palabra \"love\", sin importar si incluyen mayúsculas o minúsculas, o la manera en que esté conjugada o alguna otra variación que se haga con dicha palabra.\n",
        "\n",
        "Indica cuántos resultados obtuviste."
      ]
    },
    {
      "cell_type": "code",
      "execution_count": 215,
      "metadata": {
        "id": "kqqyRChVMjol"
      },
      "outputs": [],
      "source": [
        "love = docs"
      ]
    },
    {
      "cell_type": "code",
      "execution_count": 216,
      "metadata": {
        "id": "UXd0VQluMj_x"
      },
      "outputs": [
        {
          "name": "stdout",
          "output_type": "stream",
          "text": [
            "Loved\n",
            "loved\n",
            "Loved\n",
            "love\n",
            "loves\n",
            "LOVED\n",
            "lovers\n",
            "love\n",
            "lovers\n",
            "Love\n",
            "loved\n",
            "loved\n",
            "love\n",
            "love\n",
            "love\n",
            "loved\n",
            "love\n",
            "loved\n",
            "Love\n",
            "LOVED\n",
            "love\n",
            "lovely\n",
            "love\n",
            "lovely\n",
            "love\n",
            "lover\n",
            "loved\n",
            "love\n",
            "love\n",
            "love\n",
            "love\n",
            "love\n",
            "love\n",
            "love\n",
            "love\n",
            "Total de variantes de la palabra 'love' encontradas: 35\n"
          ]
        }
      ],
      "source": [
        "patron = re.compile(r'\\blove\\w*', re.IGNORECASE)\n",
        "contador_palabras = 0\n",
        "\n",
        "for texto in love:\n",
        "    palabras_variantes_love = patron.findall(texto)\n",
        "    for palabra in palabras_variantes_love:\n",
        "        contador_palabras += 1\n",
        "        print(palabra)\n",
        "print(\"Total de variantes de la palabra 'love' encontradas:\", contador_palabras)"
      ]
    },
    {
      "cell_type": "markdown",
      "metadata": {
        "id": "Ctb-NTY3MkYG"
      },
      "source": [
        "*   **Pregunta 8.**  \n",
        "\n",
        "Busca e imprime todas las palabras, variantes de \"so\" y \"good\", que tengan dos o más \"o\" en \"so\" y 3 o más \"o\" en good. \n",
        "\n",
        "Indica cuántas encontraste.\n"
      ]
    },
    {
      "cell_type": "code",
      "execution_count": 217,
      "metadata": {
        "id": "A8Nf3B_cMlqg"
      },
      "outputs": [],
      "source": [
        "os = docs\n",
        "#contador_so = re.findall(r'so{2,}d',os)\n",
        "#contador_good = re.findall(r'goo{2,}d',os)"
      ]
    },
    {
      "cell_type": "code",
      "execution_count": 218,
      "metadata": {
        "id": "svS4-vvPMl6f"
      },
      "outputs": [
        {
          "name": "stdout",
          "output_type": "stream",
          "text": [
            "Sooooo\n",
            "soooo\n",
            "soooooo\n",
            "soooo\n",
            "Total de palabras 'so' con más de 2 'o's: 4\n"
          ]
        }
      ],
      "source": [
        "contador_palabras = 0\n",
        "for texto in os:\n",
        "    palabras_so = re.findall(r'\\bso{2,}\\b', texto, re.IGNORECASE)\n",
        "    for palabra in palabras_so:\n",
        "        contador_palabras += 1\n",
        "        print(palabra)\n",
        "\n",
        "print(\"Total de palabras 'so' con más de 2 'o's:\", contador_palabras)"
      ]
    },
    {
      "cell_type": "code",
      "execution_count": 219,
      "metadata": {},
      "outputs": [
        {
          "name": "stdout",
          "output_type": "stream",
          "text": [
            "gooodd\n",
            "Total de palabras 'goo' con más de 3 'o's: 1\n"
          ]
        }
      ],
      "source": [
        "contador_palabras = 0\n",
        "for texto in os:\n",
        "    palabras_goo = re.findall(r'\\bgoo{2,}d\\w*\\b', texto, re.IGNORECASE)\n",
        "    for palabra in palabras_goo:\n",
        "        contador_palabras += 1\n",
        "        print(palabra)\n",
        "\n",
        "print(\"Total de palabras 'goo' con más de 3 'o's:\", contador_palabras)"
      ]
    },
    {
      "cell_type": "markdown",
      "metadata": {
        "id": "hkak1opjMmlk"
      },
      "source": [
        "*   **Pregunta 9.**  \n",
        "\n",
        "Busca e imprime todas las palabras que tengan una longitud mayor estrictamente a 10 caracteres alfabéticos.\n",
        "\n",
        "No se consideran los signos de puntuación o caracteres especiales en la longitud de estas cadenas, solo caracteres alfabéticos en mayúsculas o minúsculas.\n",
        "\n",
        "Indica la cantidad de palabras encontradas.\n"
      ]
    },
    {
      "cell_type": "code",
      "execution_count": 220,
      "metadata": {
        "id": "PYxdp3uhMoD0"
      },
      "outputs": [],
      "source": [
        "palabras_largas = docs"
      ]
    },
    {
      "cell_type": "code",
      "execution_count": 221,
      "metadata": {
        "id": "BR7e2F4FMof-"
      },
      "outputs": [
        {
          "name": "stdout",
          "output_type": "stream",
          "text": [
            "recommendation\n",
            "recommended\n",
            "overwhelmed\n",
            "inexpensive\n",
            "establishment\n",
            "imaginative\n",
            "opportunity\n",
            "experiencing\n",
            "underwhelming\n",
            "relationship\n",
            "unsatisfying\n",
            "disappointing\n",
            "outrageously\n",
            "disappointing\n",
            "expectations\n",
            "restaurants\n",
            "suggestions\n",
            "disappointed\n",
            "considering\n",
            "Unfortunately\n",
            "immediately\n",
            "ingredients\n",
            "accommodations\n",
            "maintaining\n",
            "Interesting\n",
            "disrespected\n",
            "accordingly\n",
            "unbelievable\n",
            "cheeseburger\n",
            "descriptions\n",
            "inexpensive\n",
            "disappointed\n",
            "Veggitarian\n",
            "outstanding\n",
            "recommendation\n",
            "disappointed\n",
            "disappointed\n",
            "neighborhood\n",
            "disappointed\n",
            "corporation\n",
            "considering\n",
            "exceptional\n",
            "shawarrrrrrma\n",
            "disappointed\n",
            "vinaigrette\n",
            "immediately\n",
            "unbelievably\n",
            "replenished\n",
            "disappointed\n",
            "enthusiastic\n",
            "Outstanding\n",
            "comfortable\n",
            "interesting\n",
            "INCONSIDERATE\n",
            "considering\n",
            "transcendant\n",
            "disappointment\n",
            "disappointed\n",
            "disappointed\n",
            "overwhelmed\n",
            "professional\n",
            "Furthermore\n",
            "combination\n",
            "connoisseur\n",
            "profiterole\n",
            "outstanding\n",
            "acknowledged\n",
            "ventilation\n",
            "beautifully\n",
            "establishment\n",
            "extraordinary\n",
            "disappointed\n",
            "cheesecurds\n",
            "disappointed\n",
            "interesting\n",
            "experienced\n",
            "opportunity\n",
            "disgraceful\n",
            "restaurants\n",
            "ESTABLISHMENT\n",
            "recommended\n",
            "disappointed\n",
            "recommended\n",
            "acknowledged\n",
            "presentation\n",
            "Philadelphia\n",
            "disappointed\n",
            "disappointing\n",
            "grandmother\n",
            "drastically\n",
            "informative\n",
            "Disappointed\n",
            "constructed\n",
            "comfortable\n",
            "Smashburger\n",
            "cheeseburger\n",
            "neighborhood\n",
            "disappointed\n",
            "hospitality\n",
            "recommending\n",
            "disappointed\n",
            "deliciously\n",
            "compliments\n",
            "recommendation\n",
            "establishment\n",
            "calligraphy\n",
            "traditional\n",
            "combination\n",
            "Unfortunately\n",
            "Wienerschnitzel\n",
            "unfortunately\n",
            "considering\n",
            "highlighted\n",
            "Mediterranean\n",
            "unprofessional\n",
            "anticipated\n",
            "disappointing\n",
            "unexperienced\n",
            "disrespected\n",
            "professional\n",
            "restaurants\n",
            "Disappointing\n",
            "WAAAAAAyyyyyyyyyy\n",
            "reservation\n",
            "imagination\n",
            "undercooked\n",
            "disappointed\n",
            "disappointment\n",
            "disappointment\n",
            "deuchebaggery\n",
            "disappointed\n",
            "disappointment\n",
            "immediately\n",
            "Unfortunately\n",
            "disapppointment\n",
            "circumstances\n",
            "undercooked\n",
            "caterpillar\n",
            "presentation\n",
            "disappointed\n",
            "underwhelming\n",
            "Total de palabras con más de 10 caracteres alfabéticos: 141\n"
          ]
        }
      ],
      "source": [
        "contador_palabras = 0\n",
        "for texto in os:\n",
        "    palabras_largas = re.findall(r'\\b[a-zA-Z]{11,}\\b', texto)\n",
        "    for palabra in palabras_largas:\n",
        "        contador_palabras += 1\n",
        "        print(palabra)\n",
        "\n",
        "print(\"Total de palabras con más de 10 caracteres alfabéticos:\", contador_palabras)"
      ]
    },
    {
      "cell_type": "markdown",
      "metadata": {
        "id": "ApjTNzSxMpDc"
      },
      "source": [
        "*   **Pregunta 10.**  \n",
        "\n",
        "Busca e imprime todas las palabras que inician con una letra mayúscula y terminan con una minúscula, pero que además no sea la primera palabra del comentario/string. \n",
        "\n",
        "Indica la cantidad de resultados obtenidos."
      ]
    },
    {
      "cell_type": "code",
      "execution_count": 222,
      "metadata": {
        "id": "Vb0ndRGAMqdL"
      },
      "outputs": [],
      "source": [
        "palabras_mayus = docs"
      ]
    },
    {
      "cell_type": "code",
      "execution_count": 223,
      "metadata": {
        "id": "dLPTRPnTMqqx"
      },
      "outputs": [
        {
          "name": "stdout",
          "output_type": "stream",
          "text": [
            "Loved\n",
            "May\n",
            "Rick\n",
            "Steve\n",
            "Cod\n",
            "Vegas\n",
            "Burrittos\n",
            "Blah\n",
            "Mexican\n",
            "Luke\n",
            "Our\n",
            "Greek\n",
            "Heart\n",
            "Attack\n",
            "Grill\n",
            "Vegas\n",
            "Dos\n",
            "Gringos\n",
            "Jeff\n",
            "Bad\n",
            "Customer\n",
            "Service\n",
            "Vegas\n",
            "Rice\n",
            "Company\n",
            "Hard\n",
            "Rock\n",
            "Casino\n",
            "Buffet\n",
            "Thai\n",
            "Not\n",
            "Vegas\n",
            "Lox\n",
            "Subway\n",
            "Subway\n",
            "Vegas\n",
            "Mandalay\n",
            "Bay\n",
            "Great\n",
            "Phoenix\n",
            "Vegas\n",
            "Khao\n",
            "Soi\n",
            "Valley\n",
            "Phoenix\n",
            "Magazine\n",
            "Pho\n",
            "Fridays\n",
            "Tasty\n",
            "Jamaican\n",
            "Bisque\n",
            "Bussell\n",
            "Sprouts\n",
            "Risotto\n",
            "Filet\n",
            "Otto\n",
            "Yeah\n",
            "Vegas\n",
            "Greek\n",
            "Veggitarian\n",
            "Madison\n",
            "Ironman\n",
            "Pho\n",
            "Burger\n",
            "Pizza\n",
            "Salads\n",
            "They\n",
            "Bachi\n",
            "Service\n",
            "English\n",
            "Pizza\n",
            "Hut\n",
            "Seat\n",
            "Gold\n",
            "Standard\n",
            "Thai\n",
            "Vegas\n",
            "Chipotle\n",
            "Baseball\n",
            "Gordon\n",
            "Ramsey\n",
            "Steak\n",
            "Vegas\n",
            "Outstanding\n",
            "Best\n",
            "Food\n",
            "Bisque\n",
            "Vegas\n",
            "Eggplant\n",
            "Green\n",
            "Bean\n",
            "Halibut\n",
            "Vegas\n",
            "Crystals\n",
            "Aria\n",
            "Bouchon\n",
            "San\n",
            "Francisco\n",
            "Bay\n",
            "Area\n",
            "Buldogis\n",
            "Gourmet\n",
            "Hot\n",
            "Dog\n",
            "Vegas\n",
            "Camelback\n",
            "Flower\n",
            "Shop\n",
            "Cartel\n",
            "Coffee\n",
            "Las\n",
            "Vegas\n",
            "Bunch\n",
            "Noca\n",
            "Vegas\n",
            "Sat\n",
            "Sun\n",
            "Perfect\n",
            "Are\n",
            "This\n",
            "Scottsdale\n",
            "Mary\n",
            "Caesar\n",
            "Macarons\n",
            "Experience\n",
            "Very\n",
            "Disappointed\n",
            "Big\n",
            "Bay\n",
            "Plater\n",
            "Italian\n",
            "Vegas\n",
            "Ganoush\n",
            "Nobu\n",
            "Smashburger\n",
            "Panna\n",
            "Cotta\n",
            "Breeze\n",
            "Mango\n",
            "Magic\n",
            "Pineapple\n",
            "Delight\n",
            "The\n",
            "Steak\n",
            "Valley\n",
            "Cibo\n",
            "Pros\n",
            "Large\n",
            "Nice\n",
            "Great\n",
            "The\n",
            "Elk\n",
            "Filet\n",
            "Dylan\n",
            "All\n",
            "Han\n",
            "Nan\n",
            "Chicken\n",
            "Bar\n",
            "Edinburgh\n",
            "Chinese\n",
            "Indian\n",
            "Prices\n",
            "Phoenix\n",
            "Hot\n",
            "Sour\n",
            "Egg\n",
            "Flower\n",
            "Soups\n",
            "Stars\n",
            "Sunday\n",
            "Pita\n",
            "Wienerschnitzel\n",
            "Maine\n",
            "Lobster\n",
            "Roll\n",
            "Maria\n",
            "Wife\n",
            "Everything\n",
            "Strip\n",
            "Gyros\n",
            "Chicken\n",
            "Salad\n",
            "Mellow\n",
            "Mushroom\n",
            "Thai\n",
            "Mmmm\n",
            "Buffet\n",
            "Bellagio\n",
            "Vegas\n",
            "Christmas\n",
            "Eve\n",
            "Denny\n",
            "Vegetarian\n",
            "Taco\n",
            "Heimer\n",
            "Long\n",
            "Bay\n",
            "Subway\n",
            "When\n",
            "Brushfire\n",
            "Ninja\n",
            "Sushi\n",
            "Total de palabras que cumplen con las condiciones: 203\n"
          ]
        }
      ],
      "source": [
        "contador_palabras = 0\n",
        "for texto in palabras_mayus:\n",
        "    palabras_especiales = re.findall(r'\\b[A-Z][a-z]+[a-z]\\b', texto)\n",
        "    for palabra in palabras_especiales[1:]:  # quitamos la primer palabra del renglon\n",
        "        contador_palabras += 1\n",
        "        print(palabra)\n",
        "\n",
        "print(\"Total de palabras que cumplen con las condiciones:\", contador_palabras)"
      ]
    },
    {
      "cell_type": "markdown",
      "metadata": {
        "id": "u7nfm4KhMrNW"
      },
      "source": [
        "*   **Pregunta 11.**  \n",
        "\n",
        "Busca e imprime la secuencia de dos o más palabras que están separadas por un guion, \"-\", sin que tengan espacios en blanco entre ellas.\n",
        "\n",
        "Por ejemplo \"Go-Kart\" sería válido, pero \"Go  -Kart\" o \"Go  -  Kart\" no lo serían. \n",
        "\n",
        "Indica la cantidad de resultados obtenidos."
      ]
    },
    {
      "cell_type": "code",
      "execution_count": 224,
      "metadata": {
        "id": "OwU-a7eGMsub"
      },
      "outputs": [],
      "source": [
        "guiones= docs"
      ]
    },
    {
      "cell_type": "code",
      "execution_count": 225,
      "metadata": {
        "id": "SgzIL74ZMtGw"
      },
      "outputs": [
        {
          "name": "stdout",
          "output_type": "stream",
          "text": [
            "flat-lined\n",
            "hands-down\n",
            "must-stop\n",
            "sub-par\n",
            "Service-check\n",
            "in-house\n",
            "been-stepped-in-and-tracked-everywhere\n",
            "multi-grain\n",
            "to-go\n",
            "non-customer\n",
            "High-quality\n",
            "sit-down\n",
            "over-whelm\n",
            "low-key\n",
            "non-fancy\n",
            "golden-crispy\n",
            "over-priced\n",
            "over-hip\n",
            "under-services\n",
            "Total de secuencias de palabras que cumplen con las condiciones: 19\n"
          ]
        }
      ],
      "source": [
        "contador_secuencias = 0\n",
        "for texto in guiones:\n",
        "    secuencias = re.findall(r'\\b\\w+-\\w+(?:-\\w+)*\\b', texto)\n",
        "    for secuencia in secuencias:\n",
        "        contador_secuencias += 1\n",
        "        print(secuencia)\n",
        "\n",
        "print(\"Total de secuencias de palabras que cumplen con las condiciones:\", contador_secuencias)\n"
      ]
    },
    {
      "cell_type": "markdown",
      "metadata": {
        "id": "DEIgl79HMthr"
      },
      "source": [
        "*   **Pregunta 12.**  \n",
        "\n",
        "Busca e imprime todas las palabras que terminan en \"ing\" o \"ed\". \n",
        "\n",
        "Indica la cantidad de palabras que encontraste de cada una."
      ]
    },
    {
      "cell_type": "code",
      "execution_count": 226,
      "metadata": {
        "id": "I4TSofBMMv9y"
      },
      "outputs": [],
      "source": [
        "verbos = docs"
      ]
    },
    {
      "cell_type": "code",
      "execution_count": 227,
      "metadata": {
        "id": "AhGq6De2Mvyh"
      },
      "outputs": [
        {
          "name": "stdout",
          "output_type": "stream",
          "text": [
            "during\n",
            "getting\n",
            "being\n",
            "being\n",
            "amazing\n",
            "running\n",
            "redeeming\n",
            "getting\n",
            "thing\n",
            "dressing\n",
            "refreshing\n",
            "running\n",
            "amazing\n",
            "nothing\n",
            "appalling\n",
            "wasting\n",
            "eating\n",
            "going\n",
            "Coming\n",
            "experiencing\n",
            "underwhelming\n",
            "eating\n",
            "raving\n",
            "spring\n",
            "unsatisfying\n",
            "amazing\n",
            "Everything\n",
            "disappointing\n",
            "dining\n",
            "flirting\n",
            "thing\n",
            "coming\n",
            "playing\n",
            "ordering\n",
            "arriving\n",
            "disappointing\n",
            "preparing\n",
            "loving\n",
            "liking\n",
            "reviewing\n",
            "venturing\n",
            "including\n",
            "during\n",
            "changing\n",
            "going\n",
            "considering\n",
            "coming\n",
            "going\n",
            "everything\n",
            "looking\n",
            "dressing\n",
            "dining\n",
            "Everything\n",
            "amazing\n",
            "judging\n",
            "maintaining\n",
            "asking\n",
            "having\n",
            "something\n",
            "lacking\n",
            "Interesting\n",
            "preparing\n",
            "missing\n",
            "feeling\n",
            "exceeding\n",
            "inviting\n",
            "climbing\n",
            "waiting\n",
            "coming\n",
            "being\n",
            "lacking\n",
            "going\n",
            "amazing\n",
            "dealing\n",
            "annoying\n",
            "falling\n",
            "sporting\n",
            "amazing\n",
            "providing\n",
            "building\n",
            "lighting\n",
            "going\n",
            "nothing\n",
            "working\n",
            "eating\n",
            "dressing\n",
            "being\n",
            "outstanding\n",
            "getting\n",
            "amazing\n",
            "rating\n",
            "eating\n",
            "writing\n",
            "everything\n",
            "dining\n",
            "boring\n",
            "charming\n",
            "going\n",
            "making\n",
            "pricing\n",
            "considering\n",
            "amazing\n",
            "Everything\n",
            "nothing\n",
            "nothing\n",
            "driving\n",
            "during\n",
            "evening\n",
            "Outstanding\n",
            "buying\n",
            "handling\n",
            "wasting\n",
            "craving\n",
            "dining\n",
            "interesting\n",
            "amazing\n",
            "being\n",
            "outshining\n",
            "starving\n",
            "coming\n",
            "considering\n",
            "shopping\n",
            "nothing\n",
            "getting\n",
            "trying\n",
            "eating\n",
            "going\n",
            "everything\n",
            "Nothing\n",
            "going\n",
            "outstanding\n",
            "running\n",
            "forgetting\n",
            "upgrading\n",
            "eating\n",
            "bring\n",
            "hoping\n",
            "living\n",
            "dining\n",
            "filling\n",
            "amazing\n",
            "Everything\n",
            "thing\n",
            "amazing\n",
            "Everything\n",
            "interesting\n",
            "amazing\n",
            "amazing\n",
            "waiting\n",
            "going\n",
            "going\n",
            "dining\n",
            "saving\n",
            "something\n",
            "trying\n",
            "disgusting\n",
            "hankering\n",
            "being\n",
            "being\n",
            "being\n",
            "setting\n",
            "sitting\n",
            "waiting\n",
            "satisfying\n",
            "eating\n",
            "being\n",
            "freaking\n",
            "getting\n",
            "amazing\n",
            "disappointing\n",
            "seasoning\n",
            "going\n",
            "being\n",
            "bring\n",
            "letting\n",
            "evening\n",
            "waiting\n",
            "being\n",
            "eating\n",
            "going\n",
            "seating\n",
            "playing\n",
            "amazing\n",
            "staying\n",
            "giving\n",
            "talking\n",
            "amazing\n",
            "amazing\n",
            "amazing\n",
            "amazing\n",
            "filling\n",
            "dripping\n",
            "going\n",
            "serving\n",
            "recommending\n",
            "thing\n",
            "reading\n",
            "seating\n",
            "going\n",
            "everything\n",
            "thing\n",
            "sitting\n",
            "waiting\n",
            "bring\n",
            "revisiting\n",
            "coming\n",
            "anything\n",
            "feeling\n",
            "during\n",
            "thing\n",
            "being\n",
            "amazing\n",
            "being\n",
            "amazing\n",
            "satifying\n",
            "describing\n",
            "coming\n",
            "everything\n",
            "Paying\n",
            "going\n",
            "thing\n",
            "amazing\n",
            "getting\n",
            "cramming\n",
            "considering\n",
            "fucking\n",
            "going\n",
            "appealing\n",
            "getting\n",
            "coming\n",
            "Everything\n",
            "dealing\n",
            "everything\n",
            "something\n",
            "during\n",
            "dining\n",
            "cooking\n",
            "dining\n",
            "editing\n",
            "setting\n",
            "amazing\n",
            "rotating\n",
            "Pricing\n",
            "satisfying\n",
            "disappointing\n",
            "amazing\n",
            "returning\n",
            "running\n",
            "being\n",
            "thing\n",
            "nothing\n",
            "poisoning\n",
            "thinking\n",
            "something\n",
            "going\n",
            "disgusting\n",
            "caring\n",
            "bring\n",
            "Disappointing\n",
            "saying\n",
            "going\n",
            "coming\n",
            "building\n",
            "seating\n",
            "dipping\n",
            "setting\n",
            "anything\n",
            "drinking\n",
            "serving\n",
            "doing\n",
            "putting\n",
            "getting\n",
            "looking\n",
            "coming\n",
            "staying\n",
            "lacking\n",
            "underwhelming\n",
            "drawing\n",
            "bring\n",
            "Total de palabras que terminan en 'ing': 279\n"
          ]
        }
      ],
      "source": [
        "contador_palabras = 0\n",
        "for texto in verbos:\n",
        "    palabras_terminadas_ing = re.findall(r'\\b\\w+(?:ing)\\b', texto)\n",
        "    for palabra in palabras_terminadas_ing:\n",
        "        contador_palabras += 1\n",
        "        print(palabra)\n",
        "\n",
        "print(\"Total de palabras que terminan en 'ing':\", contador_palabras)"
      ]
    },
    {
      "cell_type": "code",
      "execution_count": 228,
      "metadata": {},
      "outputs": [
        {
          "name": "stdout",
          "output_type": "stream",
          "text": [
            "palabras terminadas en ed:  335\n"
          ]
        }
      ],
      "source": [
        "contador_palabras = 0\n",
        "for texto in verbos:\n",
        "    palabras_terminadas_ed = re.findall(r'\\b\\w+(?:ed)\\b', texto)\n",
        "    for palabra in palabras_terminadas_ed:\n",
        "        contador_palabras += 1\n",
        "print(\"palabras terminadas en ed: \",contador_palabras)"
      ]
    },
    {
      "cell_type": "markdown",
      "metadata": {
        "id": "70StdqAZa9E9"
      },
      "source": [
        "#**Parte 3. Proceso de limpieza.**"
      ]
    },
    {
      "cell_type": "markdown",
      "metadata": {
        "id": "xaDUFXHrMvX2"
      },
      "source": [
        "*   **Pregunta 13.**  \n",
        "\n",
        "Ahora realiza un proceso de limpieza del corpus que incluya los siguientes procesos:\n",
        "\n",
        "*   Solo se deben considerar caracteres alfabéticos. Es decir, se eliminan todos los signos de puntuación y caracteres especiales.\n",
        "*   Todos los caracteres alfabéticos se transforman a minúsculas.\n",
        "*   Se deben eliminar todos los espacios en blanco adicionales que se puedan encontrar en cada comentario.\n",
        "\n",
        "Al finalizar dicho proceso de limpieza, imprime el resultado de los primeros 10 comentarios resultantes. \n",
        "   \n",
        "\n",
        "\n"
      ]
    },
    {
      "cell_type": "code",
      "execution_count": 229,
      "metadata": {
        "id": "K3kQzPOPMx0w"
      },
      "outputs": [],
      "source": [
        "docs_limpio = docs"
      ]
    },
    {
      "cell_type": "code",
      "execution_count": 230,
      "metadata": {
        "id": "mYEDlHSFMyJN"
      },
      "outputs": [],
      "source": [
        "\n",
        "docs_sin_esp = [re.sub(r'[^a-zA-Z\\s]',\"\", row) for row in docs_limpio]"
      ]
    },
    {
      "cell_type": "code",
      "execution_count": 231,
      "metadata": {},
      "outputs": [],
      "source": [
        "docs_sin_mayus = [palabra.lower() for palabra in docs_sin_esp]"
      ]
    },
    {
      "cell_type": "code",
      "execution_count": 232,
      "metadata": {},
      "outputs": [],
      "source": [
        "docs_limpio = [re.sub(r'\\s+', ' ', palabra) for palabra in docs_sin_mayus]\n"
      ]
    },
    {
      "cell_type": "code",
      "execution_count": 233,
      "metadata": {},
      "outputs": [
        {
          "data": {
            "text/plain": [
              "['wow loved this place ',\n",
              " 'crust is not good ',\n",
              " 'not tasty and the texture was just nasty ',\n",
              " 'stopped by during the late may bank holiday off rick steve recommendation and loved it ',\n",
              " 'the selection on the menu was great and so were the prices ',\n",
              " 'now i am getting angry and i want my damn pho ',\n",
              " 'honeslty it didnt taste that fresh ',\n",
              " 'the potatoes were like rubber and you could tell they had been made up ahead of time being kept under a warmer ',\n",
              " 'the fries were great too ',\n",
              " 'a great touch ']"
            ]
          },
          "execution_count": 233,
          "metadata": {},
          "output_type": "execute_result"
        }
      ],
      "source": [
        "docs_limpio[0:10]"
      ]
    },
    {
      "cell_type": "markdown",
      "metadata": {
        "id": "WZwEhg2lUSAX"
      },
      "source": [
        "*   **Pregunta 14.**  \n",
        "\n",
        "Con el resultado de la limpieza obtenido en la pregunta anterior, realiza ahora un proceso de tokenización por palabras del corpus. \n",
        "\n",
        "Es decir, al final de este proceso de tokenización, debes tener como resultado una lista de listas, donde cada comentario estará tokenizado por palabras.\n",
        "\n",
        "Al terminar calcula el total de tokens obtenido en todo el corpus. "
      ]
    },
    {
      "cell_type": "code",
      "execution_count": 234,
      "metadata": {
        "id": "kbAL9-v0V-jx"
      },
      "outputs": [
        {
          "name": "stdout",
          "output_type": "stream",
          "text": [
            "[['wow'], ['loved'], ['this'], ['place'], ['crust'], ['is'], ['not'], ['good'], ['not'], ['tasty'], ['and'], ['the'], ['texture'], ['was'], ['just'], ['nasty'], ['stopped'], ['by'], ['during'], ['the'], ['late'], ['may'], ['bank'], ['holiday'], ['off'], ['rick'], ['steve'], ['recommendation'], ['and'], ['loved'], ['it'], ['the'], ['selection'], ['on'], ['the'], ['menu'], ['was'], ['great'], ['and'], ['so'], ['were'], ['the'], ['prices'], ['now'], ['i'], ['am'], ['getting'], ['angry'], ['and'], ['i'], ['want'], ['my'], ['damn'], ['pho'], ['honeslty'], ['it'], ['didnt'], ['taste'], ['that'], ['fresh'], ['the'], ['potatoes'], ['were'], ['like'], ['rubber'], ['and'], ['you'], ['could'], ['tell'], ['they'], ['had'], ['been'], ['made'], ['up'], ['ahead'], ['of'], ['time'], ['being'], ['kept'], ['under'], ['a'], ['warmer'], ['the'], ['fries'], ['were'], ['great'], ['too'], ['a'], ['great'], ['touch'], ['service'], ['was'], ['very'], ['prompt'], ['would'], ['not'], ['go'], ['back'], ['the'], ['cashier'], ['had'], ['no'], ['care'], ['what'], ['so'], ['ever'], ['on'], ['what'], ['i'], ['had'], ['to'], ['say'], ['it'], ['still'], ['ended'], ['up'], ['being'], ['wayyy'], ['overpriced'], ['i'], ['tried'], ['the'], ['cape'], ['cod'], ['ravoli'], ['chickenwith'], ['cranberrymmmm'], ['i'], ['was'], ['disgusted'], ['because'], ['i'], ['was'], ['pretty'], ['sure'], ['that'], ['was'], ['human'], ['hair'], ['i'], ['was'], ['shocked'], ['because'], ['no'], ['signs'], ['indicate'], ['cash'], ['only'], ['highly'], ['recommended'], ['waitress'], ['was'], ['a'], ['little'], ['slow'], ['in'], ['service'], ['this'], ['place'], ['is'], ['not'], ['worth'], ['your'], ['time'], ['let'], ['alone'], ['vegas'], ['did'], ['not'], ['like'], ['at'], ['all'], ['the'], ['burrittos'], ['blah'], ['the'], ['food'], ['amazing'], ['service'], ['is'], ['also'], ['cute'], ['i'], ['could'], ['care'], ['less'], ['the'], ['interior'], ['is'], ['just'], ['beautiful'], ['so'], ['they'], ['performed'], ['thats'], ['rightthe'], ['red'], ['velvet'], ['cakeohhh'], ['this'], ['stuff'], ['is'], ['so'], ['good'], ['they'], ['never'], ['brought'], ['a'], ['salad'], ['we'], ['asked'], ['for'], ['this'], ['hole'], ['in'], ['the'], ['wall'], ['has'], ['great'], ['mexican'], ['street'], ['tacos'], ['and'], ['friendly'], ['staff'], ['took'], ['an'], ['hour'], ['to'], ['get'], ['our'], ['food'], ['only'], ['tables'], ['in'], ['restaurant'], ['my'], ['food'], ['was'], ['luke'], ['warm'], ['our'], ['sever'], ['was'], ['running'], ['around'], ['like'], ['he'], ['was'], ['totally'], ['overwhelmed'], ['the'], ['worst'], ['was'], ['the'], ['salmon'], ['sashimi'], ['also'], ['there'], ['are'], ['combos'], ['like'], ['a'], ['burger'], ['fries'], ['and'], ['beer'], ['for'], ['which'], ['is'], ['a'], ['decent'], ['deal'], ['this'], ['was'], ['like'], ['the'], ['final'], ['blow'], ['i'], ['found'], ['this'], ['place'], ['by'], ['accident'], ['and'], ['i'], ['could'], ['not'], ['be'], ['happier'], ['seems'], ['like'], ['a'], ['good'], ['quick'], ['place'], ['to'], ['grab'], ['a'], ['bite'], ['of'], ['some'], ['familiar'], ['pub'], ['food'], ['but'], ['do'], ['yourself'], ['a'], ['favor'], ['and'], ['look'], ['elsewhere'], ['overall'], ['i'], ['like'], ['this'], ['place'], ['a'], ['lot'], ['the'], ['only'], ['redeeming'], ['quality'], ['of'], ['the'], ['restaurant'], ['was'], ['that'], ['it'], ['was'], ['very'], ['inexpensive'], ['ample'], ['portions'], ['and'], ['good'], ['prices'], ['poor'], ['service'], ['the'], ['waiter'], ['made'], ['me'], ['feel'], ['like'], ['i'], ['was'], ['stupid'], ['every'], ['time'], ['he'], ['came'], ['to'], ['the'], ['table'], ['my'], ['first'], ['visit'], ['to'], ['hiro'], ['was'], ['a'], ['delight'], ['service'], ['sucks'], ['the'], ['shrimp'], ['tender'], ['and'], ['moist'], ['there'], ['is'], ['not'], ['a'], ['deal'], ['good'], ['enough'], ['that'], ['would'], ['drag'], ['me'], ['into'], ['that'], ['establishment'], ['again'], ['hard'], ['to'], ['judge'], ['whether'], ['these'], ['sides'], ['were'], ['good'], ['because'], ['we'], ['were'], ['grossed'], ['out'], ['by'], ['the'], ['melted'], ['styrofoam'], ['and'], ['didnt'], ['want'], ['to'], ['eat'], ['it'], ['for'], ['fear'], ['of'], ['getting'], ['sick'], ['on'], ['a'], ['positive'], ['note'], ['our'], ['server'], ['was'], ['very'], ['attentive'], ['and'], ['provided'], ['great'], ['service'], ['frozen'], ['pucks'], ['of'], ['disgust'], ['with'], ['some'], ['of'], ['the'], ['worst'], ['people'], ['behind'], ['the'], ['register'], ['the'], ['only'], ['thing'], ['i'], ['did'], ['like'], ['was'], ['the'], ['prime'], ['rib'], ['and'], ['dessert'], ['section'], ['its'], ['too'], ['bad'], ['the'], ['food'], ['is'], ['so'], ['damn'], ['generic'], ['the'], ['burger'], ['is'], ['good'], ['beef'], ['cooked'], ['just'], ['right'], ['if'], ['you'], ['want'], ['a'], ['sandwich'], ['just'], ['go'], ['to'], ['any'], ['firehouse'], ['my'], ['side'], ['greek'], ['salad'], ['with'], ['the'], ['greek'], ['dressing'], ['was'], ['so'], ['tasty'], ['and'], ['the'], ['pita'], ['and'], ['hummus'], ['was'], ['very'], ['refreshing'], ['we'], ['ordered'], ['the'], ['duck'], ['rare'], ['and'], ['it'], ['was'], ['pink'], ['and'], ['tender'], ['on'], ['the'], ['inside'], ['with'], ['a'], ['nice'], ['char'], ['on'], ['the'], ['outside'], ['he'], ['came'], ['running'], ['after'], ['us'], ['when'], ['he'], ['realized'], ['my'], ['husband'], ['had'], ['left'], ['his'], ['sunglasses'], ['on'], ['the'], ['table'], ['their'], ['chow'], ['mein'], ['is'], ['so'], ['good'], ['they'], ['have'], ['horrible'], ['attitudes'], ['towards'], ['customers'], ['and'], ['talk'], ['down'], ['to'], ['each'], ['one'], ['when'], ['customers'], ['dont'], ['enjoy'], ['their'], ['food'], ['the'], ['portion'], ['was'], ['huge'], ['loved'], ['itfriendly'], ['servers'], ['great'], ['food'], ['wonderful'], ['and'], ['imaginative'], ['menu'], ['the'], ['heart'], ['attack'], ['grill'], ['in'], ['downtown'], ['vegas'], ['is'], ['an'], ['absolutely'], ['flatlined'], ['excuse'], ['for'], ['a'], ['restaurant'], ['not'], ['much'], ['seafood'], ['and'], ['like'], ['strings'], ['of'], ['pasta'], ['at'], ['the'], ['bottom'], ['the'], ['salad'], ['had'], ['just'], ['the'], ['right'], ['amount'], ['of'], ['sauce'], ['to'], ['not'], ['over'], ['power'], ['the'], ['scallop'], ['which'], ['was'], ['perfectly'], ['cooked'], ['the'], ['ripped'], ['banana'], ['was'], ['not'], ['only'], ['ripped'], ['but'], ['petrified'], ['and'], ['tasteless'], ['at'], ['least'], ['think'], ['to'], ['refill'], ['my'], ['water'], ['before'], ['i'], ['struggle'], ['to'], ['wave'], ['you'], ['over'], ['for'], ['minutes'], ['this'], ['place'], ['receives'], ['stars'], ['for'], ['their'], ['appetizers'], ['the'], ['cocktails'], ['are'], ['all'], ['handmade'], ['and'], ['delicious'], ['wed'], ['definitely'], ['go'], ['back'], ['here'], ['again'], ['we'], ['are'], ['so'], ['glad'], ['we'], ['found'], ['this'], ['place'], ['great'], ['food'], ['and'], ['service'], ['huge'], ['portions'], ['and'], ['they'], ['give'], ['a'], ['military'], ['discount'], ['always'], ['a'], ['great'], ['time'], ['at'], ['dos'], ['gringos'], ['updatewent'], ['back'], ['for'], ['a'], ['second'], ['time'], ['and'], ['it'], ['was'], ['still'], ['just'], ['as'], ['amazing'], ['we'], ['got'], ['the'], ['food'], ['and'], ['apparently'], ['they'], ['have'], ['never'], ['heard'], ['of'], ['salt'], ['and'], ['the'], ['batter'], ['on'], ['the'], ['fish'], ['was'], ['chewy'], ['a'], ['great'], ['way'], ['to'], ['finish'], ['a'], ['great'], ['the'], ['deal'], ['included'], ['tastings'], ['and'], ['drinks'], ['and'], ['jeff'], ['went'], ['above'], ['and'], ['beyond'], ['what'], ['we'], ['expected'], ['really'], ['really'], ['good'], ['rice'], ['all'], ['the'], ['time'], ['the'], ['service'], ['was'], ['meh'], ['it'], ['took'], ['over'], ['min'], ['to'], ['get'], ['their'], ['milkshake'], ['which'], ['was'], ['nothing'], ['more'], ['than'], ['chocolate'], ['milk'], ['i'], ['guess'], ['i'], ['should'], ['have'], ['known'], ['that'], ['this'], ['place'], ['would'], ['suck'], ['because'], ['it'], ['is'], ['inside'], ['of'], ['the'], ['excalibur'], ['but'], ['i'], ['didnt'], ['use'], ['my'], ['common'], ['sense'], ['the'], ['scallop'], ['dish'], ['is'], ['quite'], ['appalling'], ['for'], ['value'], ['as'], ['well'], ['times'], ['very'], ['bad'], ['customer'], ['service'], ['the'], ['sweet'], ['potato'], ['fries'], ['were'], ['very'], ['good'], ['and'], ['seasoned'], ['well'], ['today'], ['is'], ['the'], ['second'], ['time'], ['ive'], ['been'], ['to'], ['their'], ['lunch'], ['buffet'], ['and'], ['it'], ['was'], ['pretty'], ['good'], ['there'], ['is'], ['so'], ['much'], ['good'], ['food'], ['in'], ['vegas'], ['that'], ['i'], ['feel'], ['cheated'], ['for'], ['wasting'], ['an'], ['eating'], ['opportunity'], ['by'], ['going'], ['to'], ['rice'], ['and'], ['company'], ['coming'], ['here'], ['is'], ['like'], ['experiencing'], ['an'], ['underwhelming'], ['relationship'], ['where'], ['both'], ['parties'], ['cant'], ['wait'], ['for'], ['the'], ['other'], ['person'], ['to'], ['ask'], ['to'], ['break'], ['up'], ['walked'], ['in'], ['and'], ['the'], ['place'], ['smelled'], ['like'], ['an'], ['old'], ['grease'], ['trap'], ['and'], ['only'], ['others'], ['there'], ['eating'], ['the'], ['turkey'], ['and'], ['roast'], ['beef'], ['were'], ['bland'], ['this'], ['place'], ['has'], ['it'], ['the'], ['pan'], ['cakes'], ['everyone'], ['are'], ['raving'], ['about'], ['taste'], ['like'], ['a'], ['sugary'], ['disaster'], ['tailored'], ['to'], ['the'], ['palate'], ['of'], ['a'], ['six'], ['year'], ['old'], ['i'], ['love'], ['the'], ['pho'], ['and'], ['the'], ['spring'], ['rolls'], ['oh'], ['so'], ['yummy'], ['you'], ['have'], ['to'], ['try'], ['the'], ['poor'], ['batter'], ['to'], ['meat'], ['ratio'], ['made'], ['the'], ['chicken'], ['tenders'], ['very'], ['unsatisfying'], ['all'], ['i'], ['have'], ['to'], ['say'], ['is'], ['the'], ['food'], ['was'], ['amazing'], ['omelets'], ['are'], ['to'], ['die'], ['for'], ['everything'], ['was'], ['fresh'], ['and'], ['delicious'], ['in'], ['summary'], ['this'], ['was'], ['a'], ['largely'], ['disappointing'], ['dining'], ['experience'], ['its'], ['like'], ['a'], ['really'], ['sexy'], ['party'], ['in'], ['your'], ['mouth'], ['where'], ['youre'], ['outrageously'], ['flirting'], ['with'], ['the'], ['hottest'], ['person'], ['at'], ['the'], ['party'], ['never'], ['been'], ['to'], ['hard'], ['rock'], ['casino'], ['before'], ['will'], ['never'], ['ever'], ['step'], ['forward'], ['in'], ['it'], ['again'], ['best'], ['breakfast'], ['buffet'], ['say'], ['bye'], ['bye'], ['to'], ['your'], ['tip'], ['lady'], ['well'], ['never'], ['go'], ['again'], ['will'], ['be'], ['back'], ['again'], ['food'], ['arrived'], ['quickly'], ['it'], ['was'], ['not'], ['good'], ['on'], ['the'], ['up'], ['side'], ['their'], ['cafe'], ['serves'], ['really'], ['good'], ['food'], ['our'], ['server'], ['was'], ['fantastic'], ['and'], ['when'], ['he'], ['found'], ['out'], ['the'], ['wife'], ['loves'], ['roasted'], ['garlic'], ['and'], ['bone'], ['marrow'], ['he'], ['added'], ['extra'], ['to'], ['our'], ['meal'], ['and'], ['another'], ['marrow'], ['to'], ['go'], ['the'], ['only'], ['good'], ['thing'], ['was'], ['our'], ['waiter'], ['he'], ['was'], ['very'], ['helpful'], ['and'], ['kept'], ['the'], ['bloddy'], ['marys'], ['coming'], ['best'], ['buffet'], ['in'], ['town'], ['for'], ['the'], ['price'], ['you'], ['cannot'], ['beat'], ['it'], ['i'], ['loved'], ['their'], ['mussels'], ['cooked'], ['in'], ['this'], ['wine'], ['reduction'], ['the'], ['duck'], ['was'], ['tender'], ['and'], ['their'], ['potato'], ['dishes'], ['were'], ['delicious'], ['this'], ['is'], ['one'], ['of'], ['the'], ['better'], ['buffets'], ['that'], ['i'], ['have'], ['been'], ['to'], ['so'], ['we'], ['went'], ['to'], ['tigerlilly'], ['and'], ['had'], ['a'], ['fantastic'], ['afternoon'], ['the'], ['food'], ['was'], ['delicious'], ['our'], ['bartender'], ['was'], ['attentive'], ['and'], ['personable'], ['and'], ['we'], ['got'], ['a'], ['great'], ['deal'], ['the'], ['ambience'], ['is'], ['wonderful'], ['and'], ['there'], ['is'], ['music'], ['playing'], ['will'], ['go'], ['back'], ['next'], ['trip'], ['out'], ['sooooo'], ['good'], ['real'], ['sushi'], ['lovers'], ['lets'], ['be'], ['honest'], ['yama'], ['is'], ['not'], ['that'], ['good'], ['at'], ['least'], ['min'], ['passed'], ['in'], ['between'], ['us'], ['ordering'], ['and'], ['the'], ['food'], ['arriving'], ['and'], ['it'], ['wasnt'], ['that'], ['busy'], ['this'], ['is'], ['a'], ['really'], ['fantastic'], ['thai'], ['restaurant'], ['which'], ['is'], ['definitely'], ['worth'], ['a'], ['visit'], ['nice'], ['spicy'], ['and'], ['tender'], ['good'], ['prices'], ['check'], ['it'], ['out'], ['it'], ['was'], ['pretty'], ['gross'], ['ive'], ['had'], ['better'], ['atmosphere'], ['kind'], ['of'], ['hard'], ['to'], ['mess'], ['up'], ['a'], ['steak'], ['but'], ['they'], ['did'], ['although'], ['i'], ['very'], ['much'], ['liked'], ['the'], ['look'], ['and'], ['sound'], ['of'], ['this'], ['place'], ['the'], ['actual'], ['experience'], ['was'], ['a'], ['bit'], ['disappointing'], ['i'], ['just'], ['dont'], ['know'], ['how'], ['this'], ['place'], ['managed'], ['to'], ['served'], ['the'], ['blandest'], ['food'], ['i'], ['have'], ['ever'], ['eaten'], ['when'], ['they'], ['are'], ['preparing'], ['indian'], ['cuisine'], ['worst'], ['service'], ['to'], ['boot'], ['but'], ['that'], ['is'], ['the'], ['least'], ['of'], ['their'], ['worries'], ['service'], ['was'], ['fine'], ['and'], ['the'], ['waitress'], ['was'], ['friendly'], ['the'], ['guys'], ['all'], ['had'], ['steaks'], ['and'], ['our'], ['steak'], ['loving'], ['son'], ['who'], ['has'], ['had'], ['steak'], ['at'], ['the'], ['best'], ['and'], ['worst'], ['places'], ['said'], ['it'], ['was'], ['the'], ['best'], ['steak'], ['hes'], ['ever'], ['eaten'], ['we'], ['thought'], ['youd'], ['have'], ['to'], ['venture'], ['further'], ['away'], ['to'], ['get'], ['good'], ['sushi'], ['but'], ['this'], ['place'], ['really'], ['hit'], ['the'], ['spot'], ['that'], ['night'], ['host'], ['staff'], ['were'], ['for'], ['lack'], ['of'], ['a'], ['better'], ['word'], ['bitches'], ['bland'], ['not'], ['a'], ['liking'], ['this'], ['place'], ['for'], ['a'], ['number'], ['of'], ['reasons'], ['and'], ['i'], ['dont'], ['want'], ['to'], ['waste'], ['time'], ['on'], ['bad'], ['reviewing'], ['ill'], ['leave'], ['it'], ['at'], ['that'], ['phenomenal'], ['food'], ['service'], ['and'], ['ambiance'], ['i'], ['wouldnt'], ['return'], ['definitely'], ['worth'], ['venturing'], ['off'], ['the'], ['strip'], ['for'], ['the'], ['pork'], ['belly'], ['will'], ['return'], ['next'], ['time'], ['im'], ['in'], ['vegas'], ['this'], ['place'], ['is'], ['way'], ['too'], ['overpriced'], ['for'], ['mediocre'], ['food'], ['penne'], ['vodka'], ['excellent'], ['they'], ['have'], ['a'], ['good'], ['selection'], ['of'], ['food'], ['including'], ['a'], ['massive'], ['meatloaf'], ['sandwich'], ['a'], ['crispy'], ['chicken'], ['wrap'], ['a'], ['delish'], ['tuna'], ['melt'], ['and'], ['some'], ['tasty'], ['burgers'], ['the'], ['management'], ['is'], ['rude'], ['delicious'], ['nyc'], ['bagels'], ['good'], ['selections'], ['of'], ['cream'], ['cheese'], ['real'], ['lox'], ['with'], ['capers'], ['even'], ['great'], ['subway'], ['in'], ['fact'], ['its'], ['so'], ['good'], ['when'], ['you'], ['come'], ['here'], ['every'], ['other'], ['subway'], ['will'], ['not'], ['meet'], ['your'], ['expectations'], ['i'], ['had'], ['a'], ['seriously'], ['solid'], ['breakfast'], ['here'], ['this'], ['is'], ['one'], ['of'], ['the'], ['best'], ['bars'], ['with'], ['food'], ['in'], ['vegas'], ['he'], ['was'], ['extremely'], ['rude'], ['and'], ['really'], ['there'], ['are'], ['so'], ['many'], ['other'], ['restaurants'], ['i'], ['would'], ['love'], ['to'], ['dine'], ['at'], ['during'], ['a'], ['weekend'], ['in'], ['vegas'], ['my'], ['drink'], ['was'], ['never'], ['empty'], ['and'], ['he'], ['made'], ['some'], ['really'], ['great'], ['menu'], ['suggestions'], ['dont'], ['do'], ['it'], ['the'], ['waiter'], ['wasnt'], ['helpful'], ['or'], ['friendly'], ['and'], ['rarely'], ['checked'], ['on'], ['us'], ['my'], ['husband'], ['and'], ['i'], ['ate'], ['lunch'], ['here'], ['and'], ['were'], ['very'], ['disappointed'], ['with'], ['the'], ['food'], ['and'], ['service'], ['and'], ['the'], ['red'], ['curry'], ['had'], ['so'], ['much'], ['bamboo'], ['shoots'], ['and'], ['wasnt'], ['very'], ['tasty'], ['to'], ['me'], ['nice'], ['blanket'], ['of'], ['moz'], ['over'], ['top'], ['but'], ['i'], ['feel'], ['like'], ['this'], ['was'], ['done'], ['to'], ['cover'], ['up'], ['the'], ['subpar'], ['food'], ['the'], ['bathrooms'], ['are'], ['clean'], ['and'], ['the'], ['place'], ['itself'], ['is'], ['well'], ['decorated'], ['the'], ['menu'], ['is'], ['always'], ['changing'], ['food'], ['quality'], ['is'], ['going'], ['down'], ['service'], ['is'], ['extremely'], ['slow'], ['the'], ['service'], ['was'], ['a'], ['little'], ['slow'], ['considering'], ['that'], ['were'], ['served'], ['by'], ['people'], ['servers'], ['so'], ['the'], ['food'], ['was'], ['coming'], ['in'], ['a'], ['slow'], ['pace'], ['i'], ['give'], ['it'], ['thumbs'], ['down'], ['we'], ['watched'], ['our'], ['waiter'], ['pay'], ['a'], ['lot'], ['more'], ['attention'], ['to'], ['other'], ['tables'], ['and'], ['ignore'], ['us'], ['my'], ['fianc'], ['and'], ['i'], ['came'], ['in'], ['the'], ['middle'], ['of'], ['the'], ['day'], ['and'], ['we'], ['were'], ['greeted'], ['and'], ['seated'], ['right'], ['away'], ['this'], ['is'], ['a'], ['great'], ['restaurant'], ['at'], ['the'], ['mandalay'], ['bay'], ['we'], ['waited'], ['for'], ['forty'], ['five'], ['minutes'], ['in'], ['vain'], ['crostini'], ['that'], ['came'], ['with'], ['the'], ['salad'], ['was'], ['stale'], ['some'], ['highlights'], ['great'], ['quality'], ['nigiri'], ['here'], ['the'], ['staff'], ['is'], ['friendly'], ['and'], ['the'], ['joint'], ['is'], ['always'], ['clean'], ['this'], ['was'], ['a'], ['different'], ['cut'], ['than'], ['the'], ['piece'], ['the'], ['other'], ['day'], ['but'], ['still'], ['wonderful'], ['and'], ['tender'], ['s'], ['well'], ['as'], ['well'], ['flavored'], ['i'], ['ordered'], ['the'], ['voodoo'], ['pasta'], ['and'], ['it'], ['was'], ['the'], ['first'], ['time'], ['id'], ['had'], ['really'], ['excellent'], ['pasta'], ['since'], ['going'], ['gluten'], ['free'], ['several'], ['years'], ['ago'], ['this'], ['place'], ['is'], ['good'], ['unfortunately'], ['we'], ['must'], ['have'], ['hit'], ['the'], ['bakery'], ['on'], ['leftover'], ['day'], ['because'], ['everything'], ['we'], ['ordered'], ['was'], ['stale'], ['i'], ['came'], ['back'], ['today'], ['since'], ['they'], ['relocated'], ['and'], ['still'], ['not'], ['impressed'], ['i'], ['was'], ['seated'], ['immediately'], ['their'], ['menu'], ['is'], ['diverse'], ['and'], ['reasonably'], ['priced'], ['avoid'], ['at'], ['all'], ['cost'], ['restaurant'], ['is'], ['always'], ['full'], ['but'], ['never'], ['a'], ['wait'], ['delicious'], ['this'], ['place'], ['is'], ['handsdown'], ['one'], ['of'], ['the'], ['best'], ['places'], ['to'], ['eat'], ['in'], ['the'], ['phoenix'], ['metro'], ['area'], ['so'], ['dont'], ['go'], ['there'], ['if'], ['you'], ['are'], ['looking'], ['for'], ['good'], ['food'], ['ive'], ['never'], ['been'], ['treated'], ['so'], ['bad'], ['bacon'], ['is'], ['hella'], ['salty'], ['we'], ['also'], ['ordered'], ['the'], ['spinach'], ['and'], ['avocado'], ['salad'], ['the'], ['ingredients'], ['were'], ['sad'], ['and'], ['the'], ['dressing'], ['literally'], ['had'], ['zero'], ['taste'], ['this'], ['really'], ['is'], ['how'], ['vegas'], ['fine'], ['dining'], ['used'], ['to'], ['be'], ['right'], ['down'], ['to'], ['the'], ['menus'], ['handed'], ['to'], ['the'], ['ladies'], ['that'], ['have'], ['no'], ['prices'], ['listed'], ['the'], ['waitresses'], ['are'], ['very'], ['friendly'], ['lordy'], ['the'], ['khao'], ['soi'], ['is'], ['a'], ['dish'], ['that'], ['is'], ['not'], ['to'], ['be'], ['missed'], ['for'], ['curry'], ['lovers'], ['everything'], ['on'], ['the'], ['menu'], ['is'], ['terrific'], ['and'], ['we'], ['were'], ['also'], ['thrilled'], ['that'], ['they'], ['made'], ['amazing'], ['accommodations'], ['for'], ['our'], ['vegetarian'], ['daughter'], ['perhaps'], ['i'], ['caught'], ['them'], ['on'], ['an'], ['off'], ['night'], ['judging'], ['by'], ['the'], ['other'], ['reviews'], ['but'], ['im'], ['not'], ['inspired'], ['to'], ['go'], ['back'], ['the'], ['service'], ['here'], ['leaves'], ['a'], ['lot'], ['to'], ['be'], ['desired'], ['the'], ['atmosphere'], ['is'], ['modern'], ['and'], ['hip'], ['while'], ['maintaining'], ['a'], ['touch'], ['of'], ['coziness'], ['not'], ['a'], ['weekly'], ['haunt'], ['but'], ['definitely'], ['a'], ['place'], ['to'], ['come'], ['back'], ['to'], ['every'], ['once'], ['in'], ['a'], ['while'], ['we'], ['literally'], ['sat'], ['there'], ['for'], ['minutes'], ['with'], ['no'], ['one'], ['asking'], ['to'], ['take'], ['our'], ['order'], ['the'], ['burger'], ['had'], ['absolutely'], ['no'], ['flavor'], ['the'], ['meat'], ['itself'], ['was'], ['totally'], ['bland'], ['the'], ['burger'], ['was'], ['overcooked'], ['and'], ['there'], ['was'], ['no'], ['charcoal'], ['flavor'], ['i'], ['also'], ['decided'], ['not'], ['to'], ['send'], ['it'], ['back'], ['because'], ['our'], ['waitress'], ['looked'], ['like'], ['she'], ['was'], ['on'], ['the'], ['verge'], ['of'], ['having'], ['a'], ['heart'], ['attack'], ['i'], ['dressed'], ['up'], ['to'], ['be'], ['treated'], ['so'], ['rudely'], ['it'], ['was'], ['probably'], ['dirt'], ['love'], ['this'], ['place'], ['hits'], ['the'], ['spot'], ['when'], ['i'], ['want'], ['something'], ['healthy'], ['but'], ['not'], ['lacking'], ['in'], ['quantity'], ['or'], ['flavor'], ['i'], ['ordered'], ['the'], ['lemon'], ['raspberry'], ['ice'], ['cocktail'], ['which'], ['was'], ['also'], ['incredible'], ['the'], ['food'], ['sucked'], ['which'], ['we'], ['expected'], ['but'], ['it'], ['sucked'], ['more'], ['than'], ['we'], ['could'], ['have'], ['imagined'], ['interesting'], ['decor'], ['what'], ['i'], ['really'], ['like'], ['there'], ['is'], ['the'], ['crepe'], ['station'], ['also'], ['were'], ['served'], ['hot'], ['bread'], ['and'], ['butter'], ['and'], ['home'], ['made'], ['potato'], ['chips'], ['with'], ['bacon'], ['bits'], ['on'], ['topvery'], ['original'], ['and'], ['very'], ['good'], ['you'], ['can'], ['watch'], ['them'], ['preparing'], ['the'], ['delicious'], ['food'], ['both'], ['of'], ['the'], ['egg'], ['rolls'], ['were'], ['fantastic'], ['when'], ['my'], ['order'], ['arrived'], ['one'], ['of'], ['the'], ['gyros'], ['was'], ['missing'], ['i'], ['had'], ['a'], ['salad'], ['with'], ['the'], ['wings'], ['and'], ['some'], ['ice'], ['cream'], ['for'], ['dessert'], ['and'], ['left'], ['feeling'], ['quite'], ['satisfied'], ['im'], ['not'], ['really'], ['sure'], ['how'], ['joeys'], ['was'], ['voted'], ['best'], ['hot'], ['dog'], ['in'], ['the'], ['valley'], ['by'], ['readers'], ['of'], ['phoenix'], ['magazine'], ['the'], ['best'], ['place'], ['to'], ['go'], ['for'], ['a'], ['tasty'], ['bowl'], ['of'], ['pho'], ['the'], ['live'], ['music'], ['on'], ['fridays'], ['totally'], ['blows'], ['ive'], ['never'], ['been'], ['more'], ['insulted'], ['or'], ['felt'], ['disrespected'], ['very'], ['friendly'], ['staff'], ['it'], ['is'], ['worth'], ['the'], ['drive'], ['i'], ['had'], ['heard'], ['good'], ['things'], ['about'], ['this'], ['place'], ['but'], ['it'], ['exceeding'], ['every'], ['hope'], ['i'], ['could'], ['have'], ['dreamed'], ['of'], ['food'], ['was'], ['great'], ['and'], ['so'], ['was'], ['the'], ['serivce'], ['the'], ['warm'], ['beer'], ['didnt'], ['help'], ['great'], ['brunch'], ['spot'], ['service'], ['is'], ['friendly'], ['and'], ['inviting'], ['very'], ['good'], ['lunch'], ['spot'], ['ive'], ['lived'], ['here'], ['since'], ['and'], ['this'], ['was'], ['the'], ['first'], ['and'], ['last'], ['time'], ['ive'], ['stepped'], ['foot'], ['into'], ['this'], ['place'], ['the'], ['worst'], ['experience'], ['ever'], ['must'], ['have'], ['been'], ['an'], ['off'], ['night'], ['at'], ['this'], ['place'], ['the'], ['sides'], ['are'], ['delish'], ['mixed'], ['mushrooms'], ['yukon'], ['gold'], ['puree'], ['white'], ['corn'], ['beateous'], ['if'], ['that'], ['bug'], ['never'], ['showed'], ['up'], ['i'], ['would'], ['have'], ['given'], ['a'], ['for'], ['sure'], ['but'], ['on'], ['the'], ['other'], ['side'], ['of'], ['the'], ['wall'], ['where'], ['this'], ['bug'], ['was'], ['climbing'], ['was'], ['the'], ['kitchen'], ['for'], ['about'], ['minutes'], ['we'], ['were'], ['waiting'], ['for'], ['her'], ['salad'], ['when'], ['we'], ['realized'], ['that'], ['it'], ['wasnt'], ['coming'], ['any'], ['time'], ['soon'], ['my'], ['friend'], ['loved'], ['the'], ['salmon'], ['tartar'], ['wont'], ['go'], ['back'], ['extremely'], ['tasty'], ['waitress'], ['was'], ['good'], ['though'], ['soggy'], ['and'], ['not'], ['good'], ['the'], ['jamaican'], ['mojitos'], ['are'], ['delicious'], ['which'], ['are'], ['small'], ['and'], ['not'], ['worth'], ['the'], ['price'], ['the'], ['food'], ['is'], ['rich'], ['so'], ['order'], ['accordingly'], ['the'], ['shower'], ['area'], ['is'], ['outside'], ['so'], ['you'], ['can'], ['only'], ['rinse'], ['not'], ['take'], ['a'], ['full'], ['shower'], ['unless'], ['you'], ['dont'], ['mind'], ['being'], ['nude'], ['for'], ['everyone'], ['to'], ['see'], ['the'], ['service'], ['was'], ['a'], ['bit'], ['lacking'], ['lobster'], ['bisque'], ['bussell'], ['sprouts'], ['risotto'], ['filet'], ['all'], ['needed'], ['salt'], ['and'], ['pepperand'], ['of'], ['course'], ['there'], ['is'], ['none'], ['at'], ['the'], ['tables'], ['hopefully'], ['this'], ['bodes'], ['for'], ['them'], ['going'], ['out'], ['of'], ['business'], ['and'], ['someone'], ['who'], ['can'], ['cook'], ['can'], ['come'], ['in'], ['it'], ['was'], ['either'], ['too'], ['cold'], ['not'], ['enough'], ['flavor'], ['or'], ['just'], ['bad'], ['i'], ['loved'], ['the'], ['bacon'], ['wrapped'], ['dates'], ['this'], ['is'], ['an'], ['unbelievable'], ['bargain'], ['the'], ['folks'], ['at'], ['otto'], ['always'], ['make'], ['us'], ['feel'], ['so'], ['welcome'], ['and'], ['special'], ['as'], ['for'], ['the'], ['mains'], ['also'], ['uninspired'], ['this'], ['is'], ['the'], ['place'], ['where'], ['i'], ['first'], ['had'], ['pho'], ['and'], ['it'], ['was'], ['amazing'], ['this'], ['wonderful'], ['experience'], ['made'], ['this'], ['place'], ['a'], ['muststop'], ['whenever'], ['we'], ['are'], ['in'], ['town'], ['again'], ['if'], ['the'], ['food'], ['isnt'], ['bad'], ['enough'], ['for'], ['you'], ['then'], ['enjoy'], ['dealing'], ['with'], ['the'], ['worlds'], ['worstannoying'], ['drunk'], ['people'], ['very'], ['very'], ['fun'], ['chef'], ['ordered'], ['a'], ['double'], ['cheeseburger'], ['got'], ['a'], ['single'], ['patty'], ['that'], ['was'], ['falling'], ['apart'], ['picture'], ['uploaded'], ['yeah'], ['still'], ['sucks'], ['great'], ['place'], ['to'], ['have'], ['a'], ['couple'], ['drinks'], ['and'], ['watch'], ['any'], ['and'], ['all'], ['sporting'], ['events'], ['as'], ['the'], ['walls'], ['are'], ['covered'], ['with'], ['tvs'], ['if'], ['it'], ['were'], ['possible'], ['to'], ['give'], ['them'], ['zero'], ['stars'], ['theyd'], ['have'], ['it'], ['the'], ['descriptions'], ['said'], ['yum'], ['yum'], ['sauce'], ['and'], ['another'], ['said'], ['eel'], ['sauce'], ['yet'], ['another'], ['said'], ['spicy'], ['mayowell'], ['none'], ['of'], ['the'], ['rolls'], ['had'], ['sauces'], ['on'], ['them'], ['id'], ['say'], ['that'], ['would'], ['be'], ['the'], ['hardest'], ['decision'], ['honestly'], ['all'], ['of'], ['ms'], ['dishes'], ['taste'], ['how'], ['they'], ['are'], ['supposed'], ['to'], ['taste'], ['amazing'], ['if'], ['she'], ['had'], ['not'], ['rolled'], ['the'], ['eyes'], ['we'], ['may'], ['have'], ['stayed'], ['not'], ['sure'], ['if'], ['we'], ['will'], ['go'], ['back'], ['and'], ['try'], ['it'], ['again'], ['everyone'], ['is'], ['very'], ['attentive'], ['providing'], ['excellent'], ['customer'], ['service'], ['horrible'], ['dont'], ['waste'], ['your'], ['time'], ['and'], ['money'], ['now'], ['this'], ['dish'], ['was'], ['quite'], ['flavourful'], ['by'], ['this'], ['time'], ['our'], ['side'], ['of'], ['the'], ['restaurant'], ['was'], ['almost'], ['empty'], ['so'], ['there'], ['was'], ['no'], ['excuse'], ['it'], ['wasnt'], ['busy'], ['either'], ['also'], ['the'], ['building'], ['was'], ['freezing'], ['cold'], ['like'], ['the'], ['other'], ['reviewer'], ['said'], ['you'], ['couldnt'], ['pay'], ['me'], ['to'], ['eat'], ['at'], ['this'], ['place'], ['again'], ['drinks'], ['took'], ['close'], ['to'], ['minutes'], ['to'], ['come'], ['out'], ['at'], ['one'], ['point'], ['seriously'], ['flavorful'], ['delights'], ['folks'], ['much'], ['better'], ['than'], ['the'], ['other'], ['ayce'], ['sushi'], ['place'], ['i'], ['went'], ['to'], ['in'], ['vegas'], ['the'], ['lighting'], ['is'], ['just'], ['dark'], ['enough'], ['to'], ['set'], ['the'], ['mood'], ['based'], ['on'], ['the'], ['subpar'], ['service'], ['i'], ['received'], ['and'], ['no'], ['effort'], ['to'], ['show'], ['their'], ['gratitude'], ['for'], ['my'], ['business'], ['i'], ['wont'], ['be'], ['going'], ['back'], ['owners'], ['are'], ['really'], ['great'], ['people'], ['there'], ['is'], ['nothing'], ['privileged'], ['about'], ['workingeating'], ['there'], ['the'], ['greek'], ['dressing'], ['was'], ['very'], ['creamy'], ['and'], ['flavorful'], ['overall'], ['i'], ['dont'], ['think'], ['that'], ['i'], ['would'], ['take'], ['my'], ['parents'], ['to'], ['this'], ['place'], ['again'], ['because'], ['they'], ['made'], ['most'], ['of'], ['the'], ['similar'], ['complaints'], ['that'], ['i'], ['silently'], ['felt'], ['too'], ['now'], ['the'], ['pizza'], ['itself'], ['was'], ['good'], ['the'], ['peanut'], ['sauce'], ['was'], ['very'], ['tasty'], ['we'], ['had'], ['at'], ['our'], ['table'], ['and'], ['the'], ['service'], ['was'], ['pretty'], ['fast'], ['fantastic'], ['service'], ['here'], ['i'], ['as'], ['well'], ['wouldve'], ['given'], ['godfathers'], ['zero'], ['stars'], ['if'], ['possible'], ['they'], ['know'], ['how'], ['to'], ['make'], ['them'], ['here'], ['very'], ['tough'], ['and'], ['very'], ['short'], ['on'], ['flavor'], ['i'], ['hope'], ['this'], ['place'], ['sticks'], ['around'], ['i'], ['have'], ['been'], ['in'], ['more'], ['than'], ['a'], ['few'], ['bars'], ['in'], ['vegas'], ['and'], ['do'], ['not'], ['ever'], ['recall'], ['being'], ['charged'], ['for'], ['tap'], ['water'], ['the'], ['restaurant'], ['atmosphere'], ['was'], ['exquisite'], ['good'], ['service'], ['very'], ['clean'], ['and'], ['inexpensive'], ['to'], ['boot'], ['the'], ['seafood'], ['was'], ['fresh'], ['and'], ['generous'], ['in'], ['portion'], ['plus'], ['its'], ['only'], ['bucks'], ['the'], ['service'], ['was'], ['not'], ['up'], ['to'], ['par'], ['either'], ['thus'], ['far'], ['have'], ['only'], ['visited'], ['twice'], ['and'], ['the'], ['food'], ['was'], ['absolutely'], ['delicious'], ['each'], ['time'], ['just'], ['as'], ['good'], ['as'], ['when'], ['i'], ['had'], ['it'], ['more'], ['than'], ['a'], ['year'], ['ago'], ['for'], ['a'], ['self'], ['proclaimed'], ['coffee'], ['cafe'], ['i'], ['was'], ['wildly'], ['disappointed'], ['the'], ['veggitarian'], ['platter'], ['is'], ['out'], ['of'], ['this'], ['world'], ['you'], ['cant'], ['go'], ['wrong'], ['with'], ['any'], ['of'], ['the'], ['food'], ['here'], ['you'], ['cant'], ['beat'], ['that'], ['stopped'], ['by'], ['this'], ['place'], ['while'], ['in'], ['madison'], ['for'], ['the'], ['ironman'], ['very'], ['friendly'], ['kind'], ['staff'], ['the'], ['chefs'], ['were'], ['friendly'], ['and'], ['did'], ['a'], ['good'], ['job'], ['ive'], ['had'], ['better'], ['not'], ['only'], ['from'], ['dedicated'], ['boba'], ['tea'], ['spots'], ['but'], ['even'], ['from'], ['jenni'], ['pho'], ['i'], ['liked'], ['the'], ['patio'], ['and'], ['the'], ['service'], ['was'], ['outstanding'], ['the'], ['goat'], ['taco'], ['didnt'], ['skimp'], ['on'], ['the'], ['meat'], ['and'], ['wow'], ['what'], ['flavor'], ['i'], ['think'], ['not'], ['again'], ['i'], ['had'], ['the'], ['mac'], ['salad'], ['and'], ['it'], ['was'], ['pretty'], ['bland'], ['so'], ['i'], ['will'], ['not'], ['be'], ['getting'], ['that'], ['again'], ['i'], ['went'], ['to'], ['bachi'], ['burger'], ['on'], ['a'], ['friends'], ['recommendation'], ['and'], ['was'], ['not'], ['disappointed'], ['service'], ['stinks'], ['here'], ['i'], ['waited'], ['and'], ['waited'], ['this'], ['place'], ['is'], ['not'], ['quality'], ['sushi'], ['it'], ['is'], ['not'], ['a'], ['quality'], ['restaurant'], ['i'], ['would'], ['definitely'], ['recommend'], ['the'], ['wings'], ['as'], ['well'], ['as'], ['the'], ['pizza'], ['great'], ['pizza'], ['and'], ['salads'], ['things'], ['that'], ['went'], ['wrong'], ['they'], ['burned'], ['the'], ['saganaki'], ['we'], ['waited'], ['an'], ['hour'], ['for'], ['what'], ['was'], ['a'], ['breakfast'], ['i'], ['could'], ['have'], ['done'], ['times'], ['better'], ['at'], ['home'], ['this'], ['place'], ['is'], ['amazing'], ['i'], ['hate'], ['to'], ['disagree'], ['with'], ['my'], ['fellow'], ['yelpers'], ['but'], ['my'], ['husband'], ['and'], ['i'], ['were'], ['so'], ['disappointed'], ['with'], ['this'], ['place'], ['waited'], ['hours'], ['never'], ['got'], ['either'], ['of'], ['our'], ['pizzas'], ['as'], ['many'], ['other'], ['around'], ['us'], ['who'], ['came'], ['in'], ['later'], ['did'], ['just'], ['dont'], ['know'], ['why'], ['they'], ['were'], ['so'], ['slow'], ['the'], ['staff'], ['is'], ['great'], ['the'], ['food'], ['is'], ['delish'], ['and'], ['they'], ['have'], ['an'], ['incredible'], ['beer'], ['selection'], ['i'], ['live'], ['in'], ['the'], ['neighborhood'], ['so'], ['i'], ['am'], ['disappointed'], ['i'], ['wont'], ['be'], ['back'], ['here'], ['because'], ['it'], ['is'], ['a'], ['convenient'], ['location'], ['i'], ['didnt'], ['know'], ['pulled'], ['pork'], ['could'], ['be'], ['soooo'], ['delicious'], ['you'], ['get'], ['incredibly'], ['fresh'], ['fish'], ['prepared'], ['with'], ['care'], ['before'], ['i'], ['go'], ['in'], ['to'], ['why'], ['i'], ['gave'], ['a'], ['star'], ['rating'], ['please'], ['know'], ['that'], ['this'], ['was'], ['my'], ['third'], ['time'], ['eating'], ['at'], ['bachi'], ['burger'], ['before'], ['writing'], ['a'], ['review'], ['i'], ['love'], ['the'], ['fact'], ['that'], ['everything'], ['on'], ['their'], ['menu'], ['is'], ['worth'], ['it'], ['never'], ['again'], ['will'], ['i'], ['be'], ['dining'], ['at'], ['this'], ['place'], ['the'], ['food'], ['was'], ['excellent'], ['and'], ['service'], ['was'], ['very'], ['good'], ['good'], ['beer'], ['drink'], ['selection'], ['and'], ['good'], ['food'], ['selection'], ['please'], ['stay'], ['away'], ['from'], ['the'], ['shrimp'], ['stir'], ['fried'], ['noodles'], ['the'], ['potato'], ['chip'], ['order'], ['was'], ['sad'], ['i'], ['could'], ['probably'], ['count'], ['how'], ['many'], ['chips'], ['were'], ['in'], ['that'], ['box'], ['and'], ['it'], ['was'], ['probably'], ['around'], ['food'], ['was'], ['really'], ['boring'], ['good'], ['servicecheck'], ['this'], ['greedy'], ['corporation'], ['will'], ['never'], ['see'], ['another'], ['dime'], ['from'], ['me'], ['will'], ['never'], ['ever'], ['go'], ['back'], ['as'], ['much'], ['as'], ['id'], ['like'], ['to'], ['go'], ['back'], ['i'], ['cant'], ['get'], ['passed'], ['the'], ['atrocious'], ['service'], ['and'], ['will'], ['never'], ['return'], ['in'], ['the'], ['summer'], ['you'], ['can'], ['dine'], ['in'], ['a'], ['charming'], ['outdoor'], ['patio'], ['so'], ['very'], ['delightful'], ['i'], ['did'], ['not'], ['expect'], ['this'], ['to'], ['be'], ['so'], ['good'], ['fantastic'], ['food'], ['she'], ['ordered'], ['a'], ['toasted'], ['english'], ['muffin'], ['that'], ['came'], ['out'], ['untoasted'], ['the'], ['food'], ['was'], ['very'], ['good'], ['never'], ['going'], ['back'], ['great'], ['food'], ['for'], ['the'], ['price'], ['which'], ['is'], ['very'], ['high'], ['quality'], ['and'], ['house'], ['made'], ['the'], ['bus'], ['boy'], ['on'], ['the'], ['other'], ['hand'], ['was'], ['so'], ['rude'], ['by'], ['this'], ['point'], ['my'], ['friends'], ['and'], ['i'], ['had'], ['basically'], ['figured'], ['out'], ['this'], ['place'], ['was'], ['a'], ['joke'], ['and'], ['didnt'], ['mind'], ['making'], ['it'], ['publicly'], ['and'], ['loudly'], ['known'], ['back'], ['to'], ['good'], ['bbq'], ['lighter'], ['fare'], ['reasonable'], ['pricing'], ['and'], ['tell'], ['the'], ['public'], ['they'], ['are'], ['back'], ['to'], ['the'], ['old'], ['ways'], ['and'], ['considering'], ['the'], ['two'], ['of'], ['us'], ['left'], ['there'], ['very'], ['full'], ['and'], ['happy'], ['for'], ['about'], ['you'], ['just'], ['cant'], ['go'], ['wrong'], ['all'], ['the'], ['bread'], ['is'], ['made'], ['inhouse'], ['the'], ['only'], ['downside'], ['is'], ['the'], ['service'], ['also'], ['the'], ['fries'], ['are'], ['without'], ['a'], ['doubt'], ['the'], ['worst'], ['fries'], ['ive'], ['ever'], ['had'], ['service'], ['was'], ['exceptional'], ['and'], ['food'], ['was'], ['a'], ['good'], ['as'], ['all'], ['the'], ['reviews'], ['a'], ['couple'], ['of'], ['months'], ['later'], ['i'], ['returned'], ['and'], ['had'], ['an'], ['amazing'], ['meal'], ['favorite'], ['place'], ['in'], ['town'], ['for'], ['shawarrrrrrma'], ['the'], ['black'], ['eyed'], ['peas'], ['and'], ['sweet'], ['potatoes'], ['unreal'], ['you'], ['wont'], ['be'], ['disappointed'], ['they'], ['could'], ['serve'], ['it'], ['with'], ['just'], ['the'], ['vinaigrette'], ['and'], ['it'], ['may'], ['make'], ['for'], ['a'], ['better'], ['overall'], ['dish'], ['but'], ['it'], ['was'], ['still'], ['very'], ['good'], ['i'], ['go'], ['to'], ['far'], ['too'], ['many'], ['places'], ['and'], ['ive'], ['never'], ['seen'], ['any'], ['restaurant'], ['that'], ['serves'], ['a'], ['egg'], ['breakfast'], ['especially'], ['for'], ['when'], ['my'], ['mom'], ['and'], ['i'], ['got'], ['home'], ['she'], ['immediately'], ['got'], ['sick'], ['and'], ['she'], ['only'], ['had'], ['a'], ['few'], ['bites'], ['of'], ['salad'], ['the'], ['servers'], ['are'], ['not'], ['pleasant'], ['to'], ['deal'], ['with'], ['and'], ['they'], ['dont'], ['always'], ['honor'], ['pizza'], ['hut'], ['coupons'], ['both'], ['of'], ['them'], ['were'], ['truly'], ['unbelievably'], ['good'], ['and'], ['i'], ['am'], ['so'], ['glad'], ['we'], ['went'], ['back'], ['we'], ['had'], ['fantastic'], ['service'], ['and'], ['were'], ['pleased'], ['by'], ['the'], ['atmosphere'], ['everything'], ['was'], ['gross'], ['i'], ['love'], ['this'], ['place'], ['great'], ['service'], ['and'], ['food'], ['first'], ['the'], ['bathrooms'], ['at'], ['this'], ['location'], ['were'], ['dirty'], ['seat'], ['covers'], ['were'], ['not'], ['replenished'], ['just'], ['plain'], ['yucky'], ['the'], ['burger'], ['i'], ['got'], ['the'], ['gold'], ['standard'], ['a'], ['burger'], ['and'], ['was'], ['kind'], ['of'], ['disappointed'], ['omg'], ['the'], ['food'], ['was'], ['delicioso'], ['there'], ['is'], ['nothing'], ['authentic'], ['about'], ['this'], ['place'], ['the'], ['spaghetti'], ['is'], ['nothing'], ['special'], ['whatsoever'], ['of'], ['all'], ['the'], ['dishes'], ['the'], ['salmon'], ['was'], ['the'], ['best'], ['but'], ['all'], ['were'], ['great'], ['the'], ['vegetables'], ['are'], ['so'], ['fresh'], ['and'], ['the'], ['sauce'], ['feels'], ['like'], ['authentic'], ['thai'], ['its'], ['worth'], ['driving'], ['up'], ['from'], ['tucson'], ['the'], ['selection'], ['was'], ['probably'], ['the'], ['worst'], ['ive'], ['seen'], ['in'], ['vegasthere'], ['was'], ['none'], ['pretty'], ['good'], ['beer'], ['selection'], ['too'], ['this'], ['place'], ['is'], ['like'], ['chipotle'], ['but'], ['better'], ['classywarm'], ['atmosphere'], ['fun'], ['and'], ['fresh'], ['appetizers'], ['succulent'], ['steaks'], ['baseball'], ['steak'], ['stars'], ['for'], ['the'], ['brick'], ['oven'], ['bread'], ['app'], ['i'], ['have'], ['eaten'], ['here'], ['multiple'], ['times'], ['and'], ['each'], ['time'], ['the'], ['food'], ['was'], ['delicious'], ['we'], ['sat'], ['another'], ['ten'], ['minutes'], ['and'], ['finally'], ['gave'], ['up'], ['and'], ['left'], ['he'], ['was'], ['terrible'], ['everyone'], ['is'], ['treated'], ['equally'], ['special'], ['it'], ['shouldnt'], ['take'], ['min'], ['for'], ['pancakes'], ['and'], ['eggs'], ['it'], ['was'], ['delicious'], ['on'], ['the'], ['good'], ['side'], ['the'], ['staff'], ['was'], ['genuinely'], ['pleasant'], ['and'], ['enthusiastic'], ['a'], ['real'], ['treat'], ['sadly'], ['gordon'], ['ramseys'], ['steak'], ['is'], ['a'], ['place'], ['we'], ['shall'], ['sharply'], ['avoid'], ['during'], ['our'], ['next'], ['trip'], ['to'], ['vegas'], ['as'], ['always'], ['the'], ['evening'], ['was'], ['wonderful'], ['and'], ['the'], ['food'], ['delicious'], ['best'], ['fish'], ['ive'], ['ever'], ['had'], ['in'], ['my'], ['life'], ['the'], ['bathroom'], ['is'], ['just'], ['next'], ['door'], ['and'], ['very'], ['nice'], ['the'], ['buffet'], ['is'], ['small'], ['and'], ['all'], ['the'], ['food'], ['they'], ['offered'], ['was'], ['bland'], ['this'], ['is'], ['an'], ['outstanding'], ['little'], ['restaurant'], ['with'], ['some'], ['of'], ['the'], ['best'], ['food'], ['i'], ['have'], ['ever'], ['tasted'], ['pretty'], ['cool'], ['i'], ['would'], ['say'], ['definitely'], ['a'], ['turn'], ['off'], ['for'], ['me'], ['i'], ['doubt'], ['ill'], ['be'], ['back'], ['unless'], ['someone'], ['else'], ['is'], ['buying'], ['server'], ['did'], ['a'], ['great'], ['job'], ['handling'], ['our'], ['large'], ['rowdy'], ['table'], ['i'], ['find'], ['wasting'], ['food'], ['to'], ['be'], ['despicable'], ['but'], ['this'], ['just'], ['wasnt'], ['food'], ['my'], ['wife'], ['had'], ['the'], ['lobster'], ['bisque'], ['soup'], ['which'], ['was'], ['lukewarm'], ['would'], ['come'], ['back'], ['again'], ['if'], ['i'], ['had'], ['a'], ['sushi'], ['craving'], ['while'], ['in'], ['vegas'], ['the'], ['staff'], ['are'], ['great'], ['the'], ['ambiance'], ['is'], ['great'], ['he'], ['deserves'], ['stars'], ['i'], ['left'], ['with'], ['a'], ['stomach'], ['ache'], ['and'], ['felt'], ['sick'], ['the'], ['rest'], ['of'], ['the'], ['day'], ['they'], ['dropped'], ['more'], ['than'], ['the'], ['ball'], ['the'], ['dining'], ['space'], ['is'], ['tiny'], ['but'], ['elegantly'], ['decorated'], ['and'], ['comfortable'], ['they'], ['will'], ['customize'], ['your'], ['order'], ['any'], ['way'], ['youd'], ['like'], ['my'], ['usual'], ['is'], ['eggplant'], ['with'], ['green'], ['bean'], ['stir'], ['fry'], ['love'], ['it'], ['and'], ['the'], ['beans'], ['and'], ['rice'], ['were'], ['mediocre'], ['at'], ['best'], ['best'], ['tacos'], ['in'], ['town'], ['by'], ['far'], ['i'], ['took'], ['back'], ['my'], ['money'], ['and'], ['got'], ['outta'], ['there'], ['in'], ['an'], ['interesting'], ['part'], ['of'], ['town'], ['this'], ['place'], ['is'], ['amazing'], ['rude'], ['inconsiderate'], ['management'], ['the'], ['staff'], ['are'], ['now'], ['not'], ['as'], ['friendly'], ['the'], ['wait'], ['times'], ['for'], ['being'], ['served'], ['are'], ['horrible'], ['no'], ['one'], ['even'], ['says'], ['hi'], ['for'], ['the'], ['first'], ['minutes'], ['i'], ['wont'], ['be'], ['back'], ['they'], ['have'], ['great'], ['dinners'], ['the'], ['service'], ['was'], ['outshining'], ['i'], ['definitely'], ['recommend'], ['the'], ['halibut'], ['the'], ['food'], ['was'], ['terrible'], ['will'], ['never'], ['ever'], ['go'], ['back'], ['and'], ['have'], ['told'], ['many'], ['people'], ['what'], ['had'], ['happened'], ['i'], ['dont'], ['recommend'], ['unless'], ['your'], ['car'], ['breaks'], ['down'], ['in'], ['front'], ['of'], ['it'], ['and'], ['you'], ['are'], ['starving'], ['i'], ['will'], ['come'], ['back'], ['here'], ['every'], ['time'], ['im'], ['in'], ['vegas'], ['this'], ['place'], ['deserves'], ['one'], ['star'], ['and'], ['has'], ['to'], ['do'], ['with'], ['the'], ['food'], ['this'], ['is'], ['a'], ['disgrace'], ['def'], ['coming'], ['back'], ['to'], ['bowl'], ['next'], ['time'], ['if'], ['you'], ['want'], ['healthy'], ['authentic'], ['or'], ['ethic'], ['food'], ['try'], ['this'], ['place'], ['i'], ['will'], ['continue'], ['to'], ['come'], ['here'], ['on'], ['ladies'], ['night'], ['andddd'], ['date'], ['night'], ['highly'], ['recommend'], ['this'], ['place'], ['to'], ['anyone'], ['who'], ['is'], ['in'], ['the'], ['area'], ['i'], ['have'], ['been'], ['here'], ['several'], ['times'], ['in'], ['the'], ['past'], ['and'], ['the'], ['experience'], ['has'], ['always'], ['been'], ['great'], ['we'], ['walked'], ['away'], ['stuffed'], ['and'], ['happy'], ['about'], ['our'], ['first'], ['vegas'], ['buffet'], ['experience'], ['service'], ['was'], ['excellent'], ['and'], ['prices'], ['are'], ['pretty'], ['reasonable'], ['considering'], ['this'], ['is'], ['vegas'], ['and'], ['located'], ['inside'], ['the'], ['crystals'], ['shopping'], ['mall'], ['by'], ['aria'], ['to'], ['summarize'], ['the'], ['food'], ['was'], ['incredible'], ['nay'], ['transcendant'], ['but'], ['nothing'], ['brings'], ['me'], ['joy'], ['quite'], ['like'], ['the'], ['memory'], ['of'], ['the'], ['pneumatic'], ['condiment'], ['dispenser'], ['im'], ['probably'], ['one'], ['of'], ['the'], ['few'], ['people'], ['to'], ['ever'], ['go'], ['to'], ['ians'], ['and'], ['not'], ['like'], ['it'], ['kids'], ['pizza'], ['is'], ['always'], ['a'], ['hit'], ['too'], ['with'], ['lots'], ['of'], ['great'], ['side'], ['dish'], ['options'], ['for'], ['the'], ['kiddos'], ['service'], ['is'], ['perfect'], ['and'], ['the'], ['family'], ['atmosphere'], ['is'], ['nice'], ['to'], ['see'], ['cooked'], ['to'], ['perfection'], ['and'], ['the'], ['service'], ['was'], ['impeccable'], ['this'], ['one'], ['is'], ['simply'], ['a'], ['disappointment'], ['overall'], ['i'], ['was'], ['very'], ['disappointed'], ['with'], ['the'], ['quality'], ['of'], ['food'], ['at'], ['bouchon'], ['i'], ['dont'], ['have'], ['to'], ['be'], ['an'], ['accountant'], ['to'], ['know'], ['im'], ['getting'], ['screwed'], ['great'], ['place'], ['to'], ['eat'], ['reminds'], ['me'], ['of'], ['the'], ['little'], ['mom'], ['and'], ['pop'], ['shops'], ['in'], ['the'], ['san'], ['francisco'], ['bay'], ['area'], ['today'], ['was'], ['my'], ['first'], ['taste'], ['of'], ['a'], ['buldogis'], ['gourmet'], ['hot'], ['dog'], ['and'], ['i'], ['have'], ['to'], ['tell'], ['you'], ['it'], ['was'], ['more'], ['than'], ['i'], ['ever'], ['thought'], ['possible'], ['left'], ['very'], ['frustrated'], ['ill'], ['definitely'], ['be'], ['in'], ['soon'], ['again'], ['food'], ['was'], ['really'], ['good'], ['and'], ['i'], ['got'], ['full'], ['petty'], ['fast'], ['service'], ['was'], ['fantastic'], ['total'], ['waste'], ['of'], ['time'], ['i'], ['dont'], ['know'], ['what'], ['kind'], ['it'], ['is'], ['but'], ['they'], ['have'], ['the'], ['best'], ['iced'], ['tea'], ['come'], ['hungry'], ['leave'], ['happy'], ['and'], ['stuffed'], ['for'], ['service'], ['i'], ['give'], ['them'], ['no'], ['stars'], ['i'], ['can'], ['assure'], ['you'], ['that'], ['you'], ['wont'], ['be'], ['disappointed'], ['i'], ['can'], ['take'], ['a'], ['little'], ['bad'], ['service'], ['but'], ['the'], ['food'], ['sucks'], ['gave'], ['up'], ['trying'], ['to'], ['eat'], ['any'], ['of'], ['the'], ['crust'], ['teeth'], ['still'], ['sore'], ['but'], ['now'], ['i'], ['was'], ['completely'], ['grossed'], ['out'], ['i'], ['really'], ['enjoyed'], ['eating'], ['here'], ['first'], ['time'], ['going'], ['but'], ['i'], ['think'], ['i'], ['will'], ['quickly'], ['become'], ['a'], ['regular'], ['our'], ['server'], ['was'], ['very'], ['nice'], ['and'], ['even'], ['though'], ['he'], ['looked'], ['a'], ['little'], ['overwhelmed'], ['with'], ['all'], ['of'], ['our'], ['needs'], ['he'], ['stayed'], ['professional'], ['and'], ['friendly'], ['until'], ['the'], ['end'], ['from'], ['what'], ['my'], ['dinner'], ['companions'], ['told'], ['meeverything'], ['was'], ['very'], ['fresh'], ['with'], ['nice'], ['texture'], ['and'], ['taste'], ['on'], ['the'], ['ground'], ['right'], ['next'], ['to'], ['our'], ['table'], ['was'], ['a'], ['large'], ['smeared'], ['beensteppedinandtrackedeverywhere'], ['pile'], ['of'], ['green'], ['bird'], ['poop'], ['furthermore'], ['you'], ['cant'], ['even'], ['find'], ['hours'], ['of'], ['operation'], ['on'], ['the'], ['website'], ['weve'], ['tried'], ['to'], ['like'], ['this'], ['place'], ['but'], ['after'], ['times'], ['i'], ['think'], ['were'], ['done'], ['with'], ['them'], ['what'], ['a'], ['mistake'], ['that'], ['was'], ['no'], ['complaints'], ['this'], ['is'], ['some'], ['seriously'], ['good'], ['pizza'], ['and'], ['im'], ['an'], ['expertconnisseur'], ['on'], ['the'], ['topic'], ['waiter'], ['was'], ['a'], ['jerk'], ['strike'], ['who'], ['wants'], ['to'], ['be'], ['rushed'], ['these'], ['are'], ['the'], ['nicest'], ['restaurant'], ['owners'], ['ive'], ['ever'], ['come'], ['across'], ['i'], ['never'], ['come'], ['again'], ['we'], ['loved'], ['the'], ['biscuits'], ['service'], ['is'], ['quick'], ['and'], ['friendly'], ['ordered'], ['an'], ['appetizer'], ['and'], ['took'], ['minutes'], ['and'], ['then'], ['the'], ['pizza'], ['another'], ['minutes'], ['so'], ['absolutley'], ['fantastic'], ['it'], ['was'], ['a'], ['huge'], ['awkward'], ['lb'], ['piece'], ['of'], ['cow'], ['that'], ['was'], ['ths'], ['gristle'], ['and'], ['fat'], ['definitely'], ['will'], ['come'], ['back'], ['here'], ['again'], ['i'], ['like'], ['steiners'], ['because'], ['its'], ['dark'], ['and'], ['it'], ['feels'], ['like'], ['a'], ['bar'], ['wow'], ['very'], ['spicy'], ['but'], ['delicious'], ['if'], ['youre'], ['not'], ['familiar'], ['check'], ['it'], ['out'], ['ill'], ['take'], ['my'], ['business'], ['dinner'], ['dollars'], ['elsewhere'], ['id'], ['love'], ['to'], ['go'], ['back'], ['anyway'], ['this'], ['fs'], ['restaurant'], ['has'], ['a'], ['wonderful'], ['breakfastlunch'], ['nothing'], ['special'], ['each'], ['day'], ['of'], ['the'], ['week'], ['they'], ['have'], ['a'], ['different'], ['deal'], ['and'], ['its'], ['all'], ['so'], ['delicious'], ['not'], ['to'], ['mention'], ['the'], ['combination'], ['of'], ['pears'], ['almonds'], ['and'], ['bacon'], ['is'], ['a'], ['big'], ['winner'], ['will'], ['not'], ['be'], ['back'], ['sauce'], ['was'], ['tasteless'], ['the'], ['food'], ['is'], ['delicious'], ['and'], ['just'], ['spicy'], ['enough'], ['so'], ['be'], ['sure'], ['to'], ['ask'], ['for'], ['spicier'], ['if'], ['you'], ['prefer'], ['it'], ['that'], ['way'], ['my'], ['ribeye'], ['steak'], ['was'], ['cooked'], ['perfectly'], ['and'], ['had'], ['great'], ['mesquite'], ['flavor'], ['i'], ['dont'], ['think'], ['well'], ['be'], ['going'], ['back'], ['anytime'], ['soon'], ['food'], ['was'], ['so'], ['gooodd'], ['i'], ['am'], ['far'], ['from'], ['a'], ['sushi'], ['connoisseur'], ['but'], ['i'], ['can'], ['definitely'], ['tell'], ['the'], ['difference'], ['between'], ['good'], ['food'], ['and'], ['bad'], ['food'], ['and'], ['this'], ['was'], ['certainly'], ['bad'], ['food'], ['i'], ['was'], ['so'], ['insulted'], ['the'], ['last'], ['times'], ['i'], ['had'], ['lunch'], ['here'], ['has'], ['been'], ['bad'], ['the'], ['chicken'], ['wings'], ['contained'], ['the'], ['driest'], ['chicken'], ['meat'], ['i'], ['have'], ['ever'], ['eaten'], ['the'], ['food'], ['was'], ['very'], ['good'], ['and'], ['i'], ['enjoyed'], ['every'], ['mouthful'], ['an'], ['enjoyable'], ['relaxed'], ['venue'], ['for'], ['couples'], ['small'], ['family'], ['groups'], ['etc'], ['nargile'], ['i'], ['think'], ['you'], ['are'], ['great'], ['best'], ['tater'], ['tots'], ['in'], ['the'], ['southwest'], ['we'], ['loved'], ['the'], ['place'], ['definitely'], ['not'], ['worth'], ['the'], ['i'], ['paid'], ['the'], ['vanilla'], ['ice'], ['cream'], ['was'], ['creamy'], ['and'], ['smooth'], ['while'], ['the'], ['profiterole'], ['choux'], ['pastry'], ['was'], ['fresh'], ['enough'], ['im'], ['in'], ['az'], ['all'], ['the'], ['time'], ['and'], ['now'], ['have'], ['my'], ['new'], ['spot'], ['the'], ['manager'], ['was'], ['the'], ['worst'], ['the'], ['inside'], ['is'], ['really'], ['quite'], ['nice'], ['and'], ['very'], ['clean'], ['the'], ['food'], ['was'], ['outstanding'], ['and'], ['the'], ['prices'], ['were'], ['very'], ['reasonable'], ['i'], ['dont'], ['think'], ['ill'], ['be'], ['running'], ['back'], ['to'], ['carlys'], ['anytime'], ['soon'], ['for'], ['food'], ['this'], ['is'], ['was'], ['due'], ['to'], ['the'], ['fact'], ['that'], ['it'], ['took'], ['minutes'], ['to'], ['be'], ['acknowledged'], ['then'], ['another'], ['minutes'], ['to'], ['get'], ['our'], ['foodand'], ['they'], ['kept'], ['forgetting'], ['things'], ['love'], ['the'], ['margaritas'], ['too'], ['this'], ['was'], ['my'], ['first'], ['and'], ['only'], ['vegas'], ['buffet'], ['and'], ['it'], ['did'], ['not'], ['disappoint'], ['very'], ['good'], ['though'], ['the'], ['one'], ['down'], ['note'], ['is'], ['the'], ['ventilation'], ['could'], ['use'], ['some'], ['upgrading'], ['great'], ['pork'], ['sandwich'], ['dont'], ['waste'], ['your'], ['time'], ['here'], ['total'], ['letdown'], ['i'], ['would'], ['much'], ['rather'], ['just'], ['go'], ['to'], ['the'], ['camelback'], ['flower'], ['shop'], ['and'], ['cartel'], ['coffee'], ['third'], ['the'], ['cheese'], ['on'], ['my'], ['friends'], ['burger'], ['was'], ['cold'], ['we'], ['enjoy'], ['their'], ['pizza'], ['and'], ['brunch'], ['the'], ['steaks'], ['are'], ['all'], ['well'], ['trimmed'], ['and'], ['also'], ['perfectly'], ['cooked'], ['we'], ['had'], ['a'], ['group'], ['of'], ['when'], ['we'], ['claimed'], ['we'], ['would'], ['only'], ['have'], ['and'], ['they'], ['handled'], ['us'], ['beautifully'], ['i'], ['loved'], ['it'], ['we'], ['asked'], ['for'], ['the'], ['bill'], ['to'], ['leave'], ['without'], ['eating'], ['and'], ['they'], ['didnt'], ['bring'], ['that'], ['either'], ['this'], ['place'], ['is'], ['a'], ['jewel'], ['in'], ['las'], ['vegas'], ['and'], ['exactly'], ['what'], ['ive'], ['been'], ['hoping'], ['to'], ['find'], ['in'], ['nearly'], ['ten'], ['years'], ['living'], ['here'], ['seafood'], ['was'], ['limited'], ['to'], ['boiled'], ['shrimp'], ['and'], ['crab'], ['legs'], ['but'], ['the'], ['crab'], ['legs'], ['definitely'], ['did'], ['not'], ['taste'], ['fresh'], ['the'], ['selection'], ['of'], ['food'], ['was'], ['not'], ['the'], ['best'], ['delicious'], ['and'], ['i'], ['will'], ['absolutely'], ['be'], ['back'], ['this'], ['isnt'], ['a'], ['small'], ['family'], ['restaurant'], ['this'], ['is'], ['a'], ['fine'], ['dining'], ['establishment'], ['they'], ['had'], ['a'], ['toro'], ['tartare'], ['with'], ['a'], ['cavier'], ['that'], ['was'], ['extraordinary'], ['and'], ['i'], ['liked'], ['the'], ['thinly'], ['sliced'], ['wagyu'], ['with'], ['white'], ['truffle'], ['i'], ['dont'], ['think'], ['i'], ['will'], ['be'], ['back'], ['for'], ['a'], ['very'], ['long'], ['time'], ['it'], ['was'], ['attached'], ['to'], ['a'], ['gas'], ['station'], ['and'], ['that'], ['is'], ['rarely'], ['a'], ['good'], ['sign'], ['how'], ['awesome'], ['is'], ['that'], ['i'], ['will'], ['be'], ['back'], ['many'], ['times'], ['soon'], ['the'], ['menu'], ['had'], ['so'], ['much'], ['good'], ['stuff'], ['on'], ['it'], ['i'], ['could'], ['not'], ['decide'], ['worse'], ['of'], ['all'], ['he'], ['humiliated'], ['his'], ['worker'], ['right'], ['in'], ['front'], ['of'], ['mebunch'], ['of'], ['horrible'], ['name'], ['callings'], ['conclusion'], ['very'], ['filling'], ['meals'], ['their'], ['daily'], ['specials'], ['are'], ['always'], ['a'], ['hit'], ['with'], ['my'], ['group'], ['and'], ['then'], ['tragedy'], ['struck'], ['the'], ['pancake'], ['was'], ['also'], ['really'], ['good'], ['and'], ['pretty'], ['large'], ['at'], ['that'], ['this'], ['was'], ['my'], ['first'], ['crawfish'], ['experience'], ['and'], ['it'], ['was'], ['delicious'], ['their'], ['monster'], ['chicken'], ['fried'], ['steak'], ['and'], ['eggs'], ['is'], ['my'], ['all'], ['time'], ['favorite'], ['waitress'], ['was'], ['sweet'], ['and'], ['funny'], ['i'], ['also'], ['had'], ['to'], ['taste'], ['my'], ['moms'], ['multigrain'], ['pumpkin'], ['pancakes'], ['with'], ['pecan'], ['butter'], ['and'], ['they'], ['were'], ['amazing'], ['fluffy'], ['and'], ['delicious'], ['id'], ['rather'], ['eat'], ['airline'], ['food'], ['seriously'], ['cant'], ['say'], ['enough'], ['good'], ['things'], ['about'], ['this'], ['place'], ['the'], ['ambiance'], ['was'], ['incredible'], ['the'], ['waitress'], ['and'], ['manager'], ['are'], ['so'], ['friendly'], ['i'], ['would'], ['not'], ['recommend'], ['this'], ['place'], ['overall'], ['i'], ['wasnt'], ['very'], ['impressed'], ['with'], ['noca'], ['my'], ['gyro'], ['was'], ['basically'], ['lettuce'], ['only'], ['terrible'], ['service'], ['thoroughly'], ['disappointed'], ['i'], ['dont'], ['each'], ['much'], ['pasta'], ['but'], ['i'], ['love'], ['the'], ['homemade'], ['hand'], ['made'], ['pastas'], ['and'], ['thin'], ['pizzas'], ['here'], ['give'], ['it'], ['a'], ['try'], ['you'], ['will'], ['be'], ['happy'], ['you'], ['did'], ['by'], ['far'], ['the'], ['best'], ['cheesecurds'], ['we'], ['have'], ['ever'], ['had'], ['reasonably'], ['priced'], ['also'], ['everything'], ['was'], ['perfect'], ['the'], ['night'], ['we'], ['were'], ['in'], ['the'], ['food'], ['is'], ['very'], ['good'], ['for'], ['your'], ['typical'], ['bar'], ['food'], ['it'], ['was'], ['a'], ['drive'], ['to'], ['get'], ['there'], ['at'], ['first'], ['glance'], ['it'], ['is'], ['a'], ['lovely'], ['bakery'], ['cafe'], ['nice'], ['ambiance'], ['clean'], ['friendly'], ['staff'], ['anyway'], ['i'], ['do'], ['not'], ['think'], ['i'], ['will'], ['go'], ['back'], ['there'], ['point'], ['your'], ['finger'], ['at'], ['any'], ['item'], ['on'], ['the'], ['menu'], ['order'], ['it'], ['and'], ['you'], ['wont'], ['be'], ['disappointed'], ['oh'], ['this'], ['is'], ['such'], ['a'], ['thing'], ['of'], ['beauty'], ['this'], ['restaurant'], ['if'], ['you'], ['havent'], ['gone'], ['here'], ['go'], ['now'], ['a'], ['greasy'], ['unhealthy'], ['meal'], ['first'], ['time'], ['there'], ['and'], ['might'], ['just'], ['be'], ['the'], ['last'], ['those'], ['burgers'], ['were'], ['amazing'], ['similarly'], ['the'], ['delivery'], ['man'], ['did'], ['not'], ['say'], ['a'], ['word'], ['of'], ['apology'], ['when'], ['our'], ['food'], ['was'], ['minutes'], ['late'], ['and'], ['it'], ['was'], ['way'], ['to'], ['expensive'], ['be'], ['sure'], ['to'], ['order'], ['dessert'], ['even'], ['if'], ['you'], ['need'], ['to'], ['pack'], ['it'], ['togo'], ['the'], ['tiramisu'], ['and'], ['cannoli'], ['are'], ['both'], ['to'], ['die'], ['for'], ['this'], ['was'], ['my'], ['first'], ['time'], ['and'], ['i'], ['cant'], ['wait'], ['until'], ['the'], ['next'], ['the'], ['bartender'], ['was'], ['also'], ['nice'], ['everything'], ['was'], ['good'], ['and'], ['tasty'], ['this'], ['place'], ['is'], ['two'], ['thumbs'], ['upway'], ['up'], ['the'], ['best'], ['place'], ['in'], ['vegas'], ['for'], ['breakfast'], ['just'], ['check'], ['out'], ['a'], ['sat'], ['or'], ['sun'], ['if'], ['you'], ['love'], ['authentic'], ['mexican'], ['food'], ['and'], ['want'], ['a'], ['whole'], ['bunch'], ['of'], ['interesting'], ['yet'], ['delicious'], ['meats'], ['to'], ['choose'], ['from'], ['you'], ['need'], ['to'], ['try'], ['this'], ['place'], ['terrible'], ['management'], ['an'], ['excellent'], ['new'], ['restaurant'], ['by'], ['an'], ['experienced'], ['frenchman'], ['if'], ['there'], ['were'], ['zero'], ['stars'], ['i'], ['would'], ['give'], ['it'], ['zero'], ['stars'], ['great'], ['steak'], ['great'], ['sides'], ['great'], ['wine'], ['amazing'], ['desserts'], ['worst'], ['martini'], ['ever'], ['the'], ['steak'], ['and'], ['the'], ['shrimp'], ['are'], ['in'], ['my'], ['opinion'], ['the'], ['best'], ['entrees'], ['at'], ['gc'], ['i'], ['had'], ['the'], ['opportunity'], ['today'], ['to'], ['sample'], ['your'], ['amazing'], ['pizzas'], ['we'], ['waited'], ['for'], ['thirty'], ['minutes'], ['to'], ['be'], ['seated'], ['although'], ['there'], ['were'], ['vacant'], ['tables'], ['and'], ['we'], ['were'], ['the'], ['only'], ['folks'], ['waiting'], ['the'], ['yellowtail'], ['carpaccio'], ['was'], ['melt'], ['in'], ['your'], ['mouth'], ['fresh'], ['i'], ['wont'], ['try'], ['going'], ['back'], ['there'], ['even'], ['if'], ['its'], ['empty'], ['no'], ['im'], ['going'], ['to'], ['eat'], ['the'], ['potato'], ['that'], ['i'], ['found'], ['some'], ['strangers'], ['hair'], ['in'], ['it'], ['just'], ['spicy'], ['enough'], ['perfect'], ['actually'], ['last'], ['night'], ['was'], ['my'], ['second'], ['time'], ['dining'], ['here'], ['and'], ['i'], ['was'], ['so'], ['happy'], ['i'], ['decided'], ['to'], ['go'], ['back'], ['not'], ['even'], ['a'], ['hello'], ['we'], ['will'], ['be'], ['right'], ['with'], ['you'], ['the'], ['desserts'], ['were'], ['a'], ['bit'], ['strange'], ['my'], ['boyfriend'], ['and'], ['i'], ['came'], ['here'], ['for'], ['the'], ['first'], ['time'], ['on'], ['a'], ['recent'], ['trip'], ['to'], ['vegas'], ['and'], ['could'], ['not'], ['have'], ['been'], ['more'], ['pleased'], ['with'], ['the'], ['quality'], ['of'], ['food'], ['and'], ['service'], ['i'], ['really'], ['do'], ['recommend'], ['this'], ['place'], ['you'], ['can'], ['go'], ['wrong'], ['with'], ['this'], ['donut'], ['place'], ['nice'], ['ambiance'], ['i'], ['would'], ['recommend'], ['saving'], ['room'], ['for'], ['this'], ['i'], ['guess'], ['maybe'], ['we'], ['went'], ['on'], ['an'], ['off'], ['night'], ['but'], ['it'], ['was'], ['disgraceful'], ['however'], ['my'], ['recent'], ['experience'], ['at'], ['this'], ['particular'], ['location'], ['was'], ['not'], ['so'], ['good'], ['i'], ['know'], ['this'], ['is'], ['not'], ['like'], ['the'], ['other'], ['restaurants'], ['at'], ['all'], ['something'], ['is'], ['very'], ['off'], ['here'], ['avoid'], ['this'], ['establishment'], ['i'], ['think'], ['this'], ['restaurant'], ['suffers'], ['from'], ['not'], ['trying'], ['hard'], ['enough'], ['all'], ['of'], ['the'], ['tapas'], ['dishes'], ['were'], ['delicious'], ['i'], ['heart'], ['this'], ['place'], ['my'], ['salad'], ['had'], ['a'], ['bland'], ['vinegrette'], ['on'], ['the'], ['baby'], ['greens'], ['and'], ['hearts'], ['of'], ['palm'], ['after'], ['two'], ['i'], ['felt'], ['disgusting'], ['a'], ['good'], ['time'], ['i'], ['believe'], ['that'], ['this'], ['place'], ['is'], ['a'], ['great'], ['stop'], ['for'], ['those'], ['with'], ['a'], ['huge'], ['belly'], ['and'], ['hankering'], ['for'], ['sushi'], ['generous'], ['portions'], ['and'], ['great'], ['taste'], ['i'], ['will'], ['never'], ['go'], ['back'], ['to'], ['this'], ['place'], ['and'], ['will'], ['never'], ['ever'], ['recommended'], ['this'], ['place'], ['to'], ['anyone'], ['the'], ['servers'], ['went'], ['back'], ['and'], ['forth'], ['several'], ['times'], ['not'], ['even'], ['so'], ['much'], ['as'], ['an'], ['are'], ['you'], ['being'], ['helped'], ['food'], ['was'], ['delicious'], ['an'], ['hour'], ['seriously'], ['i'], ['consider'], ['this'], ['theft'], ['eew'], ['this'], ['location'], ['needs'], ['a'], ['complete'], ['overhaul'], ['we'], ['recently'], ['witnessed'], ['her'], ['poor'], ['quality'], ['of'], ['management'], ['towards'], ['other'], ['guests'], ['as'], ['well'], ['waited'], ['and'], ['waited'], ['and'], ['waited'], ['he'], ['also'], ['came'], ['back'], ['to'], ['check'], ['on'], ['us'], ['regularly'], ['excellent'], ['service'], ['our'], ['server'], ['was'], ['super'], ['nice'], ['and'], ['checked'], ['on'], ['us'], ['many'], ['times'], ['the'], ['pizza'], ['tasted'], ['old'], ['super'], ['chewy'], ['in'], ['not'], ['a'], ['good'], ['way'], ['i'], ['swung'], ['in'], ['to'], ['give'], ['them'], ['a'], ['try'], ['but'], ['was'], ['deeply'], ['disappointed'], ['service'], ['was'], ['good'], ['and'], ['the'], ['company'], ['was'], ['better'], ['the'], ['staff'], ['are'], ['also'], ['very'], ['friendly'], ['and'], ['efficient'], ['as'], ['for'], ['the'], ['service'], ['im'], ['a'], ['fan'], ['because'], ['its'], ['quick'], ['and'], ['youre'], ['being'], ['served'], ['by'], ['some'], ['nice'], ['folks'], ['boy'], ['was'], ['that'], ['sucker'], ['dry'], ['over'], ['rated'], ['if'], ['you'], ['look'], ['for'], ['authentic'], ['thai'], ['food'], ['go'], ['else'], ['where'], ['their'], ['steaks'], ['are'], ['recommended'], ['after'], ['i'], ['pulled'], ['up'], ['my'], ['car'], ['i'], ['waited'], ['for'], ['another'], ['minutes'], ['before'], ['being'], ['acknowledged'], ['great'], ['food'], ['and'], ['great'], ['service'], ['in'], ['a'], ['clean'], ['and'], ['friendly'], ['setting'], ['all'], ['in'], ['all'], ['i'], ['can'], ['assure'], ['you'], ['ill'], ['be'], ['back'], ['i'], ['hate'], ['those'], ['things'], ['as'], ['much'], ['as'], ['cheap'], ['quality'], ['black'], ['olives'], ['my'], ['breakfast'], ['was'], ['perpared'], ['great'], ['with'], ['a'], ['beautiful'], ['presentation'], ['of'], ['giant'], ['slices'], ['of'], ['toast'], ['lightly'], ['dusted'], ['with'], ['powdered'], ['sugar'], ['the'], ['kids'], ['play'], ['area'], ['is'], ['nasty'], ['great'], ['place'], ['fo'], ['take'], ['out'], ['or'], ['eat'], ['in'], ['the'], ['waitress'], ['was'], ['friendly'], ['and'], ['happy'], ['to'], ['accomodate'], ['for'], ['veganveggie'], ['options'], ['omg'], ['i'], ['felt'], ['like'], ['i'], ['had'], ['never'], ['eaten'], ['thai'], ['food'], ['until'], ['this'], ['dish'], ['it'], ['was'], ['extremely'], ['crumby'], ['and'], ['pretty'], ['tasteless'], ['it'], ['was'], ['a'], ['pale'], ['color'], ['instead'], ['of'], ['nice'], ['and'], ['char'], ['and'], ['has'], ['no'], ['flavor'], ['the'], ['croutons'], ['also'], ['taste'], ['homemade'], ['which'], ['is'], ['an'], ['extra'], ['plus'], ['i'], ['got'], ['home'], ['to'], ['see'], ['the'], ['driest'], ['damn'], ['wings'], ['ever'], ['itll'], ['be'], ['a'], ['regular'], ['stop'], ['on'], ['my'], ['trips'], ['to'], ['phoenix'], ['i'], ['really'], ['enjoyed'], ['crema'], ['caf'], ['before'], ['they'], ['expanded'], ['i'], ['even'], ['told'], ['friends'], ['they'], ['had'], ['the'], ['best'], ['breakfast'], ['not'], ['good'], ['for'], ['the'], ['money'], ['i'], ['miss'], ['it'], ['and'], ['wish'], ['they'], ['had'], ['one'], ['in'], ['philadelphia'], ['we'], ['got'], ['sitting'], ['fairly'], ['fast'], ['but'], ['ended'], ['up'], ['waiting'], ['minutes'], ['just'], ['to'], ['place'], ['our'], ['order'], ['another'], ['minutes'], ['before'], ['the'], ['food'], ['arrived'], ['they'], ['also'], ['have'], ['the'], ['best'], ['cheese'], ['crisp'], ['in'], ['town'], ['good'], ['value'], ['great'], ['food'], ['great'], ['service'], ['couldnt'], ['ask'], ['for'], ['a'], ['more'], ['satisfying'], ['meal'], ['the'], ['food'], ['is'], ['good'], ['it'], ['was'], ['awesome'], ['i'], ['just'], ['wanted'], ['to'], ['leave'], ['we'], ['made'], ['the'], ['drive'], ['all'], ['the'], ['way'], ['from'], ['north'], ['scottsdale'], ['and'], ['i'], ['was'], ['not'], ['one'], ['bit'], ['disappointed'], ['i'], ['will'], ['not'], ['be'], ['eating'], ['there'], ['again'], ['the'], ['owners'], ['really'], ['really'], ['need'], ['to'], ['quit'], ['being'], ['soooooo'], ['cheap'], ['let'], ['them'], ['wrap'], ['my'], ['freaking'], ['sandwich'], ['in'], ['two'], ['papers'], ['not'], ['one'], ['i'], ['checked'], ['out'], ['this'], ['place'], ['a'], ['couple'], ['years'], ['ago'], ['and'], ['was'], ['not'], ['impressed'], ['the'], ['chicken'], ['i'], ['got'], ['was'], ['definitely'], ['reheated'], ['and'], ['was'], ['only'], ['ok'], ['the'], ['wedges'], ['were'], ['cold'], ['and'], ['soggy'], ['sorry'], ['i'], ['will'], ['not'], ['be'], ['getting'], ['food'], ['from'], ['here'], ['anytime'], ['soon'], ['an'], ['absolute'], ['must'], ['visit'], ['the'], ['cow'], ['tongue'], ['and'], ['cheek'], ['tacos'], ['are'], ['amazing'], ['my'], ['friend'], ['did'], ['not'], ['like'], ['his'], ['bloody'], ['mary'], ['despite'], ['how'], ['hard'], ['i'], ['rate'], ['businesses'], ['its'], ['actually'], ['rare'], ['for'], ['me'], ['to'], ['give'], ['a'], ['star'], ['they'], ['really'], ['want'], ['to'], ['make'], ['your'], ['experience'], ['a'], ['good'], ['one'], ['i'], ['will'], ['not'], ['return'], ['i'], ['had'], ['the'], ['chicken'], ['pho'], ['and'], ['it'], ['tasted'], ['very'], ['bland'], ['very'], ['disappointing'], ['the'], ['grilled'], ['chicken'], ['was'], ['so'], ['tender'], ['and'], ['yellow'], ['from'], ['the'], ['saffron'], ['seasoning'], ['a'], ['drive'], ['thru'], ['means'], ['you'], ['do'], ['not'], ['want'], ['to'], ['wait'], ['around'], ['for'], ['half'], ['an'], ['hour'], ['for'], ['your'], ['food'], ['but'], ['somehow'], ['when'], ['we'], ['end'], ['up'], ['going'], ['here'], ['they'], ['make'], ['us'], ['wait'], ['and'], ['wait'], ['pretty'], ['awesome'], ['place'], ['ambience'], ['is'], ['perfect'], ['best'], ['of'], ['luck'], ['to'], ['the'], ['rude'], ['and'], ['noncustomer'], ['service'], ['focused'], ['new'], ['management'], ['any'], ['grandmother'], ['can'], ['make'], ['a'], ['roasted'], ['chicken'], ['better'], ['than'], ['this'], ['one'], ['i'], ['asked'], ['multiple'], ['times'], ['for'], ['the'], ['wine'], ['list'], ['and'], ['after'], ['some'], ['time'], ['of'], ['being'], ['ignored'], ['i'], ['went'], ['to'], ['the'], ['hostess'], ['and'], ['got'], ['one'], ['myself'], ['the'], ['staff'], ['is'], ['always'], ['super'], ['friendly'], ['and'], ['helpful'], ['which'], ['is'], ['especially'], ['cool'], ['when'], ['you'], ['bring'], ['two'], ['small'], ['boys'], ['and'], ['a'], ['baby'], ['four'], ['stars'], ['for'], ['the'], ['food'], ['the'], ['guy'], ['in'], ['the'], ['blue'], ['shirt'], ['for'], ['his'], ['great'], ['vibe'], ['still'], ['letting'], ['us'], ['in'], ['to'], ['eat'], ['the'], ['roast'], ['beef'], ['sandwich'], ['tasted'], ['really'], ['good'], ['same'], ['evening'], ['him'], ['and'], ['i'], ['are'], ['both'], ['drastically'], ['sick'], ['highquality'], ['chicken'], ['on'], ['the'], ['chicken'], ['caesar'], ['salad'], ['ordered'], ['burger'], ['rare'], ['came'], ['in'], ['well'], ['done'], ['we'], ['were'], ['promptly'], ['greeted'], ['and'], ['seated'], ['tried'], ['to'], ['go'], ['here'], ['for'], ['lunch'], ['and'], ['it'], ['was'], ['a'], ['madhouse'], ['i'], ['was'], ['proven'], ['dead'], ['wrong'], ['by'], ['this'], ['sushi'], ['bar'], ['not'], ['only'], ['because'], ['the'], ['quality'], ['is'], ['great'], ['but'], ['the'], ['service'], ['is'], ['fast'], ['and'], ['the'], ['food'], ['impeccable'], ['after'], ['waiting'], ['an'], ['hour'], ['and'], ['being'], ['seated'], ['i'], ['was'], ['not'], ['in'], ['the'], ['greatest'], ['of'], ['moods'], ['this'], ['is'], ['a'], ['good'], ['joint'], ['the'], ['macarons'], ['here'], ['are'], ['insanely'], ['good'], ['im'], ['not'], ['eating'], ['here'], ['our'], ['waiter'], ['was'], ['very'], ['attentive'], ['friendly'], ['and'], ['informative'], ['maybe'], ['if'], ['they'], ['werent'], ['cold'], ['they'], ['would'], ['have'], ['been'], ['somewhat'], ['edible'], ['this'], ['place'], ['has'], ['a'], ['lot'], ['of'], ['promise'], ['but'], ['fails'], ['to'], ['deliver'], ['very'], ['bad'], ['experience'], ['what'], ['a'], ['mistake'], ['food'], ['was'], ['average'], ['at'], ['best'], ['great'], ['food'], ['we'], ['wont'], ['be'], ['going'], ['back'], ['anytime'], ['soon'], ['very'], ['very'], ['disappointed'], ['ordered'], ['the'], ['big'], ['bay'], ['plater'], ['great'], ['place'], ['to'], ['relax'], ['and'], ['have'], ['an'], ['awesome'], ['burger'], ['and'], ['beer'], ['it'], ['is'], ['perfect'], ['for'], ['a'], ['sitdown'], ['family'], ['meal'], ['or'], ['get'], ['together'], ['with'], ['a'], ['few'], ['friends'], ['not'], ['much'], ['flavor'], ['to'], ['them'], ['and'], ['very'], ['poorly'], ['constructed'], ['the'], ['patio'], ['seating'], ['was'], ['very'], ['comfortable'], ['the'], ['fried'], ['rice'], ['was'], ['dry'], ['as'], ['well'], ['hands'], ['down'], ['my'], ['favorite'], ['italian'], ['restaurant'], ['that'], ['just'], ['screams'], ['legit'], ['in'], ['my'], ['booksomethats'], ['also'], ['pretty'], ['rare'], ['here'], ['in'], ['vegas'], ['it'], ['was'], ['just'], ['not'], ['a'], ['fun'], ['experience'], ['the'], ['atmosphere'], ['was'], ['great'], ['with'], ['a'], ['lovely'], ['duo'], ['of'], ['violinists'], ['playing'], ['songs'], ['we'], ['requested'], ['i'], ['personally'], ['love'], ['the'], ['hummus'], ['pita'], ['baklava'], ['falafels'], ['and'], ['baba'], ['ganoush'], ['its'], ['amazing'], ['what'], ['they'], ['do'], ['with'], ['eggplant'], ['very'], ['convenient'], ['since'], ['we'], ['were'], ['staying'], ['at'], ['the'], ['mgm'], ['the'], ['owners'], ['are'], ['super'], ['friendly'], ['and'], ['the'], ['staff'], ['is'], ['courteous'], ['both'], ['great'], ['eclectic'], ['selection'], ['the'], ['sweet'], ['potato'], ['tots'], ['were'], ['good'], ['but'], ['the'], ['onion'], ['rings'], ['were'], ['perfection'], ['or'], ['as'], ['close'], ['as'], ['i'], ['have'], ['had'], ['the'], ['staff'], ['was'], ['very'], ['attentive'], ['and'], ['the'], ['chef'], ['was'], ['generous'], ['with'], ['his'], ['time'], ['even'], ['came'], ['around'], ['twice'], ['so'], ['we'], ['can'], ['take'], ['pictures'], ['with'], ['him'], ['the'], ['owner'], ['used'], ['to'], ['work'], ['at'], ['nobu'], ['so'], ['this'], ['place'], ['is'], ['really'], ['similar'], ['for'], ['half'], ['the'], ['price'], ['google'], ['mediocre'], ['and'], ['i'], ['imagine'], ['smashburger'], ['will'], ['pop'], ['up'], ['dont'], ['go'], ['here'], ['i'], ['promise'], ['they'], ['wont'], ['disappoint'], ['as'], ['a'], ['sushi'], ['lover'], ['avoid'], ['this'], ['place'], ['by'], ['all'], ['means'], ['what'], ['a'], ['great'], ['double'], ['cheeseburger'], ['awesome'], ['service'], ['and'], ['food'], ['a'], ['fantastic'], ['neighborhood'], ['gem'], ['i'], ['cant'], ['wait'], ['to'], ['go'], ['back'], ['the'], ['plantains'], ['were'], ['the'], ['worst'], ['ive'], ['ever'], ['tasted'], ['its'], ['a'], ['great'], ['place'], ['and'], ['i'], ['highly'], ['recommend'], ['it'], ['service'], ['was'], ['slow'], ['and'], ['not'], ['attentive'], ['i'], ['gave'], ['it'], ['stars'], ['then'], ['and'], ['im'], ['giving'], ['it'], ['stars'], ['now'], ['your'], ['staff'], ['spends'], ['more'], ['time'], ['talking'], ['to'], ['themselves'], ['than'], ['me'], ['dessert'], ['panna'], ['cotta'], ['was'], ['amazing'], ['very'], ['good'], ['food'], ['great'], ['atmosphere'], ['damn'], ['good'], ['steak'], ['total'], ['brunch'], ['fail'], ['prices'], ['are'], ['very'], ['reasonable'], ['flavors'], ['are'], ['spot'], ['on'], ['the'], ['sauce'], ['is'], ['home'], ['made'], ['and'], ['the'], ['slaw'], ['is'], ['not'], ['drenched'], ['in'], ['mayo'], ['the'], ['decor'], ['is'], ['nice'], ['and'], ['the'], ['piano'], ['music'], ['soundtrack'], ['is'], ['pleasant'], ['the'], ['steak'], ['was'], ['amazingrge'], ['fillet'], ['relleno'], ['was'], ['the'], ['best'], ['seafood'], ['plate'], ['i'], ['have'], ['ever'], ['had'], ['good'], ['food'], ['good'], ['service'], ['it'], ['was'], ['absolutely'], ['amazing'], ['i'], ['probably'], ['wont'], ['be'], ['back'], ['to'], ['be'], ['honest'], ['will'], ['definitely'], ['be'], ['back'], ['the'], ['sergeant'], ['pepper'], ['beef'], ['sandwich'], ['with'], ['auju'], ['sauce'], ['is'], ['an'], ['excellent'], ['sandwich'], ['as'], ['well'], ['hawaiian'], ['breeze'], ['mango'], ['magic'], ['and'], ['pineapple'], ['delight'], ['are'], ['the'], ['smoothies'], ['that'], ['ive'], ['tried'], ['so'], ['far'], ['and'], ['theyre'], ['all'], ['good'], ['went'], ['for'], ['lunch'], ['service'], ['was'], ['slow'], ['we'], ['had'], ['so'], ['much'], ['to'], ['say'], ['about'], ['the'], ['place'], ['before'], ['we'], ['walked'], ['in'], ['that'], ['he'], ['expected'], ['it'], ['to'], ['be'], ['amazing'], ['but'], ['was'], ['quickly'], ['disappointed'], ['i'], ['was'], ['mortified'], ['needless'], ['to'], ['say'], ['we'], ['will'], ['never'], ['be'], ['back'], ['here'], ['again'], ['anyways'], ['the'], ['food'], ['was'], ['definitely'], ['not'], ['filling'], ['at'], ['all'], ['and'], ['for'], ['the'], ['price'], ['you'], ['pay'], ['you'], ['should'], ['expect'], ['more'], ['the'], ['chips'], ['that'], ['came'], ['out'], ['were'], ['dripping'], ['with'], ['grease'], ['and'], ['mostly'], ['not'], ['edible'], ['i'], ['wasnt'], ['really'], ['impressed'], ['with'], ['strip'], ['steak'], ['have'], ['been'], ['going'], ['since'], ['and'], ['every'], ['meal'], ['has'], ['been'], ['awesome'], ['our'], ['server'], ['was'], ['very'], ['nice'], ['and'], ['attentive'], ['as'], ['were'], ['the'], ['other'], ['serving'], ['staff'], ['the'], ['cashier'], ['was'], ['friendly'], ['and'], ['even'], ['brought'], ['the'], ['food'], ['out'], ['to'], ['me'], ['i'], ['work'], ['in'], ['the'], ['hospitality'], ['industry'], ['in'], ['paradise'], ['valley'], ['and'], ['have'], ['refrained'], ['from'], ['recommending'], ['cibo'], ['any'], ['longer'], ['the'], ['atmosphere'], ['here'], ['is'], ['fun'], ['would'], ['not'], ['recommend'], ['to'], ['others'], ['service'], ['is'], ['quick'], ['and'], ['even'], ['to'], ['go'], ['orders'], ['are'], ['just'], ['like'], ['we'], ['like'], ['it'], ['i'], ['mean'], ['really'], ['how'], ['do'], ['you'], ['get'], ['so'], ['famous'], ['for'], ['your'], ['fish'], ['and'], ['chips'], ['when'], ['its'], ['so'], ['terrible'], ['that'], ['said'], ['our'], ['mouths'], ['and'], ['bellies'], ['were'], ['still'], ['quite'], ['pleased'], ['not'], ['my'], ['thing'], ['thumbs'], ['up'], ['if'], ['you'], ['are'], ['reading'], ['this'], ['please'], ['dont'], ['go'], ['there'], ['i'], ['loved'], ['the'], ['grilled'], ['pizza'], ['reminded'], ['me'], ['of'], ['legit'], ['italian'], ['pizza'], ['only'], ['pros'], ['large'], ['seating'], ['area'], ['nice'], ['bar'], ['area'], ['great'], ['simple'], ['drink'], ['menu'], ['the'], ['best'], ['brick'], ['oven'], ['pizza'], ['with'], ['homemade'], ['dough'], ['they'], ['have'], ['a'], ['really'], ['nice'], ['atmosphere'], ['tonight'], ['i'], ['had'], ['the'], ['elk'], ['filet'], ['specialand'], ['it'], ['sucked'], ['after'], ['one'], ['bite'], ['i'], ['was'], ['hooked'], ['we'], ['ordered'], ['some'], ['old'], ['classics'], ['and'], ['some'], ['new'], ['dishes'], ['after'], ['going'], ['there'], ['a'], ['few'], ['times'], ['and'], ['were'], ['sorely'], ['disappointed'], ['with'], ['everything'], ['cute'], ['quaint'], ['simple'], ['honest'], ['the'], ['chicken'], ['was'], ['deliciously'], ['seasoned'], ['and'], ['had'], ['the'], ['perfect'], ['fry'], ['on'], ['the'], ['outside'], ['and'], ['moist'], ['chicken'], ['on'], ['the'], ['inside'], ['the'], ['food'], ['was'], ['great'], ['as'], ['always'], ['compliments'], ['to'], ['the'], ['chef'], ['special'], ['thanks'], ['to'], ['dylan'], ['t'], ['for'], ['the'], ['recommendation'], ['on'], ['what'], ['to'], ['order'], ['all'], ['yummy'], ['for'], ['my'], ['tummy'], ['awesome'], ['selection'], ['of'], ['beer'], ['great'], ['food'], ['and'], ['awesome'], ['service'], ['one'], ['nice'], ['thing'], ['was'], ['that'], ['they'], ['added'], ['gratuity'], ['on'], ['the'], ['bill'], ['since'], ['our'], ['party'], ['was'], ['larger'], ['than'], ['or'], ['and'], ['they'], ['didnt'], ['expect'], ['more'], ['tip'], ['than'], ['that'], ['a'], ['fly'], ['was'], ['in'], ['my'], ['apple'], ['juice'], ['a'], ['fly'], ['the'], ['han'], ['nan'], ['chicken'], ['was'], ['also'], ['very'], ['tasty'], ['as'], ['for'], ['the'], ['service'], ['i'], ['thought'], ['it'], ['was'], ['good'], ['the'], ['food'], ['was'], ['barely'], ['lukewarm'], ['so'], ['it'], ['must'], ['have'], ['been'], ['sitting'], ['waiting'], ['for'], ['the'], ['server'], ['to'], ['bring'], ['it'], ['out'], ['to'], ['us'], ['ryans'], ['bar'], ['is'], ['definitely'], ['one'], ['edinburgh'], ['establishment'], ['i'], ['wont'], ['be'], ['revisiting'], ['nicest'], ['chinese'], ['restaurant'], ['ive'], ['been'], ['in'], ['a'], ['while'], ['overall'], ['i'], ['like'], ['there'], ['food'], ['and'], ['the'], ['service'], ['they'], ['also'], ['now'], ['serve'], ['indian'], ['naan'], ['bread'], ['with'], ['hummus'], ['and'], ['some'], ['spicy'], ['pine'], ['nut'], ['sauce'], ['that'], ['was'], ['out'], ['of'], ['this'], ['world'], ['probably'], ['never'], ['coming'], ['back'], ['and'], ['wouldnt'], ['recommend'], ['it'], ['friends'], ['pasta'], ['also'], ['bad'], ['he'], ['barely'], ['touched'], ['it'], ['try'], ['them'], ['in'], ['the'], ['airport'], ['to'], ['experience'], ['some'], ['tasty'], ['food'], ['and'], ['speedy'], ['friendly'], ['service'], ['i'], ['love'], ['the'], ['decor'], ['with'], ['the'], ['chinese'], ['calligraphy'], ['wall'], ['paper'], ['never'], ['had'], ['anything'], ['to'], ['complain'], ['about'], ['here'], ['the'], ['restaurant'], ['is'], ['very'], ['clean'], ['and'], ['has'], ['a'], ['family'], ['restaurant'], ['feel'], ['to'], ['it'], ['it'], ['was'], ['way'], ['over'], ['fried'], ['im'], ['not'], ['sure'], ['how'], ['long'], ['we'], ['stood'], ['there'], ['but'], ['it'], ['was'], ['long'], ['enough'], ['for'], ['me'], ['to'], ['begin'], ['to'], ['feel'], ['awkwardly'], ['out'], ['of'], ['place'], ['when'], ['i'], ['opened'], ['the'], ['sandwich'], ['i'], ['was'], ['impressed'], ['but'], ['not'], ['in'], ['a'], ['good'], ['way'], ['will'], ['not'], ['be'], ['back'], ['there'], ['was'], ['a'], ['warm'], ['feeling'], ['with'], ['the'], ['service'], ['and'], ['i'], ['felt'], ['like'], ['their'], ['guest'], ['for'], ['a'], ['special'], ['treat'], ['an'], ['extensive'], ['menu'], ['provides'], ['lots'], ['of'], ['options'], ['for'], ['breakfast'], ['i'], ['always'], ['order'], ['from'], ['the'], ['vegetarian'], ['menu'], ['during'], ['dinner'], ['which'], ['has'], ['a'], ['wide'], ['array'], ['of'], ['options'], ['to'], ['choose'], ['from'], ['i'], ['have'], ['watched'], ['their'], ['prices'], ['inflate'], ['portions'], ['get'], ['smaller'], ['and'], ['management'], ['attitudes'], ['grow'], ['rapidly'], ['wonderful'], ['lil'], ['tapas'], ['and'], ['the'], ['ambience'], ['made'], ['me'], ['feel'], ['all'], ['warm'], ['and'], ['fuzzy'], ['inside'], ['i'], ['got'], ['to'], ['enjoy'], ['the'], ['seafood'], ['salad'], ['with'], ['a'], ['fabulous'], ['vinegrette'], ['the'], ['wontons'], ['were'], ['thin'], ['not'], ['thick'], ['and'], ['chewy'], ['almost'], ['melt'], ['in'], ['your'], ['mouth'], ['level'], ['spicy'], ['was'], ['perfect'], ['where'], ['spice'], ['didnt'], ['overwhelm'], ['the'], ['soup'], ['we'], ['were'], ['sat'], ['right'], ['on'], ['time'], ['and'], ['our'], ['server'], ['from'], ['the'], ['get'], ['go'], ['was'], ['fantastic'], ['main'], ['thing'], ['i'], ['didnt'], ['enjoy'], ['is'], ['that'], ['the'], ['crowd'], ['is'], ['of'], ['older'], ['crowd'], ['around'], ['mid'], ['s'], ['and'], ['up'], ['when'], ['im'], ['on'], ['this'], ['side'], ['of'], ['town'], ['this'], ['will'], ['definitely'], ['be'], ['a'], ['spot'], ['ill'], ['hit'], ['up'], ['again'], ['i'], ['had'], ['to'], ['wait'], ['over'], ['minutes'], ['to'], ['get'], ['my'], ['drink'], ['and'], ['longer'], ['to'], ['get'], ['arepas'], ['this'], ['is'], ['a'], ['great'], ['place'], ['to'], ['eat'], ['the'], ['jalapeno'], ['bacon'], ['is'], ['soooo'], ['good'], ['the'], ['service'], ['was'], ['poor'], ['and'], ['thats'], ['being'], ['nice'], ['food'], ['was'], ['good'], ['service'], ['was'], ['good'], ['prices'], ['were'], ['good'], ['the'], ['place'], ['was'], ['not'], ['clean'], ['and'], ['the'], ['food'], ['oh'], ['so'], ['stale'], ['the'], ['chicken'], ['dishes'], ['are'], ['ok'], ['the'], ['beef'], ['is'], ['like'], ['shoe'], ['leather'], ['but'], ['the'], ['service'], ['was'], ['beyond'], ['bad'], ['im'], ['so'], ['happy'], ['to'], ['be'], ['here'], ['tasted'], ['like'], ['dirt'], ['one'], ['of'], ['the'], ['few'], ['places'], ['in'], ['phoenix'], ['that'], ['i'], ['would'], ['definately'], ['go'], ['back'], ['to'], ['again'], ['the'], ['block'], ['was'], ['amazing'], ['its'], ['close'], ['to'], ['my'], ['house'], ['its'], ['lowkey'], ['nonfancy'], ['affordable'], ['prices'], ['good'], ['food'], ['both'], ['the'], ['hot'], ['sour'], ['the'], ['egg'], ['flower'], ['soups'], ['were'], ['absolutely'], ['stars'], ['my'], ['sashimi'], ['was'], ['poor'], ['quality'], ['being'], ['soggy'], ['and'], ['tasteless'], ['great'], ['time'], ['family'], ['dinner'], ['on'], ['a'], ['sunday'], ['night'], ['the'], ['food'], ['is'], ['not'], ['tasty'], ['at'], ['all'], ['not'], ['to'], ['say'], ['its'], ['real'], ['traditional'], ['hunan'], ['style'], ['what'], ['did'], ['bother'], ['me'], ['was'], ['the'], ['slow'], ['service'], ['the'], ['flair'], ['bartenders'], ['are'], ['absolutely'], ['amazing'], ['their'], ['frozen'], ['margaritas'], ['are'], ['way'], ['too'], ['sugary'], ['for'], ['my'], ['taste'], ['these'], ['were'], ['so'], ['good'], ['we'], ['ordered'], ['them'], ['twice'], ['so'], ['in'], ['a'], ['nutshell'], ['the'], ['restaraunt'], ['smells'], ['like'], ['a'], ['combination'], ['of'], ['a'], ['dirty'], ['fish'], ['market'], ['and'], ['a'], ['sewer'], ['my'], ['girlfriends'], ['veal'], ['was'], ['very'], ['bad'], ['unfortunately'], ['it'], ['was'], ['not'], ['good'], ['i'], ['had'], ['a'], ['pretty'], ['satifying'], ['experience'], ['join'], ['the'], ['club'], ['and'], ['get'], ['awesome'], ['offers'], ['via'], ['email'], ['perfect'], ['for'], ['someone'], ['me'], ['who'], ['only'], ['likes'], ['beer'], ['ice'], ['cold'], ['or'], ['in'], ['this'], ['case'], ['even'], ['colder'], ['bland'], ['and'], ['flavorless'], ['is'], ['a'], ['good'], ['way'], ['of'], ['describing'], ['the'], ['barely'], ['tepid'], ['meat'], ['the'], ['chains'], ['which'], ['im'], ['no'], ['fan'], ['of'], ['beat'], ['this'], ['place'], ['easily'], ['the'], ['nachos'], ['are'], ['a'], ['must'], ['have'], ['we'], ['will'], ['not'], ['be'], ['coming'], ['back'], ['i'], ['dont'], ['have'], ['very'], ['many'], ['words'], ['to'], ['say'], ['about'], ['this'], ['place'], ['but'], ['it'], ['does'], ['everything'], ['pretty'], ['well'], ['the'], ['staff'], ['is'], ['super'], ['nice'], ['and'], ['very'], ['quick'], ['even'], ['with'], ['the'], ['crazy'], ['crowds'], ['of'], ['the'], ['downtown'], ['juries'], ['lawyers'], ['and'], ['court'], ['staff'], ['great'], ['atmosphere'], ['friendly'], ['and'], ['fast'], ['service'], ['when'], ['i'], ['received'], ['my'], ['pita'], ['it'], ['was'], ['huge'], ['it'], ['did'], ['have'], ['a'], ['lot'], ['of'], ['meat'], ['in'], ['it'], ['so'], ['thumbs'], ['up'], ['there'], ['once'], ['your'], ['food'], ['arrives'], ['its'], ['meh'], ['paying'], ['for'], ['a'], ['hot'], ['dog'], ['and'], ['fries'], ['that'], ['looks'], ['like'], ['it'], ['came'], ['out'], ['of'], ['a'], ['kids'], ['meal'], ['at'], ['the'], ['wienerschnitzel'], ['is'], ['not'], ['my'], ['idea'], ['of'], ['a'], ['good'], ['meal'], ['the'], ['classic'], ['maine'], ['lobster'], ['roll'], ['was'], ['fantastic'], ['my'], ['brother'], ['in'], ['law'], ['who'], ['works'], ['at'], ['the'], ['mall'], ['ate'], ['here'], ['same'], ['day'], ['and'], ['guess'], ['what'], ['he'], ['was'], ['sick'], ['all'], ['night'], ['too'], ['so'], ['good'], ['i'], ['am'], ['going'], ['to'], ['have'], ['to'], ['review'], ['this'], ['place'], ['twice'], ['once'], ['hereas'], ['a'], ['tribute'], ['to'], ['the'], ['place'], ['and'], ['once'], ['as'], ['a'], ['tribute'], ['to'], ['an'], ['event'], ['held'], ['here'], ['last'], ['night'], ['the'], ['chips'], ['and'], ['salsa'], ['were'], ['really'], ['good'], ['the'], ['salsa'], ['was'], ['very'], ['fresh'], ['this'], ['place'], ['is'], ['great'], ['mediocre'], ['food'], ['once'], ['you'], ['get'], ['inside'], ['youll'], ['be'], ['impressed'], ['with'], ['the'], ['place'], ['im'], ['super'], ['pissd'], ['and'], ['service'], ['was'], ['super'], ['friendly'], ['why'], ['are'], ['these'], ['sad'], ['little'], ['vegetables'], ['so'], ['overcooked'], ['this'], ['place'], ['was'], ['such'], ['a'], ['nice'], ['surprise'], ['they'], ['were'], ['goldencrispy'], ['and'], ['delicious'], ['i'], ['had'], ['high'], ['hopes'], ['for'], ['this'], ['place'], ['since'], ['the'], ['burgers'], ['are'], ['cooked'], ['over'], ['a'], ['charcoal'], ['grill'], ['but'], ['unfortunately'], ['the'], ['taste'], ['fell'], ['flat'], ['way'], ['flat'], ['i'], ['could'], ['eat'], ['their'], ['bruschetta'], ['all'], ['day'], ['it'], ['is'], ['devine'], ['not'], ['a'], ['single'], ['employee'], ['came'], ['out'], ['to'], ['see'], ['if'], ['we'], ['were'], ['ok'], ['or'], ['even'], ['needed'], ['a'], ['water'], ['refill'], ['once'], ['they'], ['finally'], ['served'], ['us'], ['our'], ['food'], ['lastly'], ['the'], ['mozzarella'], ['sticks'], ['they'], ['were'], ['the'], ['best'], ['thing'], ['we'], ['ordered'], ['the'], ['first'], ['time'], ['i'], ['ever'], ['came'], ['here'], ['i'], ['had'], ['an'], ['amazing'], ['experience'], ['i'], ['still'], ['tell'], ['people'], ['how'], ['awesome'], ['the'], ['duck'], ['was'], ['the'], ['server'], ['was'], ['very'], ['negligent'], ['of'], ['our'], ['needs'], ['and'], ['made'], ['us'], ['feel'], ['very'], ['unwelcome'], ['i'], ['would'], ['not'], ['suggest'], ['this'], ['place'], ['the'], ['service'], ['was'], ['terrible'], ['though'], ['this'], ['place'], ['is'], ['overpriced'], ['not'], ['consistent'], ['with'], ['their'], ['boba'], ['and'], ['it'], ['really'], ['is'], ['overpriced'], ['it'], ['was'], ['packed'], ['i'], ['love'], ['this'], ['place'], ['i'], ['can'], ['say'], ['that'], ['the'], ['desserts'], ['were'], ['yummy'], ['the'], ['food'], ['was'], ['terrible'], ['the'], ['seasonal'], ['fruit'], ['was'], ['fresh'], ['white'], ['peach'], ['puree'], ['it'], ['kept'], ['getting'], ['worse'], ['and'], ['worse'], ['so'], ['now'], ['im'], ['officially'], ['done'], ['this'], ['place'], ['should'], ['honestly'], ['be'], ['blown'], ['up'], ['but'], ['i'], ['definitely'], ['would'], ['not'], ['eat'], ['here'], ['again'], ['do'], ['not'], ['waste'], ['your'], ['money'], ['here'], ['i'], ['love'], ['that'], ['they'], ['put'], ['their'], ['food'], ['in'], ['nice'], ['plastic'], ['containers'], ['as'], ['opposed'], ['to'], ['cramming'], ['it'], ['in'], ['little'], ['paper'], ['takeout'], ['boxes'], ['the'], ['crpe'], ['was'], ['delicate'], ['and'], ['thin'], ['and'], ['moist'], ['awful'], ['service'], ['wont'], ['ever'], ['go'], ['here'], ['again'], ['food'], ['quality'], ['has'], ['been'], ['horrible'], ['for'], ['that'], ['price'], ['i'], ['can'], ['think'], ['of'], ['a'], ['few'], ['place'], ['i'], ['would'], ['have'], ['much'], ['rather'], ['gone'], ['the'], ['service'], ['here'], ['is'], ['fair'], ['at'], ['best'], ['i'], ['do'], ['love'], ['sushi'], ['but'], ['i'], ['found'], ['kabuki'], ['to'], ['be'], ['overpriced'], ['overhip'], ['and'], ['underservices'], ['do'], ['yourself'], ['a'], ['favor'], ['and'], ['stay'], ['away'], ['from'], ['this'], ['dish'], ['very'], ['poor'], ['service'], ['no'], ['one'], ['at'], ['the'], ['table'], ['thought'], ['the'], ['food'], ['was'], ['above'], ['average'], ['or'], ['worth'], ['the'], ['wait'], ['that'], ['we'], ['had'], ['for'], ['it'], ['best'], ['service'], ['and'], ['food'], ['ever'], ['maria'], ['our'], ['server'], ['was'], ['so'], ['good'], ['and'], ['friendly'], ['she'], ['made'], ['our'], ['day'], ['they'], ['were'], ['excellent'], ['i'], ['paid'], ['the'], ['bill'], ['but'], ['did'], ['not'], ['tip'], ['because'], ['i'], ['felt'], ['the'], ['server'], ['did'], ['a'], ['terrible'], ['job'], ['just'], ['had'], ['lunch'], ['here'], ['and'], ['had'], ['a'], ['great'], ['experience'], ['i'], ['have'], ['never'], ['had'], ['such'], ['bland'], ['food'], ['which'], ['surprised'], ['me'], ['considering'], ['the'], ['article'], ['we'], ['read'], ['focused'], ['so'], ['much'], ['on'], ['their'], ['spices'], ['and'], ['flavor'], ['food'], ['is'], ['way'], ['overpriced'], ['and'], ['portions'], ['are'], ['fucking'], ['small'], ['i'], ['recently'], ['tried'], ['caballeros'], ['and'], ['i'], ['have'], ['been'], ['back'], ['every'], ['week'], ['since'], ['for'], ['bucks'], ['a'], ['head'], ['i'], ['really'], ['expect'], ['better'], ['food'], ['the'], ['food'], ['came'], ['out'], ['at'], ['a'], ['good'], ['pace'], ['i'], ['ate'], ['there'], ['twice'], ['on'], ['my'], ['last'], ['visit'], ['and'], ['especially'], ['enjoyed'], ['the'], ['salmon'], ['salad'], ['i'], ['wont'], ['be'], ['back'], ['we'], ['could'], ['not'], ['believe'], ['how'], ['dirty'], ['the'], ['oysters'], ['were'], ['this'], ['place'], ['deserves'], ['no'], ['stars'], ['i'], ['would'], ['not'], ['recommend'], ['this'], ['place'], ['in'], ['fact'], ['im'], ['going'], ['to'], ['round'], ['up'], ['to'], ['stars'], ['just'], ['because'], ['she'], ['was'], ['so'], ['awesome'], ['to'], ['my'], ['disbelief'], ['each'], ['dish'], ['qualified'], ['as'], ['the'], ['worst'], ['version'], ['of'], ['these'], ['foods'], ['i'], ['have'], ['ever'], ['tasted'], ['bad'], ['day'], ['or'], ['not'], ['i'], ['have'], ['a'], ['very'], ['low'], ['tolerance'], ['for'], ['rude'], ['customer'], ['service'], ['people'], ['it'], ['is'], ['your'], ['job'], ['to'], ['be'], ['nice'], ['and'], ['polite'], ['wash'], ['dishes'], ['otherwise'], ['the'], ['potatoes'], ['were'], ['great'], ['and'], ['so'], ['was'], ['the'], ['biscuit'], ['i'], ['probably'], ['would'], ['not'], ['go'], ['here'], ['again'], ['so'], ['flavorful'], ['and'], ['has'], ['just'], ['the'], ['perfect'], ['amount'], ['of'], ['heat'], ['the'], ['price'], ['is'], ['reasonable'], ['and'], ['the'], ['service'], ['is'], ['great'], ['the'], ['wife'], ['hated'], ['her'], ['meal'], ['coconut'], ['shrimp'], ['and'], ['our'], ['friends'], ['really'], ['did'], ['not'], ['enjoy'], ['their'], ['meals'], ['either'], ['my'], ['fella'], ['got'], ['the'], ['huevos'], ['rancheros'], ['and'], ['they'], ['didnt'], ['look'], ['too'], ['appealing'], ['went'], ['in'], ['for'], ['happy'], ['hour'], ['great'], ['list'], ['of'], ['wines'], ['some'], ['may'], ['say'], ['this'], ['buffet'], ['is'], ['pricey'], ['but'], ['i'], ['think'], ['you'], ['get'], ['what'], ['you'], ['pay'], ['for'], ['and'], ['this'], ['place'], ['you'], ['are'], ['getting'], ['quite'], ['a'], ['lot'], ['i'], ['probably'], ['wont'], ['be'], ['coming'], ['back'], ['here'], ['worst'], ['foodservice'], ['ive'], ['had'], ['in'], ['a'], ['while'], ['this'], ['place'], ['is'], ['pretty'], ['good'], ['nice'], ['little'], ['vibe'], ['in'], ['the'], ['restaurant'], ['talk'], ['about'], ['great'], ['customer'], ['service'], ['of'], ['course'], ['we'], ['will'], ['be'], ['back'], ['hot'], ['dishes'], ['are'], ['not'], ['hot'], ['cold'], ['dishes'], ['are'], ['close'], ['to'], ['room'], ['tempi'], ['watched'], ['staff'], ['prepare'], ['food'], ['with'], ['bare'], ['hands'], ['no'], ['gloveseverything'], ['is'], ['deep'], ['fried'], ['in'], ['oil'], ['i'], ['love'], ['their'], ['fries'], ['and'], ['their'], ['beans'], ['always'], ['a'], ['pleasure'], ['dealing'], ['with'], ['him'], ['they'], ['have'], ['a'], ['plethora'], ['of'], ['salads'], ['and'], ['sandwiches'], ['and'], ['everything'], ['ive'], ['tried'], ['gets'], ['my'], ['seal'], ['of'], ['approval'], ['this'], ['place'], ['is'], ['awesome'], ['if'], ['you'], ['want'], ['something'], ['light'], ['and'], ['healthy'], ['during'], ['the'], ['summer'], ['for'], ['sushi'], ['on'], ['the'], ['strip'], ['this'], ['is'], ['the'], ['place'], ['to'], ['go'], ['the'], ['service'], ['was'], ['great'], ['even'], ['the'], ['manager'], ['came'], ['and'], ['helped'], ['with'], ['our'], ['table'], ['the'], ['feel'], ['of'], ['the'], ['dining'], ['room'], ['was'], ['more'], ['college'], ['cooking'], ['course'], ['than'], ['high'], ['class'], ['dining'], ['and'], ['the'], ['service'], ['was'], ['slow'], ['at'], ['best'], ['i'], ['started'], ['this'], ['review'], ['with'], ['two'], ['stars'], ['but'], ['im'], ['editing'], ['it'], ['to'], ['give'], ['it'], ['only'], ['one'], ['this'], ['is'], ['the'], ['worst'], ['sushi'], ['i'], ['have'], ['ever'], ['eat'], ['besides'], ['costcos'], ['all'], ['in'], ['all'], ['an'], ['excellent'], ['restaurant'], ['highlighted'], ['by'], ['great'], ['service'], ['a'], ['unique'], ['menu'], ['and'], ['a'], ['beautiful'], ['setting'], ['my'], ['boyfriend'], ['and'], ['i'], ['sat'], ['at'], ['the'], ['bar'], ['and'], ['had'], ['a'], ['completely'], ['delightful'], ['experience'], ['weird'], ['vibe'], ['from'], ['owners'], ['there'], ['was'], ['hardly'], ['any'], ['meat'], ['ive'], ['had'], ['better'], ['bagels'], ['from'], ['the'], ['grocery'], ['store'], ['go'], ['to'], ['place'], ['for'], ['gyros'], ['i'], ['love'], ['the'], ['ownerchef'], ['his'], ['one'], ['authentic'], ['japanese'], ['cool'], ['dude'], ['now'], ['the'], ['burgers'], ['arent'], ['as'], ['good'], ['the'], ['pizza'], ['which'], ['used'], ['to'], ['be'], ['amazing'], ['is'], ['doughy'], ['and'], ['flavorless'], ['i'], ['found'], ['a'], ['six'], ['inch'], ['long'], ['piece'], ['of'], ['wire'], ['in'], ['my'], ['salsa'], ['the'], ['service'], ['was'], ['terrible'], ['food'], ['was'], ['mediocre'], ['we'], ['definately'], ['enjoyed'], ['ourselves'], ['i'], ['ordered'], ['albondigas'], ['soup'], ['which'], ['was'], ['just'], ['warm'], ['and'], ['tasted'], ['like'], ['tomato'], ['soup'], ['with'], ['frozen'], ['meatballs'], ['on'], ['three'], ['different'], ['occasions'], ['i'], ['asked'], ['for'], ['well'], ['done'], ['or'], ['medium'], ['well'], ['and'], ['all'], ['three'], ['times'], ['i'], ['got'], ['the'], ['bloodiest'], ['piece'], ['of'], ['meat'], ['on'], ['my'], ['plate'], ['i'], ['had'], ['about'], ['two'], ['bites'], ['and'], ['refused'], ['to'], ['eat'], ['anymore'], ['the'], ['service'], ['was'], ['extremely'], ['slow'], ['after'], ['minutes'], ['wait'], ['i'], ['got'], ['a'], ['table'], ['seriously'], ['killer'], ['hot'], ['chai'], ['latte'], ['no'], ['allergy'], ['warnings'], ['on'], ['the'], ['menu'], ['and'], ['the'], ['waitress'], ['had'], ['absolutely'], ['no'], ['clue'], ['as'], ['to'], ['which'], ['meals'], ['did'], ['or'], ['did'], ['not'], ['contain'], ['peanuts'], ['my'], ['boyfriend'], ['tried'], ['the'], ['mediterranean'], ['chicken'], ['salad'], ['and'], ['fell'], ['in'], ['love'], ['their'], ['rotating'], ['beers'], ['on'], ['tap'], ['is'], ['also'], ['a'], ['highlight'], ['of'], ['this'], ['place'], ['pricing'], ['is'], ['a'], ['bit'], ['of'], ['a'], ['concern'], ['at'], ['mellow'], ['mushroom'], ['worst'], ['thai'], ['ever'], ['if'], ['you'], ['stay'], ['in'], ['vegas'], ['you'], ['must'], ['get'], ['breakfast'], ['here'], ['at'], ['least'], ['once'], ['i'], ['want'], ['to'], ['first'], ['say'], ['our'], ['server'], ['was'], ['great'], ['and'], ['we'], ['had'], ['perfect'], ['service'], ['the'], ['pizza'], ['selections'], ['are'], ['good'], ['i'], ['had'], ['strawberry'], ['tea'], ['which'], ['was'], ['good'], ['highly'], ['unprofessional'], ['and'], ['rude'], ['to'], ['a'], ['loyal'], ['patron'], ['overall'], ['a'], ['great'], ['experience'], ['spend'], ['your'], ['money'], ['elsewhere'], ['their'], ['regular'], ['toasted'], ['bread'], ['was'], ['equally'], ['satisfying'], ['with'], ['the'], ['occasional'], ['pats'], ['of'], ['butter'], ['mmmm'], ['the'], ['buffet'], ['at'], ['bellagio'], ['was'], ['far'], ['from'], ['what'], ['i'], ['anticipated'], ['and'], ['the'], ['drinks'], ['are'], ['weak'], ['people'], ['my'], ['order'], ['was'], ['not'], ['correct'], ['also'], ['i'], ['feel'], ['like'], ['the'], ['chips'], ['are'], ['bought'], ['not'], ['made'], ['in'], ['house'], ['after'], ['the'], ['disappointing'], ['dinner'], ['we'], ['went'], ['elsewhere'], ['for'], ['dessert'], ['the'], ['chips'], ['and'], ['sals'], ['a'], ['here'], ['is'], ['amazing'], ['we'], ['wont'], ['be'], ['returning'], ['this'], ['is'], ['my'], ['new'], ['fav'], ['vegas'], ['buffet'], ['spot'], ['i'], ['seriously'], ['cannot'], ['believe'], ['that'], ['the'], ['owner'], ['has'], ['so'], ['many'], ['unexperienced'], ['employees'], ['that'], ['all'], ['are'], ['running'], ['around'], ['like'], ['chickens'], ['with'], ['their'], ['heads'], ['cut'], ['off'], ['very'], ['very'], ['sad'], ['i'], ['felt'], ['insulted'], ['and'], ['disrespected'], ['how'], ['could'], ['you'], ['talk'], ['and'], ['judge'], ['another'], ['human'], ['being'], ['like'], ['that'], ['how'], ['can'], ['you'], ['call'], ['yourself'], ['a'], ['steakhouse'], ['if'], ['you'], ['cant'], ['properly'], ['cook'], ['a'], ['steak'], ['i'], ['dont'], ['understand'], ['im'], ['not'], ['impressed'], ['with'], ['the'], ['concept'], ['or'], ['the'], ['food'], ['the'], ['only'], ['thing'], ['i'], ['wasnt'], ['too'], ['crazy'], ['about'], ['was'], ['their'], ['guacamole'], ['as'], ['i'], ['dont'], ['like'], ['it'], ['pured'], ['there'], ['is'], ['really'], ['nothing'], ['for'], ['me'], ['at'], ['postinos'], ['hope'], ['your'], ['experience'], ['is'], ['better'], ['i'], ['got'], ['food'], ['poisoning'], ['here'], ['at'], ['the'], ['buffet'], ['they'], ['brought'], ['a'], ['fresh'], ['batch'], ['of'], ['fries'], ['and'], ['i'], ['was'], ['thinking'], ['yay'], ['something'], ['warm'], ['but'], ['no'], ['what'], ['should'], ['have'], ['been'], ['a'], ['hilarious'], ['yummy'], ['christmas'], ['eve'], ['dinner'], ['to'], ['remember'], ['was'], ['the'], ['biggest'], ['fail'], ['of'], ['the'], ['entire'], ['trip'], ['for'], ['us'], ['needless'], ['to'], ['say'], ['i'], ['wont'], ['be'], ['going'], ['back'], ['anytime'], ['soon'], ['this'], ['place'], ['is'], ['disgusting'], ['every'], ['time'], ['i'], ['eat'], ['here'], ['i'], ['see'], ['caring'], ['teamwork'], ['to'], ['a'], ['professional'], ['degree'], ['the'], ['ri'], ['style'], ['calamari'], ['was'], ['a'], ['joke'], ['however'], ['there'], ['was'], ['so'], ['much'], ['garlic'], ['in'], ['the'], ['fondue'], ['it'], ['was'], ['barely'], ['edible'], ['i'], ['could'], ['barely'], ['stomach'], ['the'], ['meal'], ['but'], ['didnt'], ['complain'], ['because'], ['it'], ['was'], ['a'], ['business'], ['lunch'], ['it'], ['was'], ['so'], ['bad'], ['i'], ['had'], ['lost'], ['the'], ['heart'], ['to'], ['finish'], ['it'], ['it'], ['also'], ['took'], ['her'], ['forever'], ['to'], ['bring'], ['us'], ['the'], ['check'], ['when'], ['we'], ['asked'], ['for'], ['it'], ['we'], ['arent'], ['ones'], ['to'], ['make'], ['a'], ['scene'], ['at'], ['restaurants'], ['but'], ['i'], ['just'], ['dont'], ['get'], ['itdefinitely'], ['lost'], ['the'], ['love'], ['after'], ['this'], ['one'], ['disappointing'], ['experience'], ['the'], ['food'], ['is'], ['about'], ['on'], ['par'], ['with'], ['dennys'], ['which'], ['is'], ['to'], ['say'], ['not'], ['good'], ['at'], ['all'], ['if'], ['you'], ['want'], ['to'], ['wait'], ['for'], ['mediocre'], ['food'], ['and'], ['downright'], ['terrible'], ['service'], ['then'], ['this'], ['is'], ['the'], ['place'], ['for'], ['you'], ['waaaaaayyyyyyyyyy'], ['over'], ['rated'], ['is'], ['all'], ['i'], ['am'], ['saying'], ['we'], ['wont'], ['be'], ['going'], ['back'], ['the'], ['place'], ['was'], ['fairly'], ['clean'], ['but'], ['the'], ['food'], ['simply'], ['wasnt'], ['worth'], ['it'], ['this'], ['place'], ['lacked'], ['style'], ['the'], ['sangria'], ['was'], ['about'], ['half'], ['of'], ['a'], ['glass'], ['wine'], ['full'], ['and'], ['was'], ['ridiculous'], ['dont'], ['bother'], ['coming'], ['here'], ['the'], ['meat'], ['was'], ['pretty'], ['dry'], ['i'], ['had'], ['the'], ['sliced'], ['brisket'], ['and'], ['pulled'], ['pork'], ['the'], ['building'], ['itself'], ['seems'], ['pretty'], ['neat'], ['the'], ['bathroom'], ['is'], ['pretty'], ['trippy'], ['but'], ['i'], ['wouldnt'], ['eat'], ['here'], ['again'], ['it'], ['was'], ['equally'], ['awful'], ['probably'], ['not'], ['in'], ['a'], ['hurry'], ['to'], ['go'], ['back'], ['very'], ['slow'], ['at'], ['seating'], ['even'], ['with'], ['reservation'], ['not'], ['good'], ['by'], ['any'], ['stretch'], ['of'], ['the'], ['imagination'], ['the'], ['cashew'], ['cream'], ['sauce'], ['was'], ['bland'], ['and'], ['the'], ['vegetables'], ['were'], ['undercooked'], ['the'], ['chipolte'], ['ranch'], ['dipping'], ['sause'], ['was'], ['tasteless'], ['seemed'], ['thin'], ['and'], ['watered'], ['down'], ['with'], ['no'], ['heat'], ['it'], ['was'], ['a'], ['bit'], ['too'], ['sweet'], ['not'], ['really'], ['spicy'], ['enough'], ['and'], ['lacked'], ['flavor'], ['i'], ['was'], ['very'], ['disappointed'], ['this'], ['place'], ['is'], ['horrible'], ['and'], ['way'], ['overpriced'], ['maybe'], ['its'], ['just'], ['their'], ['vegetarian'], ['fare'], ['but'], ['ive'], ['been'], ['twice'], ['and'], ['i'], ['thought'], ['it'], ['was'], ['average'], ['at'], ['best'], ['it'], ['wasnt'], ['busy'], ['at'], ['all'], ['and'], ['now'], ['we'], ['know'], ['why'], ['the'], ['tables'], ['outside'], ['are'], ['also'], ['dirty'], ['a'], ['lot'], ['of'], ['the'], ['time'], ['and'], ['the'], ['workers'], ['are'], ['not'], ['always'], ['friendly'], ['and'], ['helpful'], ['with'], ['the'], ['menu'], ['the'], ['ambiance'], ['here'], ['did'], ['not'], ['feel'], ['like'], ['a'], ['buffet'], ['setting'], ['but'], ['more'], ['of'], ['a'], ['douchey'], ['indoor'], ['garden'], ['for'], ['tea'], ['and'], ['biscuits'], ['con'], ['spotty'], ['service'], ['the'], ['fries'], ['were'], ['not'], ['hot'], ['and'], ['neither'], ['was'], ['my'], ['burger'], ['but'], ['then'], ['they'], ['came'], ['back'], ['cold'], ['then'], ['our'], ['food'], ['came'], ['out'], ['disappointment'], ['ensued'], ['the'], ['real'], ['disappointment'], ['was'], ['our'], ['waiter'], ['my'], ['husband'], ['said'], ['she'], ['was'], ['very'], ['rude'], ['did'], ['not'], ['even'], ['apologize'], ['for'], ['the'], ['bad'], ['food'], ['or'], ['anything'], ['the'], ['only'], ['reason'], ['to'], ['eat'], ['here'], ['would'], ['be'], ['to'], ['fill'], ['up'], ['before'], ['a'], ['night'], ['of'], ['binge'], ['drinking'], ['just'], ['to'], ['get'], ['some'], ['carbs'], ['in'], ['your'], ['stomach'], ['insults'], ['profound'], ['deuchebaggery'], ['and'], ['had'], ['to'], ['go'], ['outside'], ['for'], ['a'], ['smoke'], ['break'], ['while'], ['serving'], ['just'], ['to'], ['solidify'], ['it'], ['if'], ['someone'], ['orders'], ['two'], ['tacos'], ['dont'], ['you'], ['think'], ['it'], ['may'], ['be'], ['part'], ['of'], ['customer'], ['service'], ['to'], ['ask'], ['if'], ['it'], ['is'], ['combo'], ['or'], ['ala'], ['cart'], ['she'], ['was'], ['quite'], ['disappointed'], ['although'], ['some'], ['blame'], ['needs'], ['to'], ['be'], ['placed'], ['at'], ['her'], ['door'], ['after'], ['all'], ['the'], ['rave'], ['reviews'], ['i'], ['couldnt'], ['wait'], ['to'], ['eat'], ['herewhat'], ['a'], ['disappointment'], ['del'], ['taco'], ['is'], ['pretty'], ['nasty'], ['and'], ['should'], ['be'], ['avoided'], ['if'], ['possible'], ['its'], ['not'], ['hard'], ['to'], ['make'], ['a'], ['decent'], ['hamburger'], ['but'], ['i'], ['dont'], ['like'], ['it'], ['hell'], ['no'], ['will'], ['i'], ['go'], ['back'], ['weve'], ['have'], ['gotten'], ['a'], ['much'], ['better'], ['service'], ['from'], ['the'], ['pizza'], ['place'], ['next'], ['door'], ['than'], ['the'], ['services'], ['we'], ['received'], ['from'], ['this'], ['restaurant'], ['i'], ['dont'], ['know'], ['what'], ['the'], ['big'], ['deal'], ['is'], ['about'], ['this'], ['place'], ['but'], ['i'], ['wont'], ['be'], ['back'], ['yaall'], ['i'], ['immediately'], ['said'], ['i'], ['wanted'], ['to'], ['talk'], ['to'], ['the'], ['manager'], ['but'], ['i'], ['did'], ['not'], ['want'], ['to'], ['talk'], ['to'], ['the'], ['guy'], ['who'], ['was'], ['doing'], ['shots'], ['of'], ['fireball'], ['behind'], ['the'], ['bar'], ['the'], ['ambiance'], ['isnt'], ['much'], ['better'], ['unfortunately'], ['it'], ['only'], ['set'], ['us'], ['up'], ['for'], ['disapppointment'], ['with'], ['our'], ['entrees'], ['the'], ['food'], ['wasnt'], ['good'], ['your'], ['servers'], ['suck'], ['wait'], ['correction'], ['our'], ['server'], ['heimer'], ['sucked'], ['what'], ['happened'], ['next'], ['was'], ['prettyoff'], ['putting'], ['too'], ['bad'], ['cause'], ['i'], ['know'], ['its'], ['family'], ['owned'], ['i'], ['really'], ['wanted'], ['to'], ['like'], ['this'], ['place'], ['overpriced'], ['for'], ['what'], ['you'], ['are'], ['getting'], ['i'], ['vomited'], ['in'], ['the'], ['bathroom'], ['mid'], ['lunch'], ['i'], ['kept'], ['looking'], ['at'], ['the'], ['time'], ['and'], ['it'], ['had'], ['soon'], ['become'], ['minutes'], ['yet'], ['still'], ['no'], ['food'], ['i'], ['have'], ['been'], ['to'], ['very'], ['few'], ['places'], ['to'], ['eat'], ['that'], ['under'], ['no'], ['circumstances'], ['would'], ['i'], ['ever'], ['return'], ['to'], ['and'], ['this'], ['tops'], ['the'], ['list'], ['we'], ['started'], ['with'], ['the'], ['tuna'], ['sashimi'], ['which'], ['was'], ['brownish'], ['in'], ['color'], ['and'], ['obviously'], ['wasnt'], ['fresh'], ['food'], ['was'], ['below'], ['average'], ['it'], ['sure'], ['does'], ['beat'], ['the'], ['nachos'], ['at'], ['the'], ['movies'], ['but'], ['i'], ['would'], ['expect'], ['a'], ['little'], ['bit'], ['more'], ['coming'], ['from'], ['a'], ['restaurant'], ['all'], ['in'], ['all'], ['ha'], ['long'], ['bay'], ['was'], ['a'], ['bit'], ['of'], ['a'], ['flop'], ['the'], ['problem'], ['i'], ['have'], ['is'], ['that'], ['they'], ['charge'], ['for'], ['a'], ['sandwich'], ['that'], ['is'], ['no'], ['bigger'], ['than'], ['a'], ['subway'], ['sub'], ['which'], ['offers'], ['better'], ['and'], ['more'], ['amount'], ['of'], ['vegetables'], ['shrimp'], ['when'], ['i'], ['unwrapped'], ['it'], ['i'], ['live'], ['only'], ['a'], ['mile'], ['from'], ['brushfire'], ['it'], ['was'], ['literally'], ['ice'], ['cold'], ['it'], ['lacked'], ['flavor'], ['seemed'], ['undercooked'], ['and'], ['dry'], ['it'], ['really'], ['is'], ['impressive'], ['that'], ['the'], ['place'], ['hasnt'], ['closed'], ['down'], ['i'], ['would'], ['avoid'], ['this'], ['place'], ['if'], ['you'], ['are'], ['staying'], ['in'], ['the'], ['mirage'], ['the'], ['refried'], ['beans'], ['that'], ['came'], ['with'], ['my'], ['meal'], ['were'], ['dried'], ['out'], ['and'], ['crusty'], ['and'], ['the'], ['food'], ['was'], ['bland'], ['spend'], ['your'], ['money'], ['and'], ['time'], ['some'], ['place'], ['else'], ['a'], ['lady'], ['at'], ['the'], ['table'], ['next'], ['to'], ['us'], ['found'], ['a'], ['live'], ['green'], ['caterpillar'], ['in'], ['her'], ['salad'], ['the'], ['presentation'], ['of'], ['the'], ['food'], ['was'], ['awful'], ['i'], ['cant'], ['tell'], ['you'], ['how'], ['disappointed'], ['i'], ['was'], ['i'], ['think'], ['food'], ['should'], ['have'], ['flavor'], ['and'], ['texture'], ['and'], ['both'], ['were'], ['lacking'], ['appetite'], ['instantly'], ['gone'], ['overall'], ['i'], ['was'], ['not'], ['impressed'], ['and'], ['would'], ['not'], ['go'], ['back'], ['the'], ['whole'], ['experience'], ['was'], ['underwhelming'], ['and'], ['i'], ['think'], ['well'], ['just'], ['go'], ['to'], ['ninja'], ['sushi'], ['next'], ['time'], ['then'], ['as'], ['if'], ['i'], ['hadnt'], ['wasted'], ['enough'], ['of'], ['my'], ['life'], ['there'], ['they'], ['poured'], ['salt'], ['in'], ['the'], ['wound'], ['by'], ['drawing'], ['out'], ['the'], ['time'], ['it'], ['took'], ['to'], ['bring'], ['the'], ['check']]\n"
          ]
        }
      ],
      "source": [
        "lista_de_tokens = [[palabra] for frase in docs_limpio for palabra in frase.split()]\n",
        "\n",
        "print(lista_de_tokens)"
      ]
    },
    {
      "cell_type": "code",
      "execution_count": 235,
      "metadata": {
        "id": "DZs_etmiV-fd"
      },
      "outputs": [
        {
          "name": "stdout",
          "output_type": "stream",
          "text": [
            "La lista tiene 10777 elementos.\n"
          ]
        }
      ],
      "source": [
        "cantidad_de_elementos = len(lista_de_tokens)\n",
        "print(\"La lista tiene\", cantidad_de_elementos, \"elementos.\")"
      ]
    },
    {
      "cell_type": "markdown",
      "metadata": {
        "id": "EFeu0OJ7WDPD"
      },
      "source": [
        "*   **Pregunta 15.**  \n",
        "\n",
        "Finalmente, en este ejercicio definiremos nuestro conjunto de palabras \"stopwords\", las cuales deberás eliminar de todo el corpus. \n",
        "\n",
        "Recuerda que ejemplos de stopwords son artículos, adverbios, conectivos, etcétera, que tienen frecuencias de aparición muy altas en cualquier documento, pero que no brindan mucho significado en cuanto al significado de un enunciado.\n",
        "\n",
        "Con base a la lista de stopwords que se te proporciona, realiza un proceso de limpieza eliminando todas estas palabras del corpus obtenido en el ejercicio anterior.\n",
        "\n",
        "Obtener cuántos tokens/palabras quedan finalmente en todo el corpus.\n",
        "\n",
        "Obtener cuántos de estos tokens/palabras son diferentes, es decir, cuántos tokens únicos tendrá lo que llamaremos más adelante nuestro vocabulario."
      ]
    },
    {
      "cell_type": "code",
      "execution_count": 236,
      "metadata": {
        "id": "6FP4FF3KXGxm"
      },
      "outputs": [],
      "source": [
        "# Considera la siguiente lista como tu conjunto de stopwords:\n",
        "mis_stopwords = ['i', 'me', 'my', 'myself', 'we', 'our', 'ours', 'ourselves', 'you', 'your', 'yours', 'he', 'him', 'his', 'himself', 'she', 'her', 'hers', 'herself', 'it', 'its', 'itself', 'they', 'them', 'their', 'theirs', 'themselves', 'what', 'which', 'who', 'whom', 'this', 'that', 'these', 'those', 'am', 'is', 'are', 'was', 'were', 'be', 'been', 'being', 'have', 'has', 'had', 'having', 'do', 'does', 'did', 'doing', 'a', 'an', 'the', 'and', 'but', 'if', 'or', 'because', 'as', 'until', 'while', 'of', 'at', 'by', 'for', 'with', 'about', 'against', 'between', 'into', 'through', 'during', 'before', 'after', 'above', 'below', 'to', 'from', 'up', 'down', 'in', 'out', 'on', 'over', 'under', 'again', 'further', 'then', 'once', 'here', 'there', 'when', 'where', 'why', 'how', 'all', 'any', 'both', 'each', 'few', 'more', 'most', 'other', 'some', 'such', 'only', 'own', 'same', 'so', 'than', 'too', 'very', 's', 't', 'can', 'will', 'just', 'should', 'now', 'll']"
      ]
    },
    {
      "cell_type": "code",
      "execution_count": 237,
      "metadata": {
        "id": "CD8yjyq1ZrwY"
      },
      "outputs": [],
      "source": [
        "#lista_sin_stopwords = [[word for word in sublista if word not in mis_stopwords] for sublista in lista_de_tokens]\n",
        "lista_sin_stopwords = [[palabra for palabra in lista if palabra not in mis_stopwords] for lista in lista_de_tokens]\n",
        "lista_sin_stopwords = [sublista for sublista in lista_sin_stopwords if sublista]\n",
        "\n"
      ]
    },
    {
      "cell_type": "code",
      "execution_count": 238,
      "metadata": {
        "id": "4ZPi5prKZro5"
      },
      "outputs": [
        {
          "name": "stdout",
          "output_type": "stream",
          "text": [
            "La lista tiene 5776 elementos.\n"
          ]
        }
      ],
      "source": [
        "cantidad_de_elementos = len(lista_sin_stopwords)\n",
        "print(\"La lista tiene\", cantidad_de_elementos, \"elementos.\")"
      ]
    },
    {
      "cell_type": "code",
      "execution_count": 239,
      "metadata": {},
      "outputs": [
        {
          "name": "stdout",
          "output_type": "stream",
          "text": [
            "[['wow'], ['loved'], ['place'], ['crust'], ['not'], ['good'], ['not'], ['tasty'], ['texture'], ['nasty'], ['stopped'], ['late'], ['may'], ['bank'], ['holiday'], ['off'], ['rick'], ['steve'], ['recommendation'], ['loved'], ['selection'], ['menu'], ['great'], ['prices'], ['getting'], ['angry'], ['want'], ['damn'], ['pho'], ['honeslty'], ['didnt'], ['taste'], ['fresh'], ['potatoes'], ['like'], ['rubber'], ['could'], ['tell'], ['made'], ['ahead'], ['time'], ['kept'], ['warmer'], ['fries'], ['great'], ['great'], ['touch'], ['service'], ['prompt'], ['would'], ['not'], ['go'], ['back'], ['cashier'], ['no'], ['care'], ['ever'], ['say'], ['still'], ['ended'], ['wayyy'], ['overpriced'], ['tried'], ['cape'], ['cod'], ['ravoli'], ['chickenwith'], ['cranberrymmmm'], ['disgusted'], ['pretty'], ['sure'], ['human'], ['hair'], ['shocked'], ['no'], ['signs'], ['indicate'], ['cash'], ['highly'], ['recommended'], ['waitress'], ['little'], ['slow'], ['service'], ['place'], ['not'], ['worth'], ['time'], ['let'], ['alone'], ['vegas'], ['not'], ['like'], ['burrittos'], ['blah'], ['food'], ['amazing'], ['service'], ['also'], ['cute'], ['could'], ['care'], ['less'], ['interior'], ['beautiful'], ['performed'], ['thats'], ['rightthe'], ['red'], ['velvet'], ['cakeohhh'], ['stuff'], ['good'], ['never'], ['brought'], ['salad'], ['asked'], ['hole'], ['wall'], ['great'], ['mexican'], ['street'], ['tacos'], ['friendly'], ['staff'], ['took'], ['hour'], ['get'], ['food'], ['tables'], ['restaurant'], ['food'], ['luke'], ['warm'], ['sever'], ['running'], ['around'], ['like'], ['totally'], ['overwhelmed'], ['worst'], ['salmon'], ['sashimi'], ['also'], ['combos'], ['like'], ['burger'], ['fries'], ['beer'], ['decent'], ['deal'], ['like'], ['final'], ['blow'], ['found'], ['place'], ['accident'], ['could'], ['not'], ['happier'], ['seems'], ['like'], ['good'], ['quick'], ['place'], ['grab'], ['bite'], ['familiar'], ['pub'], ['food'], ['yourself'], ['favor'], ['look'], ['elsewhere'], ['overall'], ['like'], ['place'], ['lot'], ['redeeming'], ['quality'], ['restaurant'], ['inexpensive'], ['ample'], ['portions'], ['good'], ['prices'], ['poor'], ['service'], ['waiter'], ['made'], ['feel'], ['like'], ['stupid'], ['every'], ['time'], ['came'], ['table'], ['first'], ['visit'], ['hiro'], ['delight'], ['service'], ['sucks'], ['shrimp'], ['tender'], ['moist'], ['not'], ['deal'], ['good'], ['enough'], ['would'], ['drag'], ['establishment'], ['hard'], ['judge'], ['whether'], ['sides'], ['good'], ['grossed'], ['melted'], ['styrofoam'], ['didnt'], ['want'], ['eat'], ['fear'], ['getting'], ['sick'], ['positive'], ['note'], ['server'], ['attentive'], ['provided'], ['great'], ['service'], ['frozen'], ['pucks'], ['disgust'], ['worst'], ['people'], ['behind'], ['register'], ['thing'], ['like'], ['prime'], ['rib'], ['dessert'], ['section'], ['bad'], ['food'], ['damn'], ['generic'], ['burger'], ['good'], ['beef'], ['cooked'], ['right'], ['want'], ['sandwich'], ['go'], ['firehouse'], ['side'], ['greek'], ['salad'], ['greek'], ['dressing'], ['tasty'], ['pita'], ['hummus'], ['refreshing'], ['ordered'], ['duck'], ['rare'], ['pink'], ['tender'], ['inside'], ['nice'], ['char'], ['outside'], ['came'], ['running'], ['us'], ['realized'], ['husband'], ['left'], ['sunglasses'], ['table'], ['chow'], ['mein'], ['good'], ['horrible'], ['attitudes'], ['towards'], ['customers'], ['talk'], ['one'], ['customers'], ['dont'], ['enjoy'], ['food'], ['portion'], ['huge'], ['loved'], ['itfriendly'], ['servers'], ['great'], ['food'], ['wonderful'], ['imaginative'], ['menu'], ['heart'], ['attack'], ['grill'], ['downtown'], ['vegas'], ['absolutely'], ['flatlined'], ['excuse'], ['restaurant'], ['not'], ['much'], ['seafood'], ['like'], ['strings'], ['pasta'], ['bottom'], ['salad'], ['right'], ['amount'], ['sauce'], ['not'], ['power'], ['scallop'], ['perfectly'], ['cooked'], ['ripped'], ['banana'], ['not'], ['ripped'], ['petrified'], ['tasteless'], ['least'], ['think'], ['refill'], ['water'], ['struggle'], ['wave'], ['minutes'], ['place'], ['receives'], ['stars'], ['appetizers'], ['cocktails'], ['handmade'], ['delicious'], ['wed'], ['definitely'], ['go'], ['back'], ['glad'], ['found'], ['place'], ['great'], ['food'], ['service'], ['huge'], ['portions'], ['give'], ['military'], ['discount'], ['always'], ['great'], ['time'], ['dos'], ['gringos'], ['updatewent'], ['back'], ['second'], ['time'], ['still'], ['amazing'], ['got'], ['food'], ['apparently'], ['never'], ['heard'], ['salt'], ['batter'], ['fish'], ['chewy'], ['great'], ['way'], ['finish'], ['great'], ['deal'], ['included'], ['tastings'], ['drinks'], ['jeff'], ['went'], ['beyond'], ['expected'], ['really'], ['really'], ['good'], ['rice'], ['time'], ['service'], ['meh'], ['took'], ['min'], ['get'], ['milkshake'], ['nothing'], ['chocolate'], ['milk'], ['guess'], ['known'], ['place'], ['would'], ['suck'], ['inside'], ['excalibur'], ['didnt'], ['use'], ['common'], ['sense'], ['scallop'], ['dish'], ['quite'], ['appalling'], ['value'], ['well'], ['times'], ['bad'], ['customer'], ['service'], ['sweet'], ['potato'], ['fries'], ['good'], ['seasoned'], ['well'], ['today'], ['second'], ['time'], ['ive'], ['lunch'], ['buffet'], ['pretty'], ['good'], ['much'], ['good'], ['food'], ['vegas'], ['feel'], ['cheated'], ['wasting'], ['eating'], ['opportunity'], ['going'], ['rice'], ['company'], ['coming'], ['like'], ['experiencing'], ['underwhelming'], ['relationship'], ['parties'], ['cant'], ['wait'], ['person'], ['ask'], ['break'], ['walked'], ['place'], ['smelled'], ['like'], ['old'], ['grease'], ['trap'], ['others'], ['eating'], ['turkey'], ['roast'], ['beef'], ['bland'], ['place'], ['pan'], ['cakes'], ['everyone'], ['raving'], ['taste'], ['like'], ['sugary'], ['disaster'], ['tailored'], ['palate'], ['six'], ['year'], ['old'], ['love'], ['pho'], ['spring'], ['rolls'], ['oh'], ['yummy'], ['try'], ['poor'], ['batter'], ['meat'], ['ratio'], ['made'], ['chicken'], ['tenders'], ['unsatisfying'], ['say'], ['food'], ['amazing'], ['omelets'], ['die'], ['everything'], ['fresh'], ['delicious'], ['summary'], ['largely'], ['disappointing'], ['dining'], ['experience'], ['like'], ['really'], ['sexy'], ['party'], ['mouth'], ['youre'], ['outrageously'], ['flirting'], ['hottest'], ['person'], ['party'], ['never'], ['hard'], ['rock'], ['casino'], ['never'], ['ever'], ['step'], ['forward'], ['best'], ['breakfast'], ['buffet'], ['say'], ['bye'], ['bye'], ['tip'], ['lady'], ['well'], ['never'], ['go'], ['back'], ['food'], ['arrived'], ['quickly'], ['not'], ['good'], ['side'], ['cafe'], ['serves'], ['really'], ['good'], ['food'], ['server'], ['fantastic'], ['found'], ['wife'], ['loves'], ['roasted'], ['garlic'], ['bone'], ['marrow'], ['added'], ['extra'], ['meal'], ['another'], ['marrow'], ['go'], ['good'], ['thing'], ['waiter'], ['helpful'], ['kept'], ['bloddy'], ['marys'], ['coming'], ['best'], ['buffet'], ['town'], ['price'], ['cannot'], ['beat'], ['loved'], ['mussels'], ['cooked'], ['wine'], ['reduction'], ['duck'], ['tender'], ['potato'], ['dishes'], ['delicious'], ['one'], ['better'], ['buffets'], ['went'], ['tigerlilly'], ['fantastic'], ['afternoon'], ['food'], ['delicious'], ['bartender'], ['attentive'], ['personable'], ['got'], ['great'], ['deal'], ['ambience'], ['wonderful'], ['music'], ['playing'], ['go'], ['back'], ['next'], ['trip'], ['sooooo'], ['good'], ['real'], ['sushi'], ['lovers'], ['lets'], ['honest'], ['yama'], ['not'], ['good'], ['least'], ['min'], ['passed'], ['us'], ['ordering'], ['food'], ['arriving'], ['wasnt'], ['busy'], ['really'], ['fantastic'], ['thai'], ['restaurant'], ['definitely'], ['worth'], ['visit'], ['nice'], ['spicy'], ['tender'], ['good'], ['prices'], ['check'], ['pretty'], ['gross'], ['ive'], ['better'], ['atmosphere'], ['kind'], ['hard'], ['mess'], ['steak'], ['although'], ['much'], ['liked'], ['look'], ['sound'], ['place'], ['actual'], ['experience'], ['bit'], ['disappointing'], ['dont'], ['know'], ['place'], ['managed'], ['served'], ['blandest'], ['food'], ['ever'], ['eaten'], ['preparing'], ['indian'], ['cuisine'], ['worst'], ['service'], ['boot'], ['least'], ['worries'], ['service'], ['fine'], ['waitress'], ['friendly'], ['guys'], ['steaks'], ['steak'], ['loving'], ['son'], ['steak'], ['best'], ['worst'], ['places'], ['said'], ['best'], ['steak'], ['hes'], ['ever'], ['eaten'], ['thought'], ['youd'], ['venture'], ['away'], ['get'], ['good'], ['sushi'], ['place'], ['really'], ['hit'], ['spot'], ['night'], ['host'], ['staff'], ['lack'], ['better'], ['word'], ['bitches'], ['bland'], ['not'], ['liking'], ['place'], ['number'], ['reasons'], ['dont'], ['want'], ['waste'], ['time'], ['bad'], ['reviewing'], ['ill'], ['leave'], ['phenomenal'], ['food'], ['service'], ['ambiance'], ['wouldnt'], ['return'], ['definitely'], ['worth'], ['venturing'], ['off'], ['strip'], ['pork'], ['belly'], ['return'], ['next'], ['time'], ['im'], ['vegas'], ['place'], ['way'], ['overpriced'], ['mediocre'], ['food'], ['penne'], ['vodka'], ['excellent'], ['good'], ['selection'], ['food'], ['including'], ['massive'], ['meatloaf'], ['sandwich'], ['crispy'], ['chicken'], ['wrap'], ['delish'], ['tuna'], ['melt'], ['tasty'], ['burgers'], ['management'], ['rude'], ['delicious'], ['nyc'], ['bagels'], ['good'], ['selections'], ['cream'], ['cheese'], ['real'], ['lox'], ['capers'], ['even'], ['great'], ['subway'], ['fact'], ['good'], ['come'], ['every'], ['subway'], ['not'], ['meet'], ['expectations'], ['seriously'], ['solid'], ['breakfast'], ['one'], ['best'], ['bars'], ['food'], ['vegas'], ['extremely'], ['rude'], ['really'], ['many'], ['restaurants'], ['would'], ['love'], ['dine'], ['weekend'], ['vegas'], ['drink'], ['never'], ['empty'], ['made'], ['really'], ['great'], ['menu'], ['suggestions'], ['dont'], ['waiter'], ['wasnt'], ['helpful'], ['friendly'], ['rarely'], ['checked'], ['us'], ['husband'], ['ate'], ['lunch'], ['disappointed'], ['food'], ['service'], ['red'], ['curry'], ['much'], ['bamboo'], ['shoots'], ['wasnt'], ['tasty'], ['nice'], ['blanket'], ['moz'], ['top'], ['feel'], ['like'], ['done'], ['cover'], ['subpar'], ['food'], ['bathrooms'], ['clean'], ['place'], ['well'], ['decorated'], ['menu'], ['always'], ['changing'], ['food'], ['quality'], ['going'], ['service'], ['extremely'], ['slow'], ['service'], ['little'], ['slow'], ['considering'], ['served'], ['people'], ['servers'], ['food'], ['coming'], ['slow'], ['pace'], ['give'], ['thumbs'], ['watched'], ['waiter'], ['pay'], ['lot'], ['attention'], ['tables'], ['ignore'], ['us'], ['fianc'], ['came'], ['middle'], ['day'], ['greeted'], ['seated'], ['right'], ['away'], ['great'], ['restaurant'], ['mandalay'], ['bay'], ['waited'], ['forty'], ['five'], ['minutes'], ['vain'], ['crostini'], ['came'], ['salad'], ['stale'], ['highlights'], ['great'], ['quality'], ['nigiri'], ['staff'], ['friendly'], ['joint'], ['always'], ['clean'], ['different'], ['cut'], ['piece'], ['day'], ['still'], ['wonderful'], ['tender'], ['well'], ['well'], ['flavored'], ['ordered'], ['voodoo'], ['pasta'], ['first'], ['time'], ['id'], ['really'], ['excellent'], ['pasta'], ['since'], ['going'], ['gluten'], ['free'], ['several'], ['years'], ['ago'], ['place'], ['good'], ['unfortunately'], ['must'], ['hit'], ['bakery'], ['leftover'], ['day'], ['everything'], ['ordered'], ['stale'], ['came'], ['back'], ['today'], ['since'], ['relocated'], ['still'], ['not'], ['impressed'], ['seated'], ['immediately'], ['menu'], ['diverse'], ['reasonably'], ['priced'], ['avoid'], ['cost'], ['restaurant'], ['always'], ['full'], ['never'], ['wait'], ['delicious'], ['place'], ['handsdown'], ['one'], ['best'], ['places'], ['eat'], ['phoenix'], ['metro'], ['area'], ['dont'], ['go'], ['looking'], ['good'], ['food'], ['ive'], ['never'], ['treated'], ['bad'], ['bacon'], ['hella'], ['salty'], ['also'], ['ordered'], ['spinach'], ['avocado'], ['salad'], ['ingredients'], ['sad'], ['dressing'], ['literally'], ['zero'], ['taste'], ['really'], ['vegas'], ['fine'], ['dining'], ['used'], ['right'], ['menus'], ['handed'], ['ladies'], ['no'], ['prices'], ['listed'], ['waitresses'], ['friendly'], ['lordy'], ['khao'], ['soi'], ['dish'], ['not'], ['missed'], ['curry'], ['lovers'], ['everything'], ['menu'], ['terrific'], ['also'], ['thrilled'], ['made'], ['amazing'], ['accommodations'], ['vegetarian'], ['daughter'], ['perhaps'], ['caught'], ['off'], ['night'], ['judging'], ['reviews'], ['im'], ['not'], ['inspired'], ['go'], ['back'], ['service'], ['leaves'], ['lot'], ['desired'], ['atmosphere'], ['modern'], ['hip'], ['maintaining'], ['touch'], ['coziness'], ['not'], ['weekly'], ['haunt'], ['definitely'], ['place'], ['come'], ['back'], ['every'], ['literally'], ['sat'], ['minutes'], ['no'], ['one'], ['asking'], ['take'], ['order'], ['burger'], ['absolutely'], ['no'], ['flavor'], ['meat'], ['totally'], ['bland'], ['burger'], ['overcooked'], ['no'], ['charcoal'], ['flavor'], ['also'], ['decided'], ['not'], ['send'], ['back'], ['waitress'], ['looked'], ['like'], ['verge'], ['heart'], ['attack'], ['dressed'], ['treated'], ['rudely'], ['probably'], ['dirt'], ['love'], ['place'], ['hits'], ['spot'], ['want'], ['something'], ['healthy'], ['not'], ['lacking'], ['quantity'], ['flavor'], ['ordered'], ['lemon'], ['raspberry'], ['ice'], ['cocktail'], ['also'], ['incredible'], ['food'], ['sucked'], ['expected'], ['sucked'], ['could'], ['imagined'], ['interesting'], ['decor'], ['really'], ['like'], ['crepe'], ['station'], ['also'], ['served'], ['hot'], ['bread'], ['butter'], ['home'], ['made'], ['potato'], ['chips'], ['bacon'], ['bits'], ['topvery'], ['original'], ['good'], ['watch'], ['preparing'], ['delicious'], ['food'], ['egg'], ['rolls'], ['fantastic'], ['order'], ['arrived'], ['one'], ['gyros'], ['missing'], ['salad'], ['wings'], ['ice'], ['cream'], ['dessert'], ['left'], ['feeling'], ['quite'], ['satisfied'], ['im'], ['not'], ['really'], ['sure'], ['joeys'], ['voted'], ['best'], ['hot'], ['dog'], ['valley'], ['readers'], ['phoenix'], ['magazine'], ['best'], ['place'], ['go'], ['tasty'], ['bowl'], ['pho'], ['live'], ['music'], ['fridays'], ['totally'], ['blows'], ['ive'], ['never'], ['insulted'], ['felt'], ['disrespected'], ['friendly'], ['staff'], ['worth'], ['drive'], ['heard'], ['good'], ['things'], ['place'], ['exceeding'], ['every'], ['hope'], ['could'], ['dreamed'], ['food'], ['great'], ['serivce'], ['warm'], ['beer'], ['didnt'], ['help'], ['great'], ['brunch'], ['spot'], ['service'], ['friendly'], ['inviting'], ['good'], ['lunch'], ['spot'], ['ive'], ['lived'], ['since'], ['first'], ['last'], ['time'], ['ive'], ['stepped'], ['foot'], ['place'], ['worst'], ['experience'], ['ever'], ['must'], ['off'], ['night'], ['place'], ['sides'], ['delish'], ['mixed'], ['mushrooms'], ['yukon'], ['gold'], ['puree'], ['white'], ['corn'], ['beateous'], ['bug'], ['never'], ['showed'], ['would'], ['given'], ['sure'], ['side'], ['wall'], ['bug'], ['climbing'], ['kitchen'], ['minutes'], ['waiting'], ['salad'], ['realized'], ['wasnt'], ['coming'], ['time'], ['soon'], ['friend'], ['loved'], ['salmon'], ['tartar'], ['wont'], ['go'], ['back'], ['extremely'], ['tasty'], ['waitress'], ['good'], ['though'], ['soggy'], ['not'], ['good'], ['jamaican'], ['mojitos'], ['delicious'], ['small'], ['not'], ['worth'], ['price'], ['food'], ['rich'], ['order'], ['accordingly'], ['shower'], ['area'], ['outside'], ['rinse'], ['not'], ['take'], ['full'], ['shower'], ['unless'], ['dont'], ['mind'], ['nude'], ['everyone'], ['see'], ['service'], ['bit'], ['lacking'], ['lobster'], ['bisque'], ['bussell'], ['sprouts'], ['risotto'], ['filet'], ['needed'], ['salt'], ['pepperand'], ['course'], ['none'], ['tables'], ['hopefully'], ['bodes'], ['going'], ['business'], ['someone'], ['cook'], ['come'], ['either'], ['cold'], ['not'], ['enough'], ['flavor'], ['bad'], ['loved'], ['bacon'], ['wrapped'], ['dates'], ['unbelievable'], ['bargain'], ['folks'], ['otto'], ['always'], ['make'], ['us'], ['feel'], ['welcome'], ['special'], ['mains'], ['also'], ['uninspired'], ['place'], ['first'], ['pho'], ['amazing'], ['wonderful'], ['experience'], ['made'], ['place'], ['muststop'], ['whenever'], ['town'], ['food'], ['isnt'], ['bad'], ['enough'], ['enjoy'], ['dealing'], ['worlds'], ['worstannoying'], ['drunk'], ['people'], ['fun'], ['chef'], ['ordered'], ['double'], ['cheeseburger'], ['got'], ['single'], ['patty'], ['falling'], ['apart'], ['picture'], ['uploaded'], ['yeah'], ['still'], ['sucks'], ['great'], ['place'], ['couple'], ['drinks'], ['watch'], ['sporting'], ['events'], ['walls'], ['covered'], ['tvs'], ['possible'], ['give'], ['zero'], ['stars'], ['theyd'], ['descriptions'], ['said'], ['yum'], ['yum'], ['sauce'], ['another'], ['said'], ['eel'], ['sauce'], ['yet'], ['another'], ['said'], ['spicy'], ['mayowell'], ['none'], ['rolls'], ['sauces'], ['id'], ['say'], ['would'], ['hardest'], ['decision'], ['honestly'], ['ms'], ['dishes'], ['taste'], ['supposed'], ['taste'], ['amazing'], ['not'], ['rolled'], ['eyes'], ['may'], ['stayed'], ['not'], ['sure'], ['go'], ['back'], ['try'], ['everyone'], ['attentive'], ['providing'], ['excellent'], ['customer'], ['service'], ['horrible'], ['dont'], ['waste'], ['time'], ['money'], ['dish'], ['quite'], ['flavourful'], ['time'], ['side'], ['restaurant'], ['almost'], ['empty'], ['no'], ['excuse'], ['wasnt'], ['busy'], ['either'], ['also'], ['building'], ['freezing'], ['cold'], ['like'], ['reviewer'], ['said'], ['couldnt'], ['pay'], ['eat'], ['place'], ['drinks'], ['took'], ['close'], ['minutes'], ['come'], ['one'], ['point'], ['seriously'], ['flavorful'], ['delights'], ['folks'], ['much'], ['better'], ['ayce'], ['sushi'], ['place'], ['went'], ['vegas'], ['lighting'], ['dark'], ['enough'], ['set'], ['mood'], ['based'], ['subpar'], ['service'], ['received'], ['no'], ['effort'], ['show'], ['gratitude'], ['business'], ['wont'], ['going'], ['back'], ['owners'], ['really'], ['great'], ['people'], ['nothing'], ['privileged'], ['workingeating'], ['greek'], ['dressing'], ['creamy'], ['flavorful'], ['overall'], ['dont'], ['think'], ['would'], ['take'], ['parents'], ['place'], ['made'], ['similar'], ['complaints'], ['silently'], ['felt'], ['pizza'], ['good'], ['peanut'], ['sauce'], ['tasty'], ['table'], ['service'], ['pretty'], ['fast'], ['fantastic'], ['service'], ['well'], ['wouldve'], ['given'], ['godfathers'], ['zero'], ['stars'], ['possible'], ['know'], ['make'], ['tough'], ['short'], ['flavor'], ['hope'], ['place'], ['sticks'], ['around'], ['bars'], ['vegas'], ['not'], ['ever'], ['recall'], ['charged'], ['tap'], ['water'], ['restaurant'], ['atmosphere'], ['exquisite'], ['good'], ['service'], ['clean'], ['inexpensive'], ['boot'], ['seafood'], ['fresh'], ['generous'], ['portion'], ['plus'], ['bucks'], ['service'], ['not'], ['par'], ['either'], ['thus'], ['far'], ['visited'], ['twice'], ['food'], ['absolutely'], ['delicious'], ['time'], ['good'], ['year'], ['ago'], ['self'], ['proclaimed'], ['coffee'], ['cafe'], ['wildly'], ['disappointed'], ['veggitarian'], ['platter'], ['world'], ['cant'], ['go'], ['wrong'], ['food'], ['cant'], ['beat'], ['stopped'], ['place'], ['madison'], ['ironman'], ['friendly'], ['kind'], ['staff'], ['chefs'], ['friendly'], ['good'], ['job'], ['ive'], ['better'], ['not'], ['dedicated'], ['boba'], ['tea'], ['spots'], ['even'], ['jenni'], ['pho'], ['liked'], ['patio'], ['service'], ['outstanding'], ['goat'], ['taco'], ['didnt'], ['skimp'], ['meat'], ['wow'], ['flavor'], ['think'], ['not'], ['mac'], ['salad'], ['pretty'], ['bland'], ['not'], ['getting'], ['went'], ['bachi'], ['burger'], ['friends'], ['recommendation'], ['not'], ['disappointed'], ['service'], ['stinks'], ['waited'], ['waited'], ['place'], ['not'], ['quality'], ['sushi'], ['not'], ['quality'], ['restaurant'], ['would'], ['definitely'], ['recommend'], ['wings'], ['well'], ['pizza'], ['great'], ['pizza'], ['salads'], ['things'], ['went'], ['wrong'], ['burned'], ['saganaki'], ['waited'], ['hour'], ['breakfast'], ['could'], ['done'], ['times'], ['better'], ['home'], ['place'], ['amazing'], ['hate'], ['disagree'], ['fellow'], ['yelpers'], ['husband'], ['disappointed'], ['place'], ['waited'], ['hours'], ['never'], ['got'], ['either'], ['pizzas'], ['many'], ['around'], ['us'], ['came'], ['later'], ['dont'], ['know'], ['slow'], ['staff'], ['great'], ['food'], ['delish'], ['incredible'], ['beer'], ['selection'], ['live'], ['neighborhood'], ['disappointed'], ['wont'], ['back'], ['convenient'], ['location'], ['didnt'], ['know'], ['pulled'], ['pork'], ['could'], ['soooo'], ['delicious'], ['get'], ['incredibly'], ['fresh'], ['fish'], ['prepared'], ['care'], ['go'], ['gave'], ['star'], ['rating'], ['please'], ['know'], ['third'], ['time'], ['eating'], ['bachi'], ['burger'], ['writing'], ['review'], ['love'], ['fact'], ['everything'], ['menu'], ['worth'], ['never'], ['dining'], ['place'], ['food'], ['excellent'], ['service'], ['good'], ['good'], ['beer'], ['drink'], ['selection'], ['good'], ['food'], ['selection'], ['please'], ['stay'], ['away'], ['shrimp'], ['stir'], ['fried'], ['noodles'], ['potato'], ['chip'], ['order'], ['sad'], ['could'], ['probably'], ['count'], ['many'], ['chips'], ['box'], ['probably'], ['around'], ['food'], ['really'], ['boring'], ['good'], ['servicecheck'], ['greedy'], ['corporation'], ['never'], ['see'], ['another'], ['dime'], ['never'], ['ever'], ['go'], ['back'], ['much'], ['id'], ['like'], ['go'], ['back'], ['cant'], ['get'], ['passed'], ['atrocious'], ['service'], ['never'], ['return'], ['summer'], ['dine'], ['charming'], ['outdoor'], ['patio'], ['delightful'], ['not'], ['expect'], ['good'], ['fantastic'], ['food'], ['ordered'], ['toasted'], ['english'], ['muffin'], ['came'], ['untoasted'], ['food'], ['good'], ['never'], ['going'], ['back'], ['great'], ['food'], ['price'], ['high'], ['quality'], ['house'], ['made'], ['bus'], ['boy'], ['hand'], ['rude'], ['point'], ['friends'], ['basically'], ['figured'], ['place'], ['joke'], ['didnt'], ['mind'], ['making'], ['publicly'], ['loudly'], ['known'], ['back'], ['good'], ['bbq'], ['lighter'], ['fare'], ['reasonable'], ['pricing'], ['tell'], ['public'], ['back'], ['old'], ['ways'], ['considering'], ['two'], ['us'], ['left'], ['full'], ['happy'], ['cant'], ['go'], ['wrong'], ['bread'], ['made'], ['inhouse'], ['downside'], ['service'], ['also'], ['fries'], ['without'], ['doubt'], ['worst'], ['fries'], ['ive'], ['ever'], ['service'], ['exceptional'], ['food'], ['good'], ['reviews'], ['couple'], ['months'], ['later'], ['returned'], ['amazing'], ['meal'], ['favorite'], ['place'], ['town'], ['shawarrrrrrma'], ['black'], ['eyed'], ['peas'], ['sweet'], ['potatoes'], ['unreal'], ['wont'], ['disappointed'], ['could'], ['serve'], ['vinaigrette'], ['may'], ['make'], ['better'], ['overall'], ['dish'], ['still'], ['good'], ['go'], ['far'], ['many'], ['places'], ['ive'], ['never'], ['seen'], ['restaurant'], ['serves'], ['egg'], ['breakfast'], ['especially'], ['mom'], ['got'], ['home'], ['immediately'], ['got'], ['sick'], ['bites'], ['salad'], ['servers'], ['not'], ['pleasant'], ['deal'], ['dont'], ['always'], ['honor'], ['pizza'], ['hut'], ['coupons'], ['truly'], ['unbelievably'], ['good'], ['glad'], ['went'], ['back'], ['fantastic'], ['service'], ['pleased'], ['atmosphere'], ['everything'], ['gross'], ['love'], ['place'], ['great'], ['service'], ['food'], ['first'], ['bathrooms'], ['location'], ['dirty'], ['seat'], ['covers'], ['not'], ['replenished'], ['plain'], ['yucky'], ['burger'], ['got'], ['gold'], ['standard'], ['burger'], ['kind'], ['disappointed'], ['omg'], ['food'], ['delicioso'], ['nothing'], ['authentic'], ['place'], ['spaghetti'], ['nothing'], ['special'], ['whatsoever'], ['dishes'], ['salmon'], ['best'], ['great'], ['vegetables'], ['fresh'], ['sauce'], ['feels'], ['like'], ['authentic'], ['thai'], ['worth'], ['driving'], ['tucson'], ['selection'], ['probably'], ['worst'], ['ive'], ['seen'], ['vegasthere'], ['none'], ['pretty'], ['good'], ['beer'], ['selection'], ['place'], ['like'], ['chipotle'], ['better'], ['classywarm'], ['atmosphere'], ['fun'], ['fresh'], ['appetizers'], ['succulent'], ['steaks'], ['baseball'], ['steak'], ['stars'], ['brick'], ['oven'], ['bread'], ['app'], ['eaten'], ['multiple'], ['times'], ['time'], ['food'], ['delicious'], ['sat'], ['another'], ['ten'], ['minutes'], ['finally'], ['gave'], ['left'], ['terrible'], ['everyone'], ['treated'], ['equally'], ['special'], ['shouldnt'], ['take'], ['min'], ['pancakes'], ['eggs'], ['delicious'], ['good'], ['side'], ['staff'], ['genuinely'], ['pleasant'], ['enthusiastic'], ['real'], ['treat'], ['sadly'], ['gordon'], ['ramseys'], ['steak'], ['place'], ['shall'], ['sharply'], ['avoid'], ['next'], ['trip'], ['vegas'], ['always'], ['evening'], ['wonderful'], ['food'], ['delicious'], ['best'], ['fish'], ['ive'], ['ever'], ['life'], ['bathroom'], ['next'], ['door'], ['nice'], ['buffet'], ['small'], ['food'], ['offered'], ['bland'], ['outstanding'], ['little'], ['restaurant'], ['best'], ['food'], ['ever'], ['tasted'], ['pretty'], ['cool'], ['would'], ['say'], ['definitely'], ['turn'], ['off'], ['doubt'], ['ill'], ['back'], ['unless'], ['someone'], ['else'], ['buying'], ['server'], ['great'], ['job'], ['handling'], ['large'], ['rowdy'], ['table'], ['find'], ['wasting'], ['food'], ['despicable'], ['wasnt'], ['food'], ['wife'], ['lobster'], ['bisque'], ['soup'], ['lukewarm'], ['would'], ['come'], ['back'], ['sushi'], ['craving'], ['vegas'], ['staff'], ['great'], ['ambiance'], ['great'], ['deserves'], ['stars'], ['left'], ['stomach'], ['ache'], ['felt'], ['sick'], ['rest'], ['day'], ['dropped'], ['ball'], ['dining'], ['space'], ['tiny'], ['elegantly'], ['decorated'], ['comfortable'], ['customize'], ['order'], ['way'], ['youd'], ['like'], ['usual'], ['eggplant'], ['green'], ['bean'], ['stir'], ['fry'], ['love'], ['beans'], ['rice'], ['mediocre'], ['best'], ['best'], ['tacos'], ['town'], ['far'], ['took'], ['back'], ['money'], ['got'], ['outta'], ['interesting'], ['part'], ['town'], ['place'], ['amazing'], ['rude'], ['inconsiderate'], ['management'], ['staff'], ['not'], ['friendly'], ['wait'], ['times'], ['served'], ['horrible'], ['no'], ['one'], ['even'], ['says'], ['hi'], ['first'], ['minutes'], ['wont'], ['back'], ['great'], ['dinners'], ['service'], ['outshining'], ['definitely'], ['recommend'], ['halibut'], ['food'], ['terrible'], ['never'], ['ever'], ['go'], ['back'], ['told'], ['many'], ['people'], ['happened'], ['dont'], ['recommend'], ['unless'], ['car'], ['breaks'], ['front'], ['starving'], ['come'], ['back'], ['every'], ['time'], ['im'], ['vegas'], ['place'], ['deserves'], ['one'], ['star'], ['food'], ['disgrace'], ['def'], ['coming'], ['back'], ['bowl'], ['next'], ['time'], ['want'], ['healthy'], ['authentic'], ['ethic'], ['food'], ['try'], ['place'], ['continue'], ['come'], ['ladies'], ['night'], ['andddd'], ['date'], ['night'], ['highly'], ['recommend'], ['place'], ['anyone'], ['area'], ['several'], ['times'], ['past'], ['experience'], ['always'], ['great'], ['walked'], ['away'], ['stuffed'], ['happy'], ['first'], ['vegas'], ['buffet'], ['experience'], ['service'], ['excellent'], ['prices'], ['pretty'], ['reasonable'], ['considering'], ['vegas'], ['located'], ['inside'], ['crystals'], ['shopping'], ['mall'], ['aria'], ['summarize'], ['food'], ['incredible'], ['nay'], ['transcendant'], ['nothing'], ['brings'], ['joy'], ['quite'], ['like'], ['memory'], ['pneumatic'], ['condiment'], ['dispenser'], ['im'], ['probably'], ['one'], ['people'], ['ever'], ['go'], ['ians'], ['not'], ['like'], ['kids'], ['pizza'], ['always'], ['hit'], ['lots'], ['great'], ['side'], ['dish'], ['options'], ['kiddos'], ['service'], ['perfect'], ['family'], ['atmosphere'], ['nice'], ['see'], ['cooked'], ['perfection'], ['service'], ['impeccable'], ['one'], ['simply'], ['disappointment'], ['overall'], ['disappointed'], ['quality'], ['food'], ['bouchon'], ['dont'], ['accountant'], ['know'], ['im'], ['getting'], ['screwed'], ['great'], ['place'], ['eat'], ['reminds'], ['little'], ['mom'], ['pop'], ['shops'], ['san'], ['francisco'], ['bay'], ['area'], ['today'], ['first'], ['taste'], ['buldogis'], ['gourmet'], ['hot'], ['dog'], ['tell'], ['ever'], ['thought'], ['possible'], ['left'], ['frustrated'], ['ill'], ['definitely'], ['soon'], ['food'], ['really'], ['good'], ['got'], ['full'], ['petty'], ['fast'], ['service'], ['fantastic'], ['total'], ['waste'], ['time'], ['dont'], ['know'], ['kind'], ['best'], ['iced'], ['tea'], ['come'], ['hungry'], ['leave'], ['happy'], ['stuffed'], ['service'], ['give'], ['no'], ['stars'], ['assure'], ['wont'], ['disappointed'], ['take'], ['little'], ['bad'], ['service'], ['food'], ['sucks'], ['gave'], ['trying'], ['eat'], ['crust'], ['teeth'], ['still'], ['sore'], ['completely'], ['grossed'], ['really'], ['enjoyed'], ['eating'], ['first'], ['time'], ['going'], ['think'], ['quickly'], ['become'], ['regular'], ['server'], ['nice'], ['even'], ['though'], ['looked'], ['little'], ['overwhelmed'], ['needs'], ['stayed'], ['professional'], ['friendly'], ['end'], ['dinner'], ['companions'], ['told'], ['meeverything'], ['fresh'], ['nice'], ['texture'], ['taste'], ['ground'], ['right'], ['next'], ['table'], ['large'], ['smeared'], ['beensteppedinandtrackedeverywhere'], ['pile'], ['green'], ['bird'], ['poop'], ['furthermore'], ['cant'], ['even'], ['find'], ['hours'], ['operation'], ['website'], ['weve'], ['tried'], ['like'], ['place'], ['times'], ['think'], ['done'], ['mistake'], ['no'], ['complaints'], ['seriously'], ['good'], ['pizza'], ['im'], ['expertconnisseur'], ['topic'], ['waiter'], ['jerk'], ['strike'], ['wants'], ['rushed'], ['nicest'], ['restaurant'], ['owners'], ['ive'], ['ever'], ['come'], ['across'], ['never'], ['come'], ['loved'], ['biscuits'], ['service'], ['quick'], ['friendly'], ['ordered'], ['appetizer'], ['took'], ['minutes'], ['pizza'], ['another'], ['minutes'], ['absolutley'], ['fantastic'], ['huge'], ['awkward'], ['lb'], ['piece'], ['cow'], ['ths'], ['gristle'], ['fat'], ['definitely'], ['come'], ['back'], ['like'], ['steiners'], ['dark'], ['feels'], ['like'], ['bar'], ['wow'], ['spicy'], ['delicious'], ['youre'], ['not'], ['familiar'], ['check'], ['ill'], ['take'], ['business'], ['dinner'], ['dollars'], ['elsewhere'], ['id'], ['love'], ['go'], ['back'], ['anyway'], ['fs'], ['restaurant'], ['wonderful'], ['breakfastlunch'], ['nothing'], ['special'], ['day'], ['week'], ['different'], ['deal'], ['delicious'], ['not'], ['mention'], ['combination'], ['pears'], ['almonds'], ['bacon'], ['big'], ['winner'], ['not'], ['back'], ['sauce'], ['tasteless'], ['food'], ['delicious'], ['spicy'], ['enough'], ['sure'], ['ask'], ['spicier'], ['prefer'], ['way'], ['ribeye'], ['steak'], ['cooked'], ['perfectly'], ['great'], ['mesquite'], ['flavor'], ['dont'], ['think'], ['well'], ['going'], ['back'], ['anytime'], ['soon'], ['food'], ['gooodd'], ['far'], ['sushi'], ['connoisseur'], ['definitely'], ['tell'], ['difference'], ['good'], ['food'], ['bad'], ['food'], ['certainly'], ['bad'], ['food'], ['insulted'], ['last'], ['times'], ['lunch'], ['bad'], ['chicken'], ['wings'], ['contained'], ['driest'], ['chicken'], ['meat'], ['ever'], ['eaten'], ['food'], ['good'], ['enjoyed'], ['every'], ['mouthful'], ['enjoyable'], ['relaxed'], ['venue'], ['couples'], ['small'], ['family'], ['groups'], ['etc'], ['nargile'], ['think'], ['great'], ['best'], ['tater'], ['tots'], ['southwest'], ['loved'], ['place'], ['definitely'], ['not'], ['worth'], ['paid'], ['vanilla'], ['ice'], ['cream'], ['creamy'], ['smooth'], ['profiterole'], ['choux'], ['pastry'], ['fresh'], ['enough'], ['im'], ['az'], ['time'], ['new'], ['spot'], ['manager'], ['worst'], ['inside'], ['really'], ['quite'], ['nice'], ['clean'], ['food'], ['outstanding'], ['prices'], ['reasonable'], ['dont'], ['think'], ['ill'], ['running'], ['back'], ['carlys'], ['anytime'], ['soon'], ['food'], ['due'], ['fact'], ['took'], ['minutes'], ['acknowledged'], ['another'], ['minutes'], ['get'], ['foodand'], ['kept'], ['forgetting'], ['things'], ['love'], ['margaritas'], ['first'], ['vegas'], ['buffet'], ['not'], ['disappoint'], ['good'], ['though'], ['one'], ['note'], ['ventilation'], ['could'], ['use'], ['upgrading'], ['great'], ['pork'], ['sandwich'], ['dont'], ['waste'], ['time'], ['total'], ['letdown'], ['would'], ['much'], ['rather'], ['go'], ['camelback'], ['flower'], ['shop'], ['cartel'], ['coffee'], ['third'], ['cheese'], ['friends'], ['burger'], ['cold'], ['enjoy'], ['pizza'], ['brunch'], ['steaks'], ['well'], ['trimmed'], ['also'], ['perfectly'], ['cooked'], ['group'], ['claimed'], ['would'], ['handled'], ['us'], ['beautifully'], ['loved'], ['asked'], ['bill'], ['leave'], ['without'], ['eating'], ['didnt'], ['bring'], ['either'], ['place'], ['jewel'], ['las'], ['vegas'], ['exactly'], ['ive'], ['hoping'], ['find'], ['nearly'], ['ten'], ['years'], ['living'], ['seafood'], ['limited'], ['boiled'], ['shrimp'], ['crab'], ['legs'], ['crab'], ['legs'], ['definitely'], ['not'], ['taste'], ['fresh'], ['selection'], ['food'], ['not'], ['best'], ['delicious'], ['absolutely'], ['back'], ['isnt'], ['small'], ['family'], ['restaurant'], ['fine'], ['dining'], ['establishment'], ['toro'], ['tartare'], ['cavier'], ['extraordinary'], ['liked'], ['thinly'], ['sliced'], ['wagyu'], ['white'], ['truffle'], ['dont'], ['think'], ['back'], ['long'], ['time'], ['attached'], ['gas'], ['station'], ['rarely'], ['good'], ['sign'], ['awesome'], ['back'], ['many'], ['times'], ['soon'], ['menu'], ['much'], ['good'], ['stuff'], ['could'], ['not'], ['decide'], ['worse'], ['humiliated'], ['worker'], ['right'], ['front'], ['mebunch'], ['horrible'], ['name'], ['callings'], ['conclusion'], ['filling'], ['meals'], ['daily'], ['specials'], ['always'], ['hit'], ['group'], ['tragedy'], ['struck'], ['pancake'], ['also'], ['really'], ['good'], ['pretty'], ['large'], ['first'], ['crawfish'], ['experience'], ['delicious'], ['monster'], ['chicken'], ['fried'], ['steak'], ['eggs'], ['time'], ['favorite'], ['waitress'], ['sweet'], ['funny'], ['also'], ['taste'], ['moms'], ['multigrain'], ['pumpkin'], ['pancakes'], ['pecan'], ['butter'], ['amazing'], ['fluffy'], ['delicious'], ['id'], ['rather'], ['eat'], ['airline'], ['food'], ['seriously'], ['cant'], ['say'], ['enough'], ['good'], ['things'], ['place'], ['ambiance'], ['incredible'], ['waitress'], ['manager'], ['friendly'], ['would'], ['not'], ['recommend'], ['place'], ['overall'], ['wasnt'], ['impressed'], ['noca'], ['gyro'], ['basically'], ['lettuce'], ['terrible'], ['service'], ['thoroughly'], ['disappointed'], ['dont'], ['much'], ['pasta'], ['love'], ['homemade'], ['hand'], ['made'], ['pastas'], ['thin'], ['pizzas'], ['give'], ['try'], ['happy'], ['far'], ['best'], ['cheesecurds'], ['ever'], ['reasonably'], ['priced'], ['also'], ['everything'], ['perfect'], ['night'], ['food'], ['good'], ['typical'], ['bar'], ['food'], ['drive'], ['get'], ['first'], ['glance'], ['lovely'], ['bakery'], ['cafe'], ['nice'], ['ambiance'], ['clean'], ['friendly'], ['staff'], ['anyway'], ['not'], ['think'], ['go'], ['back'], ['point'], ['finger'], ['item'], ['menu'], ['order'], ['wont'], ['disappointed'], ['oh'], ['thing'], ['beauty'], ['restaurant'], ['havent'], ['gone'], ['go'], ['greasy'], ['unhealthy'], ['meal'], ['first'], ['time'], ['might'], ['last'], ['burgers'], ['amazing'], ['similarly'], ['delivery'], ['man'], ['not'], ['say'], ['word'], ['apology'], ['food'], ['minutes'], ['late'], ['way'], ['expensive'], ['sure'], ['order'], ['dessert'], ['even'], ['need'], ['pack'], ['togo'], ['tiramisu'], ['cannoli'], ['die'], ['first'], ['time'], ['cant'], ['wait'], ['next'], ['bartender'], ['also'], ['nice'], ['everything'], ['good'], ['tasty'], ['place'], ['two'], ['thumbs'], ['upway'], ['best'], ['place'], ['vegas'], ['breakfast'], ['check'], ['sat'], ['sun'], ['love'], ['authentic'], ['mexican'], ['food'], ['want'], ['whole'], ['bunch'], ['interesting'], ['yet'], ['delicious'], ['meats'], ['choose'], ['need'], ['try'], ['place'], ['terrible'], ['management'], ['excellent'], ['new'], ['restaurant'], ['experienced'], ['frenchman'], ['zero'], ['stars'], ['would'], ['give'], ['zero'], ['stars'], ['great'], ['steak'], ['great'], ['sides'], ['great'], ['wine'], ['amazing'], ['desserts'], ['worst'], ['martini'], ['ever'], ['steak'], ['shrimp'], ['opinion'], ['best'], ['entrees'], ['gc'], ['opportunity'], ['today'], ['sample'], ['amazing'], ['pizzas'], ['waited'], ['thirty'], ['minutes'], ['seated'], ['although'], ['vacant'], ['tables'], ['folks'], ['waiting'], ['yellowtail'], ['carpaccio'], ['melt'], ['mouth'], ['fresh'], ['wont'], ['try'], ['going'], ['back'], ['even'], ['empty'], ['no'], ['im'], ['going'], ['eat'], ['potato'], ['found'], ['strangers'], ['hair'], ['spicy'], ['enough'], ['perfect'], ['actually'], ['last'], ['night'], ['second'], ['time'], ['dining'], ['happy'], ['decided'], ['go'], ['back'], ['not'], ['even'], ['hello'], ['right'], ['desserts'], ['bit'], ['strange'], ['boyfriend'], ['came'], ['first'], ['time'], ['recent'], ['trip'], ['vegas'], ['could'], ['not'], ['pleased'], ['quality'], ['food'], ['service'], ['really'], ['recommend'], ['place'], ['go'], ['wrong'], ['donut'], ['place'], ['nice'], ['ambiance'], ['would'], ['recommend'], ['saving'], ['room'], ['guess'], ['maybe'], ['went'], ['off'], ['night'], ['disgraceful'], ['however'], ['recent'], ['experience'], ['particular'], ['location'], ['not'], ['good'], ['know'], ['not'], ['like'], ['restaurants'], ['something'], ['off'], ['avoid'], ['establishment'], ['think'], ['restaurant'], ['suffers'], ['not'], ['trying'], ['hard'], ['enough'], ['tapas'], ['dishes'], ['delicious'], ['heart'], ['place'], ['salad'], ['bland'], ['vinegrette'], ['baby'], ['greens'], ['hearts'], ['palm'], ['two'], ['felt'], ['disgusting'], ['good'], ['time'], ['believe'], ['place'], ['great'], ['stop'], ['huge'], ['belly'], ['hankering'], ['sushi'], ['generous'], ['portions'], ['great'], ['taste'], ['never'], ['go'], ['back'], ['place'], ['never'], ['ever'], ['recommended'], ['place'], ['anyone'], ['servers'], ['went'], ['back'], ['forth'], ['several'], ['times'], ['not'], ['even'], ['much'], ['helped'], ['food'], ['delicious'], ['hour'], ['seriously'], ['consider'], ['theft'], ['eew'], ['location'], ['needs'], ['complete'], ['overhaul'], ['recently'], ['witnessed'], ['poor'], ['quality'], ['management'], ['towards'], ['guests'], ['well'], ['waited'], ['waited'], ['waited'], ['also'], ['came'], ['back'], ['check'], ['us'], ['regularly'], ['excellent'], ['service'], ['server'], ['super'], ['nice'], ['checked'], ['us'], ['many'], ['times'], ['pizza'], ['tasted'], ['old'], ['super'], ['chewy'], ['not'], ['good'], ['way'], ['swung'], ['give'], ['try'], ['deeply'], ['disappointed'], ['service'], ['good'], ['company'], ['better'], ['staff'], ['also'], ['friendly'], ['efficient'], ['service'], ['im'], ['fan'], ['quick'], ['youre'], ['served'], ['nice'], ['folks'], ['boy'], ['sucker'], ['dry'], ['rated'], ['look'], ['authentic'], ['thai'], ['food'], ['go'], ['else'], ['steaks'], ['recommended'], ['pulled'], ['car'], ['waited'], ['another'], ['minutes'], ['acknowledged'], ['great'], ['food'], ['great'], ['service'], ['clean'], ['friendly'], ['setting'], ['assure'], ['ill'], ['back'], ['hate'], ['things'], ['much'], ['cheap'], ['quality'], ['black'], ['olives'], ['breakfast'], ['perpared'], ['great'], ['beautiful'], ['presentation'], ['giant'], ['slices'], ['toast'], ['lightly'], ['dusted'], ['powdered'], ['sugar'], ['kids'], ['play'], ['area'], ['nasty'], ['great'], ['place'], ['fo'], ['take'], ['eat'], ['waitress'], ['friendly'], ['happy'], ['accomodate'], ['veganveggie'], ['options'], ['omg'], ['felt'], ['like'], ['never'], ['eaten'], ['thai'], ['food'], ['dish'], ['extremely'], ['crumby'], ['pretty'], ['tasteless'], ['pale'], ['color'], ['instead'], ['nice'], ['char'], ['no'], ['flavor'], ['croutons'], ['also'], ['taste'], ['homemade'], ['extra'], ['plus'], ['got'], ['home'], ['see'], ['driest'], ['damn'], ['wings'], ['ever'], ['itll'], ['regular'], ['stop'], ['trips'], ['phoenix'], ['really'], ['enjoyed'], ['crema'], ['caf'], ['expanded'], ['even'], ['told'], ['friends'], ['best'], ['breakfast'], ['not'], ['good'], ['money'], ['miss'], ['wish'], ['one'], ['philadelphia'], ['got'], ['sitting'], ['fairly'], ['fast'], ['ended'], ['waiting'], ['minutes'], ['place'], ['order'], ['another'], ['minutes'], ['food'], ['arrived'], ['also'], ['best'], ['cheese'], ['crisp'], ['town'], ['good'], ['value'], ['great'], ['food'], ['great'], ['service'], ['couldnt'], ['ask'], ['satisfying'], ['meal'], ['food'], ['good'], ['awesome'], ['wanted'], ['leave'], ['made'], ['drive'], ['way'], ['north'], ['scottsdale'], ['not'], ['one'], ['bit'], ['disappointed'], ['not'], ['eating'], ['owners'], ['really'], ['really'], ['need'], ['quit'], ['soooooo'], ['cheap'], ['let'], ['wrap'], ['freaking'], ['sandwich'], ['two'], ['papers'], ['not'], ['one'], ['checked'], ['place'], ['couple'], ['years'], ['ago'], ['not'], ['impressed'], ['chicken'], ['got'], ['definitely'], ['reheated'], ['ok'], ['wedges'], ['cold'], ['soggy'], ['sorry'], ['not'], ['getting'], ['food'], ['anytime'], ['soon'], ['absolute'], ['must'], ['visit'], ['cow'], ['tongue'], ['cheek'], ['tacos'], ['amazing'], ['friend'], ['not'], ['like'], ['bloody'], ['mary'], ['despite'], ['hard'], ['rate'], ['businesses'], ['actually'], ['rare'], ['give'], ['star'], ['really'], ['want'], ['make'], ['experience'], ['good'], ['one'], ['not'], ['return'], ['chicken'], ['pho'], ['tasted'], ['bland'], ['disappointing'], ['grilled'], ['chicken'], ['tender'], ['yellow'], ['saffron'], ['seasoning'], ['drive'], ['thru'], ['means'], ['not'], ['want'], ['wait'], ['around'], ['half'], ['hour'], ['food'], ['somehow'], ['end'], ['going'], ['make'], ['us'], ['wait'], ['wait'], ['pretty'], ['awesome'], ['place'], ['ambience'], ['perfect'], ['best'], ['luck'], ['rude'], ['noncustomer'], ['service'], ['focused'], ['new'], ['management'], ['grandmother'], ['make'], ['roasted'], ['chicken'], ['better'], ['one'], ['asked'], ['multiple'], ['times'], ['wine'], ['list'], ['time'], ['ignored'], ['went'], ['hostess'], ['got'], ['one'], ['staff'], ['always'], ['super'], ['friendly'], ['helpful'], ['especially'], ['cool'], ['bring'], ['two'], ['small'], ['boys'], ['baby'], ['four'], ['stars'], ['food'], ['guy'], ['blue'], ['shirt'], ['great'], ['vibe'], ['still'], ['letting'], ['us'], ['eat'], ['roast'], ['beef'], ['sandwich'], ['tasted'], ['really'], ['good'], ['evening'], ['drastically'], ['sick'], ['highquality'], ['chicken'], ['chicken'], ['caesar'], ['salad'], ['ordered'], ['burger'], ['rare'], ['came'], ['well'], ['done'], ['promptly'], ['greeted'], ['seated'], ['tried'], ['go'], ['lunch'], ['madhouse'], ['proven'], ['dead'], ['wrong'], ['sushi'], ['bar'], ['not'], ['quality'], ['great'], ['service'], ['fast'], ['food'], ['impeccable'], ['waiting'], ['hour'], ['seated'], ['not'], ['greatest'], ['moods'], ['good'], ['joint'], ['macarons'], ['insanely'], ['good'], ['im'], ['not'], ['eating'], ['waiter'], ['attentive'], ['friendly'], ['informative'], ['maybe'], ['werent'], ['cold'], ['would'], ['somewhat'], ['edible'], ['place'], ['lot'], ['promise'], ['fails'], ['deliver'], ['bad'], ['experience'], ['mistake'], ['food'], ['average'], ['best'], ['great'], ['food'], ['wont'], ['going'], ['back'], ['anytime'], ['soon'], ['disappointed'], ['ordered'], ['big'], ['bay'], ['plater'], ['great'], ['place'], ['relax'], ['awesome'], ['burger'], ['beer'], ['perfect'], ['sitdown'], ['family'], ['meal'], ['get'], ['together'], ['friends'], ['not'], ['much'], ['flavor'], ['poorly'], ['constructed'], ['patio'], ['seating'], ['comfortable'], ['fried'], ['rice'], ['dry'], ['well'], ['hands'], ['favorite'], ['italian'], ['restaurant'], ['screams'], ['legit'], ['booksomethats'], ['also'], ['pretty'], ['rare'], ['vegas'], ['not'], ['fun'], ['experience'], ['atmosphere'], ['great'], ['lovely'], ['duo'], ['violinists'], ['playing'], ['songs'], ['requested'], ['personally'], ['love'], ['hummus'], ['pita'], ['baklava'], ['falafels'], ['baba'], ['ganoush'], ['amazing'], ['eggplant'], ['convenient'], ['since'], ['staying'], ['mgm'], ['owners'], ['super'], ['friendly'], ['staff'], ['courteous'], ['great'], ['eclectic'], ['selection'], ['sweet'], ['potato'], ['tots'], ['good'], ['onion'], ['rings'], ['perfection'], ['close'], ['staff'], ['attentive'], ['chef'], ['generous'], ['time'], ['even'], ['came'], ['around'], ['twice'], ['take'], ['pictures'], ['owner'], ['used'], ['work'], ['nobu'], ['place'], ['really'], ['similar'], ['half'], ['price'], ['google'], ['mediocre'], ['imagine'], ['smashburger'], ['pop'], ['dont'], ['go'], ['promise'], ['wont'], ['disappoint'], ['sushi'], ['lover'], ['avoid'], ['place'], ['means'], ['great'], ['double'], ['cheeseburger'], ['awesome'], ['service'], ['food'], ['fantastic'], ['neighborhood'], ['gem'], ['cant'], ['wait'], ['go'], ['back'], ['plantains'], ['worst'], ['ive'], ['ever'], ['tasted'], ['great'], ['place'], ['highly'], ['recommend'], ['service'], ['slow'], ['not'], ['attentive'], ['gave'], ['stars'], ['im'], ['giving'], ['stars'], ['staff'], ['spends'], ['time'], ['talking'], ['dessert'], ['panna'], ['cotta'], ['amazing'], ['good'], ['food'], ['great'], ['atmosphere'], ['damn'], ['good'], ['steak'], ['total'], ['brunch'], ['fail'], ['prices'], ['reasonable'], ['flavors'], ['spot'], ['sauce'], ['home'], ['made'], ['slaw'], ['not'], ['drenched'], ['mayo'], ['decor'], ['nice'], ['piano'], ['music'], ['soundtrack'], ['pleasant'], ['steak'], ['amazingrge'], ['fillet'], ['relleno'], ['best'], ['seafood'], ['plate'], ['ever'], ['good'], ['food'], ['good'], ['service'], ['absolutely'], ['amazing'], ['probably'], ['wont'], ['back'], ['honest'], ['definitely'], ['back'], ['sergeant'], ['pepper'], ['beef'], ['sandwich'], ['auju'], ['sauce'], ['excellent'], ['sandwich'], ['well'], ['hawaiian'], ['breeze'], ['mango'], ['magic'], ['pineapple'], ['delight'], ['smoothies'], ['ive'], ['tried'], ['far'], ['theyre'], ['good'], ['went'], ['lunch'], ['service'], ['slow'], ['much'], ['say'], ['place'], ['walked'], ['expected'], ['amazing'], ['quickly'], ['disappointed'], ['mortified'], ['needless'], ['say'], ['never'], ['back'], ['anyways'], ['food'], ['definitely'], ['not'], ['filling'], ['price'], ['pay'], ['expect'], ['chips'], ['came'], ['dripping'], ['grease'], ['mostly'], ['not'], ['edible'], ['wasnt'], ['really'], ['impressed'], ['strip'], ['steak'], ['going'], ['since'], ['every'], ['meal'], ['awesome'], ['server'], ['nice'], ['attentive'], ['serving'], ['staff'], ['cashier'], ['friendly'], ['even'], ['brought'], ['food'], ['work'], ['hospitality'], ['industry'], ['paradise'], ['valley'], ['refrained'], ['recommending'], ['cibo'], ['longer'], ['atmosphere'], ['fun'], ['would'], ['not'], ['recommend'], ['others'], ['service'], ['quick'], ['even'], ['go'], ['orders'], ['like'], ['like'], ['mean'], ['really'], ['get'], ['famous'], ['fish'], ['chips'], ['terrible'], ['said'], ['mouths'], ['bellies'], ['still'], ['quite'], ['pleased'], ['not'], ['thing'], ['thumbs'], ['reading'], ['please'], ['dont'], ['go'], ['loved'], ['grilled'], ['pizza'], ['reminded'], ['legit'], ['italian'], ['pizza'], ['pros'], ['large'], ['seating'], ['area'], ['nice'], ['bar'], ['area'], ['great'], ['simple'], ['drink'], ['menu'], ['best'], ['brick'], ['oven'], ['pizza'], ['homemade'], ['dough'], ['really'], ['nice'], ['atmosphere'], ['tonight'], ['elk'], ['filet'], ['specialand'], ['sucked'], ['one'], ['bite'], ['hooked'], ['ordered'], ['old'], ['classics'], ['new'], ['dishes'], ['going'], ['times'], ['sorely'], ['disappointed'], ['everything'], ['cute'], ['quaint'], ['simple'], ['honest'], ['chicken'], ['deliciously'], ['seasoned'], ['perfect'], ['fry'], ['outside'], ['moist'], ['chicken'], ['inside'], ['food'], ['great'], ['always'], ['compliments'], ['chef'], ['special'], ['thanks'], ['dylan'], ['recommendation'], ['order'], ['yummy'], ['tummy'], ['awesome'], ['selection'], ['beer'], ['great'], ['food'], ['awesome'], ['service'], ['one'], ['nice'], ['thing'], ['added'], ['gratuity'], ['bill'], ['since'], ['party'], ['larger'], ['didnt'], ['expect'], ['tip'], ['fly'], ['apple'], ['juice'], ['fly'], ['han'], ['nan'], ['chicken'], ['also'], ['tasty'], ['service'], ['thought'], ['good'], ['food'], ['barely'], ['lukewarm'], ['must'], ['sitting'], ['waiting'], ['server'], ['bring'], ['us'], ['ryans'], ['bar'], ['definitely'], ['one'], ['edinburgh'], ['establishment'], ['wont'], ['revisiting'], ['nicest'], ['chinese'], ['restaurant'], ['ive'], ['overall'], ['like'], ['food'], ['service'], ['also'], ['serve'], ['indian'], ['naan'], ['bread'], ['hummus'], ['spicy'], ['pine'], ['nut'], ['sauce'], ['world'], ['probably'], ['never'], ['coming'], ['back'], ['wouldnt'], ['recommend'], ['friends'], ['pasta'], ['also'], ['bad'], ['barely'], ['touched'], ['try'], ['airport'], ['experience'], ['tasty'], ['food'], ['speedy'], ['friendly'], ['service'], ['love'], ['decor'], ['chinese'], ['calligraphy'], ['wall'], ['paper'], ['never'], ['anything'], ['complain'], ['restaurant'], ['clean'], ['family'], ['restaurant'], ['feel'], ['way'], ['fried'], ['im'], ['not'], ['sure'], ['long'], ['stood'], ['long'], ['enough'], ['begin'], ['feel'], ['awkwardly'], ['place'], ['opened'], ['sandwich'], ['impressed'], ['not'], ['good'], ['way'], ['not'], ['back'], ['warm'], ['feeling'], ['service'], ['felt'], ['like'], ['guest'], ['special'], ['treat'], ['extensive'], ['menu'], ['provides'], ['lots'], ['options'], ['breakfast'], ['always'], ['order'], ['vegetarian'], ['menu'], ['dinner'], ['wide'], ['array'], ['options'], ['choose'], ['watched'], ['prices'], ['inflate'], ['portions'], ['get'], ['smaller'], ['management'], ['attitudes'], ['grow'], ['rapidly'], ['wonderful'], ['lil'], ['tapas'], ['ambience'], ['made'], ['feel'], ['warm'], ['fuzzy'], ['inside'], ['got'], ['enjoy'], ['seafood'], ['salad'], ['fabulous'], ['vinegrette'], ['wontons'], ['thin'], ['not'], ['thick'], ['chewy'], ['almost'], ['melt'], ['mouth'], ['level'], ['spicy'], ['perfect'], ['spice'], ['didnt'], ['overwhelm'], ['soup'], ['sat'], ['right'], ['time'], ['server'], ['get'], ['go'], ['fantastic'], ['main'], ['thing'], ['didnt'], ['enjoy'], ['crowd'], ['older'], ['crowd'], ['around'], ['mid'], ['im'], ['side'], ['town'], ['definitely'], ['spot'], ['ill'], ['hit'], ['wait'], ['minutes'], ['get'], ['drink'], ['longer'], ['get'], ['arepas'], ['great'], ['place'], ['eat'], ['jalapeno'], ['bacon'], ['soooo'], ['good'], ['service'], ['poor'], ['thats'], ['nice'], ['food'], ['good'], ['service'], ['good'], ['prices'], ['good'], ['place'], ['not'], ['clean'], ['food'], ['oh'], ['stale'], ['chicken'], ['dishes'], ['ok'], ['beef'], ['like'], ['shoe'], ['leather'], ['service'], ['beyond'], ['bad'], ['im'], ['happy'], ['tasted'], ['like'], ['dirt'], ['one'], ['places'], ['phoenix'], ['would'], ['definately'], ['go'], ['back'], ['block'], ['amazing'], ['close'], ['house'], ['lowkey'], ['nonfancy'], ['affordable'], ['prices'], ['good'], ['food'], ['hot'], ['sour'], ['egg'], ['flower'], ['soups'], ['absolutely'], ['stars'], ['sashimi'], ['poor'], ['quality'], ['soggy'], ['tasteless'], ['great'], ['time'], ['family'], ['dinner'], ['sunday'], ['night'], ['food'], ['not'], ['tasty'], ['not'], ['say'], ['real'], ['traditional'], ['hunan'], ['style'], ['bother'], ['slow'], ['service'], ['flair'], ['bartenders'], ['absolutely'], ['amazing'], ['frozen'], ['margaritas'], ['way'], ['sugary'], ['taste'], ['good'], ['ordered'], ['twice'], ['nutshell'], ['restaraunt'], ['smells'], ['like'], ['combination'], ['dirty'], ['fish'], ['market'], ['sewer'], ['girlfriends'], ['veal'], ['bad'], ['unfortunately'], ['not'], ['good'], ['pretty'], ['satifying'], ['experience'], ['join'], ['club'], ['get'], ['awesome'], ['offers'], ['via'], ['email'], ['perfect'], ['someone'], ['likes'], ['beer'], ['ice'], ['cold'], ['case'], ['even'], ['colder'], ['bland'], ['flavorless'], ['good'], ['way'], ['describing'], ['barely'], ['tepid'], ['meat'], ['chains'], ['im'], ['no'], ['fan'], ['beat'], ['place'], ['easily'], ['nachos'], ['must'], ['not'], ['coming'], ['back'], ['dont'], ['many'], ['words'], ['say'], ['place'], ['everything'], ['pretty'], ['well'], ['staff'], ['super'], ['nice'], ['quick'], ['even'], ['crazy'], ['crowds'], ['downtown'], ['juries'], ['lawyers'], ['court'], ['staff'], ['great'], ['atmosphere'], ['friendly'], ['fast'], ['service'], ['received'], ['pita'], ['huge'], ['lot'], ['meat'], ['thumbs'], ['food'], ['arrives'], ['meh'], ['paying'], ['hot'], ['dog'], ['fries'], ['looks'], ['like'], ['came'], ['kids'], ['meal'], ['wienerschnitzel'], ['not'], ['idea'], ['good'], ['meal'], ['classic'], ['maine'], ['lobster'], ['roll'], ['fantastic'], ['brother'], ['law'], ['works'], ['mall'], ['ate'], ['day'], ['guess'], ['sick'], ['night'], ['good'], ['going'], ['review'], ['place'], ['twice'], ['hereas'], ['tribute'], ['place'], ['tribute'], ['event'], ['held'], ['last'], ['night'], ['chips'], ['salsa'], ['really'], ['good'], ['salsa'], ['fresh'], ['place'], ['great'], ['mediocre'], ['food'], ['get'], ['inside'], ['youll'], ['impressed'], ['place'], ['im'], ['super'], ['pissd'], ['service'], ['super'], ['friendly'], ['sad'], ['little'], ['vegetables'], ['overcooked'], ['place'], ['nice'], ['surprise'], ['goldencrispy'], ['delicious'], ['high'], ['hopes'], ['place'], ['since'], ['burgers'], ['cooked'], ['charcoal'], ['grill'], ['unfortunately'], ['taste'], ['fell'], ['flat'], ['way'], ['flat'], ['could'], ['eat'], ['bruschetta'], ['day'], ['devine'], ['not'], ['single'], ['employee'], ['came'], ['see'], ['ok'], ['even'], ['needed'], ['water'], ['refill'], ['finally'], ['served'], ['us'], ['food'], ['lastly'], ['mozzarella'], ['sticks'], ['best'], ['thing'], ['ordered'], ['first'], ['time'], ['ever'], ['came'], ['amazing'], ['experience'], ['still'], ['tell'], ['people'], ['awesome'], ['duck'], ['server'], ['negligent'], ['needs'], ['made'], ['us'], ['feel'], ['unwelcome'], ['would'], ['not'], ['suggest'], ['place'], ['service'], ['terrible'], ['though'], ['place'], ['overpriced'], ['not'], ['consistent'], ['boba'], ['really'], ['overpriced'], ['packed'], ['love'], ['place'], ['say'], ['desserts'], ['yummy'], ['food'], ['terrible'], ['seasonal'], ['fruit'], ['fresh'], ['white'], ['peach'], ['puree'], ['kept'], ['getting'], ['worse'], ['worse'], ['im'], ['officially'], ['done'], ['place'], ['honestly'], ['blown'], ['definitely'], ['would'], ['not'], ['eat'], ['not'], ['waste'], ['money'], ['love'], ['put'], ['food'], ['nice'], ['plastic'], ['containers'], ['opposed'], ['cramming'], ['little'], ['paper'], ['takeout'], ['boxes'], ['crpe'], ['delicate'], ['thin'], ['moist'], ['awful'], ['service'], ['wont'], ['ever'], ['go'], ['food'], ['quality'], ['horrible'], ['price'], ['think'], ['place'], ['would'], ['much'], ['rather'], ['gone'], ['service'], ['fair'], ['best'], ['love'], ['sushi'], ['found'], ['kabuki'], ['overpriced'], ['overhip'], ['underservices'], ['yourself'], ['favor'], ['stay'], ['away'], ['dish'], ['poor'], ['service'], ['no'], ['one'], ['table'], ['thought'], ['food'], ['average'], ['worth'], ['wait'], ['best'], ['service'], ['food'], ['ever'], ['maria'], ['server'], ['good'], ['friendly'], ['made'], ['day'], ['excellent'], ['paid'], ['bill'], ['not'], ['tip'], ['felt'], ['server'], ['terrible'], ['job'], ['lunch'], ['great'], ['experience'], ['never'], ['bland'], ['food'], ['surprised'], ['considering'], ['article'], ['read'], ['focused'], ['much'], ['spices'], ['flavor'], ['food'], ['way'], ['overpriced'], ['portions'], ['fucking'], ['small'], ['recently'], ['tried'], ['caballeros'], ['back'], ['every'], ['week'], ['since'], ['bucks'], ['head'], ['really'], ['expect'], ['better'], ['food'], ['food'], ['came'], ['good'], ['pace'], ['ate'], ['twice'], ['last'], ['visit'], ['especially'], ['enjoyed'], ['salmon'], ['salad'], ['wont'], ['back'], ['could'], ['not'], ['believe'], ['dirty'], ['oysters'], ['place'], ['deserves'], ['no'], ['stars'], ['would'], ['not'], ['recommend'], ['place'], ['fact'], ['im'], ['going'], ['round'], ['stars'], ['awesome'], ['disbelief'], ['dish'], ['qualified'], ['worst'], ['version'], ['foods'], ['ever'], ['tasted'], ['bad'], ['day'], ['not'], ['low'], ['tolerance'], ['rude'], ['customer'], ['service'], ['people'], ['job'], ['nice'], ['polite'], ['wash'], ['dishes'], ['otherwise'], ['potatoes'], ['great'], ['biscuit'], ['probably'], ['would'], ['not'], ['go'], ['flavorful'], ['perfect'], ['amount'], ['heat'], ['price'], ['reasonable'], ['service'], ['great'], ['wife'], ['hated'], ['meal'], ['coconut'], ['shrimp'], ['friends'], ['really'], ['not'], ['enjoy'], ['meals'], ['either'], ['fella'], ['got'], ['huevos'], ['rancheros'], ['didnt'], ['look'], ['appealing'], ['went'], ['happy'], ['hour'], ['great'], ['list'], ['wines'], ['may'], ['say'], ['buffet'], ['pricey'], ['think'], ['get'], ['pay'], ['place'], ['getting'], ['quite'], ['lot'], ['probably'], ['wont'], ['coming'], ['back'], ['worst'], ['foodservice'], ['ive'], ['place'], ['pretty'], ['good'], ['nice'], ['little'], ['vibe'], ['restaurant'], ['talk'], ['great'], ['customer'], ['service'], ['course'], ['back'], ['hot'], ['dishes'], ['not'], ['hot'], ['cold'], ['dishes'], ['close'], ['room'], ['tempi'], ['watched'], ['staff'], ['prepare'], ['food'], ['bare'], ['hands'], ['no'], ['gloveseverything'], ['deep'], ['fried'], ['oil'], ['love'], ['fries'], ['beans'], ['always'], ['pleasure'], ['dealing'], ['plethora'], ['salads'], ['sandwiches'], ['everything'], ['ive'], ['tried'], ['gets'], ['seal'], ['approval'], ['place'], ['awesome'], ['want'], ['something'], ['light'], ['healthy'], ['summer'], ['sushi'], ['strip'], ['place'], ['go'], ['service'], ['great'], ['even'], ['manager'], ['came'], ['helped'], ['table'], ['feel'], ['dining'], ['room'], ['college'], ['cooking'], ['course'], ['high'], ['class'], ['dining'], ['service'], ['slow'], ['best'], ['started'], ['review'], ['two'], ['stars'], ['im'], ['editing'], ['give'], ['one'], ['worst'], ['sushi'], ['ever'], ['eat'], ['besides'], ['costcos'], ['excellent'], ['restaurant'], ['highlighted'], ['great'], ['service'], ['unique'], ['menu'], ['beautiful'], ['setting'], ['boyfriend'], ['sat'], ['bar'], ['completely'], ['delightful'], ['experience'], ['weird'], ['vibe'], ['owners'], ['hardly'], ['meat'], ['ive'], ['better'], ['bagels'], ['grocery'], ['store'], ['go'], ['place'], ['gyros'], ['love'], ['ownerchef'], ['one'], ['authentic'], ['japanese'], ['cool'], ['dude'], ['burgers'], ['arent'], ['good'], ['pizza'], ['used'], ['amazing'], ['doughy'], ['flavorless'], ['found'], ['six'], ['inch'], ['long'], ['piece'], ['wire'], ['salsa'], ['service'], ['terrible'], ['food'], ['mediocre'], ['definately'], ['enjoyed'], ['ordered'], ['albondigas'], ['soup'], ['warm'], ['tasted'], ['like'], ['tomato'], ['soup'], ['frozen'], ['meatballs'], ['three'], ['different'], ['occasions'], ['asked'], ['well'], ['done'], ['medium'], ['well'], ['three'], ['times'], ['got'], ['bloodiest'], ['piece'], ['meat'], ['plate'], ['two'], ['bites'], ['refused'], ['eat'], ['anymore'], ['service'], ['extremely'], ['slow'], ['minutes'], ['wait'], ['got'], ['table'], ['seriously'], ['killer'], ['hot'], ['chai'], ['latte'], ['no'], ['allergy'], ['warnings'], ['menu'], ['waitress'], ['absolutely'], ['no'], ['clue'], ['meals'], ['not'], ['contain'], ['peanuts'], ['boyfriend'], ['tried'], ['mediterranean'], ['chicken'], ['salad'], ['fell'], ['love'], ['rotating'], ['beers'], ['tap'], ['also'], ['highlight'], ['place'], ['pricing'], ['bit'], ['concern'], ['mellow'], ['mushroom'], ['worst'], ['thai'], ['ever'], ['stay'], ['vegas'], ['must'], ['get'], ['breakfast'], ['least'], ['want'], ['first'], ['say'], ['server'], ['great'], ['perfect'], ['service'], ['pizza'], ['selections'], ['good'], ['strawberry'], ['tea'], ['good'], ['highly'], ['unprofessional'], ['rude'], ['loyal'], ['patron'], ['overall'], ['great'], ['experience'], ['spend'], ['money'], ['elsewhere'], ['regular'], ['toasted'], ['bread'], ['equally'], ['satisfying'], ['occasional'], ['pats'], ['butter'], ['mmmm'], ['buffet'], ['bellagio'], ['far'], ['anticipated'], ['drinks'], ['weak'], ['people'], ['order'], ['not'], ['correct'], ['also'], ['feel'], ['like'], ['chips'], ['bought'], ['not'], ['made'], ['house'], ['disappointing'], ['dinner'], ['went'], ['elsewhere'], ['dessert'], ['chips'], ['sals'], ['amazing'], ['wont'], ['returning'], ['new'], ['fav'], ['vegas'], ['buffet'], ['spot'], ['seriously'], ['cannot'], ['believe'], ['owner'], ['many'], ['unexperienced'], ['employees'], ['running'], ['around'], ['like'], ['chickens'], ['heads'], ['cut'], ['off'], ['sad'], ['felt'], ['insulted'], ['disrespected'], ['could'], ['talk'], ['judge'], ['another'], ['human'], ['like'], ['call'], ['yourself'], ['steakhouse'], ['cant'], ['properly'], ['cook'], ['steak'], ['dont'], ['understand'], ['im'], ['not'], ['impressed'], ['concept'], ['food'], ['thing'], ['wasnt'], ['crazy'], ['guacamole'], ['dont'], ['like'], ['pured'], ['really'], ['nothing'], ['postinos'], ['hope'], ['experience'], ['better'], ['got'], ['food'], ['poisoning'], ['buffet'], ['brought'], ['fresh'], ['batch'], ['fries'], ['thinking'], ['yay'], ['something'], ['warm'], ['no'], ['hilarious'], ['yummy'], ['christmas'], ['eve'], ['dinner'], ['remember'], ['biggest'], ['fail'], ['entire'], ['trip'], ['us'], ['needless'], ['say'], ['wont'], ['going'], ['back'], ['anytime'], ['soon'], ['place'], ['disgusting'], ['every'], ['time'], ['eat'], ['see'], ['caring'], ['teamwork'], ['professional'], ['degree'], ['ri'], ['style'], ['calamari'], ['joke'], ['however'], ['much'], ['garlic'], ['fondue'], ['barely'], ['edible'], ['could'], ['barely'], ['stomach'], ['meal'], ['didnt'], ['complain'], ['business'], ['lunch'], ['bad'], ['lost'], ['heart'], ['finish'], ['also'], ['took'], ['forever'], ['bring'], ['us'], ['check'], ['asked'], ['arent'], ['ones'], ['make'], ['scene'], ['restaurants'], ['dont'], ['get'], ['itdefinitely'], ['lost'], ['love'], ['one'], ['disappointing'], ['experience'], ['food'], ['par'], ['dennys'], ['say'], ['not'], ['good'], ['want'], ['wait'], ['mediocre'], ['food'], ['downright'], ['terrible'], ['service'], ['place'], ['waaaaaayyyyyyyyyy'], ['rated'], ['saying'], ['wont'], ['going'], ['back'], ['place'], ['fairly'], ['clean'], ['food'], ['simply'], ['wasnt'], ['worth'], ['place'], ['lacked'], ['style'], ['sangria'], ['half'], ['glass'], ['wine'], ['full'], ['ridiculous'], ['dont'], ['bother'], ['coming'], ['meat'], ['pretty'], ['dry'], ['sliced'], ['brisket'], ['pulled'], ['pork'], ['building'], ['seems'], ['pretty'], ['neat'], ['bathroom'], ['pretty'], ['trippy'], ['wouldnt'], ['eat'], ['equally'], ['awful'], ['probably'], ['not'], ['hurry'], ['go'], ['back'], ['slow'], ['seating'], ['even'], ['reservation'], ['not'], ['good'], ['stretch'], ['imagination'], ['cashew'], ['cream'], ['sauce'], ['bland'], ['vegetables'], ['undercooked'], ['chipolte'], ['ranch'], ['dipping'], ['sause'], ['tasteless'], ['seemed'], ['thin'], ['watered'], ['no'], ['heat'], ['bit'], ['sweet'], ['not'], ['really'], ['spicy'], ['enough'], ['lacked'], ['flavor'], ['disappointed'], ['place'], ['horrible'], ['way'], ['overpriced'], ['maybe'], ['vegetarian'], ['fare'], ['ive'], ['twice'], ['thought'], ['average'], ['best'], ['wasnt'], ['busy'], ['know'], ['tables'], ['outside'], ['also'], ['dirty'], ['lot'], ['time'], ['workers'], ['not'], ['always'], ['friendly'], ['helpful'], ['menu'], ['ambiance'], ['not'], ['feel'], ['like'], ['buffet'], ['setting'], ['douchey'], ['indoor'], ['garden'], ['tea'], ['biscuits'], ['con'], ['spotty'], ['service'], ['fries'], ['not'], ['hot'], ['neither'], ['burger'], ['came'], ['back'], ['cold'], ['food'], ['came'], ['disappointment'], ['ensued'], ['real'], ['disappointment'], ['waiter'], ['husband'], ['said'], ['rude'], ['not'], ['even'], ['apologize'], ['bad'], ['food'], ['anything'], ['reason'], ['eat'], ['would'], ['fill'], ['night'], ['binge'], ['drinking'], ['get'], ['carbs'], ['stomach'], ['insults'], ['profound'], ['deuchebaggery'], ['go'], ['outside'], ['smoke'], ['break'], ['serving'], ['solidify'], ['someone'], ['orders'], ['two'], ['tacos'], ['dont'], ['think'], ['may'], ['part'], ['customer'], ['service'], ['ask'], ['combo'], ['ala'], ['cart'], ['quite'], ['disappointed'], ['although'], ['blame'], ['needs'], ['placed'], ['door'], ['rave'], ['reviews'], ['couldnt'], ['wait'], ['eat'], ['herewhat'], ['disappointment'], ['del'], ['taco'], ['pretty'], ['nasty'], ['avoided'], ['possible'], ['not'], ['hard'], ['make'], ['decent'], ['hamburger'], ['dont'], ['like'], ['hell'], ['no'], ['go'], ['back'], ['weve'], ['gotten'], ['much'], ['better'], ['service'], ['pizza'], ['place'], ['next'], ['door'], ['services'], ['received'], ['restaurant'], ['dont'], ['know'], ['big'], ['deal'], ['place'], ['wont'], ['back'], ['yaall'], ['immediately'], ['said'], ['wanted'], ['talk'], ['manager'], ['not'], ['want'], ['talk'], ['guy'], ['shots'], ['fireball'], ['behind'], ['bar'], ['ambiance'], ['isnt'], ['much'], ['better'], ['unfortunately'], ['set'], ['us'], ['disapppointment'], ['entrees'], ['food'], ['wasnt'], ['good'], ['servers'], ['suck'], ['wait'], ['correction'], ['server'], ['heimer'], ['sucked'], ['happened'], ['next'], ['prettyoff'], ['putting'], ['bad'], ['cause'], ['know'], ['family'], ['owned'], ['really'], ['wanted'], ['like'], ['place'], ['overpriced'], ['getting'], ['vomited'], ['bathroom'], ['mid'], ['lunch'], ['kept'], ['looking'], ['time'], ['soon'], ['become'], ['minutes'], ['yet'], ['still'], ['no'], ['food'], ['places'], ['eat'], ['no'], ['circumstances'], ['would'], ['ever'], ['return'], ['tops'], ['list'], ['started'], ['tuna'], ['sashimi'], ['brownish'], ['color'], ['obviously'], ['wasnt'], ['fresh'], ['food'], ['average'], ['sure'], ['beat'], ['nachos'], ['movies'], ['would'], ['expect'], ['little'], ['bit'], ['coming'], ['restaurant'], ['ha'], ['long'], ['bay'], ['bit'], ['flop'], ['problem'], ['charge'], ['sandwich'], ['no'], ['bigger'], ['subway'], ['sub'], ['offers'], ['better'], ['amount'], ['vegetables'], ['shrimp'], ['unwrapped'], ['live'], ['mile'], ['brushfire'], ['literally'], ['ice'], ['cold'], ['lacked'], ['flavor'], ['seemed'], ['undercooked'], ['dry'], ['really'], ['impressive'], ['place'], ['hasnt'], ['closed'], ['would'], ['avoid'], ['place'], ['staying'], ['mirage'], ['refried'], ['beans'], ['came'], ['meal'], ['dried'], ['crusty'], ['food'], ['bland'], ['spend'], ['money'], ['time'], ['place'], ['else'], ['lady'], ['table'], ['next'], ['us'], ['found'], ['live'], ['green'], ['caterpillar'], ['salad'], ['presentation'], ['food'], ['awful'], ['cant'], ['tell'], ['disappointed'], ['think'], ['food'], ['flavor'], ['texture'], ['lacking'], ['appetite'], ['instantly'], ['gone'], ['overall'], ['not'], ['impressed'], ['would'], ['not'], ['go'], ['back'], ['whole'], ['experience'], ['underwhelming'], ['think'], ['well'], ['go'], ['ninja'], ['sushi'], ['next'], ['time'], ['hadnt'], ['wasted'], ['enough'], ['life'], ['poured'], ['salt'], ['wound'], ['drawing'], ['time'], ['took'], ['bring'], ['check']]\n"
          ]
        }
      ],
      "source": [
        "print(lista_sin_stopwords)"
      ]
    },
    {
      "cell_type": "code",
      "execution_count": 240,
      "metadata": {},
      "outputs": [
        {
          "name": "stdout",
          "output_type": "stream",
          "text": [
            "[['case'], ['ignored'], ['tonight'], ['mess'], ['pleasure'], ['mixed'], ['chocolate'], ['devine'], ['legs'], ['nothing'], ['poor'], ['firehouse'], ['pork'], ['cheap'], ['rating'], ['rude'], ['toro'], ['things'], ['venturing'], ['char'], ['apparently'], ['could'], ['cost'], ['establishment'], ['hopefully'], ['rave'], ['coziness'], ['reason'], ['jewel'], ['flavor'], ['hottest'], ['khao'], ['bare'], ['missed'], ['cavier'], ['unprofessional'], ['salad'], ['raspberry'], ['extraordinary'], ['onion'], ['pneumatic'], ['chipolte'], ['hell'], ['theft'], ['movies'], ['jeff'], ['poisoning'], ['crab'], ['noncustomer'], ['gem'], ['dining'], ['untoasted'], ['stepped'], ['sandwiches'], ['shirt'], ['person'], ['poop'], ['ribeye'], ['tailored'], ['outstanding'], ['tastings'], ['look'], ['perfectly'], ['moz'], ['hilarious'], ['impeccable'], ['par'], ['company'], ['star'], ['ninja'], ['completely'], ['conclusion'], ['crust'], ['risotto'], ['spring'], ['accountant'], ['restaurants'], ['always'], ['crostini'], ['worth'], ['people'], ['arepas'], ['yummy'], ['descriptions'], ['naan'], ['take'], ['seasoned'], ['fails'], ['host'], ['cash'], ['corporation'], ['bar'], ['sample'], ['specials'], ['qualified'], ['poorly'], ['going'], ['charge'], ['experiencing'], ['husband'], ['wagyu'], ['sauce'], ['events'], ['downtown'], ['vinaigrette'], ['level'], ['pricey'], ['stretch'], ['register'], ['building'], ['anytime'], ['bunch'], ['anything'], ['happened'], ['busy'], ['petrified'], ['literally'], ['pop'], ['main'], ['disbelief'], ['quick'], ['provided'], ['waste'], ['multiple'], ['works'], ['cannoli'], ['palate'], ['smells'], ['orders'], ['pured'], ['anyone'], ['bland'], ['wont'], ['time'], ['menus'], ['options'], ['cream'], ['large'], ['cow'], ['staying'], ['whole'], ['every'], ['atmosphere'], ['stir'], ['perpared'], ['gone'], ['grandmother'], ['dennys'], ['groups'], ['cod'], ['arrived'], ['upway'], ['theyre'], ['tigerlilly'], ['disaster'], ['app'], ['wall'], ['manager'], ['nargile'], ['overall'], ['eggplant'], ['huevos'], ['lacking'], ['tartare'], ['living'], ['yourself'], ['evening'], ['readers'], ['coconut'], ['classic'], ['full'], ['life'], ['humiliated'], ['vain'], ['fry'], ['bloodiest'], ['refreshing'], ['curry'], ['calligraphy'], ['consider'], ['inexpensive'], ['value'], ['diverse'], ['absolutely'], ['mandalay'], ['weekly'], ['begin'], ['fish'], ['spaghetti'], ['specialand'], ['mushrooms'], ['shower'], ['count'], ['companions'], ['banana'], ['couple'], ['pan'], ['almonds'], ['min'], ['offered'], ['inhouse'], ['flavored'], ['stop'], ['loudly'], ['pumpkin'], ['hawaiian'], ['lil'], ['possible'], ['seriously'], ['new'], ['loves'], ['certainly'], ['lover'], ['whether'], ['spicy'], ['hoping'], ['wife'], ['fail'], ['apple'], ['else'], ['added'], ['flirting'], ['soup'], ['waitresses'], ['lunch'], ['deep'], ['old'], ['efficient'], ['dirt'], ['table'], ['subway'], ['soooo'], ['piano'], ['driving'], ['decorated'], ['typical'], ['somehow'], ['hankering'], ['much'], ['cut'], ['werent'], ['sorely'], ['cook'], ['yellowtail'], ['real'], ['perhaps'], ['owner'], ['english'], ['salsa'], ['nutshell'], ['dishes'], ['ordering'], ['two'], ['salmon'], ['ten'], ['sour'], ['fan'], ['ms'], ['disgusted'], ['lot'], ['boiled'], ['man'], ['combination'], ['delightful'], ['live'], ['breakfastlunch'], ['fondue'], ['showed'], ['first'], ['feeling'], ['returning'], ['shouldnt'], ['marys'], ['none'], ['court'], ['dreamed'], ['palm'], ['unexperienced'], ['topic'], ['baseball'], ['cheesecurds'], ['fairly'], ['boba'], ['stomach'], ['truffle'], ['struggle'], ['mayo'], ['tvs'], ['glance'], ['many'], ['madhouse'], ['dates'], ['six'], ['never'], ['bread'], ['damn'], ['plate'], ['yellow'], ['reasonably'], ['bird'], ['mind'], ['attack'], ['providing'], ['operation'], ['wouldve'], ['also'], ['joy'], ['beautifully'], ['decor'], ['touch'], ['black'], ['worstannoying'], ['paradise'], ['brings'], ['hamburger'], ['excellent'], ['roll'], ['jalapeno'], ['signs'], ['inside'], ['juice'], ['soggy'], ['cakes'], ['though'], ['wontons'], ['nachos'], ['enjoy'], ['crema'], ['wait'], ['classics'], ['plater'], ['crowds'], ['quaint'], ['chickenwith'], ['mom'], ['pineapple'], ['law'], ['affordable'], ['regular'], ['moms'], ['soundtrack'], ['may'], ['professional'], ['wed'], ['sandwich'], ['due'], ['petty'], ['made'], ['wasting'], ['enthusiastic'], ['beyond'], ['absolute'], ['least'], ['unhealthy'], ['magazine'], ['touched'], ['daughter'], ['halibut'], ['accomodate'], ['ventilation'], ['hurry'], ['power'], ['hated'], ['nobu'], ['violinists'], ['customers'], ['awkward'], ['parents'], ['mains'], ['gave'], ['came'], ['maine'], ['everyone'], ['indicate'], ['flavorful'], ['vodka'], ['generic'], ['combo'], ['crispy'], ['smoke'], ['puree'], ['mayowell'], ['yelpers'], ['roasted'], ['house'], ['style'], ['sticks'], ['starving'], ['overwhelm'], ['pub'], ['teeth'], ['handed'], ['grilled'], ['die'], ['honestly'], ['rich'], ['gristle'], ['delights'], ['towards'], ['trying'], ['list'], ['gooodd'], ['nigiri'], ['green'], ['decided'], ['dropped'], ['mozzarella'], ['bad'], ['fried'], ['sat'], ['veal'], ['stay'], ['asked'], ['ripped'], ['unreal'], ['peas'], ['try'], ['indian'], ['mistake'], ['maria'], ['boyfriend'], ['waaaaaayyyyyyyyyy'], ['tribute'], ['shoe'], ['rowdy'], ['hand'], ['need'], ['email'], ['opposed'], ['shops'], ['healthy'], ['airline'], ['muffin'], ['steak'], ['trip'], ['gyro'], ['pink'], ['expanded'], ['fill'], ['complaints'], ['consistent'], ['weekend'], ['oysters'], ['presentation'], ['shopping'], ['mall'], ['services'], ['work'], ['apart'], ['reminds'], ['caesar'], ['despite'], ['fair'], ['informative'], ['remember'], ['dead'], ['rudely'], ['exceptional'], ['hes'], ['sorry'], ['kitchen'], ['cashew'], ['occasions'], ['total'], ['vegetables'], ['vegetarian'], ['sugary'], ['rather'], ['deliver'], ['winner'], ['drive'], ['truly'], ['pasta'], ['occasional'], ['without'], ['expectations'], ['ample'], ['rushed'], ['otherwise'], ['eggs'], ['tomato'], ['drag'], ['tasted'], ['outdoor'], ['describing'], ['bars'], ['contained'], ['side'], ['pay'], ['short'], ['olives'], ['relocated'], ['climbing'], ['claimed'], ['flavourful'], ['buying'], ['reservation'], ['got'], ['think'], ['vomited'], ['lowkey'], ['year'], ['end'], ['concern'], ['refried'], ['hut'], ['wrapped'], ['strangers'], ['barely'], ['ambiance'], ['boys'], ['revisiting'], ['joeys'], ['serves'], ['spices'], ['philadelphia'], ['metro'], ['atrocious'], ['guy'], ['mgm'], ['crisp'], ['businesses'], ['drinks'], ['late'], ['blame'], ['pucks'], ['flavorless'], ['complain'], ['mebunch'], ['cramming'], ['selections'], ['hello'], ['kids'], ['noca'], ['lovers'], ['rancheros'], ['hate'], ['staff'], ['otto'], ['hadnt'], ['voted'], ['costcos'], ['ingredients'], ['downside'], ['attitudes'], ['vacant'], ['watered'], ['magic'], ['hiro'], ['arriving'], ['soups'], ['drunk'], ['vibe'], ['apologize'], ['red'], ['foods'], ['sharply'], ['tartar'], ['appetizers'], ['camelback'], ['giving'], ['privileged'], ['vegas'], ['turn'], ['recommending'], ['arrives'], ['rightthe'], ['itll'], ['set'], ['pulled'], ['google'], ['friend'], ['listed'], ['nut'], ['cart'], ['smooth'], ['several'], ['toasted'], ['witnessed'], ['miss'], ['leave'], ['dry'], ['worse'], ['frenchman'], ['accident'], ['ahead'], ['gloveseverything'], ['relationship'], ['thing'], ['cheese'], ['changing'], ['loved'], ['relleno'], ['original'], ['wasted'], ['let'], ['ramseys'], ['instead'], ['bruschetta'], ['vinegrette'], ['rings'], ['writing'], ['soooooo'], ['words'], ['taco'], ['mostly'], ['furthermore'], ['heat'], ['saganaki'], ['dollars'], ['round'], ['homemade'], ['said'], ['turkey'], ['block'], ['boring'], ['spinach'], ['box'], ['location'], ['close'], ['middle'], ['bakery'], ['saying'], ['gringos'], ['eel'], ['really'], ['havent'], ['word'], ['special'], ['playing'], ['douchey'], ['night'], ['mellow'], ['yaall'], ['helpful'], ['chefs'], ['famous'], ['plantains'], ['promise'], ['sitting'], ['bathroom'], ['enjoyed'], ['back'], ['fun'], ['assure'], ['brownish'], ['afternoon'], ['walls'], ['hardly'], ['ground'], ['waited'], ['pleased'], ['months'], ['dipping'], ['talking'], ['disappoint'], ['worker'], ['server'], ['degree'], ['cute'], ['ala'], ['employees'], ['based'], ['bill'], ['accommodations'], ['almost'], ['anticipated'], ['gyros'], ['nasty'], ['treat'], ['elsewhere'], ['pizzas'], ['belly'], ['italian'], ['thai'], ['traditional'], ['biggest'], ['cheeseburger'], ['chewy'], ['uninspired'], ['effort'], ['summarize'], ['insanely'], ['meals'], ['biscuits'], ['pastry'], ['customer'], ['shop'], ['rinse'], ['roast'], ['biscuit'], ['well'], ['eew'], ['fare'], ['pricing'], ['extra'], ['took'], ['honor'], ['either'], ['dealing'], ['third'], ['finish'], ['put'], ['prompt'], ['disagree'], ['decide'], ['eve'], ['prefer'], ['cooking'], ['mid'], ['different'], ['bartenders'], ['seemed'], ['north'], ['world'], ['caf'], ['looking'], ['come'], ['want'], ['saving'], ['burger'], ['give'], ['downright'], ['ever'], ['cibo'], ['bits'], ['besides'], ['overwhelmed'], ['ignore'], ['letdown'], ['pancake'], ['refused'], ['bought'], ['allergy'], ['pho'], ['longer'], ['ambience'], ['highly'], ['hits'], ['simply'], ['imaginative'], ['behind'], ['meet'], ['etc'], ['airport'], ['hospitality'], ['recommendation'], ['complete'], ['avocado'], ['edible'], ['disappointing'], ['rate'], ['ratio'], ['contain'], ['spend'], ['mortified'], ['greek'], ['sub'], ['wound'], ['latte'], ['highlighted'], ['bottom'], ['call'], ['given'], ['aria'], ['thought'], ['grossed'], ['gross'], ['nan'], ['chips'], ['officially'], ['bone'], ['wonderful'], ['courteous'], ['fella'], ['overcooked'], ['home'], ['soi'], ['rock'], ['discount'], ['deliciously'], ['interior'], ['means'], ['fillet'], ['duo'], ['unfortunately'], ['drenched'], ['veganveggie'], ['bellagio'], ['quantity'], ['batch'], ['hummus'], ['dough'], ['crystals'], ['idea'], ['sashimi'], ['smeared'], ['area'], ['bouchon'], ['lighting'], ['steakhouse'], ['outside'], ['hi'], ['awful'], ['memory'], ['mushroom'], ['leaves'], ['buldogis'], ['stood'], ['restaraunt'], ['half'], ['expensive'], ['priced'], ['forever'], ['sitdown'], ['party'], ['money'], ['modern'], ['received'], ['attentive'], ['small'], ['bodes'], ['greedy'], ['bay'], ['hasnt'], ['nice'], ['dispenser'], ['undercooked'], ['college'], ['cartel'], ['thumbs'], ['iced'], ['dripping'], ['great'], ['angry'], ['see'], ['bye'], ['holiday'], ['beer'], ['gas'], ['off'], ['luke'], ['oil'], ['filling'], ['speedy'], ['dried'], ['eclectic'], ['buffets'], ['past'], ['ask'], ['help'], ['later'], ['nude'], ['stale'], ['article'], ['rest'], ['absolutley'], ['del'], ['lacked'], ['probably'], ['maintaining'], ['burgers'], ['fo'], ['website'], ['steve'], ['minutes'], ['hard'], ['name'], ['tasty'], ['blanket'], ['servicecheck'], ['overhip'], ['standard'], ['fav'], ['bean'], ['rotating'], ['known'], ['blown'], ['neither'], ['reasons'], ['brought'], ['quite'], ['gold'], ['hands'], ['figured'], ['beat'], ['everything'], ['patty'], ['authentic'], ['greatest'], ['tummy'], ['years'], ['loyal'], ['lobster'], ['tell'], ['serivce'], ['sadly'], ['drastically'], ['around'], ['spot'], ['dog'], ['spotty'], ['bucks'], ['looked'], ['filet'], ['prime'], ['feels'], ['offers'], ['thrilled'], ['paying'], ['even'], ['seen'], ['entrees'], ['car'], ['correction'], ['visit'], ['creamy'], ['exactly'], ['pita'], ['wash'], ['garlic'], ['veggitarian'], ['dont'], ['mouths'], ['part'], ['like'], ['deeply'], ['music'], ['via'], ['scallop'], ['fs'], ['salty'], ['yay'], ['pretty'], ['foot'], ['thoroughly'], ['dinner'], ['callings'], ['eating'], ['places'], ['others'], ['market'], ['exceeding'], ['reviews'], ['trips'], ['ravoli'], ['day'], ['mood'], ['twice'], ['including'], ['since'], ['beensteppedinandtrackedeverywhere'], ['way'], ['rolled'], ['caballeros'], ['spicier'], ['las'], ['acknowledged'], ['grow'], ['preparing'], ['long'], ['experienced'], ['breaks'], ['delicate'], ['pears'], ['note'], ['lukewarm'], ['number'], ['usual'], ['beans'], ['fear'], ['blow'], ['paper'], ['owners'], ['finally'], ['opinion'], ['immediately'], ['drawing'], ['served'], ['peach'], ['overpriced'], ['freaking'], ['outrageously'], ['teamwork'], ['point'], ['pros'], ['elk'], ['platter'], ['hours'], ['older'], ['cranberrymmmm'], ['bussell'], ['workers'], ['store'], ['although'], ['appetite'], ['opportunity'], ['gordon'], ['auju'], ['wants'], ['regularly'], ['san'], ['flair'], ['valley'], ['stopped'], ['blandest'], ['fries'], ['gourmet'], ['guess'], ['satifying'], ['color'], ['amount'], ['four'], ['suggest'], ['killer'], ['extensive'], ['insults'], ['second'], ['section'], ['actually'], ['giant'], ['military'], ['blah'], ['deuchebaggery'], ['handsdown'], ['sign'], ['crazy'], ['five'], ['decision'], ['sunday'], ['patron'], ['wine'], ['clue'], ['unbelievable'], ['picture'], ['inconsiderate'], ['white'], ['hopes'], ['difference'], ['itdefinitely'], ['omelets'], ['outshining'], ['peanuts'], ['rubber'], ['bit'], ['driest'], ['cooked'], ['bus'], ['cool'], ['industry'], ['feel'], ['perfect'], ['ago'], ['liking'], ['drinking'], ['vanilla'], ['likes'], ['bitches'], ['thinly'], ['shocked'], ['empty'], ['paid'], ['order'], ['transcendant'], ['dessert'], ['gratuity'], ['love'], ['bloody'], ['arent'], ['business'], ['brick'], ['shoots'], ['chow'], ['doubt'], ['sexy'], ['donut'], ['sause'], ['average'], ['obviously'], ['baba'], ['seating'], ['beers'], ['water'], ['grocery'], ['watched'], ['flatlined'], ['imagination'], ['constructed'], ['ive'], ['tiramisu'], ['neat'], ['super'], ['stayed'], ['falling'], ['checked'], ['seated'], ['single'], ['legit'], ['zero'], ['quickly'], ['thanks'], ['redeeming'], ['monster'], ['mary'], ['cause'], ['wanted'], ['join'], ['shall'], ['combos'], ['frozen'], ['space'], ['group'], ['item'], ['isnt'], ['sergeant'], ['unbelievably'], ['omg'], ['free'], ['boy'], ['correct'], ['haunt'], ['portion'], ['cover'], ['family'], ['course'], ['week'], ['slaw'], ['kept'], ['strip'], ['hella'], ['beef'], ['soon'], ['covered'], ['sewer'], ['togo'], ['venture'], ['told'], ['unsatisfying'], ['seasoning'], ['loving'], ['tiny'], ['prepared'], ['proven'], ['prettyoff'], ['mussels'], ['bother'], ['another'], ['tuna'], ['crawfish'], ['bartender'], ['mean'], ['handling'], ['sides'], ['parties'], ['yucky'], ['thats'], ['circumstances'], ['letting'], ['spends'], ['needless'], ['guacamole'], ['milkshake'], ['similarly'], ['handmade'], ['son'], ['beauty'], ['together'], ['medium'], ['array'], ['id'], ['nonfancy'], ['attached'], ['summer'], ['sugar'], ['expertconnisseur'], ['friendly'], ['mediterranean'], ['sun'], ['happier'], ['ganoush'], ['went'], ['liked'], ['charcoal'], ['classywarm'], ['steiners'], ['bites'], ['double'], ['guys'], ['reminded'], ['fresh'], ['thus'], ['boxes'], ['menu'], ['editing'], ['mexican'], ['class'], ['warmer'], ['wines'], ['trippy'], ['something'], ['leftover'], ['inflate'], ['appetizer'], ['carbs'], ['pack'], ['pile'], ['recommend'], ['lettuce'], ['doughy'], ['hair'], ['anymore'], ['salads'], ['replenished'], ['sound'], ['silently'], ['room'], ['capers'], ['fast'], ['equally'], ['finger'], ['plus'], ['smoothies'], ['imagine'], ['inspired'], ['tough'], ['hip'], ['personally'], ['steaks'], ['impressed'], ['seal'], ['ensued'], ['station'], ['papers'], ['topvery'], ['convenient'], ['ownerchef'], ['heart'], ['enough'], ['town'], ['go'], ['rice'], ['booksomethats'], ['phenomenal'], ['delicioso'], ['quality'], ['publicly'], ['definately'], ['ayce'], ['review'], ['become'], ['falafels'], ['appealing'], ['deserves'], ['bug'], ['tender'], ['lastly'], ['lb'], ['terrific'], ['warnings'], ['skimp'], ['prepare'], ['postinos'], ['service'], ['brunch'], ['chai'], ['sore'], ['considering'], ['highquality'], ['incredible'], ['salt'], ['away'], ['rapidly'], ['hungry'], ['flop'], ['actual'], ['setting'], ['dine'], ['provides'], ['tables'], ['satisfied'], ['pastas'], ['solidify'], ['sad'], ['easily'], ['incredibly'], ['burned'], ['alone'], ['multigrain'], ['instantly'], ['kind'], ['unique'], ['recent'], ['lightly'], ['tots'], ['eyes'], ['restaurant'], ['disrespected'], ['flavors'], ['sucks'], ['positive'], ['powdered'], ['return'], ['slow'], ['putting'], ['cant'], ['read'], ['enjoyable'], ['pepper'], ['chains'], ['perfection'], ['no'], ['sick'], ['dos'], ['make'], ['greasy'], ['brushfire'], ['lordy'], ['noodles'], ['cocktail'], ['whenever'], ['bamboo'], ['fridays'], ['date'], ['expected'], ['meatballs'], ['hardest'], ['outta'], ['judging'], ['inviting'], ['inch'], ['dirty'], ['street'], ['sliced'], ['wow'], ['send'], ['tap'], ['pine'], ['friends'], ['found'], ['pancakes'], ['food'], ['kabuki'], ['mirage'], ['passed'], ['voodoo'], ['mein'], ['charming'], ['horrible'], ['francisco'], ['door'], ['martini'], ['condiment'], ['looks'], ['ryans'], ['huge'], ['wide'], ['opened'], ['itfriendly'], ['step'], ['marrow'], ['might'], ['croutons'], ['extremely'], ['indoor'], ['stupid'], ['suck'], ['freezing'], ['serve'], ['herewhat'], ['fluffy'], ['cafe'], ['show'], ['frustrated'], ['sunglasses'], ['unless'], ['wedges'], ['pepperand'], ['charged'], ['containers'], ['rolls'], ['plethora'], ['ranch'], ['bloddy'], ['stuff'], ['fine'], ['struck'], ['top'], ['wrong'], ['dark'], ['oven'], ['chicken'], ['mesquite'], ['wave'], ['scottsdale'], ['flower'], ['plain'], ['mac'], ['burrittos'], ['coffee'], ['disappointment'], ['forgetting'], ['ladies'], ['scene'], ['right'], ['meats'], ['relaxed'], ['meh'], ['entire'], ['lack'], ['stuffed'], ['forward'], ['impressive'], ['front'], ['mediocre'], ['sporting'], ['guests'], ['jamaican'], ['fucking'], ['girlfriends'], ['ones'], ['hour'], ['eyed'], ['break'], ['rib'], ['melted'], ['crpe'], ['sure'], ['not'], ['high'], ['final'], ['chip'], ['proclaimed'], ['trimmed'], ['sangria'], ['shrimp'], ['greeted'], ['understand'], ['wire'], ['price'], ['fuzzy'], ['apology'], ['continue'], ['goldencrispy'], ['pictures'], ['please'], ['however'], ['shawarrrrrrma'], ['gluten'], ['carlys'], ['craving'], ['tapas'], ['duck'], ['fantastic'], ['sucker'], ['covers'], ['thirty'], ['baby'], ['tepid'], ['disgraceful'], ['yeah'], ['honest'], ['rare'], ['venue'], ['profiterole'], ['styrofoam'], ['upgrading'], ['succulent'], ['limited'], ['smaller'], ['public'], ['head'], ['today'], ['subpar'], ['saffron'], ['approval'], ['tempi'], ['disgrace'], ['warm'], ['delicious'], ['takeout'], ['tacos'], ['fact'], ['especially'], ['peanut'], ['mouthful'], ['joint'], ['gratitude'], ['shots'], ['ethic'], ['amazing'], ['tongue'], ['common'], ['avoid'], ['last'], ['cakeohhh'], ['sweet'], ['workingeating'], ['unwelcome'], ['done'], ['kiddos'], ['heimer'], ['left'], ['lost'], ['larger'], ['glad'], ['tasteless'], ['prices'], ['cheated'], ['strings'], ['yukon'], ['phoenix'], ['coupons'], ['ate'], ['imagined'], ['meal'], ['similar'], ['cold'], ['forth'], ['ice'], ['bbq'], ['reasonable'], ['strange'], ['returned'], ['ordered'], ['wienerschnitzel'], ['southwest'], ['getting'], ['mouth'], ['must'], ['luck'], ['foodservice'], ['desired'], ['def'], ['worst'], ['butter'], ['hooked'], ['overhaul'], ['dime'], ['disgusting'], ['decent'], ['strawberry'], ['texture'], ['didnt'], ['hit'], ['forty'], ['delivery'], ['leather'], ['caring'], ['satisfying'], ['awesome'], ['refill'], ['seat'], ['wrap'], ['lots'], ['pale'], ['crowd'], ['godfathers'], ['pleasant'], ['blue'], ['carpaccio'], ['fell'], ['tolerance'], ['ri'], ['attention'], ['mango'], ['awkwardly'], ['christmas'], ['waiting'], ['check'], ['gets'], ['properly'], ['tops'], ['eat'], ['seafood'], ['hunan'], ['definitely'], ['lemon'], ['uploaded'], ['garden'], ['jerk'], ['chinese'], ['chickens'], ['sauces'], ['polite'], ['guest'], ['connoisseur'], ['watch'], ['says'], ['dressed'], ['couldnt'], ['managed'], ['expect'], ['egg'], ['oh'], ['dusted'], ['wasnt'], ['fly'], ['suffers'], ['dylan'], ['generous'], ['good'], ['job'], ['macarons'], ['plastic'], ['bigger'], ['joke'], ['surprised'], ['version'], ['buffet'], ['delish'], ['clean'], ['play'], ['ache'], ['deal'], ['glass'], ['cannot'], ['youre'], ['packed'], ['maybe'], ['flat'], ['stars'], ['bisque'], ['refrained'], ['breeze'], ['reading'], ['youd'], ['ways'], ['spots'], ['goat'], ['highlights'], ['making'], ['delight'], ['say'], ['taste'], ['smashburger'], ['dinners'], ['han'], ['familiar'], ['used'], ['receives'], ['self'], ['honeslty'], ['fat'], ['started'], ['dish'], ['desserts'], ['crumby'], ['compliments'], ['ridiculous'], ['ha'], ['bathrooms'], ['best'], ['tip'], ['fabulous'], ['nearly'], ['asking'], ['margaritas'], ['waitress'], ['ill'], ['crepe'], ['panna'], ['heard'], ['grease'], ['owned'], ['worries'], ['yum'], ['pats'], ['appalling'], ['weird'], ['funny'], ['avoided'], ['wish'], ['choose'], ['less'], ['handled'], ['drink'], ['cheek'], ['corn'], ['comfortable'], ['underwhelming'], ['strike'], ['lets'], ['promptly'], ['pizza'], ['recommended'], ['eaten'], ['yama'], ['portions'], ['raving'], ['talk'], ['event'], ['disgust'], ['little'], ['gotten'], ['nyc'], ['toast'], ['favor'], ['personable'], ['favorite'], ['weve'], ['beautiful'], ['lox'], ['bite'], ['summary'], ['us'], ['across'], ['bachi'], ['visited'], ['club'], ['excalibur'], ['ians'], ['simple'], ['potato'], ['japanese'], ['anyways'], ['relax'], ['amazingrge'], ['wayyy'], ['rick'], ['would'], ['interesting'], ['light'], ['daily'], ['brisket'], ['sushi'], ['know'], ['albondigas'], ['located'], ['judge'], ['bank'], ['juries'], ['foodand'], ['meat'], ['chipotle'], ['pace'], ['nay'], ['crusty'], ['tea'], ['boot'], ['times'], ['ball'], ['included'], ['solid'], ['slices'], ['coming'], ['worlds'], ['chef'], ['bowl'], ['particular'], ['yet'], ['management'], ['potatoes'], ['excuse'], ['updatewent'], ['binge'], ['tragedy'], ['employee'], ['lovely'], ['lived'], ['az'], ['low'], ['hope'], ['songs'], ['con'], ['mile'], ['reviewing'], ['rarely'], ['far'], ['whatsoever'], ['needs'], ['concept'], ['believe'], ['penne'], ['patio'], ['unwrapped'], ['mmmm'], ['cuisine'], ['nicest'], ['breakfast'], ['theyd'], ['use'], ['fruit'], ['problem'], ['experience'], ['selection'], ['anyway'], ['wings'], ['sprouts'], ['folks'], ['find'], ['waiter'], ['pissd'], ['couples'], ['sals'], ['treated'], ['gc'], ['insulted'], ['bacon'], ['heads'], ['thick'], ['dressing'], ['hostess'], ['recently'], ['missing'], ['weak'], ['happy'], ['calamari'], ['fellow'], ['care'], ['lighter'], ['grab'], ['totally'], ['brother'], ['pecan'], ['highlight'], ['sucked'], ['screams'], ['poured'], ['somewhat'], ['mention'], ['next'], ['needed'], ['jenni'], ['andddd'], ['velvet'], ['customize'], ['ths'], ['better'], ['human'], ['tried'], ['caught'], ['elegantly'], ['neighborhood'], ['thin'], ['focused'], ['tucson'], ['bagels'], ['cocktails'], ['sooooo'], ['hot'], ['mojitos'], ['tater'], ['accordingly'], ['disappointed'], ['piece'], ['surprise'], ['baklava'], ['lady'], ['lawyers'], ['melt'], ['vegasthere'], ['seems'], ['bargain'], ['batter'], ['youll'], ['ironman'], ['beateous'], ['disapppointment'], ['welcome'], ['meatloaf'], ['reheated'], ['three'], ['held'], ['madison'], ['tenders'], ['quit'], ['exquisite'], ['colder'], ['bellies'], ['moods'], ['negligent'], ['thru'], ['hole'], ['ok'], ['caterpillar'], ['realized'], ['fireball'], ['bring'], ['massive'], ['basically'], ['profound'], ['suggestions'], ['closed'], ['seasonal'], ['milk'], ['recall'], ['one'], ['rated'], ['fianc'], ['despicable'], ['walked'], ['smelled'], ['hereas'], ['blows'], ['reviewer'], ['underservices'], ['stinks'], ['servers'], ['trap'], ['wildly'], ['screwed'], ['reduction'], ['grill'], ['get'], ['genuinely'], ['still'], ['greens'], ['sense'], ['spice'], ['swung'], ['dedicated'], ['felt'], ['edinburgh'], ['choux'], ['im'], ['wouldnt'], ['hearts'], ['running'], ['cotta'], ['casino'], ['place'], ['someone'], ['moist'], ['helped'], ['sever'], ['dude'], ['muststop'], ['verge'], ['meeverything'], ['ended'], ['terrible'], ['serving'], ['cape'], ['supposed'], ['requested'], ['cashier'], ['placed'], ['largely'], ['thinking'], ['performed'], ['big']]\n"
          ]
        }
      ],
      "source": [
        "tupla_elementos = set(tuple(lista) for lista in lista_sin_stopwords)\n",
        "vocabulario = [list(tupla) for tupla in tupla_elementos]\n",
        "print(vocabulario)"
      ]
    },
    {
      "cell_type": "code",
      "execution_count": 241,
      "metadata": {},
      "outputs": [
        {
          "name": "stdout",
          "output_type": "stream",
          "text": [
            "1941\n"
          ]
        }
      ],
      "source": [
        "print(len(vocabulario))"
      ]
    },
    {
      "cell_type": "code",
      "execution_count": 242,
      "metadata": {},
      "outputs": [
        {
          "name": "stdout",
          "output_type": "stream",
          "text": [
            "[['absolute'], ['absolutely'], ['absolutley'], ['accident'], ['accommodations'], ['accomodate'], ['accordingly'], ['accountant'], ['ache'], ['acknowledged'], ['across'], ['actual'], ['actually'], ['added'], ['affordable'], ['afternoon'], ['ago'], ['ahead'], ['airline'], ['airport'], ['ala'], ['albondigas'], ['allergy'], ['almonds'], ['almost'], ['alone'], ['also'], ['although'], ['always'], ['amazing'], ['amazingrge'], ['ambiance'], ['ambience'], ['amount'], ['ample'], ['andddd'], ['angry'], ['another'], ['anticipated'], ['anymore'], ['anyone'], ['anything'], ['anytime'], ['anyway'], ['anyways'], ['apart'], ['apologize'], ['apology'], ['app'], ['appalling'], ['apparently'], ['appealing'], ['appetite'], ['appetizer'], ['appetizers'], ['apple'], ['approval'], ['area'], ['arent'], ['arepas'], ['aria'], ['around'], ['array'], ['arrived'], ['arrives'], ['arriving'], ['article'], ['ask'], ['asked'], ['asking'], ['assure'], ['ate'], ['atmosphere'], ['atrocious'], ['attached'], ['attack'], ['attention'], ['attentive'], ['attitudes'], ['auju'], ['authentic'], ['average'], ['avocado'], ['avoid'], ['avoided'], ['away'], ['awesome'], ['awful'], ['awkward'], ['awkwardly'], ['ayce'], ['az'], ['baba'], ['baby'], ['bachi'], ['back'], ['bacon'], ['bad'], ['bagels'], ['bakery'], ['baklava'], ['ball'], ['bamboo'], ['banana'], ['bank'], ['bar'], ['bare'], ['barely'], ['bargain'], ['bars'], ['bartender'], ['bartenders'], ['baseball'], ['based'], ['basically'], ['batch'], ['bathroom'], ['bathrooms'], ['batter'], ['bay'], ['bbq'], ['bean'], ['beans'], ['beat'], ['beateous'], ['beautiful'], ['beautifully'], ['beauty'], ['become'], ['beef'], ['beensteppedinandtrackedeverywhere'], ['beer'], ['beers'], ['begin'], ['behind'], ['believe'], ['bellagio'], ['bellies'], ['belly'], ['besides'], ['best'], ['better'], ['beyond'], ['big'], ['bigger'], ['biggest'], ['bill'], ['binge'], ['bird'], ['biscuit'], ['biscuits'], ['bisque'], ['bit'], ['bitches'], ['bite'], ['bites'], ['bits'], ['black'], ['blah'], ['blame'], ['bland'], ['blandest'], ['blanket'], ['block'], ['bloddy'], ['bloodiest'], ['bloody'], ['blow'], ['blown'], ['blows'], ['blue'], ['boba'], ['bodes'], ['boiled'], ['bone'], ['booksomethats'], ['boot'], ['boring'], ['bother'], ['bottom'], ['bouchon'], ['bought'], ['bowl'], ['box'], ['boxes'], ['boy'], ['boyfriend'], ['boys'], ['bread'], ['break'], ['breakfast'], ['breakfastlunch'], ['breaks'], ['breeze'], ['brick'], ['bring'], ['brings'], ['brisket'], ['brother'], ['brought'], ['brownish'], ['brunch'], ['bruschetta'], ['brushfire'], ['bucks'], ['buffet'], ['buffets'], ['bug'], ['building'], ['buldogis'], ['bunch'], ['burger'], ['burgers'], ['burned'], ['burrittos'], ['bus'], ['business'], ['businesses'], ['bussell'], ['busy'], ['butter'], ['buying'], ['bye'], ['caballeros'], ['caesar'], ['caf'], ['cafe'], ['cakeohhh'], ['cakes'], ['calamari'], ['call'], ['calligraphy'], ['callings'], ['came'], ['camelback'], ['cannoli'], ['cannot'], ['cant'], ['cape'], ['capers'], ['car'], ['carbs'], ['care'], ['caring'], ['carlys'], ['carpaccio'], ['cart'], ['cartel'], ['case'], ['cash'], ['cashew'], ['cashier'], ['casino'], ['caterpillar'], ['caught'], ['cause'], ['cavier'], ['certainly'], ['chai'], ['chains'], ['changing'], ['char'], ['charcoal'], ['charge'], ['charged'], ['charming'], ['cheap'], ['cheated'], ['check'], ['checked'], ['cheek'], ['cheese'], ['cheeseburger'], ['cheesecurds'], ['chef'], ['chefs'], ['chewy'], ['chicken'], ['chickens'], ['chickenwith'], ['chinese'], ['chip'], ['chipolte'], ['chipotle'], ['chips'], ['chocolate'], ['choose'], ['choux'], ['chow'], ['christmas'], ['cibo'], ['circumstances'], ['claimed'], ['class'], ['classic'], ['classics'], ['classywarm'], ['clean'], ['climbing'], ['close'], ['closed'], ['club'], ['clue'], ['cocktail'], ['cocktails'], ['coconut'], ['cod'], ['coffee'], ['cold'], ['colder'], ['college'], ['color'], ['combination'], ['combo'], ['combos'], ['come'], ['comfortable'], ['coming'], ['common'], ['companions'], ['company'], ['complain'], ['complaints'], ['complete'], ['completely'], ['compliments'], ['con'], ['concept'], ['concern'], ['conclusion'], ['condiment'], ['connoisseur'], ['consider'], ['considering'], ['consistent'], ['constructed'], ['contain'], ['contained'], ['containers'], ['continue'], ['convenient'], ['cook'], ['cooked'], ['cooking'], ['cool'], ['corn'], ['corporation'], ['correct'], ['correction'], ['cost'], ['costcos'], ['cotta'], ['could'], ['couldnt'], ['count'], ['couple'], ['couples'], ['coupons'], ['course'], ['court'], ['courteous'], ['cover'], ['covered'], ['covers'], ['cow'], ['coziness'], ['crab'], ['cramming'], ['cranberrymmmm'], ['craving'], ['crawfish'], ['crazy'], ['cream'], ['creamy'], ['crema'], ['crepe'], ['crisp'], ['crispy'], ['crostini'], ['croutons'], ['crowd'], ['crowds'], ['crpe'], ['crumby'], ['crust'], ['crusty'], ['crystals'], ['cuisine'], ['curry'], ['customer'], ['customers'], ['customize'], ['cut'], ['cute'], ['daily'], ['damn'], ['dark'], ['date'], ['dates'], ['daughter'], ['day'], ['dead'], ['deal'], ['dealing'], ['decent'], ['decide'], ['decided'], ['decision'], ['decor'], ['decorated'], ['dedicated'], ['deep'], ['deeply'], ['def'], ['definately'], ['definitely'], ['degree'], ['del'], ['delicate'], ['delicioso'], ['delicious'], ['deliciously'], ['delight'], ['delightful'], ['delights'], ['delish'], ['deliver'], ['delivery'], ['dennys'], ['describing'], ['descriptions'], ['deserves'], ['desired'], ['despicable'], ['despite'], ['dessert'], ['desserts'], ['deuchebaggery'], ['devine'], ['didnt'], ['die'], ['difference'], ['different'], ['dime'], ['dine'], ['dining'], ['dinner'], ['dinners'], ['dipping'], ['dirt'], ['dirty'], ['disagree'], ['disappoint'], ['disappointed'], ['disappointing'], ['disappointment'], ['disapppointment'], ['disaster'], ['disbelief'], ['discount'], ['disgrace'], ['disgraceful'], ['disgust'], ['disgusted'], ['disgusting'], ['dish'], ['dishes'], ['dispenser'], ['disrespected'], ['diverse'], ['dog'], ['dollars'], ['done'], ['dont'], ['donut'], ['door'], ['dos'], ['double'], ['doubt'], ['douchey'], ['dough'], ['doughy'], ['downright'], ['downside'], ['downtown'], ['drag'], ['drastically'], ['drawing'], ['dreamed'], ['drenched'], ['dressed'], ['dressing'], ['dried'], ['driest'], ['drink'], ['drinking'], ['drinks'], ['dripping'], ['drive'], ['driving'], ['dropped'], ['drunk'], ['dry'], ['duck'], ['dude'], ['due'], ['duo'], ['dusted'], ['dylan'], ['easily'], ['eat'], ['eaten'], ['eating'], ['eclectic'], ['edible'], ['edinburgh'], ['editing'], ['eel'], ['eew'], ['efficient'], ['effort'], ['egg'], ['eggplant'], ['eggs'], ['either'], ['elegantly'], ['elk'], ['else'], ['elsewhere'], ['email'], ['employee'], ['employees'], ['empty'], ['end'], ['ended'], ['english'], ['enjoy'], ['enjoyable'], ['enjoyed'], ['enough'], ['ensued'], ['enthusiastic'], ['entire'], ['entrees'], ['equally'], ['especially'], ['establishment'], ['etc'], ['ethic'], ['eve'], ['even'], ['evening'], ['event'], ['events'], ['ever'], ['every'], ['everyone'], ['everything'], ['exactly'], ['excalibur'], ['exceeding'], ['excellent'], ['exceptional'], ['excuse'], ['expanded'], ['expect'], ['expectations'], ['expected'], ['expensive'], ['experience'], ['experienced'], ['experiencing'], ['expertconnisseur'], ['exquisite'], ['extensive'], ['extra'], ['extraordinary'], ['extremely'], ['eyed'], ['eyes'], ['fabulous'], ['fact'], ['fail'], ['fails'], ['fair'], ['fairly'], ['falafels'], ['falling'], ['familiar'], ['family'], ['famous'], ['fan'], ['fantastic'], ['far'], ['fare'], ['fast'], ['fat'], ['fav'], ['favor'], ['favorite'], ['fear'], ['feel'], ['feeling'], ['feels'], ['fell'], ['fella'], ['fellow'], ['felt'], ['fianc'], ['figured'], ['filet'], ['fill'], ['fillet'], ['filling'], ['final'], ['finally'], ['find'], ['fine'], ['finger'], ['finish'], ['fireball'], ['firehouse'], ['first'], ['fish'], ['five'], ['flair'], ['flat'], ['flatlined'], ['flavor'], ['flavored'], ['flavorful'], ['flavorless'], ['flavors'], ['flavourful'], ['flirting'], ['flop'], ['flower'], ['fluffy'], ['fly'], ['fo'], ['focused'], ['folks'], ['fondue'], ['food'], ['foodand'], ['foods'], ['foodservice'], ['foot'], ['forever'], ['forgetting'], ['forth'], ['forty'], ['forward'], ['found'], ['four'], ['francisco'], ['freaking'], ['free'], ['freezing'], ['frenchman'], ['fresh'], ['fridays'], ['fried'], ['friend'], ['friendly'], ['friends'], ['fries'], ['front'], ['frozen'], ['fruit'], ['frustrated'], ['fry'], ['fs'], ['fucking'], ['full'], ['fun'], ['funny'], ['furthermore'], ['fuzzy'], ['ganoush'], ['garden'], ['garlic'], ['gas'], ['gave'], ['gc'], ['gem'], ['generic'], ['generous'], ['genuinely'], ['get'], ['gets'], ['getting'], ['giant'], ['girlfriends'], ['give'], ['given'], ['giving'], ['glad'], ['glance'], ['glass'], ['gloveseverything'], ['gluten'], ['go'], ['goat'], ['godfathers'], ['going'], ['gold'], ['goldencrispy'], ['gone'], ['good'], ['google'], ['gooodd'], ['gordon'], ['got'], ['gotten'], ['gourmet'], ['grab'], ['grandmother'], ['gratitude'], ['gratuity'], ['grease'], ['greasy'], ['great'], ['greatest'], ['greedy'], ['greek'], ['green'], ['greens'], ['greeted'], ['grill'], ['grilled'], ['gringos'], ['gristle'], ['grocery'], ['gross'], ['grossed'], ['ground'], ['group'], ['groups'], ['grow'], ['guacamole'], ['guess'], ['guest'], ['guests'], ['guy'], ['guys'], ['gyro'], ['gyros'], ['ha'], ['hadnt'], ['hair'], ['half'], ['halibut'], ['hamburger'], ['han'], ['hand'], ['handed'], ['handled'], ['handling'], ['handmade'], ['hands'], ['handsdown'], ['hankering'], ['happened'], ['happier'], ['happy'], ['hard'], ['hardest'], ['hardly'], ['hasnt'], ['hate'], ['hated'], ['haunt'], ['havent'], ['hawaiian'], ['head'], ['heads'], ['healthy'], ['heard'], ['heart'], ['hearts'], ['heat'], ['heimer'], ['held'], ['hell'], ['hella'], ['hello'], ['help'], ['helped'], ['helpful'], ['hereas'], ['herewhat'], ['hes'], ['hi'], ['high'], ['highlight'], ['highlighted'], ['highlights'], ['highly'], ['highquality'], ['hilarious'], ['hip'], ['hiro'], ['hit'], ['hits'], ['hole'], ['holiday'], ['home'], ['homemade'], ['honeslty'], ['honest'], ['honestly'], ['honor'], ['hooked'], ['hope'], ['hopefully'], ['hopes'], ['hoping'], ['horrible'], ['hospitality'], ['host'], ['hostess'], ['hot'], ['hottest'], ['hour'], ['hours'], ['house'], ['however'], ['huevos'], ['huge'], ['human'], ['humiliated'], ['hummus'], ['hunan'], ['hungry'], ['hurry'], ['husband'], ['hut'], ['ians'], ['ice'], ['iced'], ['id'], ['idea'], ['ignore'], ['ignored'], ['ill'], ['im'], ['imagination'], ['imaginative'], ['imagine'], ['imagined'], ['immediately'], ['impeccable'], ['impressed'], ['impressive'], ['inch'], ['included'], ['including'], ['inconsiderate'], ['incredible'], ['incredibly'], ['indian'], ['indicate'], ['indoor'], ['industry'], ['inexpensive'], ['inflate'], ['informative'], ['ingredients'], ['inhouse'], ['insanely'], ['inside'], ['inspired'], ['instantly'], ['instead'], ['insulted'], ['insults'], ['interesting'], ['interior'], ['inviting'], ['ironman'], ['isnt'], ['italian'], ['itdefinitely'], ['item'], ['itfriendly'], ['itll'], ['ive'], ['jalapeno'], ['jamaican'], ['japanese'], ['jeff'], ['jenni'], ['jerk'], ['jewel'], ['job'], ['joeys'], ['join'], ['joint'], ['joke'], ['joy'], ['judge'], ['judging'], ['juice'], ['juries'], ['kabuki'], ['kept'], ['khao'], ['kiddos'], ['kids'], ['killer'], ['kind'], ['kitchen'], ['know'], ['known'], ['lack'], ['lacked'], ['lacking'], ['ladies'], ['lady'], ['large'], ['largely'], ['larger'], ['las'], ['last'], ['lastly'], ['late'], ['later'], ['latte'], ['law'], ['lawyers'], ['lb'], ['least'], ['leather'], ['leave'], ['leaves'], ['left'], ['leftover'], ['legit'], ['legs'], ['lemon'], ['less'], ['let'], ['letdown'], ['lets'], ['letting'], ['lettuce'], ['level'], ['life'], ['light'], ['lighter'], ['lighting'], ['lightly'], ['like'], ['liked'], ['likes'], ['liking'], ['lil'], ['limited'], ['list'], ['listed'], ['literally'], ['little'], ['live'], ['lived'], ['living'], ['lobster'], ['located'], ['location'], ['long'], ['longer'], ['look'], ['looked'], ['looking'], ['looks'], ['lordy'], ['lost'], ['lot'], ['lots'], ['loudly'], ['love'], ['loved'], ['lovely'], ['lover'], ['lovers'], ['loves'], ['loving'], ['low'], ['lowkey'], ['lox'], ['loyal'], ['luck'], ['luke'], ['lukewarm'], ['lunch'], ['mac'], ['macarons'], ['made'], ['madhouse'], ['madison'], ['magazine'], ['magic'], ['main'], ['maine'], ['mains'], ['maintaining'], ['make'], ['making'], ['mall'], ['man'], ['managed'], ['management'], ['manager'], ['mandalay'], ['mango'], ['many'], ['margaritas'], ['maria'], ['market'], ['marrow'], ['martini'], ['mary'], ['marys'], ['massive'], ['may'], ['maybe'], ['mayo'], ['mayowell'], ['meal'], ['meals'], ['mean'], ['means'], ['meat'], ['meatballs'], ['meatloaf'], ['meats'], ['mebunch'], ['mediocre'], ['mediterranean'], ['medium'], ['meet'], ['meeverything'], ['meh'], ['mein'], ['mellow'], ['melt'], ['melted'], ['memory'], ['mention'], ['menu'], ['menus'], ['mesquite'], ['mess'], ['metro'], ['mexican'], ['mgm'], ['mid'], ['middle'], ['might'], ['mile'], ['military'], ['milk'], ['milkshake'], ['min'], ['mind'], ['minutes'], ['mirage'], ['miss'], ['missed'], ['missing'], ['mistake'], ['mixed'], ['mmmm'], ['modern'], ['moist'], ['mojitos'], ['mom'], ['moms'], ['money'], ['monster'], ['months'], ['mood'], ['moods'], ['mortified'], ['mostly'], ['mouth'], ['mouthful'], ['mouths'], ['movies'], ['moz'], ['mozzarella'], ['ms'], ['much'], ['muffin'], ['multigrain'], ['multiple'], ['mushroom'], ['mushrooms'], ['music'], ['mussels'], ['must'], ['muststop'], ['naan'], ['nachos'], ['name'], ['nan'], ['nargile'], ['nasty'], ['nay'], ['nearly'], ['neat'], ['need'], ['needed'], ['needless'], ['needs'], ['negligent'], ['neighborhood'], ['neither'], ['never'], ['new'], ['next'], ['nice'], ['nicest'], ['night'], ['nigiri'], ['ninja'], ['no'], ['nobu'], ['noca'], ['noncustomer'], ['none'], ['nonfancy'], ['noodles'], ['north'], ['not'], ['note'], ['nothing'], ['nude'], ['number'], ['nut'], ['nutshell'], ['nyc'], ['obviously'], ['occasional'], ['occasions'], ['off'], ['offered'], ['offers'], ['officially'], ['oh'], ['oil'], ['ok'], ['old'], ['older'], ['olives'], ['omelets'], ['omg'], ['one'], ['ones'], ['onion'], ['opened'], ['operation'], ['opinion'], ['opportunity'], ['opposed'], ['options'], ['order'], ['ordered'], ['ordering'], ['orders'], ['original'], ['others'], ['otherwise'], ['otto'], ['outdoor'], ['outrageously'], ['outshining'], ['outside'], ['outstanding'], ['outta'], ['oven'], ['overall'], ['overcooked'], ['overhaul'], ['overhip'], ['overpriced'], ['overwhelm'], ['overwhelmed'], ['owned'], ['owner'], ['ownerchef'], ['owners'], ['oysters'], ['pace'], ['pack'], ['packed'], ['paid'], ['palate'], ['pale'], ['palm'], ['pan'], ['pancake'], ['pancakes'], ['panna'], ['paper'], ['papers'], ['par'], ['paradise'], ['parents'], ['part'], ['particular'], ['parties'], ['party'], ['passed'], ['past'], ['pasta'], ['pastas'], ['pastry'], ['patio'], ['patron'], ['pats'], ['patty'], ['pay'], ['paying'], ['peach'], ['peanut'], ['peanuts'], ['pears'], ['peas'], ['pecan'], ['penne'], ['people'], ['pepper'], ['pepperand'], ['perfect'], ['perfection'], ['perfectly'], ['performed'], ['perhaps'], ['perpared'], ['person'], ['personable'], ['personally'], ['petrified'], ['petty'], ['phenomenal'], ['philadelphia'], ['pho'], ['phoenix'], ['piano'], ['picture'], ['pictures'], ['piece'], ['pile'], ['pine'], ['pineapple'], ['pink'], ['pissd'], ['pita'], ['pizza'], ['pizzas'], ['place'], ['placed'], ['places'], ['plain'], ['plantains'], ['plastic'], ['plate'], ['plater'], ['platter'], ['play'], ['playing'], ['pleasant'], ['please'], ['pleased'], ['pleasure'], ['plethora'], ['plus'], ['pneumatic'], ['point'], ['poisoning'], ['polite'], ['poop'], ['poor'], ['poorly'], ['pop'], ['pork'], ['portion'], ['portions'], ['positive'], ['possible'], ['postinos'], ['potato'], ['potatoes'], ['poured'], ['powdered'], ['power'], ['prefer'], ['prepare'], ['prepared'], ['preparing'], ['presentation'], ['pretty'], ['prettyoff'], ['price'], ['priced'], ['prices'], ['pricey'], ['pricing'], ['prime'], ['privileged'], ['probably'], ['problem'], ['proclaimed'], ['professional'], ['profiterole'], ['profound'], ['promise'], ['prompt'], ['promptly'], ['properly'], ['pros'], ['proven'], ['provided'], ['provides'], ['providing'], ['pub'], ['public'], ['publicly'], ['pucks'], ['pulled'], ['pumpkin'], ['pured'], ['puree'], ['put'], ['putting'], ['quaint'], ['qualified'], ['quality'], ['quantity'], ['quick'], ['quickly'], ['quit'], ['quite'], ['ramseys'], ['ranch'], ['rancheros'], ['rapidly'], ['rare'], ['rarely'], ['raspberry'], ['rate'], ['rated'], ['rather'], ['rating'], ['ratio'], ['rave'], ['raving'], ['ravoli'], ['read'], ['readers'], ['reading'], ['real'], ['realized'], ['really'], ['reason'], ['reasonable'], ['reasonably'], ['reasons'], ['recall'], ['received'], ['receives'], ['recent'], ['recently'], ['recommend'], ['recommendation'], ['recommended'], ['recommending'], ['red'], ['redeeming'], ['reduction'], ['refill'], ['refrained'], ['refreshing'], ['refried'], ['refused'], ['register'], ['regular'], ['regularly'], ['reheated'], ['relationship'], ['relax'], ['relaxed'], ['relleno'], ['relocated'], ['remember'], ['reminded'], ['reminds'], ['replenished'], ['requested'], ['reservation'], ['rest'], ['restaraunt'], ['restaurant'], ['restaurants'], ['return'], ['returned'], ['returning'], ['review'], ['reviewer'], ['reviewing'], ['reviews'], ['revisiting'], ['ri'], ['rib'], ['ribeye'], ['rice'], ['rich'], ['rick'], ['ridiculous'], ['right'], ['rightthe'], ['rings'], ['rinse'], ['ripped'], ['risotto'], ['roast'], ['roasted'], ['rock'], ['roll'], ['rolled'], ['rolls'], ['room'], ['rotating'], ['round'], ['rowdy'], ['rubber'], ['rude'], ['rudely'], ['running'], ['rushed'], ['ryans'], ['sad'], ['sadly'], ['saffron'], ['saganaki'], ['said'], ['salad'], ['salads'], ['salmon'], ['sals'], ['salsa'], ['salt'], ['salty'], ['sample'], ['san'], ['sandwich'], ['sandwiches'], ['sangria'], ['sashimi'], ['sat'], ['satifying'], ['satisfied'], ['satisfying'], ['sauce'], ['sauces'], ['sause'], ['saving'], ['say'], ['saying'], ['says'], ['scallop'], ['scene'], ['scottsdale'], ['screams'], ['screwed'], ['seafood'], ['seal'], ['seasonal'], ['seasoned'], ['seasoning'], ['seat'], ['seated'], ['seating'], ['second'], ['section'], ['see'], ['seemed'], ['seems'], ['seen'], ['selection'], ['selections'], ['self'], ['send'], ['sense'], ['sergeant'], ['seriously'], ['serivce'], ['serve'], ['served'], ['server'], ['servers'], ['serves'], ['service'], ['servicecheck'], ['services'], ['serving'], ['set'], ['setting'], ['sever'], ['several'], ['sewer'], ['sexy'], ['shall'], ['sharply'], ['shawarrrrrrma'], ['shirt'], ['shocked'], ['shoe'], ['shoots'], ['shop'], ['shopping'], ['shops'], ['short'], ['shots'], ['shouldnt'], ['show'], ['showed'], ['shower'], ['shrimp'], ['sick'], ['side'], ['sides'], ['sign'], ['signs'], ['silently'], ['similar'], ['similarly'], ['simple'], ['simply'], ['since'], ['single'], ['sitdown'], ['sitting'], ['six'], ['skimp'], ['slaw'], ['sliced'], ['slices'], ['slow'], ['small'], ['smaller'], ['smashburger'], ['smeared'], ['smelled'], ['smells'], ['smoke'], ['smooth'], ['smoothies'], ['soggy'], ['soi'], ['solid'], ['solidify'], ['somehow'], ['someone'], ['something'], ['somewhat'], ['son'], ['songs'], ['soon'], ['soooo'], ['sooooo'], ['soooooo'], ['sore'], ['sorely'], ['sorry'], ['sound'], ['soundtrack'], ['soup'], ['soups'], ['sour'], ['southwest'], ['space'], ['spaghetti'], ['special'], ['specialand'], ['specials'], ['speedy'], ['spend'], ['spends'], ['spice'], ['spices'], ['spicier'], ['spicy'], ['spinach'], ['sporting'], ['spot'], ['spots'], ['spotty'], ['spring'], ['sprouts'], ['staff'], ['stale'], ['standard'], ['star'], ['stars'], ['started'], ['starving'], ['station'], ['stay'], ['stayed'], ['staying'], ['steak'], ['steakhouse'], ['steaks'], ['steiners'], ['step'], ['stepped'], ['steve'], ['sticks'], ['still'], ['stinks'], ['stir'], ['stomach'], ['stood'], ['stop'], ['stopped'], ['store'], ['strange'], ['strangers'], ['strawberry'], ['street'], ['stretch'], ['strike'], ['strings'], ['strip'], ['struck'], ['struggle'], ['stuff'], ['stuffed'], ['stupid'], ['style'], ['styrofoam'], ['sub'], ['subpar'], ['subway'], ['succulent'], ['suck'], ['sucked'], ['sucker'], ['sucks'], ['suffers'], ['sugar'], ['sugary'], ['suggest'], ['suggestions'], ['summarize'], ['summary'], ['summer'], ['sun'], ['sunday'], ['sunglasses'], ['super'], ['supposed'], ['sure'], ['surprise'], ['surprised'], ['sushi'], ['sweet'], ['swung'], ['table'], ['tables'], ['taco'], ['tacos'], ['tailored'], ['take'], ['takeout'], ['talk'], ['talking'], ['tap'], ['tapas'], ['tartar'], ['tartare'], ['taste'], ['tasted'], ['tasteless'], ['tastings'], ['tasty'], ['tater'], ['tea'], ['teamwork'], ['teeth'], ['tell'], ['tempi'], ['ten'], ['tender'], ['tenders'], ['tepid'], ['terrible'], ['terrific'], ['texture'], ['thai'], ['thanks'], ['thats'], ['theft'], ['theyd'], ['theyre'], ['thick'], ['thin'], ['thing'], ['things'], ['think'], ['thinking'], ['thinly'], ['third'], ['thirty'], ['thoroughly'], ['though'], ['thought'], ['three'], ['thrilled'], ['thru'], ['ths'], ['thumbs'], ['thus'], ['tigerlilly'], ['time'], ['times'], ['tiny'], ['tip'], ['tiramisu'], ['toast'], ['toasted'], ['today'], ['together'], ['togo'], ['told'], ['tolerance'], ['tomato'], ['tongue'], ['tonight'], ['took'], ['top'], ['topic'], ['tops'], ['topvery'], ['toro'], ['total'], ['totally'], ['tots'], ['touch'], ['touched'], ['tough'], ['towards'], ['town'], ['traditional'], ['tragedy'], ['transcendant'], ['trap'], ['treat'], ['treated'], ['tribute'], ['tried'], ['trimmed'], ['trip'], ['trippy'], ['trips'], ['truffle'], ['truly'], ['try'], ['trying'], ['tucson'], ['tummy'], ['tuna'], ['turkey'], ['turn'], ['tvs'], ['twice'], ['two'], ['typical'], ['unbelievable'], ['unbelievably'], ['undercooked'], ['underservices'], ['understand'], ['underwhelming'], ['unexperienced'], ['unfortunately'], ['unhealthy'], ['uninspired'], ['unique'], ['unless'], ['unprofessional'], ['unreal'], ['unsatisfying'], ['untoasted'], ['unwelcome'], ['unwrapped'], ['updatewent'], ['upgrading'], ['uploaded'], ['upway'], ['us'], ['use'], ['used'], ['usual'], ['vacant'], ['vain'], ['valley'], ['value'], ['vanilla'], ['veal'], ['veganveggie'], ['vegas'], ['vegasthere'], ['vegetables'], ['vegetarian'], ['veggitarian'], ['velvet'], ['ventilation'], ['venture'], ['venturing'], ['venue'], ['verge'], ['version'], ['via'], ['vibe'], ['vinaigrette'], ['vinegrette'], ['violinists'], ['visit'], ['visited'], ['vodka'], ['vomited'], ['voodoo'], ['voted'], ['waaaaaayyyyyyyyyy'], ['wagyu'], ['wait'], ['waited'], ['waiter'], ['waiting'], ['waitress'], ['waitresses'], ['walked'], ['wall'], ['walls'], ['want'], ['wanted'], ['wants'], ['warm'], ['warmer'], ['warnings'], ['wash'], ['wasnt'], ['waste'], ['wasted'], ['wasting'], ['watch'], ['watched'], ['water'], ['watered'], ['wave'], ['way'], ['ways'], ['wayyy'], ['weak'], ['website'], ['wed'], ['wedges'], ['week'], ['weekend'], ['weekly'], ['weird'], ['welcome'], ['well'], ['went'], ['werent'], ['weve'], ['whatsoever'], ['whenever'], ['whether'], ['white'], ['whole'], ['wide'], ['wienerschnitzel'], ['wife'], ['wildly'], ['wine'], ['wines'], ['wings'], ['winner'], ['wire'], ['wish'], ['without'], ['witnessed'], ['wonderful'], ['wont'], ['wontons'], ['word'], ['words'], ['work'], ['worker'], ['workers'], ['workingeating'], ['works'], ['world'], ['worlds'], ['worries'], ['worse'], ['worst'], ['worstannoying'], ['worth'], ['would'], ['wouldnt'], ['wouldve'], ['wound'], ['wow'], ['wrap'], ['wrapped'], ['writing'], ['wrong'], ['yaall'], ['yama'], ['yay'], ['yeah'], ['year'], ['years'], ['yellow'], ['yellowtail'], ['yelpers'], ['yet'], ['youd'], ['youll'], ['youre'], ['yourself'], ['yucky'], ['yukon'], ['yum'], ['yummy'], ['zero']]\n"
          ]
        }
      ],
      "source": [
        "vocabulario_filtrado = [lista for lista in vocabulario if lista]\n",
        "lista_ordenada = sorted(vocabulario_filtrado, key=lambda x: x[0])\n",
        "print(lista_ordenada)"
      ]
    },
    {
      "cell_type": "markdown",
      "metadata": {
        "id": "NDbKkuxRbLoX"
      },
      "source": [
        "*   **Comentarios**\n",
        "\n",
        "Incluye finalmente tus comentarios de la actividad."
      ]
    },
    {
      "cell_type": "markdown",
      "metadata": {
        "id": "o7fzbvqVbUGr"
      },
      "source": [
        "* Como suele pasar en la programación, cuando se explica el tema se ve sumamente sencillo, pero en la practica es cuando en verdad se aprende.\n",
        "* La cantidad de ejercicios y las preguntas para poner en practica el conocimiento ayudaron bastante a aterrizar los conceptos y entender mejor el tema.\n",
        "* Es muy importante entender bien que hace cada operador y simbolo además de que tipo de datos estamos manejando, para lograr la salida esperada.\n",
        "\n"
      ]
    },
    {
      "cell_type": "markdown",
      "metadata": {
        "id": "PHaKw_6Ldbaf"
      },
      "source": [
        "##**Fin de la Actividad de la semana 2.**"
      ]
    }
  ],
  "metadata": {
    "colab": {
      "collapsed_sections": [
        "759SG4TyfbUn",
        "Zj-h4drXD-X9",
        "BY6yifxscfrx",
        "k_ewoagic5jc",
        "70StdqAZa9E9"
      ],
      "provenance": []
    },
    "kernelspec": {
      "display_name": "Python 3",
      "name": "python3"
    },
    "language_info": {
      "codemirror_mode": {
        "name": "ipython",
        "version": 3
      },
      "file_extension": ".py",
      "mimetype": "text/x-python",
      "name": "python",
      "nbconvert_exporter": "python",
      "pygments_lexer": "ipython3",
      "version": "3.11.9"
    }
  },
  "nbformat": 4,
  "nbformat_minor": 0
}
